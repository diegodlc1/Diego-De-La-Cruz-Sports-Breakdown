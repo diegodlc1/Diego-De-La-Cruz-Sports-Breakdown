{
 "cells": [
  {
   "cell_type": "markdown",
   "id": "ed02e3b7-646c-48af-9c0d-13285a2b90da",
   "metadata": {},
   "source": [
    "# My Top 25 - Week One (Also Includes Total Rankings for all 134 Teams)#"
   ]
  },
  {
   "cell_type": "markdown",
   "id": "f66f0268-cf98-431a-a65e-e195137afb6c",
   "metadata": {},
   "source": [
    "With College Football just around the corner, and training camps starting up today or the following day, I wanted to take some time and give my top 25. While we are still weeks away and many new things can come out of training camp, I don't think that I will change my rankings until then. With that being said I want to take time and rank the top 25 for me. Note this will be one of 2 times a season where I rank all 134 teams, I will release the final rankings at the end of the year. I will only release my Top 25 after each week."
   ]
  },
  {
   "cell_type": "markdown",
   "id": "54eade46-764e-40ed-9449-feadb012c308",
   "metadata": {},
   "source": [
    "## 1. Georgia Bulldogs ##"
   ]
  },
  {
   "cell_type": "markdown",
   "id": "04a0184c-f997-4613-8ebb-e8c9fd533c58",
   "metadata": {},
   "source": [
    "Week 1 - #16 Clemson\n",
    "\n",
    "Starting the season against Clemson at Atlanta the Bulldogs are putting their top team to the test. With a great recruiting and transfer class coming in and retaining a good amount of their squad from last year, this game would be a treat to watch. With that being said we will see if Georgia is deserving of this top spot or not after this game"
   ]
  },
  {
   "cell_type": "markdown",
   "id": "30c944bb-ebd5-4f7e-b072-9b5d08152fb9",
   "metadata": {},
   "source": [
    "## 2. Ohio State Buckeyes ##"
   ]
  },
  {
   "cell_type": "markdown",
   "id": "7b247d2f-2f92-4934-add3-b236a34f180a",
   "metadata": {},
   "source": [
    "Week 1 - Akron\n",
    "\n",
    "Coming into the season playing in-state Akron at home is the opposite of what Georgia is doing. With a win here I don't see them moving up in my rankings unless everyone else loses around them. With that being said, Ohio State is still a great team with great talent. I expect a win and that's what should come out of this."
   ]
  },
  {
   "cell_type": "markdown",
   "id": "f2255f5f-5ad8-4cc8-9468-fa27166fc740",
   "metadata": {},
   "source": [
    "## 3. Oregon Ducks ##"
   ]
  },
  {
   "cell_type": "markdown",
   "id": "927e3246-3c59-46c7-a4a4-90400dee80cb",
   "metadata": {},
   "source": [
    "Week 1 - Idaho\n",
    "\n",
    "Another easy matchup for a top Big Ten school, Oregon is coming into this season to me as the third-best team in the nation. Lanning is a great coach who brought in great players this season. They also kept most of their team from last year. Starting this season against FCS Idaho should be an easy win for the Ducks."
   ]
  },
  {
   "cell_type": "markdown",
   "id": "63578951-97e9-4a38-9c14-f7fb55425e1a",
   "metadata": {},
   "source": [
    "## 4. Alabama Crimson Tide ##"
   ]
  },
  {
   "cell_type": "markdown",
   "id": "2e69708d-819f-44c4-8a5d-4f60c61a9e7f",
   "metadata": {},
   "source": [
    "Week 1 - Western Kentucky\n",
    "\n",
    "A new era in Alabama, the Crimson Tide are playing the Hilltoppers in their first game without Nick Saban in over 16 years. The Crimson Tide have to prove that they don't need Saban and that they have a winning program. Bringing in one of the top classes in the country, DeBoer has a solid foundation for Alabama, now the question is if he can compete."
   ]
  },
  {
   "cell_type": "markdown",
   "id": "8caea879-6a08-4855-8155-44ddbddfab13",
   "metadata": {},
   "source": [
    "## 5. Texas Longhorns ##"
   ]
  },
  {
   "cell_type": "markdown",
   "id": "a788e4ef-2145-4284-859e-3c8d7cb32f29",
   "metadata": {},
   "source": [
    "Week 1 - Colorado State\n",
    "\n",
    "The Longhorns are coming into this season as the 5th best team in my rankings and will take on the Rams at home to start the season. With Ewers back, the Longhorns have a great QB under center and are coming off a playoff appearance. It will be interesting to see how they compete, but week 1 should be a cakewalk."
   ]
  },
  {
   "cell_type": "markdown",
   "id": "612e1edf-60d5-4c43-a2ee-8c4c88921b48",
   "metadata": {},
   "source": [
    "## 6. Penn State Nittany Lions ##"
   ]
  },
  {
   "cell_type": "markdown",
   "id": "a9af0089-5951-4612-817f-8c5068b1d6ae",
   "metadata": {},
   "source": [
    "Week 1 - @ West Virginia\n",
    "\n",
    "In one of the best matchups and to me the best team to be on the road in week 1, the Nittany Lions are traveling to West Virginia to take on the Mountaineers. With that being said the Nittany Lions have a solid team, but a weaker recruiting and transfer class relative to other teams. It will be interesting to see how Penn State plays and if they come out of this."
   ]
  },
  {
   "cell_type": "markdown",
   "id": "be75aa8b-8ad8-4395-ba53-67399138caf5",
   "metadata": {},
   "source": [
    "## 7. Notre Dame Fighting Irish ##"
   ]
  },
  {
   "cell_type": "markdown",
   "id": "2dfa58ef-50d7-4c15-8362-19778fcfb0fb",
   "metadata": {},
   "source": [
    "Week 1 - @ #14 Texas A&M\n",
    "\n",
    "In another huge matchup of week one, the Fighting Irish are heading to College Station to play against the Aggies. This will be a top matchup of the week and the matchup to see if Notre Dame is a good team this year. They have a solid class and a good returning team, we should see if Notre Dame is for real this year."
   ]
  },
  {
   "cell_type": "markdown",
   "id": "64e3b772-ddce-4861-a131-37ebbf7f7962",
   "metadata": {},
   "source": [
    "## 8. Oklahoma Sooners ##"
   ]
  },
  {
   "cell_type": "markdown",
   "id": "043414f3-bbf0-4118-9ccd-112729d6b3a5",
   "metadata": {},
   "source": [
    "Week 1 - Temple\n",
    "\n",
    "Opening the season against one of the worst teams in the nation, Oklahoma is coming into the SEC trying to prove that they belong. With that said I think that they're the 8th best team in the nation. Bringing in a good recruiting and transfer class, while also having a good team return, the Sooners have to prove that they belong in the tougher SEC."
   ]
  },
  {
   "cell_type": "markdown",
   "id": "62272a36-7bfe-4b02-a242-9f37e5e122d2",
   "metadata": {},
   "source": [
    "## 9. LSU Tigers ##"
   ]
  },
  {
   "cell_type": "markdown",
   "id": "bd393cd9-c88e-4679-9fd8-2c30f1386ffe",
   "metadata": {},
   "source": [
    "Week 1 - #18 USC\n",
    "\n",
    "The Tigers are coming into this season with a good team. They did lose the Daniels and Nabers but overall was an underrated team last year. Coming from last season who had 3 losses against 3 good teams, the Tigers are opening the season in Vegas against USC. This will be an interesting game and we will see if LSU is the top team that I think they are coming into this season."
   ]
  },
  {
   "cell_type": "markdown",
   "id": "052a5518-4927-41d5-9209-50fe9bc8203b",
   "metadata": {},
   "source": [
    "## 10. Michigan Wolverines ##"
   ]
  },
  {
   "cell_type": "markdown",
   "id": "3047ef5e-ce77-4eee-b56a-5782594280f4",
   "metadata": {},
   "source": [
    "Week 1 - Fresno State\n",
    "\n",
    "The National Champions come in at number 10 in my rankings after losing a good portion of their staff. They lost their head coach, QB, and RB to name a few. With that being said, the regime change was internal and should provide some stability for the Wolverines. With all of the off the field issues I think that Michigan has a talented team and will come in this season want to prove that they belong."
   ]
  },
  {
   "cell_type": "markdown",
   "id": "a9c217bc-1e72-4df6-8477-00e1e4fd68fc",
   "metadata": {},
   "source": [
    "## 11. Florida State Seminoles ##"
   ]
  },
  {
   "cell_type": "markdown",
   "id": "2f46e5be-db2b-4abb-8557-42ba17c48584",
   "metadata": {},
   "source": [
    "Week 0 - Georgia Tech\n",
    "\n",
    "Week 1 - Boston College\n",
    "\n",
    "Since this will count for both Week 0 and Week 1, Florida State will start the rankings at 11 and I won't change this no matter if they beat GTech or not in Dublin. That will happen after Week 1 and when I release my rankings after the first week. With that being said, Florida State lost a lot from last year. They're bringing in a decent class, but they did lose a lot. This will be an interesting 2 weeks with FSU playing in Ireland and then against an interesting Boston College team with Bill O'Brian coaching. They still have a great coach in Norvell and they should be able to come out of these weeks on top."
   ]
  },
  {
   "cell_type": "markdown",
   "id": "ce436c92-a820-47b7-8d7d-14c388643dc7",
   "metadata": {},
   "source": [
    "## 12. Tennessee Volunteers ##"
   ]
  },
  {
   "cell_type": "markdown",
   "id": "b436ffcb-84b6-4f50-94a4-7bc8cb36fedc",
   "metadata": {},
   "source": [
    "Week 1 - Chattanooga \n",
    "\n",
    "Tennessee is opening the season against in-state FCS Chattanooga. The Volunteers are bring back a good group of players, however and a good recurting. Nother spectacular but a solid group. They come in at number 12 in my rankings and are just a solid team. The Volunteers should win this and be an overall solid team."
   ]
  },
  {
   "cell_type": "markdown",
   "id": "9b5eb973-43ad-4282-a3bb-bd0e154f1da1",
   "metadata": {},
   "source": [
    "## 13. Missouri Tigers ##"
   ]
  },
  {
   "cell_type": "markdown",
   "id": "6d6b467e-4f42-4be4-86f2-d4cea6be4519",
   "metadata": {},
   "source": [
    "Week 1 - Murray State\n",
    "\n",
    "The Tigers are coming off a great season but bringing in a weaker recruiting class relative to the other teams around them. With that being said they have a solid group returning and their head coaching still at Missouri. It will be an interesting team to watch and see if they have a great team from last year."
   ]
  },
  {
   "cell_type": "markdown",
   "id": "4e358587-e166-4652-8dbc-b0d15bf62402",
   "metadata": {},
   "source": [
    "## 14. Texas A&M Aggies ##"
   ]
  },
  {
   "cell_type": "markdown",
   "id": "9596bbc2-8596-4fd1-a243-d2c618c8ee02",
   "metadata": {},
   "source": [
    "Week 1 - #7 Notre Dame\n",
    "\n",
    "With a new regime coming in, the Aggies come in at 14 in my rankings. They have an interesting team and we will see if they can compete with the rest of the SEC. The Aggies are coming in playing against Notre Dame at home and we will see Week 1 if this team is legit."
   ]
  },
  {
   "cell_type": "markdown",
   "id": "bef196f5-c1ff-4ec3-aadb-a4604e187ff3",
   "metadata": {},
   "source": [
    "## 15. Ole Miss Rebels ##"
   ]
  },
  {
   "cell_type": "markdown",
   "id": "25321d14-301a-4f64-bb5b-af704d86cc0e",
   "metadata": {},
   "source": [
    "Week 1 - Furman\n",
    "\n",
    "Ole Miss is coming in at 15 for me this season. I think that they have a good top 25 team. They are bringing in a solid class and returning a good amount of players. I also think that Lane Kiffin is a great coach, however, I don't think they have a top 10 team like other people think they are. They start the season against FCS Furman and should win this game."
   ]
  },
  {
   "cell_type": "markdown",
   "id": "b0344c75-504a-49bb-8881-cda319ad2164",
   "metadata": {},
   "source": [
    "## 16. Clemson Tigers ##"
   ]
  },
  {
   "cell_type": "markdown",
   "id": "0f6d9be4-5208-40fd-846e-f9b7b344a195",
   "metadata": {},
   "source": [
    "Week 1 - #1 Georgia\n",
    "\n",
    "Coming in with a good recruiting class, and a terrible transfer class, the Tigers come into this season playing the top team in the nation against Georgia in week 1. Clemson is bringing in a good team with Swinney still as head coach. The Tigers need to win this to prove that they're still a top team in the nation."
   ]
  },
  {
   "cell_type": "markdown",
   "id": "cd35fc4f-e0dc-494e-a4d4-3c329c9ef780",
   "metadata": {},
   "source": [
    "## 17. Miami (FL) Hurricanes ##"
   ]
  },
  {
   "cell_type": "markdown",
   "id": "f99ee2fb-0e8f-441a-8d1d-f8e8fff18855",
   "metadata": {},
   "source": [
    "Week 1 - @ #20 Florida\n",
    "\n",
    "The Hurricanes are coming into this rivalry game with one of the top classes in the country. They got a strong recruiting and transfer class and they have a tough matchup with Florida on the road. We will see if Miami is for real this year and if they can do something with the talent that they have this year."
   ]
  },
  {
   "cell_type": "markdown",
   "id": "6ce3b89a-c905-48d0-be36-1658049bd7bf",
   "metadata": {},
   "source": [
    "## 18. USC Trojans ##"
   ]
  },
  {
   "cell_type": "markdown",
   "id": "c425c21a-51f3-413c-a327-25154c9517c1",
   "metadata": {},
   "source": [
    "Week 1 - #9 LSU\n",
    "\n",
    "Coming into this season after a season like the previous, USC has to prove that they're a top team again. Losing a good amount of players, especially Caleb Williams, as well as having a historically bad defense, the Trojans are looking to get a win in Vegas against LSU. We would have to see the outcome of this."
   ]
  },
  {
   "cell_type": "markdown",
   "id": "e4126cc4-3b0b-468f-97c7-6f378b346088",
   "metadata": {},
   "source": [
    "## 19. Auburn Tigers ##"
   ]
  },
  {
   "cell_type": "markdown",
   "id": "320b6e2b-8112-4827-9f01-c6f5d171b3cd",
   "metadata": {},
   "source": [
    "Week 1 - Alabama A&M\n",
    "\n",
    "Coming into this season Auburn is bringing in a top tier recruiting class, but they had a bad team last year. I think that we'll see a good Tigers team this year. They should have an easy game against the Bulldogs Week 1 and we shouldn't see anything crazy out of this week."
   ]
  },
  {
   "cell_type": "markdown",
   "id": "3c262f34-4e75-4ff1-9b68-34956d7aacc6",
   "metadata": {},
   "source": [
    "## 20. Florida Gators ##"
   ]
  },
  {
   "cell_type": "markdown",
   "id": "0e32b50d-9109-46dd-9f11-59de608c9268",
   "metadata": {},
   "source": [
    "Week 1 - #17 Miami(FL)\n",
    "\n",
    "Another SEC team in the top 25, Florida is coming into this season with the toughest schedule and a decent squad. We will have to see what Napier's team does with the Gators this year and opening up the season with rivals Miami will be a good starting point to see what the Gators have with this team."
   ]
  },
  {
   "cell_type": "markdown",
   "id": "99c28b40-b1e8-42a8-9342-0ef5c592862a",
   "metadata": {},
   "source": [
    "## 21. Washington Huskies ##"
   ]
  },
  {
   "cell_type": "markdown",
   "id": "c9adde01-2047-49a2-9d96-ffda7c240ec5",
   "metadata": {},
   "source": [
    "Week 1 - Weber State\n",
    "\n",
    "Last years runner-ups are coming into this season barely in the top 25. With a lot of turnover from last year, with both the staff and the players, we have a new era with the Huskies. The Huskies open their first season in the Big Ten against FCS foes Weber State and they should have a win to start this season."
   ]
  },
  {
   "cell_type": "markdown",
   "id": "60706cda-78d0-4687-ba20-c5e30599584f",
   "metadata": {},
   "source": [
    "## 22. Louisville Cardinals ##"
   ]
  },
  {
   "cell_type": "markdown",
   "id": "77c66415-7d4a-4880-99f0-d45ac9333e1d",
   "metadata": {},
   "source": [
    "Week 1 - Austin Peay\n",
    "\n",
    "Louisville is back. The Cardinals are opening up this season against FCS foes Austin Peay while they follow up a great season. I have high hopes for the Cardinals, and bringing back a solid squad is a great place to start for them. It'll be interesting to see how the Cardinals perform this coming season."
   ]
  },
  {
   "cell_type": "markdown",
   "id": "85dd927c-50c8-4544-912a-9dfc02fe7f55",
   "metadata": {},
   "source": [
    "## 23. Kansas Jayhawks ##"
   ]
  },
  {
   "cell_type": "markdown",
   "id": "c2633db6-646f-4cdd-a9b5-bab302fe4975",
   "metadata": {},
   "source": [
    "Week 1 - Lindenwood\n",
    "\n",
    "The Jayhawks opening a season in the top 25 isn't crazy from a basketball stand point, but in football it's unheard of. Leipold has a great thing going for the Jayhawks and he's transformed this program perfectly. Kansas is opening this season against FCS program Lindenwood. It should be an easy win for the Jayhawks and could be the start to a historic season."
   ]
  },
  {
   "cell_type": "markdown",
   "id": "1ec7ba2d-43fd-43c2-8834-f829b73d3438",
   "metadata": {},
   "source": [
    "## 24. Kansas State Wildcats ##"
   ]
  },
  {
   "cell_type": "markdown",
   "id": "43bcff73-85fc-4420-916e-e78bcc3a8748",
   "metadata": {},
   "source": [
    "Week 1 - UT Martin\n",
    "\n",
    "Staying in the state of Kansas, I open up this season with Kansas State at 24. The Wildcats had a great team from last year and is bringing a good amount of them back. With that being said, the Wildcats are bringing in one of the weakest recruiting classes in the P4. With that being said the success from last season should be enough to rank Kstate a top 25 team. They open the season against FCS UT Martin."
   ]
  },
  {
   "cell_type": "markdown",
   "id": "add7a384-9ec6-4a54-a1db-0808da849ae0",
   "metadata": {},
   "source": [
    "## 25. Texas Tech Red Raiders ##"
   ]
  },
  {
   "cell_type": "markdown",
   "id": "be8957b9-0be0-4d3b-9602-8d586e1e281b",
   "metadata": {},
   "source": [
    "Week 1 - Abilene Christian\n",
    "\n",
    "I have Texas Tech coming in 25 for my rankings. Bring in a solid recruting class, and having an ok team from last year, the Red Raiders are the 25th best team at the start of this season. The Red Raiders are a solid team and they hope to be better than from last year. They open the season against FCS Abilene Christian."
   ]
  },
  {
   "cell_type": "markdown",
   "id": "434a1383-4930-47b7-9cfa-c8bb32d39547",
   "metadata": {},
   "source": [
    "## 26 - 30 ##"
   ]
  },
  {
   "cell_type": "markdown",
   "id": "f931f737-148c-41a7-925b-534235b62c47",
   "metadata": {},
   "source": [
    "26. Kentucky\n",
    "\n",
    "27. Arizona\n",
    "\n",
    "28. Utah\n",
    "\n",
    "29. North Carolina State\n",
    "\n",
    "30. TCU"
   ]
  },
  {
   "cell_type": "markdown",
   "id": "dd3accb7-702e-4d18-a0d4-44c2d9e93d72",
   "metadata": {},
   "source": [
    "## 31 - 50 ##"
   ]
  },
  {
   "cell_type": "markdown",
   "id": "7f6f6ed6-3cd1-4ab0-8de3-471da65a60b9",
   "metadata": {},
   "source": [
    "31. South Carolina\n",
    "\n",
    "32. UCF\n",
    "\n",
    "33. SMU\n",
    "\n",
    "34. North Carolina\n",
    "\n",
    "35. Wisconsin\n",
    "\n",
    "36. UCLA\n",
    "\n",
    "37. Nebraska\n",
    "\n",
    "38. Oregon State\n",
    "\n",
    "39. Arkansas\n",
    "\n",
    "40. Maryland\n",
    "\n",
    "41. Oklahoma State\n",
    "\n",
    "42. Iowa\n",
    "\n",
    "43. West Virginia\n",
    "\n",
    "44. California\n",
    "\n",
    "45. Colorado\n",
    "\n",
    "46. Duke\n",
    "\n",
    "47. Virginia Tech\n",
    "\n",
    "48. Mississippi State\n",
    "\n",
    "49. Iowa State\n",
    "\n",
    "50. Rutgers"
   ]
  },
  {
   "cell_type": "markdown",
   "id": "039f2dd5-7bbe-439c-8371-8568f851b97a",
   "metadata": {},
   "source": [
    "## 51 - 100 ##"
   ]
  },
  {
   "cell_type": "markdown",
   "id": "fe14f0ae-d4a1-4824-9b75-4d8bd966880b",
   "metadata": {},
   "source": [
    "51. Georgia Tech\n",
    "\n",
    "52. Purdue\n",
    "\n",
    "53. Minnesota\n",
    "\n",
    "54. Syracuse\n",
    "\n",
    "55. Boise State (#1 G5)\n",
    "\n",
    "56. Illinois\n",
    "\n",
    "57. Pittsburgh\n",
    "\n",
    "58. James Madison (#2 G5)\n",
    "\n",
    "59. Memphis (#3 G5)\n",
    "\n",
    "60. Michigan State\n",
    "\n",
    "61. UTSA (#4 G5)\n",
    "\n",
    "62. Tulane (#5 G5)\n",
    "\n",
    "63. Baylor\n",
    "\n",
    "64. Washington State\n",
    "\n",
    "65. Cincinnati\n",
    "\n",
    "66. Arizona State\n",
    "\n",
    "67. Indiana\n",
    "\n",
    "68. Houston\n",
    "\n",
    "69. BYU\n",
    "\n",
    "70. Wake Forest\n",
    "\n",
    "71. Northwestern\n",
    "\n",
    "72. Boston College\n",
    "\n",
    "73. Stanford\n",
    "\n",
    "74. Troy (#6 G5)\n",
    "\n",
    "75. Vanderbilt\n",
    "\n",
    "76. Virginia\n",
    "\n",
    "77. Appalachian State (#7 G5)\n",
    "\n",
    "78. UNLV (#8 G5)\n",
    "\n",
    "79. Liberty (#9 G5)\n",
    "\n",
    "80. Fresno State (#10 G5)\n",
    "\n",
    "81. South Alabama (#11 G5)\n",
    "\n",
    "82. Toledo (#12 G5)\n",
    "\n",
    "83. Texas State (#13 G5)\n",
    "\n",
    "84. Coastal Carolina (#14 G5)\n",
    "\n",
    "85. USF (#15 G5)\n",
    "\n",
    "86. Marshall (#16 G5)\n",
    "\n",
    "87. FAU (#17 G5)\n",
    "\n",
    "88. San Diego State (#18 G5)\n",
    "\n",
    "89. San Jose State (#19 G5)\n",
    "\n",
    "90. Miami (OH) (#20 G5)\n",
    "\n",
    "91. Eastern Carolina (#21 G5)\n",
    "\n",
    "92. Western Kentucky (#22 G5)\n",
    "\n",
    "93. Air Force (#23 G5)\n",
    "\n",
    "94. Louisiana (#24 G5)\n",
    "\n",
    "95. Jacksonville State (#25 G5)\n",
    "\n",
    "96. Tulsa\n",
    "\n",
    "97. Georgia State\n",
    "\n",
    "98. UAB\n",
    "\n",
    "99. Arkansas State\n",
    "\n",
    "100. Rice"
   ]
  },
  {
   "cell_type": "markdown",
   "id": "8eb15558-5541-4124-a3d2-0105409ba228",
   "metadata": {},
   "source": [
    "## 101 - 134 ##"
   ]
  },
  {
   "cell_type": "markdown",
   "id": "9b208f48-1b78-4642-a488-af651a595454",
   "metadata": {},
   "source": [
    "101. Wyoming\n",
    "\n",
    "102. Georgia Southern\n",
    "\n",
    "103. North Texas\n",
    "\n",
    "104. Bowling Green\n",
    "\n",
    "105. Southern Miss\n",
    "\n",
    "106. Ohio\n",
    "\n",
    "107. Colorado State\n",
    "\n",
    "108. Utah State\n",
    "\n",
    "109. Charlotte\n",
    "\n",
    "110. UTEP\n",
    "\n",
    "111. Northern Illinois\n",
    "\n",
    "112. Western Michigan\n",
    "\n",
    "113. Old Dominion\n",
    "\n",
    "114. UConn\n",
    "\n",
    "115. Nevada\n",
    "\n",
    "116. Middle Tennessee State\n",
    "\n",
    "117. Louisiana Tech\n",
    "\n",
    "118. New Mexico State\n",
    "\n",
    "119. Eastern Michigan\n",
    "\n",
    "120. Buffalo\n",
    "\n",
    "121. Army\n",
    "\n",
    "122. New Mexico\n",
    "\n",
    "123. UMass\n",
    "\n",
    "124. Central Michigan\n",
    "\n",
    "125. Hawaii\n",
    "\n",
    "126. Ball State\n",
    "\n",
    "127. Akron\n",
    "\n",
    "128. Temple\n",
    "\n",
    "129. Navy\n",
    "\n",
    "130. Sam Houston State\n",
    "\n",
    "131. Kent State\n",
    "\n",
    "132. UL Monroe\n",
    "\n",
    "133. FIU\n",
    "\n",
    "134. Kennesaw State"
   ]
  }
 ],
 "metadata": {
  "kernelspec": {
   "display_name": "Python 3 (ipykernel)",
   "language": "python",
   "name": "python3"
  },
  "language_info": {
   "codemirror_mode": {
    "name": "ipython",
    "version": 3
   },
   "file_extension": ".py",
   "mimetype": "text/x-python",
   "name": "python",
   "nbconvert_exporter": "python",
   "pygments_lexer": "ipython3",
   "version": "3.10.12"
  }
 },
 "nbformat": 4,
 "nbformat_minor": 5
}
