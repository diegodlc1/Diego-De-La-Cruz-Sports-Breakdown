{
 "cells": [
  {
   "cell_type": "markdown",
   "id": "4e3b51ec-0a28-4ced-b056-b0b2a6de6d43",
   "metadata": {},
   "source": [
    "# Week 12 Top 25 #"
   ]
  },
  {
   "cell_type": "markdown",
   "id": "5e6ca714-25a9-46bf-a963-236ea0b83086",
   "metadata": {},
   "source": [
    "Here is the top 25 for this coming week in College Football."
   ]
  },
  {
   "cell_type": "markdown",
   "id": "b7bf77b4-855c-439e-bc01-19de21be72e4",
   "metadata": {},
   "source": [
    "## Top 25 ##"
   ]
  },
  {
   "cell_type": "markdown",
   "id": "d3c4f3b7-7005-42af-8b4c-32555eca5dd9",
   "metadata": {},
   "source": [
    "1. Oregon Ducks (10-0)\n",
    "\n",
    "2. Ohio State Buckeyes (8-1)\n",
    "\n",
    "3. Penn State Nittany Lions (8-1)\n",
    "\n",
    "4. Tennessee Volunteers (8-1)\n",
    "\n",
    "5. SMU Mustangs (8-1)\n",
    "\n",
    "6. Ole Miss Rebels (8-2)\n",
    "\n",
    "7. Louisville Cardinals (6-3)\n",
    "\n",
    "8. Texas Longhorns (8-1)\n",
    "\n",
    "9. Notre Dame Fighting Irish (8-1)\n",
    "\n",
    "10. Texas A&M Aggies (7-2)\n",
    "\n",
    "11. Alabama Crimson Tide (7-2)\n",
    "\n",
    "12. Georgia Bulldogs (7-2)\n",
    "\n",
    "13. Miami (FL) Hurricanes (9-1)\n",
    "\n",
    "14. Clemson Tigers (7-2)\n",
    "\n",
    "15. Boise State Broncos (8-1)\n",
    "\n",
    "16. South Carolina Gamecocks (6-3)\n",
    "\n",
    "17. Indiana Hoosiers (10-0)\n",
    "\n",
    "18. Missouri Tigers (7-2)\n",
    "\n",
    "19. Tulane Green Wave (8-2)\n",
    "\n",
    "20. Kansas State Wildcats (7-2)\n",
    "\n",
    "21. LSU Tigers (6-3)\n",
    "\n",
    "22. TCU Horned Frogs (6-4)\n",
    "\n",
    "23. Colorado Buffalos (7-2)\n",
    "\n",
    "24. BYU Cougars (9-0)\n",
    "\n",
    "25. Louisiana Ragin Cajun (8-1)"
   ]
  },
  {
   "cell_type": "markdown",
   "id": "f972cc00-d333-4e8b-b242-05b6fa3efd96",
   "metadata": {},
   "source": [
    "## Next 10 ##"
   ]
  },
  {
   "cell_type": "markdown",
   "id": "05b2cc1d-1d2f-45ed-8ef8-aef3f195ac35",
   "metadata": {},
   "source": [
    "Here is the next 10 up\n",
    "\n",
    "UNLV Rebels, Texas Tech Red Raiders, Duke Blue Devils, Memphis Tigers, Wisconsin Badgers, Illinois Fighting Illini, Iowa State Cyclones, Pittsburgh Panthers, Michigan Wolverines, Florida Gators"
   ]
  },
  {
   "cell_type": "markdown",
   "id": "6628ebb2-dc02-416e-b32d-58f7f2bd4973",
   "metadata": {},
   "source": [
    "## G5 Top 25 ##"
   ]
  },
  {
   "cell_type": "markdown",
   "id": "f80778a0-215d-423a-acd6-f2c0610b08cf",
   "metadata": {},
   "source": [
    "1. Boise State Broncos (8-1)\n",
    "\n",
    "2. Tulane Green Wave (8-2)\n",
    "\n",
    "3. Louisiana Ragin Cajun (8-1)\n",
    "\n",
    "4. UNLV Rebels (7-2)\n",
    "\n",
    "5. Memphis Tigers (8-2)\n",
    "\n",
    "6. James Madison Dukes (7-2)\n",
    "\n",
    "7. Ohio Bobcats (6-3)\n",
    "\n",
    "8. Western Kentucky Hilltoppers (7-2)\n",
    "\n",
    "9. Georgia Southern Eagles (6-3)\n",
    "\n",
    "10. Miami (OH) Redhawks (5-4)\n",
    "\n",
    "11. Army Black Knights (9-0)\n",
    "\n",
    "12. South Alabama Jaguars (4-5)\n",
    "\n",
    "13. Liberty Flames (6-2)\n",
    "\n",
    "14. Marshall Thundering Herd (6-3)\n",
    "\n",
    "15. Texas State Bobcats (5-4)\n",
    "\n",
    "16. Old Dominion Monarchs (4-5)\n",
    "\n",
    "17. Fresno State Bulldogs (5-5)\n",
    "\n",
    "18. North Texas Mean Green (5-4)\n",
    "\n",
    "19. San Jose State Spartans (6-3)\n",
    "\n",
    "20. Bowling Green Falcons (5-4)\n",
    "\n",
    "21. Toledo Rockets (6-3)\n",
    "\n",
    "22. Coastal Carolina Chanticleers (5-4)\n",
    "\n",
    "23. UTSA Roadrunners (4-5)\n",
    "\n",
    "24. Jacksonville State Gamecocks (6-3)\n",
    "\n",
    "25. Appalachian State Mountaineers (4-5)"
   ]
  }
 ],
 "metadata": {
  "kernelspec": {
   "display_name": "Python 3 (ipykernel)",
   "language": "python",
   "name": "python3"
  },
  "language_info": {
   "codemirror_mode": {
    "name": "ipython",
    "version": 3
   },
   "file_extension": ".py",
   "mimetype": "text/x-python",
   "name": "python",
   "nbconvert_exporter": "python",
   "pygments_lexer": "ipython3",
   "version": "3.10.12"
  }
 },
 "nbformat": 4,
 "nbformat_minor": 5
}
