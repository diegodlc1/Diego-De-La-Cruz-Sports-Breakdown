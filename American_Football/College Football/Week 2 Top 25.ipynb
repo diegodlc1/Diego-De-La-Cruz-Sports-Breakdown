{
 "cells": [
  {
   "cell_type": "markdown",
   "id": "c472b3ee-32e3-4c6b-8977-928f45e96181",
   "metadata": {},
   "source": [
    "# Week 2 Top 25 (with G5) #"
   ]
  },
  {
   "cell_type": "markdown",
   "id": "abd3397f-dd2e-4072-b770-3deaff1e15f8",
   "metadata": {},
   "source": [
    "With week one in the books, the college football season has officially started. With that being said I want to release my top 25 rankings while also giving top 25 for the G5 teams as well. With that being said, let's get into this."
   ]
  },
  {
   "cell_type": "markdown",
   "id": "8c420948-708b-4c30-89e2-62c5f72cdffb",
   "metadata": {},
   "source": [
    "## 1. Georgia Bulldogs ##"
   ]
  },
  {
   "cell_type": "markdown",
   "id": "c9537782-84eb-4d79-8993-71f2142225b6",
   "metadata": {},
   "source": [
    "Week 2 - Tennessee Tech\n",
    "\n",
    "The Bulldogs opened up this season in Atlanta beating Clemson 34-3. They looked domninant the whole game and honestly they set themselves to be a tier above the rest of the nation. With that all being said, they have Tennessee Tech at home this week so we should expect to see another Win for the Dogs."
   ]
  },
  {
   "cell_type": "markdown",
   "id": "89ef3795-5ce2-4b3d-b85f-a00e75b50578",
   "metadata": {},
   "source": [
    "## 2. Ohio State Buckeyes ##"
   ]
  },
  {
   "cell_type": "markdown",
   "id": "d1843a26-e170-4438-8878-515cbb2496d8",
   "metadata": {},
   "source": [
    "Week 2 - Western Michigan \n",
    "\n",
    "The Ohio State Buckeyes retain the number 2 spot after dominating Akron this past week. It was an expected result and thus I felt like not deserving a rise of a fall. With that all being said, the Buckeyes have a tough week 2 matchup with the Broncos of Western Michigan, who gave Wisconsin at Madison week 1."
   ]
  },
  {
   "cell_type": "markdown",
   "id": "fd3a99a5-0e6e-40e9-8e59-24e2d1ed5606",
   "metadata": {},
   "source": [
    "## 3. Alabama Crimson Tide ##"
   ]
  },
  {
   "cell_type": "markdown",
   "id": "08f0e380-2bbb-401c-bbe6-9075f34e9209",
   "metadata": {},
   "source": [
    "Week 2 - USF\n",
    "\n",
    "After absolutely dominating a solid Western Kentucky team this past week, I thought that Alabama was deserving of a rise in the rankings. They looked amazing against the Sun Belt program and this week they have another tougher group of 5 program with USF at home, a team that held Alabama to 17 points last year."
   ]
  },
  {
   "cell_type": "markdown",
   "id": "7b7eb3b5-b957-4412-a6ff-05a1a4502bc3",
   "metadata": {},
   "source": [
    "## 4. Notre Dame Fighting Irish ##"
   ]
  },
  {
   "cell_type": "markdown",
   "id": "2716e78a-65ef-4dd0-ac59-35bfa80ca1be",
   "metadata": {},
   "source": [
    "Week 2 - Northern Illinois\n",
    "\n",
    "The Fighting Irish are coming off of a great week 1 win on the road against the top 26 Texas A&M. I felt like that win was deserving of a rise for the program into the top 4 in the rankings. They looked good and they have a matchup against the Huskies next week at home."
   ]
  },
  {
   "cell_type": "markdown",
   "id": "29a19e4b-b3cb-4ff2-bd24-e67d941d2f7e",
   "metadata": {},
   "source": [
    "## 5. Penn State Nittany Lions ##"
   ]
  },
  {
   "cell_type": "markdown",
   "id": "ecced7fd-6268-41bb-acd2-0249efb6f4f7",
   "metadata": {},
   "source": [
    "Week 2 - Bowling Green \n",
    "\n",
    "The Nittany Lions are coming off of a solid week 1 win against the Mountaineers, a win that I thought was deserving of a small rise in the rankings. This week they have the Falcons at home."
   ]
  },
  {
   "cell_type": "markdown",
   "id": "455f7ca2-1fa0-4469-bf34-1d2ea522d517",
   "metadata": {},
   "source": [
    "## 6. Texas Longhorns ##"
   ]
  },
  {
   "cell_type": "markdown",
   "id": "54443ae0-e337-42a2-8225-c2a1d605f709",
   "metadata": {},
   "source": [
    "Week 2 - @ #9 Michigan\n",
    "\n",
    "The Longhorns moved down slightly in my rankings due to the state of the other teams wins around them. With that being said, the Longhorns took down Colorado State with ease and look to be a Top 10 program at the moment. With that being said the Longhorns have a top 10 matchup against Michigan this week."
   ]
  },
  {
   "cell_type": "markdown",
   "id": "a23fa8d2-cb10-4b8c-9fd8-7d7139aee34d",
   "metadata": {},
   "source": [
    "## 7. Oregon Ducks ##"
   ]
  },
  {
   "cell_type": "markdown",
   "id": "d08ff372-c449-4f2d-8581-2b30e60402d2",
   "metadata": {},
   "source": [
    "Week 2 - Boise State\n",
    "\n",
    "The Ducks struggled massively against FCS program Idaho this past week. While we saw some glimmmer of what the Ducks could be this season, the way that they ended playing and the final score would beg to differ. The Ducks have a very tough matchup with Boise State coming into Autzen to try and upset the Ducks."
   ]
  },
  {
   "cell_type": "markdown",
   "id": "6895816e-c156-40dd-ba2d-a52324abbc50",
   "metadata": {},
   "source": [
    "## 8. Oklahoma Sooners ##"
   ]
  },
  {
   "cell_type": "markdown",
   "id": "03d4fea0-1b2c-4786-bd3a-113024686ebd",
   "metadata": {},
   "source": [
    "Week 2 - Houston\n",
    "\n",
    "The Sooners took care of business this past week against Temple, that game was a no contest at any point during it. With that being said, the Sooners have a matchup with Houston at home."
   ]
  },
  {
   "cell_type": "markdown",
   "id": "6723bfde-15b8-4c91-96eb-efc6fda0e021",
   "metadata": {},
   "source": [
    "## 9. Michigan Wolverines ##"
   ]
  },
  {
   "cell_type": "markdown",
   "id": "82b46f01-84dc-44ea-bc33-a76b8b29da34",
   "metadata": {},
   "source": [
    "Week 2 - #6 Texas\n",
    "\n",
    "The Wolverines struggled somewhat against a solid Fresno State team. I thought that they were going to struggle, and they did, but they ended up pulling out a convincing wins against the Bulldogs that I thought was worthy of a slight increase in the rankings. With that being said, they are hosting the Longhorns at home this week in a clash between the 6 and the 9 seeds."
   ]
  },
  {
   "cell_type": "markdown",
   "id": "328dfdfd-bc58-4be3-9f63-621227207d71",
   "metadata": {},
   "source": [
    "## 10. USC Trojans ##"
   ]
  },
  {
   "cell_type": "markdown",
   "id": "7d941198-9b74-43d4-97c0-140fb2684829",
   "metadata": {},
   "source": [
    "Week 2 - Utah State\n",
    "\n",
    "The Trojans are coming off of a great win against LSU in Vegas this past week. It was a tough battle between the 2 with USC capitalizing on the mistakes made by the Tigers late in the game to pull of the win. The Trojans will host the Aggies this coming week."
   ]
  },
  {
   "cell_type": "markdown",
   "id": "ff390004-b2a0-4951-a131-3d918e4c96d8",
   "metadata": {},
   "source": [
    "## 11. Tennessee Volunteers ##"
   ]
  },
  {
   "cell_type": "markdown",
   "id": "17380a40-a2fc-4e73-9323-df440c5cb52a",
   "metadata": {},
   "source": [
    "Week 2 - NC State\n",
    "\n",
    "The Volunteers are coming off a great win against Chattanooga this past week to keep them at the 11 seed this week. With that being said, the Volunteers have a tough matchup in Charlotte against NC State to try and take down the Wolfpack."
   ]
  },
  {
   "cell_type": "markdown",
   "id": "dd487ec1-82ca-4bf7-b46a-ef45b8bbdd1b",
   "metadata": {},
   "source": [
    "## 12. Missouri Tigers ##"
   ]
  },
  {
   "cell_type": "markdown",
   "id": "910173ab-e7a5-4977-bfe9-03560134d2cb",
   "metadata": {},
   "source": [
    "Week 2 - Buffalo\n",
    "\n",
    "The Tigers took care of business against Murray State this past week, putting up 51 on them. With that being said, the Tigers have an easy matchup against the Bulls this week at home."
   ]
  },
  {
   "cell_type": "markdown",
   "id": "3706ecf6-591e-44b0-96d0-d1e0398f5632",
   "metadata": {},
   "source": [
    "## 13. Miami Hurricanes ##"
   ]
  },
  {
   "cell_type": "markdown",
   "id": "51a4f9da-a352-484b-9676-109c23d1b8da",
   "metadata": {},
   "source": [
    "Week 2 - Florida A&M\n",
    "\n",
    "The Hurricanes took down the Gators, on the road, this previous week. The Hurricanes look to be one of the top teams in the nation this coming season and it will be interesting to see if they're back again. This week they play FCS FAMU at home."
   ]
  },
  {
   "cell_type": "markdown",
   "id": "5c2c6fe3-e782-49d7-8f74-e95f72e0c1e3",
   "metadata": {},
   "source": [
    "## 14. Ole Miss Rebels ##"
   ]
  },
  {
   "cell_type": "markdown",
   "id": "cf8d85fc-496c-4f79-90cd-39958a1a45d3",
   "metadata": {},
   "source": [
    "Week 2 - Middle Tennesee State\n",
    "\n",
    "The Rebels took care of business against Furman this past week. With that being said, the Rebels will take on the Blue Raiders this coming week at home. They moved up due to the week 0 loss between FSU and GTech."
   ]
  },
  {
   "cell_type": "markdown",
   "id": "b32a903d-9ed8-4cc2-bdcf-eacdeb0abaf8",
   "metadata": {},
   "source": [
    "## 15. LSU Tigers ##"
   ]
  },
  {
   "cell_type": "markdown",
   "id": "755652cd-5964-4e70-a8e1-f271928a3cde",
   "metadata": {},
   "source": [
    "Week 2 - Nicholls State\n",
    "\n",
    "After a disappointing loss to the Troajns in Vegas, the Tigers are looking to bounce back this week against Nicholls State at home. The Tigers looked good for the majority of the game between them and USC, that's why I feel like they are still a top 25 team in the nation."
   ]
  },
  {
   "cell_type": "markdown",
   "id": "25201213-c560-4990-b4a2-9529c8332f8a",
   "metadata": {},
   "source": [
    "## 16. Texas A&M Aggies ##"
   ]
  },
  {
   "cell_type": "markdown",
   "id": "5731b0c0-339e-411a-a7b5-9a7c8ff14868",
   "metadata": {},
   "source": [
    "Week 2 - McNeese State\n",
    "\n",
    "The Aggies put up a good fight against the Irish this past week while still falling short at home. With that being said, I still feel like the Aggies are a top 25 program in the nation and that's why I still have them high even after that loss. They have McNeese State at home next week."
   ]
  },
  {
   "cell_type": "markdown",
   "id": "aca30878-011f-4f3c-971b-ffefa18480a2",
   "metadata": {},
   "source": [
    "## 17. Clemson Tigers ##"
   ]
  },
  {
   "cell_type": "markdown",
   "id": "c3c818f8-4b58-4df6-ae04-abb6f8f21917",
   "metadata": {},
   "source": [
    "Week 2 - App State\n",
    "\n",
    "To round out the losers section of this weeks Top 25, the Tigers didn't look that great against Georgia this past week. With that being said, I feel like Georgia is head and shoulders above everyone else so I won't drop the Tigers too much. With that being said, the Tigers have a very tough matchup at home against the Mountaineers of App State."
   ]
  },
  {
   "cell_type": "markdown",
   "id": "bbe23d09-6445-4dbc-bc15-d32622781ad8",
   "metadata": {},
   "source": [
    "## 18. Auburn Tigers ##"
   ]
  },
  {
   "cell_type": "markdown",
   "id": "20288978-9f7f-4d1f-88af-46bfd8096014",
   "metadata": {},
   "source": [
    "Week 2 - California\n",
    "\n",
    "I still think that Auburn is deserving of a top 25 place in the rankings. They took down Alabama A&M with ease this past week, and will look to take down ACC foe Cal this coming week at home. The Tigers look dangerous this year."
   ]
  },
  {
   "cell_type": "markdown",
   "id": "b4570c7c-384e-43b5-ad96-7a8f8cda7a49",
   "metadata": {},
   "source": [
    "## 19. North Carolina Tar Heels ##"
   ]
  },
  {
   "cell_type": "markdown",
   "id": "6a67c1e1-a6a3-4a54-98ff-af4467bbd893",
   "metadata": {},
   "source": [
    "Week 2 - Charlotte \n",
    "\n",
    "The Tar Heels are one of the newest edition to this weeks rankings with them taking down Michigan last week 19-17. They look to be a solid team and felt that them beating a G4 team is enough to place them in the top 25 this week amongst the likes and results of everyone around them. They have Charlotte at home this coming week."
   ]
  },
  {
   "cell_type": "markdown",
   "id": "ca7a26ad-416e-4c8f-955e-6439ebb9ee6b",
   "metadata": {},
   "source": [
    "## 20. Washington Huskies ##"
   ]
  },
  {
   "cell_type": "markdown",
   "id": "2ce391e3-eca7-4dc2-a482-2e246356cc2e",
   "metadata": {},
   "source": [
    "Week 2 - Eastern Michigan\n",
    "\n",
    "The Huskies took care of business against Weber State last week. They will now take on the Eagles of Eastern Michigan this coming week at home in what should be a solid G5 school."
   ]
  },
  {
   "cell_type": "markdown",
   "id": "c44f26f1-1a8f-4a1b-8847-97b586275642",
   "metadata": {},
   "source": [
    "## 21. TCU Horned Frogs ##"
   ]
  },
  {
   "cell_type": "markdown",
   "id": "beabe8e7-6fce-4196-9344-cef358bfce8d",
   "metadata": {},
   "source": [
    "Week 2 - LIU\n",
    "\n",
    "TCU is the other team that will sneak in these rankings by taking down Stanford this past week on the road. They had some early game struggles but prevailed at the end. With that being said, they have matchup at home against the Sharks this week."
   ]
  },
  {
   "cell_type": "markdown",
   "id": "98c022f1-606f-43f4-8f58-76dcfef6a381",
   "metadata": {},
   "source": [
    "## 22. Louisville Cardinals ##"
   ]
  },
  {
   "cell_type": "markdown",
   "id": "a1f5453d-9495-445c-bd03-787dace9375f",
   "metadata": {},
   "source": [
    "Week 2 - Jacksonville State\n",
    "\n",
    "The Cardinals took down Austin Peay last week with no question. The Cardinals have a home matchup against the Gamecocks this coming week, the same Gamecocks that dropped a game against Coastal Carolina this past week."
   ]
  },
  {
   "cell_type": "markdown",
   "id": "49c08874-71ed-4501-b422-89e580a8e134",
   "metadata": {},
   "source": [
    "## 23. Kansas Jayhawks ##"
   ]
  },
  {
   "cell_type": "markdown",
   "id": "ed6653dc-783a-4bb6-97a1-4d8d8db231cf",
   "metadata": {},
   "source": [
    "Week 2 - @ Illinois\n",
    "\n",
    "The Jayhawks took care of business against Lindenwood this past week at home. They will now have to travel to Urbana to take on the Fighting Illini this next week to show that they can take down G4 competition. We will see if the Jayhawks can do that on the road."
   ]
  },
  {
   "cell_type": "markdown",
   "id": "aa1e7581-9b17-479e-ba7d-1e315550ec5a",
   "metadata": {},
   "source": [
    "## 24. Kansas State Wildcats ##"
   ]
  },
  {
   "cell_type": "markdown",
   "id": "80f3fc1a-f302-445c-8ac5-60760113f148",
   "metadata": {},
   "source": [
    "Week 2 - @ Tulane\n",
    "\n",
    "The Wildcats come in at 24 again after taking down UT Martin this past week. With that being said, the Wildcats will have to travel on the road to New Orleans to take on G5 powerhouse Tulane in an interesting top 25 team on the road against a G5 school."
   ]
  },
  {
   "cell_type": "markdown",
   "id": "fcb2ac52-b8d8-493c-9f53-fe5e701549e3",
   "metadata": {},
   "source": [
    "## 25. Texas Tech Red Raiders ##"
   ]
  },
  {
   "cell_type": "markdown",
   "id": "4e68282f-6cd7-4519-b6d8-88d5550e4daf",
   "metadata": {},
   "source": [
    "Week 2 - @ Washington State\n",
    "\n",
    "The Red Raiders will stay in my top 25 even after the week 1 scare against Abilene Chistian. They pulled out a W and to me that matters more than how you got there. With that being said, the Red Raiders have Wazzu on the road this week in a match up in see if Texas Tech deserves to be in the Top 25 still."
   ]
  },
  {
   "cell_type": "markdown",
   "id": "eb6e1b5c-1fbe-49e8-b774-63473002505b",
   "metadata": {},
   "source": [
    "## Next 10 ##"
   ]
  },
  {
   "cell_type": "markdown",
   "id": "a38c5835-0109-493c-b3d4-8468a595d742",
   "metadata": {},
   "source": [
    "Here are the next 10 teams that I believe are knocking on the door to the Top 25.\n",
    "\n",
    "Kentucky, Arizona, Florida, Utah, NC State, Florida State, South Carolina, UCF, SMU, Wisconsin"
   ]
  },
  {
   "cell_type": "markdown",
   "id": "d5c8e57a-2b6c-4c2d-bcbe-0d40b3eb3899",
   "metadata": {},
   "source": [
    "## G5 Top 25 ##"
   ]
  },
  {
   "cell_type": "markdown",
   "id": "7cfc8589-7a90-47aa-a245-997bc2c4af92",
   "metadata": {},
   "source": [
    "Here are my G5 top 25 rankings\n",
    "\n",
    "1. Boise State\n",
    "\n",
    "2. James Madison\n",
    "\n",
    "3. Memphis\n",
    "\n",
    "4. UTSA\n",
    "\n",
    "5. Tulane\n",
    "\n",
    "6. UNLV\n",
    "\n",
    "7. Coastal Carolina\n",
    "\n",
    "8. App State\n",
    "\n",
    "9. Liberty\n",
    "\n",
    "10. Fresno State\n",
    "\n",
    "11. North Texas\n",
    "\n",
    "12. Toledo\n",
    "\n",
    "13. Texas State\n",
    "\n",
    "14. USF\n",
    "\n",
    "15. Troy\n",
    "\n",
    "16. Marshall\n",
    "\n",
    "17. FAU\n",
    "\n",
    "18. San Diego State\n",
    "\n",
    "19. San Jose State\n",
    "\n",
    "20. Miami (OH)\n",
    "\n",
    "21. East Carolina\n",
    "\n",
    "22. Western Kentucky\n",
    "\n",
    "23. Air Force\n",
    "\n",
    "24. Louisiana\n",
    "\n",
    "25. South Alabama"
   ]
  }
 ],
 "metadata": {
  "kernelspec": {
   "display_name": "Python 3 (ipykernel)",
   "language": "python",
   "name": "python3"
  },
  "language_info": {
   "codemirror_mode": {
    "name": "ipython",
    "version": 3
   },
   "file_extension": ".py",
   "mimetype": "text/x-python",
   "name": "python",
   "nbconvert_exporter": "python",
   "pygments_lexer": "ipython3",
   "version": "3.10.12"
  }
 },
 "nbformat": 4,
 "nbformat_minor": 5
}
