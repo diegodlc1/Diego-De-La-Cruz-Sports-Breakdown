{
 "cells": [
  {
   "cell_type": "markdown",
   "id": "305218ed-9b0c-4514-848a-f446ff4a3e3d",
   "metadata": {},
   "source": [
    "# Week 10 Top 25 ##"
   ]
  },
  {
   "cell_type": "markdown",
   "id": "bb22c2ac-d9f0-47dd-a575-a3b0281dcc83",
   "metadata": {},
   "source": [
    "Here is my Week 10 Top 25."
   ]
  },
  {
   "cell_type": "markdown",
   "id": "386b200c-cf5c-4a1f-885d-4a994c8781a5",
   "metadata": {},
   "source": [
    "## Top 25 ##"
   ]
  },
  {
   "cell_type": "markdown",
   "id": "57d9ede2-7d6f-48c8-a1d6-5dae2d4ecdf3",
   "metadata": {},
   "source": [
    "1. Oregon Ducks (8-0)\n",
    "\n",
    "2. Penn State Nittany Lions (7-0)\n",
    "\n",
    "3. Texas A&M Aggies (7-1)\n",
    "\n",
    "4. Ohio State Buckeyes (6-1)\n",
    "\n",
    "5. Miami (FL) Hurricanes (8-0)\n",
    "\n",
    "6. Georgia Bulldogs (6-1)\n",
    "\n",
    "7. Clemson Tigers (6-1)\n",
    "\n",
    "8. Tennessee Volunteers (6-1)\n",
    "\n",
    "9. Texas Longhorns (7-1)\n",
    "\n",
    "10. Kansas State Wildcats (7-1)\n",
    "\n",
    "11. Notre Dame Fighting Irish (7-1)\n",
    "\n",
    "12. LSU Tigers (6-2)\n",
    "\n",
    "13. Iowa State Cyclones (7-0)\n",
    "\n",
    "14. Alabama Crimson Tide (6-2)\n",
    "\n",
    "15. SMU Mustangs (7-1)\n",
    "\n",
    "16. Boise State Broncos (6-1)\n",
    "\n",
    "17. Memphis Tigers (7-1)\n",
    "\n",
    "18. Pittsburgh Panthers (7-0)\n",
    "\n",
    "19. Tulane Green Wave (6-2)\n",
    "\n",
    "20. Michigan Wolverines (5-3)\n",
    "\n",
    "21. Florida Gators (4-3)\n",
    "\n",
    "22. TCU Horned Frogs (5-3)\n",
    "\n",
    "23. Wisconsin Badgers (5-3)\n",
    "\n",
    "24. Illinois Fighting Illini (6-2)\n",
    "\n",
    "25. Ole Miss Rebels (6-2)"
   ]
  },
  {
   "cell_type": "markdown",
   "id": "079fcf45-dea5-40d6-b4b3-1c0a7e2fdc00",
   "metadata": {},
   "source": [
    "## Next 10 ##"
   ]
  },
  {
   "cell_type": "markdown",
   "id": "4f8d00a6-f380-4e5a-9eff-c9e0b3694b5b",
   "metadata": {},
   "source": [
    "Here are the next 10 teams\n",
    "\n",
    "Louisville Cardinals, Indiana Hoosiers, BYU Cougars, Missouri Tigers, South Carolina Gamecocks, Texas Tech Red Raiders, UNLV Rebels, Colorado Buffalos, Arkansas Razorbacks, Duke Blue Devils"
   ]
  },
  {
   "cell_type": "markdown",
   "id": "e948e80f-1ecc-46bd-93c3-8f19251c5e2e",
   "metadata": {},
   "source": [
    "## G5 Top 25 ##"
   ]
  },
  {
   "cell_type": "markdown",
   "id": "362d7904-b9ba-487a-889a-ad62c2c3253a",
   "metadata": {},
   "source": [
    "Here is the G5 Top 25."
   ]
  },
  {
   "cell_type": "markdown",
   "id": "e7ccf2ab-90b2-4ef9-aa0d-3f369ca3c8a4",
   "metadata": {},
   "source": [
    "1. Boise State Broncos (6-1)\n",
    "\n",
    "2. Memphis Tigers (7-1)\n",
    "\n",
    "3. Tulane Green Wave (6-2)\n",
    "\n",
    "4. UNLV Rebels (6-2)\n",
    "\n",
    "5. Louisiana Ragin Cajun (6-1)\n",
    "\n",
    "6. James Madison Dukes (6-2)\n",
    "\n",
    "7. Ohio Bobcats (5-3)\n",
    "\n",
    "8. Fresno State Bulldogs (5-3)\n",
    "\n",
    "9. South Alabama Jaguars (4-4)\n",
    "\n",
    "10. Liberty Flames (5-1)\n",
    "\n",
    "11. Miami (OH) Redhawks (4-4)\n",
    "\n",
    "12. Western Kentucky Hilltoppers (5-2)\n",
    "\n",
    "13. Old Dominion Monarchs (4-4)\n",
    "\n",
    "14. North Texas Mean Green (5-3)\n",
    "\n",
    "15. Georgia Southern Eagles (5-3)\n",
    "\n",
    "16. Texas State Bobcats (4-3)\n",
    "\n",
    "17. Army Black Knights (7-0)\n",
    "\n",
    "18. Marshall Thundering Herd (4-3)\n",
    "\n",
    "19. Arkansas State Red Wolves (5-3)\n",
    "\n",
    "20. San Diego State Aztecs (3-4)\n",
    "\n",
    "21. UL Monroe Warhawks (5-2)\n",
    "\n",
    "22. Western Michigan Broncos (5-3)\n",
    "\n",
    "23. Toledo Rockets (5-3)\n",
    "\n",
    "24. San Jose State Spartans (5-3)\n",
    "\n",
    "25. Coastal Carolina Chanticleers (4-3)"
   ]
  }
 ],
 "metadata": {
  "kernelspec": {
   "display_name": "Python 3 (ipykernel)",
   "language": "python",
   "name": "python3"
  },
  "language_info": {
   "codemirror_mode": {
    "name": "ipython",
    "version": 3
   },
   "file_extension": ".py",
   "mimetype": "text/x-python",
   "name": "python",
   "nbconvert_exporter": "python",
   "pygments_lexer": "ipython3",
   "version": "3.10.12"
  }
 },
 "nbformat": 4,
 "nbformat_minor": 5
}
