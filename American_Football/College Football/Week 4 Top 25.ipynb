{
 "cells": [
  {
   "cell_type": "markdown",
   "id": "b76e9db0-46a3-413a-bda6-63b905d2dedd",
   "metadata": {},
   "source": [
    "# Week 4 Top 25 #"
   ]
  },
  {
   "cell_type": "markdown",
   "id": "f80aa953-3d75-40df-ad8e-98a946190bf6",
   "metadata": {},
   "source": [
    "Coming in later than I wanted to this is my current top 25 for this season coming into Week 4."
   ]
  },
  {
   "cell_type": "markdown",
   "id": "1360b66d-a80d-4885-9ba6-e5d8c99e16e5",
   "metadata": {},
   "source": [
    "## Top 25 ##"
   ]
  },
  {
   "cell_type": "markdown",
   "id": "a05dc7f5-a44c-457c-b2da-6c2bcb1374d6",
   "metadata": {},
   "source": [
    "1. Georgia Bulldogs (3-0)\n",
    "\n",
    "2. Alabama Crimson Tide (3-0)\n",
    "\n",
    "3. Texas Longhorns (3-0)\n",
    "\n",
    "4. Ohio State Buckeyes (2-0)\n",
    "\n",
    "5. Oregon Ducks (3-0)\n",
    "\n",
    "6. Oklahoma Sooners (3-0)\n",
    "\n",
    "7. Penn State Nittany Lions (2-0)\n",
    "\n",
    "8. Kansas State Wildcats (3-0)\n",
    "\n",
    "9. Tennessee Volunteers (3-0)\n",
    "\n",
    "10. Missouri Tigers (3-0)\n",
    "\n",
    "11. USC Trojans (2-0)\n",
    "\n",
    "12. LSU Tigers (2-1)\n",
    "\n",
    "13. Ole Miss Rebels (3-0)\n",
    "\n",
    "14. Miami (FL) Hurricanes (3-0)\n",
    "\n",
    "15. Texas A&M Aggies (2-1)\n",
    "\n",
    "16. Michigan Wolverines (2-1)\n",
    "\n",
    "17. Notre Dame Fighting Irish (2-1)\n",
    "\n",
    "18. Clemson Tigers (1-1)\n",
    "\n",
    "19. North Carolina Tar Heels (3-0)\n",
    "\n",
    "20. UCF Knights (3-0)\n",
    "\n",
    "21. Memphis Tigers (3-0)\n",
    "\n",
    "22. California Golden Bears (3-0)\n",
    "\n",
    "23. Utah Utes (3-0)\n",
    "\n",
    "24. Louisville Cardinals (2-0)\n",
    "\n",
    "25. Texas Tech Red Raiders (2-1)"
   ]
  },
  {
   "cell_type": "markdown",
   "id": "9d400180-d410-4e27-834b-b0111e2c57b5",
   "metadata": {},
   "source": [
    "## Next 10 ##"
   ]
  },
  {
   "cell_type": "markdown",
   "id": "5dafcaa1-35cf-4834-97c1-a45064a97695",
   "metadata": {},
   "source": [
    "Here are my next 10 teams\n",
    "\n",
    "Auburn Tigers, Washington State Cougars, Washington Huskies, Nebraska Cornhuskers, TCU Horned Frogs, South Carolina Gamecocks, Arizona Wildcats, Florida Gators, Florida State Seminoles, Kentucky Wildcats"
   ]
  },
  {
   "cell_type": "markdown",
   "id": "4735190f-98fd-4a4d-ad37-f9cd117f8ccd",
   "metadata": {},
   "source": [
    "## G5 Top 25 ##"
   ]
  },
  {
   "cell_type": "markdown",
   "id": "60ff987d-813a-4169-a7cf-3240f6efbf2e",
   "metadata": {},
   "source": [
    "Here is my G5 Top 25\n",
    "\n",
    "1. Memphis Tigers (3-0)\n",
    "\n",
    "2. Boise State Broncos (1-1)\n",
    "\n",
    "3. James Madison Dukes (2-0)\n",
    "\n",
    "4. Tulane Green Wave (1-2)\n",
    "\n",
    "5. Texas State Bobcats (2-1)\n",
    "\n",
    "6. UNLV Rebels (3-0)\n",
    "\n",
    "7. App State Mountaineers (2-1)\n",
    "\n",
    "8. UTSA Roadrunners (1-2)\n",
    "\n",
    "9. Toledo Rockets (3-0)\n",
    "\n",
    "10. Coastal Carolina Chanticleers (3-0)\n",
    "\n",
    "11. Liberty Flames (3-0)\n",
    "\n",
    "12. Fresno State Bulldogs (2-1)\n",
    "\n",
    "13. San Jose State Spartans (3-0)\n",
    "\n",
    "14. North Texas Mean Green (2-1)\n",
    "\n",
    "15. USF Bulls (2-1)\n",
    "\n",
    "16. Ohio Bobcats (2-1)\n",
    "\n",
    "17. Marshall Thundering Herd (1-1)\n",
    "\n",
    "18. San Diego State (1-2)\n",
    "\n",
    "19. Northern Illinois Huskies (2-0)\n",
    "\n",
    "20. Georgia State Panthers (2-1)\n",
    "\n",
    "21. Miami (OH) Redhawks (0-2)\n",
    "\n",
    "22. Western Kentucky Hilltoppers (2-1)\n",
    "\n",
    "23. Louisiana Ragin Cajun (2-0)\n",
    "\n",
    "24. Troy Trojans (0-3)\n",
    "\n",
    "25. Arkansas State Red Wolves (2-1)"
   ]
  }
 ],
 "metadata": {
  "kernelspec": {
   "display_name": "Python 3 (ipykernel)",
   "language": "python",
   "name": "python3"
  },
  "language_info": {
   "codemirror_mode": {
    "name": "ipython",
    "version": 3
   },
   "file_extension": ".py",
   "mimetype": "text/x-python",
   "name": "python",
   "nbconvert_exporter": "python",
   "pygments_lexer": "ipython3",
   "version": "3.10.12"
  }
 },
 "nbformat": 4,
 "nbformat_minor": 5
}
