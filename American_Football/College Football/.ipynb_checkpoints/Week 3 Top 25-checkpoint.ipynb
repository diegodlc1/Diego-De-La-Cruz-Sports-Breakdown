{
 "cells": [
  {
   "cell_type": "markdown",
   "id": "41416366-90d4-4d46-8176-a71c5926287e",
   "metadata": {},
   "source": [
    "# My Week 3 Top 25 #"
   ]
  },
  {
   "cell_type": "markdown",
   "id": "089f8576-21d4-455d-87de-394ca46a0922",
   "metadata": {},
   "source": [
    "I'm now not going to include a short section describing the week for the team in the ranking. I'm studying for the LSAT coming in the next month so I want to really focus on that and don't have much time to add something of little substance."
   ]
  },
  {
   "cell_type": "markdown",
   "id": "71d80ed9-c17c-4043-922a-bd158caf746b",
   "metadata": {},
   "source": [
    "1. Georgia Bulldogs (2-0)\n",
    "\n",
    "2. Alabama Crimson Tide (2-0)\n",
    "\n",
    "3. Ohio State Buckeyes (2-0)\n",
    "\n",
    "4. Texas Longhorns (2-0)\n",
    "\n",
    "5. Penn State Nittany Lions (2-0)\n",
    "\n",
    "6. Oregon Ducks (2-0)\n",
    "\n",
    "7. Oklahoma Sooners (2-0)\n",
    "\n",
    "8. Tennessee Volunteers (2-0)\n",
    "\n",
    "9. Kansas State Wildcats (2-0)\n",
    "\n",
    "10. USC Trojans (2-0)\n",
    "\n",
    "11. Clemson Tigers (1-1)\n",
    "\n",
    "12. Missouri Tigers (2-0)\n",
    "\n",
    "13. Miami (FL) Hurricanes (2-0)\n",
    "\n",
    "14. Ole Miss Rebels (2-0)\n",
    "\n",
    "15. LSU Tigers (1-1)\n",
    "\n",
    "16. Texas A&M Aggies (1-1)\n",
    "\n",
    "17. Michigan Wolverines (1-1)\n",
    "\n",
    "18. Notre Dame Fighting Irish (1-1)\n",
    "\n",
    "19. North Carolina Tar Heels (2-0)\n",
    "\n",
    "20. Washington Huskies (2-0)\n",
    "\n",
    "21. TCU Horned Frogs (2-0)\n",
    "\n",
    "22. Louisville Cardinals (2-0)\n",
    "\n",
    "23. Utah Utes (2-0)\n",
    "\n",
    "24. California Golden Bears (2-0)\n",
    "\n",
    "25. South Carolina Gamecocks (2-0)"
   ]
  },
  {
   "cell_type": "markdown",
   "id": "2dc58063-df21-41b8-a781-c0931fa76c1a",
   "metadata": {},
   "source": [
    "# G5 Top 25"
   ]
  },
  {
   "cell_type": "markdown",
   "id": "cda42edc-a5c6-4136-a710-e0909b890dae",
   "metadata": {},
   "source": [
    "1. Boise State Broncos (1-1)\n",
    "\n",
    "2. Memphis Tigers (2-0)\n",
    "\n",
    "3. James Madison Dukes (2-0)\n",
    "\n",
    "4. Tulane Green Waves (1-1)\n",
    "\n",
    "5. Texas State Bobcats (2-0)\n",
    "\n",
    "6. UTSA Roadrunners (1-1)\n",
    "\n",
    "7. UNLV Rebels (2-0)\n",
    "\n",
    "8. Coastal Carolina (2-0)\n",
    "\n",
    "9. Liberty Flames (2-0)\n",
    "\n",
    "10. App State Mountaineers (1-1)\n",
    "\n",
    "11. Toledo Rockets (2-0)\n",
    "\n",
    "12. Fresno State Bulldogs (1-1)\n",
    "\n",
    "13. North Texas Mean Green (2-0)\n",
    "\n",
    "14. San Jose State Spartans (2-0)\n",
    "\n",
    "15. USF Bulls (1-1)\n",
    "\n",
    "16. Ohio Bobcats (1-1)\n",
    "\n",
    "17. Marshall Thundering Herd (1-1)\n",
    "\n",
    "18. San Diego State Aztecs (1-1)\n",
    "\n",
    "19. Northern Illinois Huskies (2-0)\n",
    "\n",
    "20. East Carolina Pirates (2-0)\n",
    "\n",
    "21. Miami (OH) Redhawks (0-1)\n",
    "\n",
    "22. Western Kentucky Hilltoppers (1-1)\n",
    "\n",
    "23. Louisiana Ragin Cajun (2-0)\n",
    "\n",
    "24. Troy Trojans (0-2)\n",
    "\n",
    "25. Arkansas State Red Wolves (2-0)"
   ]
  }
 ],
 "metadata": {
  "kernelspec": {
   "display_name": "Python 3 (ipykernel)",
   "language": "python",
   "name": "python3"
  },
  "language_info": {
   "codemirror_mode": {
    "name": "ipython",
    "version": 3
   },
   "file_extension": ".py",
   "mimetype": "text/x-python",
   "name": "python",
   "nbconvert_exporter": "python",
   "pygments_lexer": "ipython3",
   "version": "3.10.12"
  }
 },
 "nbformat": 4,
 "nbformat_minor": 5
}
