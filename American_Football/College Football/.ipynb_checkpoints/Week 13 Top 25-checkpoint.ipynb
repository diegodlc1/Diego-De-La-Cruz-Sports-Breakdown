{
 "cells": [
  {
   "cell_type": "markdown",
   "id": "f3b44f30-e7a8-4d94-bd74-a6864f120e64",
   "metadata": {},
   "source": [
    "# Week 13 Top 25 #"
   ]
  },
  {
   "cell_type": "markdown",
   "id": "037ac2b7-755c-497e-b0bb-ad3d2aacd955",
   "metadata": {},
   "source": [
    "Here is my Week 13 top 25."
   ]
  },
  {
   "cell_type": "markdown",
   "id": "9324fcd5-829e-401d-ab1e-f0b97f10e62e",
   "metadata": {},
   "source": [
    "## Top 25 ##"
   ]
  },
  {
   "cell_type": "markdown",
   "id": "ee79c85e-290f-478c-a19f-820ea6d1ecb8",
   "metadata": {},
   "source": [
    "1. Oregon Ducks (11-0)\n",
    "\n",
    "2. Ohio State Buckeyes (9-1)\n",
    "\n",
    "3. Penn State Nittany Lions (9-1)\n",
    "\n",
    "4. SMU Mustangs (9-1)\n",
    "\n",
    "5. Georgia Bulldogs (8-2)\n",
    "\n",
    "6. Ole Miss Rebels (8-2)\n",
    "\n",
    "7. Texas Longhorns (9-1)\n",
    "\n",
    "8. Notre Dame Fighting Irish (9-1)\n",
    "\n",
    "9. Clemson Tigers (8-2)\n",
    "\n",
    "10. Texas A&M Aggies (8-2)\n",
    "\n",
    "11. Alabama Crimson Tide (8-2)\n",
    "\n",
    "12. Tennessee Volunteers (8-2)\n",
    "\n",
    "13. Miami (FL) Hurricanes (9-1)\n",
    "\n",
    "14. Boise State Broncos (9-1)\n",
    "\n",
    "15. South Carolina Gamecocks (7-3)\n",
    "\n",
    "16. Colorado Buffalos (8-2)\n",
    "\n",
    "17. Indiana Hoosiers (10-0)\n",
    "\n",
    "18. Louisville Cardinals (6-4)\n",
    "\n",
    "19. Tulane Green Wave (9-2)\n",
    "\n",
    "20. UNLV Rebels (8-2)\n",
    "\n",
    "21. Florida Gators (5-5)\n",
    "\n",
    "22. TCU Horned Frogs (6-4)\n",
    "\n",
    "23. Iowa State Cyclones (8-2)\n",
    "\n",
    "24. Illinois Fighting Illini (7-3)\n",
    "\n",
    "25. Memphis Tigers (9-2)"
   ]
  },
  {
   "cell_type": "markdown",
   "id": "a46be1a8-a9bc-46d1-8462-8d8135459322",
   "metadata": {},
   "source": [
    "## Next 10 Out ##"
   ]
  },
  {
   "cell_type": "markdown",
   "id": "eeeec560-1c49-4830-a181-618cb2ff13c1",
   "metadata": {},
   "source": [
    "Missouri Tigers, Texas Tech Red Raiders, Duke Blue Devils, Kansas State Wildcats, LSU Tigers, James Madison Dukes, North Carolina Tar Heels, Arizona State Sun Devils, Michigan Wolverines, BYU Cougars"
   ]
  },
  {
   "cell_type": "markdown",
   "id": "4633de25-9ba7-4ad3-ad98-c81e4adc35ec",
   "metadata": {},
   "source": [
    "## G5 Top 25 ##"
   ]
  },
  {
   "cell_type": "markdown",
   "id": "540e9ae5-1c42-44da-a256-e4263bb2b65d",
   "metadata": {},
   "source": [
    "1. Boise State Broncos (9-1)\n",
    "\n",
    "2. Tulane Green Wave (9-2)\n",
    "\n",
    "3. UNLV Rebels (8-2)\n",
    "\n",
    "4. Memphis Tigers (9-2)\n",
    "\n",
    "5. James Madison Dukes (8-2)\n",
    "\n",
    "6. Louisiana Ragin Cajun (8-2)\n",
    "\n",
    "7. Ohio Bobcats (7-3)\n",
    "\n",
    "8. South Alabama Jaguars (5-5)\n",
    "\n",
    "9. Miami (OH) Redhawks (6-4)\n",
    "\n",
    "10. Marshall Thundering Herd (7-3)\n",
    "\n",
    "11. Army Black Knights (9-0)\n",
    "\n",
    "12. Western Kentucky Hilltoppers (7-3)\n",
    "\n",
    "13. Liberty Flames (7-2)\n",
    "\n",
    "14. Georgia Southern Eagles (6-4)\n",
    "\n",
    "15. Texas State Bobcats (6-4)\n",
    "\n",
    "16. UTSA Roadrunners (5-5)\n",
    "\n",
    "17. Bowling Green Falcons (6-4)\n",
    "\n",
    "18. Toledo Rockets (7-3)\n",
    "\n",
    "19. Jacksonville State Gamecocks (7-3)\n",
    "\n",
    "20. Arkansas State Red Wolves (6-4)\n",
    "\n",
    "21. Fresno State Bulldogs (5-5)\n",
    "\n",
    "22. San Jose State Spartans (6-4)\n",
    "\n",
    "23. Colorado State Rams (7-3)\n",
    "\n",
    "24. Old Dominion Monarchs (4-6)\n",
    "\n",
    "25. North Texas Mean Green (5-5)"
   ]
  }
 ],
 "metadata": {
  "kernelspec": {
   "display_name": "Python 3 (ipykernel)",
   "language": "python",
   "name": "python3"
  },
  "language_info": {
   "codemirror_mode": {
    "name": "ipython",
    "version": 3
   },
   "file_extension": ".py",
   "mimetype": "text/x-python",
   "name": "python",
   "nbconvert_exporter": "python",
   "pygments_lexer": "ipython3",
   "version": "3.10.12"
  }
 },
 "nbformat": 4,
 "nbformat_minor": 5
}
