{
 "cells": [
  {
   "cell_type": "markdown",
   "id": "cfa6a61c-d702-49a1-b0a8-1fddef559b32",
   "metadata": {},
   "source": [
    "# Week 5 Top 25 #"
   ]
  },
  {
   "cell_type": "markdown",
   "id": "b6507372-3719-499b-8309-846f138d801f",
   "metadata": {},
   "source": [
    "Here are my Top 25 teams for Week 5"
   ]
  },
  {
   "cell_type": "markdown",
   "id": "049381ac-0daf-4a59-907e-cb0cf57133e9",
   "metadata": {},
   "source": [
    "## Top 25 ##"
   ]
  },
  {
   "cell_type": "markdown",
   "id": "cdff45c1-5193-4ab6-916f-d3abf920497b",
   "metadata": {},
   "source": [
    "1. Georgia Bulldogs (3-0)\n",
    "\n",
    "2. Alabama Crimson Tide (3-0)\n",
    "\n",
    "3. Texas Longhorns (4-0)\n",
    "\n",
    "4. Ohio State Buckeyes (3-0)\n",
    "\n",
    "5. Tennessee Volunteers (4-0)\n",
    "\n",
    "6. Oregon Ducks (3-0)\n",
    "\n",
    "7. Penn State Nittany Lions (3-0)\n",
    "\n",
    "8. Missouri Tigers (4-0)\n",
    "\n",
    "9. Michigan Wolverines (3-1)\n",
    "\n",
    "10. LSU Tigers (3-1)\n",
    "\n",
    "11. Miami (FL) Hurricanes (4-0)\n",
    "\n",
    "12. Clemson Tigers (2-1)\n",
    "\n",
    "13. Ole Miss Rebels (4-0)\n",
    "\n",
    "14. Oklahoma Sooners (3-1)\n",
    "\n",
    "15. Texas A&M Aggies (3-1)\n",
    "\n",
    "16. Notre Dame Fighting Irish (3-1)\n",
    "\n",
    "17. Kansas Wildcats (3-1)\n",
    "\n",
    "18. Utah Utes (4-0)\n",
    "\n",
    "19. USC Trojans (2-1)\n",
    "\n",
    "20. UCF Knights (3-0)\n",
    "\n",
    "21. Louisville Cardinals (3-0)\n",
    "\n",
    "22. Texas Tech Red Raiders (3-1)\n",
    "\n",
    "23. Florida State Seminoles (1-3)\n",
    "\n",
    "24. Washington Huskies (3-1)\n",
    "\n",
    "25. Washington State Cougars (4-0)"
   ]
  },
  {
   "cell_type": "markdown",
   "id": "0044ff82-8403-4d05-b54d-b6b60e91f168",
   "metadata": {},
   "source": [
    "## Next 10 ##"
   ]
  },
  {
   "cell_type": "markdown",
   "id": "42014337-f9fd-4146-b26f-79cf2d6cff01",
   "metadata": {},
   "source": [
    "Here are my next 10\n",
    "\n",
    "Florida Gators, Illinois Fighting Illini, Kentucky Wildcats, North Carolina Tar Heels, SMU Mustangs, South Carolina Gamecocks, Arizona Wildcats, Memphis Tigers, California Golden Bears, Auburn Tigers"
   ]
  },
  {
   "cell_type": "markdown",
   "id": "dba3a204-0b3d-4ca7-abf2-ad807b8e8c9b",
   "metadata": {},
   "source": [
    "## G5 Top 25 ##"
   ]
  },
  {
   "cell_type": "markdown",
   "id": "1bad816e-3cc9-4045-a9eb-a7668d7dda7b",
   "metadata": {},
   "source": [
    "1. Memphis Tigers (3-1)\n",
    "\n",
    "2. Boise State Broncos (2-1)\n",
    "\n",
    "3. James Madison Dukes (3-0)\n",
    "\n",
    "4. Tulane Green Waves (2-2)\n",
    "\n",
    "5. Liberty Flames (4-0)\n",
    "\n",
    "6. Texas State Bobcats (2-1)\n",
    "\n",
    "7. UNLV Rebels (3-0)\n",
    "\n",
    "8. UTSA Roadrunners (2-2)\n",
    "\n",
    "9. Coastal Carolina Chanticleers (3-1)\n",
    "\n",
    "10. Western Kentucky Hilltoppers (3-1)\n",
    "\n",
    "11. Fresno State Bulldogs (3-1)\n",
    "\n",
    "12. South Alabama Jaguars (2-2)\n",
    "\n",
    "13. App State Mountaineers (2-2)\n",
    "\n",
    "14. Toledo Rockets (3-1)\n",
    "\n",
    "15. San Jose State Spartans (3-1)\n",
    "\n",
    "16. North Texas Mean Green (3-1)\n",
    "\n",
    "17. USF Bulls (2-2)\n",
    "\n",
    "18. Ohio Bobcats (2-2)\n",
    "\n",
    "19. Marshall Thundering Herd (1-2)\n",
    "\n",
    "20. San Diego State Aztecs (1-2)\n",
    "\n",
    "21. Army Black Knights (3-0)\n",
    "\n",
    "22. Georgia State Panthers (2-1)\n",
    "\n",
    "23. Miami (OH) Redhawks (0-3)\n",
    "\n",
    "24. Tulsa Golden Hurricanes (2-2)\n",
    "\n",
    "25. Troy Trojans (1-3)"
   ]
  }
 ],
 "metadata": {
  "kernelspec": {
   "display_name": "Python 3 (ipykernel)",
   "language": "python",
   "name": "python3"
  },
  "language_info": {
   "codemirror_mode": {
    "name": "ipython",
    "version": 3
   },
   "file_extension": ".py",
   "mimetype": "text/x-python",
   "name": "python",
   "nbconvert_exporter": "python",
   "pygments_lexer": "ipython3",
   "version": "3.10.12"
  }
 },
 "nbformat": 4,
 "nbformat_minor": 5
}
