{
 "cells": [
  {
   "cell_type": "markdown",
   "id": "b7d48f05-3196-4cc1-9010-bd00f32a2354",
   "metadata": {},
   "source": [
    "# Week 9 Top 25 #"
   ]
  },
  {
   "cell_type": "markdown",
   "id": "270ccf04-f677-4ce6-b99d-461645f02c89",
   "metadata": {},
   "source": [
    "Here is my Week 9 Top 25 teams for the next week."
   ]
  },
  {
   "cell_type": "markdown",
   "id": "36cf292e-b7d1-4fa0-8d23-070fb12bbf4f",
   "metadata": {},
   "source": [
    "## My Top 25 ##"
   ]
  },
  {
   "cell_type": "markdown",
   "id": "c1148ef8-a27b-4801-97ab-81f2361e735b",
   "metadata": {},
   "source": [
    "1. Oregon Ducks (7-0)\n",
    "\n",
    "2. Penn State Nittany Lions (6-0)\n",
    "\n",
    "3. LSU Tigers (6-1)\n",
    "\n",
    "4. Texas A&M Aggies (6-1)\n",
    "\n",
    "5. Georgia Bulldogs (6-1)\n",
    "\n",
    "6. Miami (FL) Hurricanes (7-0)\n",
    "\n",
    "7. Clemson Tigers (6-1)\n",
    "\n",
    "8. Tennessee Volunteers (6-1)\n",
    "\n",
    "9. Ohio State Buckeyes (5-1)\n",
    "\n",
    "10. Texas Longhorns (6-1)\n",
    "\n",
    "11. Notre Dame Fighting Irish (6-1)\n",
    "\n",
    "12. Kansas State Wildcats (6-1)\n",
    "\n",
    "13. Iowa State Cyclones (7-0)\n",
    "\n",
    "14. Wisconsin Badgers (5-2)\n",
    "\n",
    "15. Illinois Fighting Illini (6-1)\n",
    "\n",
    "16. SMU Mustangs (6-1)\n",
    "\n",
    "17. Memphis Tigers (6-1)\n",
    "\n",
    "18. Alabama Crimson Tide (5-2)\n",
    "\n",
    "19. Pittsburgh Panthers (6-0)\n",
    "\n",
    "20. Missouri Tigers (6-1)\n",
    "\n",
    "21. Florida Gators (4-3)\n",
    "\n",
    "22. Texas Tech Red Raiders (5-2)\n",
    "\n",
    "23. UNLV Rebels (6-1)\n",
    "\n",
    "24. Michigan Wolverines (4-3)\n",
    "\n",
    "25. Boise State Broncos (5-1)"
   ]
  },
  {
   "cell_type": "markdown",
   "id": "2a8d726f-f8df-4584-8c10-787f8fc8491c",
   "metadata": {},
   "source": [
    "## Next 10 up ##"
   ]
  },
  {
   "cell_type": "markdown",
   "id": "9a1f0342-163d-45f4-9a48-ead1064ca96e",
   "metadata": {},
   "source": [
    "Here are the next 10 teams I have.\n",
    "\n",
    "Duke Blue Devils, Washington Huskies, Tulane Green Wave, Ole Miss Rebels, South Carolina Gamecocks, Oklahoma Sooners, Louisville Cardinals, BYU Cougars, TCU Horned Frogs, Kentucky Wildcats"
   ]
  },
  {
   "cell_type": "markdown",
   "id": "bf486cb9-f7d7-42d8-920b-d9e60d886f8a",
   "metadata": {},
   "source": [
    "## G5 Top 25 ##"
   ]
  },
  {
   "cell_type": "markdown",
   "id": "32620a92-777d-4f2b-97af-c2d8890943e9",
   "metadata": {},
   "source": [
    "1. Memphis Tigers (6-1)\n",
    "\n",
    "2. UNLV Rebels (6-1)\n",
    "\n",
    "3. Boise State Broncos (5-1)\n",
    "\n",
    "4. Tulane Green Wave (5-2)\n",
    "\n",
    "5. Louisiana Ragin Cajun (6-1)\n",
    "\n",
    "6. James Madison Dukes (5-2)\n",
    "\n",
    "7. Liberty Flames (5-0)\n",
    "\n",
    "8. Ohio Bobcats (4-3)\n",
    "\n",
    "9. North Texas Mean Green (5-2)\n",
    "\n",
    "10. Georgia Southern Eagles (5-2)\n",
    "\n",
    "11. Western Kentucky Hilltoppers (5-2)\n",
    "\n",
    "12. Texas State Bobcats (4-3)\n",
    "\n",
    "13. UL Monroe Warhawks (5-1)\n",
    "\n",
    "14. Army Black Knights (7-0)\n",
    "\n",
    "15. Toledo Rockets (5-2)\n",
    "\n",
    "16. Marshall Thundering Herd (4-3)\n",
    "\n",
    "17. San Jose State Spartans (5-2)\n",
    "\n",
    "18. Miami (OH) Redhawks (3-4)\n",
    "\n",
    "19. San Diego State Aztecs (3-3)\n",
    "\n",
    "20. Fresno State Bulldogs (4-3)\n",
    "\n",
    "21. South Alabama Jaguars (3-4)\n",
    "\n",
    "22. UTSA Roadrunners (3-4)\n",
    "\n",
    "23. Coastal Carolina Chanticleers (4-3)\n",
    "\n",
    "24. USF Bulls (3-4)\n",
    "\n",
    "25. Arkansas State Red Wolves (4-3)"
   ]
  }
 ],
 "metadata": {
  "kernelspec": {
   "display_name": "Python 3 (ipykernel)",
   "language": "python",
   "name": "python3"
  },
  "language_info": {
   "codemirror_mode": {
    "name": "ipython",
    "version": 3
   },
   "file_extension": ".py",
   "mimetype": "text/x-python",
   "name": "python",
   "nbconvert_exporter": "python",
   "pygments_lexer": "ipython3",
   "version": "3.10.12"
  }
 },
 "nbformat": 4,
 "nbformat_minor": 5
}
