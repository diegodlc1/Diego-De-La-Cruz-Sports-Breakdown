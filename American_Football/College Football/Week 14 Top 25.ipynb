{
 "cells": [
  {
   "cell_type": "markdown",
   "id": "33191ad5-0c62-40e7-9b04-e8ce9c982901",
   "metadata": {},
   "source": [
    "# Week 14 Top 25 #"
   ]
  },
  {
   "cell_type": "markdown",
   "id": "af9826ca-ac4c-4e66-a530-be5a0b869ec3",
   "metadata": {},
   "source": [
    "Here is my Week 14 Top 25."
   ]
  },
  {
   "cell_type": "markdown",
   "id": "fe1842e8-29d4-4c3f-a037-1070bb213906",
   "metadata": {},
   "source": [
    "## Top 25 ##"
   ]
  },
  {
   "cell_type": "markdown",
   "id": "e1e81233-2bf1-45d8-b6d3-aa4ff710985d",
   "metadata": {},
   "source": [
    "1. Oregon Ducks (11-0)\n",
    "\n",
    "2. Ohio State Buckeyes (10-1)\n",
    "\n",
    "3. Penn State Nittany Lions (10-1)\n",
    "\n",
    "4. SMU Mustangs (10-1)\n",
    "\n",
    "5. Georgia Bulldogs (9-2)\n",
    "\n",
    "6. Texas Longhorns (10-1)\n",
    "\n",
    "7. Notre Dame Fighting Irish (10-1)\n",
    "\n",
    "8. Florida Gators (6-5)\n",
    "\n",
    "9. Clemson Tigers (9-2)\n",
    "\n",
    "10. Louisville Cardinals (7-4)\n",
    "\n",
    "11. Miami (FL) Hurricanes (10-1)\n",
    "\n",
    "12. Tennessee Volunteers (9-2)\n",
    "\n",
    "13. Ole Miss Rebels (8-3)\n",
    "\n",
    "14. Boise State Broncos (10-1)\n",
    "\n",
    "15. South Carolina Gamecocks (8-3)\n",
    "\n",
    "16. UNLV Rebels (9-2)\n",
    "\n",
    "17. Illinois Fighting Illini (8-3)\n",
    "\n",
    "18. TCU Horned Frogs (7-4)\n",
    "\n",
    "19. Tulane Green Wave (9-2)\n",
    "\n",
    "20. Alabama Crimson Tide (8-3)\n",
    "\n",
    "21. Texas A&M Aggies (8-3)\n",
    "\n",
    "22. Iowa State Cyclones (9-2)\n",
    "\n",
    "23. Missouri Tigers (8-3)\n",
    "\n",
    "24. Texas Tech Red Raiders (7-4)\n",
    "\n",
    "25. Memphis Tigers (9-2)"
   ]
  },
  {
   "cell_type": "markdown",
   "id": "19147513-3fcf-4415-aff3-7fd938eb54d3",
   "metadata": {},
   "source": [
    "## Next 10 Out ##"
   ]
  },
  {
   "cell_type": "markdown",
   "id": "5d70d995-a247-4f13-bb92-dba5ffbc7e2c",
   "metadata": {},
   "source": [
    "Here are the next 10\n",
    "\n",
    "Duke Blue Devils, Indiana Hoosiers, Kansas State Wildcats, LSU Tigers, Colorado Buffalos, Arizona State Sun Devils, Ohio Bobcats, Michigan Wolverines, Iowa Hawkeyes, Louisiana Ragin Cajun"
   ]
  },
  {
   "cell_type": "markdown",
   "id": "94b35ef5-938d-449f-9fdd-1e73559f7cad",
   "metadata": {},
   "source": [
    "## G5 Top 25 ##"
   ]
  },
  {
   "cell_type": "markdown",
   "id": "f3fe71b4-5d24-4613-ad79-5573d99f8d7d",
   "metadata": {},
   "source": [
    "1. Boise State Broncos (10-1)\n",
    "\n",
    "2. UNLV Rebels (9-2)\n",
    "\n",
    "3. Tulane Green Wave (9-2)\n",
    "\n",
    "4. Memphis Tigers (9-2)\n",
    "\n",
    "5. Ohio Bobcats (8-3)\n",
    "\n",
    "6. Louisiana Ragin Cajun (9-2)\n",
    "\n",
    "7. James Madison Dukes (8-3)\n",
    "\n",
    "8. South Alabama Jaguars (6-5)\n",
    "\n",
    "9. Marshall Thundering Herd (8-3)\n",
    "\n",
    "10. Miami (OH) Redhawks (7-4)\n",
    "\n",
    "11. Liberty Flames (8-2)\n",
    "\n",
    "12. Army Black Knights (9-1)\n",
    "\n",
    "13. Georgia Southern Eagles (7-4)\n",
    "\n",
    "14. Jacksonville State Gamecocks (8-3)\n",
    "\n",
    "15. UTSA Roadrunners (6-5)\n",
    "\n",
    "16. Fresno State Bulldogs (6-5)\n",
    "\n",
    "17. Bowling Green Falcons (7-4)\n",
    "\n",
    "18. Appalachian State Mountaineers (5-5)\n",
    "\n",
    "19. Western Kentucky Hilltoppers (7-4)\n",
    "\n",
    "20. Arkansas State Red Wolves (7-4)\n",
    "\n",
    "21. East Carolina Pirates (7-4)\n",
    "\n",
    "22. San Jose State Spartans (6-5)\n",
    "\n",
    "23. Texas State Bobcats (6-5)\n",
    "\n",
    "24. Toledo Rockets (7-4)\n",
    "\n",
    "25. USF Bulls (6-5)"
   ]
  }
 ],
 "metadata": {
  "kernelspec": {
   "display_name": "Python 3 (ipykernel)",
   "language": "python",
   "name": "python3"
  },
  "language_info": {
   "codemirror_mode": {
    "name": "ipython",
    "version": 3
   },
   "file_extension": ".py",
   "mimetype": "text/x-python",
   "name": "python",
   "nbconvert_exporter": "python",
   "pygments_lexer": "ipython3",
   "version": "3.10.12"
  }
 },
 "nbformat": 4,
 "nbformat_minor": 5
}
