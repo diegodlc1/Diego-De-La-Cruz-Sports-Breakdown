{
 "cells": [
  {
   "cell_type": "markdown",
   "id": "9160f9f2-7f7e-4af9-a977-fd9dad19e01b",
   "metadata": {},
   "source": [
    "# Week 7 Top 25 #"
   ]
  },
  {
   "cell_type": "markdown",
   "id": "0ac2ff54-6761-49bf-9c32-e07fe1a1ffa7",
   "metadata": {},
   "source": [
    "Here is my Week 7 Top 25."
   ]
  },
  {
   "cell_type": "markdown",
   "id": "6badddc6-7d0a-4e7b-8bfc-db01346ff900",
   "metadata": {},
   "source": [
    "## Top 25 ##"
   ]
  },
  {
   "cell_type": "markdown",
   "id": "6f28ca80-2412-496a-881d-e8fec95ed5db",
   "metadata": {},
   "source": [
    "1. Ohio State Buckeyes (5-0)\n",
    "\n",
    "2. Texas Longhorns (5-0)\n",
    "\n",
    "3. Penn State Nittany Lions (5-0)\n",
    "\n",
    "4. Oregon Ducks (5-0)\n",
    "\n",
    "5. Texas A&M Aggies (5-1)\n",
    "\n",
    "6. Miami (FL) Hurricanes (6-0)\n",
    "\n",
    "7. Georgia Bulldogs (4-1)\n",
    "\n",
    "8. Texas Tech Red Raiders (5-1)\n",
    "\n",
    "9. Clemson Tigers (4-1)\n",
    "\n",
    "10. Alabama Crimson Tide (4-1)\n",
    "\n",
    "11. LSU Tigers (4-1)\n",
    "\n",
    "12. Tennessee Volunteers (4-1)\n",
    "\n",
    "13. Oklahoma Sooners (4-1)\n",
    "\n",
    "14. Michigan Wolverines (4-2)\n",
    "\n",
    "15. Notre Dame Fighting Irish (4-1)\n",
    "\n",
    "16. Kansas State Wildcats (4-1)\n",
    "\n",
    "17. Kentucky Wildcats (3-2)\n",
    "\n",
    "18. SMU Mustangs (5-1)\n",
    "\n",
    "19. Washington Huskies (4-2)\n",
    "\n",
    "20. Ole Miss Rebels (5-1)\n",
    "\n",
    "21. Missouri Tigers (4-1)\n",
    "\n",
    "22. Iowa State Cyclones (5-0)\n",
    "\n",
    "23. Florida Gators (3-2)\n",
    "\n",
    "24. Memphis Tigers (4-1)\n",
    "\n",
    "25. Boise State Broncos (4-1)"
   ]
  },
  {
   "cell_type": "markdown",
   "id": "5242bcce-fa26-412d-9a87-3653ea48d123",
   "metadata": {},
   "source": [
    "## Next 10 ##"
   ]
  },
  {
   "cell_type": "markdown",
   "id": "5d9186e4-bc8f-415d-b2e4-94d6df23587a",
   "metadata": {},
   "source": [
    "Here are my next 10 teams\n",
    "\n",
    "USC Trojans, Utah Utes, Arkansas Razorbacks, Arizona Wildcats, Nebraska Cornhuskers, Wisconsin Badgers, Tulane Green Wave, Pittsburgh Panthers, West Virginia Mountaineers, Duke Blue Devils"
   ]
  },
  {
   "cell_type": "markdown",
   "id": "83b2820f-a40f-4e0a-8b7a-fce78ef03094",
   "metadata": {},
   "source": [
    "## G5 Top 25 ##"
   ]
  },
  {
   "cell_type": "markdown",
   "id": "d295d578-4ec7-4aaa-88f5-0e92fce2558e",
   "metadata": {},
   "source": [
    "Here is my G5 Top 25.\n",
    "\n",
    "1. Memphis Tigers (4-1)\n",
    "\n",
    "2. Boise State Broncos (4-1)\n",
    "\n",
    "3. Tulane Green Wave (4-2)\n",
    "\n",
    "4. UNLV Rebels (4-1)\n",
    "\n",
    "5. James Madison Dukes (4-1)\n",
    "\n",
    "6. Liberty Flames (4-0)\n",
    "\n",
    "7. North Texas Mean Green (4-1)\n",
    "\n",
    "8. Ohio Bobcats (3-2)\n",
    "\n",
    "9. Toledo Rockets (4-1)\n",
    "\n",
    "10. Texas State Bobcats (3-2)\n",
    "\n",
    "11. Coastal Carolina Chanticleers (4-1)\n",
    "\n",
    "12. Western Kentucky Hilltoppers (3-2)\n",
    "\n",
    "13. UTSA Roadrunners (2-3)\n",
    "\n",
    "14. Marshall Thundering Herd (3-2)\n",
    "\n",
    "15. San Jose State Spartans (4-1)\n",
    "\n",
    "16. UL Monroe Warhawks (4-1)\n",
    "\n",
    "17. Louisiana Ragin Cajun (4-1)\n",
    "\n",
    "18. Army Black Knights (5-0)\n",
    "\n",
    "19. Arkansas Red Wolves (3-2)\n",
    "\n",
    "20. Fresno State Bulldogs (3-2)\n",
    "\n",
    "21. South Alabama Jaguars (2-4)\n",
    "\n",
    "22. App State Mountaineers (2-3)\n",
    "\n",
    "23. East Carolina Pirates (3-3)\n",
    "\n",
    "24. Georgia Southern Eagles (3-2)\n",
    "\n",
    "25. USF Bulls (2-3)"
   ]
  }
 ],
 "metadata": {
  "kernelspec": {
   "display_name": "Python 3 (ipykernel)",
   "language": "python",
   "name": "python3"
  },
  "language_info": {
   "codemirror_mode": {
    "name": "ipython",
    "version": 3
   },
   "file_extension": ".py",
   "mimetype": "text/x-python",
   "name": "python",
   "nbconvert_exporter": "python",
   "pygments_lexer": "ipython3",
   "version": "3.10.12"
  }
 },
 "nbformat": 4,
 "nbformat_minor": 5
}
