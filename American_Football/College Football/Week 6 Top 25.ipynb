{
 "cells": [
  {
   "cell_type": "markdown",
   "id": "88e7faef-f1d8-4baa-801a-5d3ebc112b75",
   "metadata": {},
   "source": [
    "# Week 6 Top 25 #"
   ]
  },
  {
   "cell_type": "markdown",
   "id": "c3315121-9c12-49c2-980e-eeaac0b1db44",
   "metadata": {},
   "source": [
    "Super late this week but I have done my first LSAT this week and was preparing for that. I was also very busy the other days studying and such. I was hoping to do this before any games this week but I couldn't. I'm not going to take in account any results right now"
   ]
  },
  {
   "cell_type": "markdown",
   "id": "39e9f1a2-ed2a-44ab-b330-2b5e54be8c95",
   "metadata": {},
   "source": [
    "## Top 25 ##"
   ]
  },
  {
   "cell_type": "markdown",
   "id": "d4c2adcc-1972-419f-a555-de16bd9e17fa",
   "metadata": {},
   "source": [
    "1. Alabama Crimson Tide (4-0)\n",
    "\n",
    "2. Texas Longhorns (5-0)\n",
    "\n",
    "3. Ohio State Buckeyes (4-0)\n",
    "\n",
    "4. Penn State Nittany Lions (4-0)\n",
    "\n",
    "5. Oregon Ducks (4-0)\n",
    "\n",
    "6. Tennessee Volunteers (4-0)\n",
    "\n",
    "7. Michigan Wolverines (4-1)\n",
    "\n",
    "8. Georgia Bulldogs (3-1)\n",
    "\n",
    "9. LSU Tigers (4-1)\n",
    "\n",
    "10. Miami (FL) Hurricanes (5-0)\n",
    "\n",
    "11. Clemson Tigers (3-1)\n",
    "\n",
    "12. Missouri Tigers (4-0)\n",
    "\n",
    "13. Oklahoma Sooners (4-1)\n",
    "\n",
    "14. Texas A&M Aggies (4-1)\n",
    "\n",
    "15. Notre Dame Fighting Irish (4-1)\n",
    "\n",
    "16. Kansas State Wildcats (4-1)\n",
    "\n",
    "17. Kentucky Wildcats (3-2)\n",
    "\n",
    "18. USC Trojans (3-1)\n",
    "\n",
    "19. SMU Mustangs (4-1)\n",
    "\n",
    "20. Arizona Wildcats (3-1)\n",
    "\n",
    "21. Texas Tech Red Raiders (4-1)\n",
    "\n",
    "22. Ole Miss Rebels (4-1)\n",
    "\n",
    "23. Iowa State Cyclones (4-0)\n",
    "\n",
    "24. Memphis Tigers (4-1)\n",
    "\n",
    "25. Boise State Broncos (3-1)"
   ]
  },
  {
   "cell_type": "markdown",
   "id": "efb4d270-87a8-4da0-ab1a-9d650ac0def7",
   "metadata": {},
   "source": [
    "## Next 10 ##"
   ]
  },
  {
   "cell_type": "markdown",
   "id": "38376533-7550-4683-a073-698942753b7f",
   "metadata": {},
   "source": [
    "Here are the next 10\n",
    "\n",
    "Florida Gators, Utah Utes, Duke Blue Devils, UCF Knights, Louisville Cardinals, South Carolina Gamecocks, Florida State Seminoles, Washington Huskies, California Golden Bears, Nebraska Cornhuskers"
   ]
  },
  {
   "cell_type": "markdown",
   "id": "6329679e-f972-4b2e-b569-f1bff743acc3",
   "metadata": {},
   "source": [
    "## G5 Top 25 ##"
   ]
  },
  {
   "cell_type": "markdown",
   "id": "9465d374-efc3-4ce4-9c03-de458d814e00",
   "metadata": {},
   "source": [
    "Here are the G5 Top 25.\n",
    "\n",
    "1. Memphis Tigers (4-1)\n",
    "\n",
    "2. Boise State Broncos (3-1)\n",
    "\n",
    "3. Tulane Green Wave (3-2)\n",
    "\n",
    "4. James Madison Dukes (4-0)\n",
    "\n",
    "5. UNLV Rebels (4-0)\n",
    "\n",
    "6. Liberty Flames (4-0)\n",
    "\n",
    "7. North Texas Mean Green (4-1)\n",
    "\n",
    "8. Ohio Bobcats (3-2)\n",
    "\n",
    "9. Texas State Bobcats (2-2)\n",
    "\n",
    "10. Coastal Carolina Chanticleers (3-1)\n",
    "\n",
    "11. Western Kentucky Hilltoppers (3-2)\n",
    "\n",
    "12. UTSA Roadrunners (2-3)\n",
    "\n",
    "13. South Alabama Jaguars (2-3)\n",
    "\n",
    "14. App State Mountaineers (2-2)\n",
    "\n",
    "15. Toledo Rockets (3-1)\n",
    "\n",
    "16. San Jose State Spartans (3-1)\n",
    "\n",
    "17. Marshall Thundering Herd (2-2)\n",
    "\n",
    "18. East Carolina Pirates (3-2)\n",
    "\n",
    "19. Louisiana Ragin Cajun (3-1)\n",
    "\n",
    "20. Fresno State Bulldogs (3-2)\n",
    "\n",
    "21. Army Black Knights (4-0)\n",
    "\n",
    "22. UL Monroe Warhawks (3-1)\n",
    "\n",
    "23. Miami (OH) Redhawks (1-3)\n",
    "\n",
    "24. Georgia Southern Eagles (3-2)\n",
    "\n",
    "25. USF Bulls (2-3)"
   ]
  }
 ],
 "metadata": {
  "kernelspec": {
   "display_name": "Python 3 (ipykernel)",
   "language": "python",
   "name": "python3"
  },
  "language_info": {
   "codemirror_mode": {
    "name": "ipython",
    "version": 3
   },
   "file_extension": ".py",
   "mimetype": "text/x-python",
   "name": "python",
   "nbconvert_exporter": "python",
   "pygments_lexer": "ipython3",
   "version": "3.10.12"
  }
 },
 "nbformat": 4,
 "nbformat_minor": 5
}
