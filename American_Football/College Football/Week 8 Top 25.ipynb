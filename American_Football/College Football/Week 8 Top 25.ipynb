{
 "cells": [
  {
   "cell_type": "markdown",
   "id": "826f11ef-9f97-4674-a73d-ceaa99331eca",
   "metadata": {},
   "source": [
    "# Week 8 Top 25 #"
   ]
  },
  {
   "cell_type": "markdown",
   "id": "83ecbcac-51e7-4a72-83cd-ae91c908b951",
   "metadata": {},
   "source": [
    "This is my Top 25 for the coming Week 8. I would love to offer some of my thoughts but still don't really have the time to do that. With that being said after this Novemebr LSAT and once I get my writings and applications in, then I should be able to write more. With that being said this is my Top 25 for this coming week."
   ]
  },
  {
   "cell_type": "markdown",
   "id": "a640d655-bd81-4580-b73a-54fd788b13ab",
   "metadata": {},
   "source": [
    "## Top 25 ##"
   ]
  },
  {
   "cell_type": "markdown",
   "id": "343a8b43-3ec4-49a5-82c6-fde6744c05bf",
   "metadata": {},
   "source": [
    "1. Texas Longhorns (6-0)\n",
    "\n",
    "2. Penn State Nittany Lions (6-0)\n",
    "\n",
    "3. Oregon Ducks (6-0)\n",
    "\n",
    "4. LSU Tigers (5-1)\n",
    "\n",
    "5. Texas A&M Aggies (5-1)\n",
    "\n",
    "6. Georgia Bulldogs (5-1)\n",
    "\n",
    "7. Miami FL Hurricanes (6-0)\n",
    "\n",
    "8. Clemson Tigers (5-1)\n",
    "\n",
    "9. Alabama Crimson Tide (5-1)\n",
    "\n",
    "10. Ohio State Buckeyes (5-1)\n",
    "\n",
    "11. Tennessee Volunteers (5-1)\n",
    "\n",
    "12. Texas Tech Red Raiders (5-1)\n",
    "\n",
    "13. Kansas State Wildcats (5-1)\n",
    "\n",
    "14. Notre Dame Fighting Irish (5-1)\n",
    "\n",
    "15. Michigan Wolverines (4-2)\n",
    "\n",
    "16. Iowa State Cyclones (6-0)\n",
    "\n",
    "17. Wisconsin Badgers (4-2)\n",
    "\n",
    "18. SMU Mustangs (5-1)\n",
    "\n",
    "19. Pittsburgh Panthers (6-0)\n",
    "\n",
    "20. Memphis Tigers (5-1)\n",
    "\n",
    "21. Missouri Tigers (5-1)\n",
    "\n",
    "22. Oklahoma Sooners (4-2)\n",
    "\n",
    "23. Louisville Cardinals (4-2)\n",
    "\n",
    "24. Illinois Fighting Illini (5-1)\n",
    "\n",
    "25. Boise State Broncos (5-1)"
   ]
  },
  {
   "cell_type": "markdown",
   "id": "cca1e803-8c3c-4009-86fa-86dacfcaa784",
   "metadata": {},
   "source": [
    "## Next 10 ##"
   ]
  },
  {
   "cell_type": "markdown",
   "id": "a347ea1f-616f-4f52-9339-b943685a2f1e",
   "metadata": {},
   "source": [
    "Here is my next 10\n",
    "\n",
    "Kentucky Wildcats, Washington Huskies, Arkansas Razorbacks, Ole Miss Rebels, Nebraska Cornhuskers, Florida Gators, Tulane Green Wave, Iowa Hawkeyes, USC Trojans, Duke Blue Devils"
   ]
  },
  {
   "cell_type": "markdown",
   "id": "e169d3bc-0bca-42af-b9f2-8c51e85eb98a",
   "metadata": {},
   "source": [
    "## G5 Top 25 ##"
   ]
  },
  {
   "cell_type": "markdown",
   "id": "1e7cc4b6-0dd8-44fb-bac4-b318376d6cfe",
   "metadata": {},
   "source": [
    "Here is the G5 Top 25\n",
    "\n",
    "1. Memphis Tigers (5-1)\n",
    "\n",
    "2. Boise State Broncos (5-1)\n",
    "\n",
    "3. Tulane Green Wave (4-2)\n",
    "\n",
    "4. James Madison Dukes (5-1)\n",
    "\n",
    "5. UNLV Rebels (5-1)\n",
    "\n",
    "6. Ohio Bobcats (4-2)\n",
    "\n",
    "7. Liberty Flames (5-0)\n",
    "\n",
    "8. North Texas Mean Green (5-1)\n",
    "\n",
    "9. Texas State Bobcats (4-2)\n",
    "\n",
    "10. Louisiana Ragin Cajun (5-1)\n",
    "\n",
    "11. Western Kentucky Hilltoppers (4-2)\n",
    "\n",
    "12. UL-Monroe Warhawks (5-1)\n",
    "\n",
    "13. Georgia Southern Eagles (4-2)\n",
    "\n",
    "14. Army Black Knights (6-0)\n",
    "\n",
    "15. Toledo Rockets (4-2)\n",
    "\n",
    "16. Coastal Carolina Chanticleers (4-2)\n",
    "\n",
    "17. San Diego State Aztecs (3-3)\n",
    "\n",
    "18. Marshall Thundering Herd (3-3)\n",
    "\n",
    "19. San Jose State Spartans (4-2)\n",
    "\n",
    "20. Fresno State Bulldogs (3-3)\n",
    "\n",
    "21. South Alabama Jaguars (2-4)\n",
    "\n",
    "22. UTSA Roadrunners (2-4)\n",
    "\n",
    "23. Miami OH Redhawks (2-4)\n",
    "\n",
    "24. East Carolina Pirates (3-3)\n",
    "\n",
    "25. Northern Illinois Huskies (4-2)"
   ]
  }
 ],
 "metadata": {
  "kernelspec": {
   "display_name": "Python 3 (ipykernel)",
   "language": "python",
   "name": "python3"
  },
  "language_info": {
   "codemirror_mode": {
    "name": "ipython",
    "version": 3
   },
   "file_extension": ".py",
   "mimetype": "text/x-python",
   "name": "python",
   "nbconvert_exporter": "python",
   "pygments_lexer": "ipython3",
   "version": "3.10.12"
  }
 },
 "nbformat": 4,
 "nbformat_minor": 5
}
