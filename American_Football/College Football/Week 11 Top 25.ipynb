{
 "cells": [
  {
   "cell_type": "markdown",
   "id": "53700881-7a58-44e6-969b-88d93ee98b71",
   "metadata": {},
   "source": [
    "# Week 11 Top 25 #"
   ]
  },
  {
   "cell_type": "markdown",
   "id": "1faedfd3-9b2c-4326-87fa-8d295c79a61f",
   "metadata": {},
   "source": [
    "Here is the top 25 for this coming week in College Football."
   ]
  },
  {
   "cell_type": "markdown",
   "id": "fc021108-efde-4d90-9a62-f894e04a9241",
   "metadata": {},
   "source": [
    "## Top 25 ##"
   ]
  },
  {
   "cell_type": "markdown",
   "id": "aaba2383-ff7f-4512-ab90-0caacd6376bb",
   "metadata": {},
   "source": [
    "1. Oregon Ducks (8-0)\n",
    "\n",
    "2. Ohio State Buckeyes (7-1)\n",
    "\n",
    "3. Georgia Bulldogs (7-1)\n",
    "\n",
    "4. Miami (FL) Hurricanes (9-0)\n",
    "\n",
    "5. SMU Mustangs (8-1)\n",
    "\n",
    "6. Tennessee Volunteers (7-1)\n",
    "\n",
    "7. Louisville Cardinals (6-3)\n",
    "\n",
    "8. Penn State Nittany Lions (7-1)\n",
    "\n",
    "9. Texas Longhorns (7-1)\n",
    "\n",
    "10. Texas A&M Aggies (7-2)\n",
    "\n",
    "11. Notre Dame Fighting Irish (7-1)\n",
    "\n",
    "12. LSU Tigers (6-2)\n",
    "\n",
    "13. Ole Miss Rebels (7-2)\n",
    "\n",
    "14. Alabama Crimson Tide (6-2)\n",
    "\n",
    "15. Boise State Broncos (7-1)\n",
    "\n",
    "16. Clemson Tigers (6-2)\n",
    "\n",
    "17. South Carolina Gamecocks (5-3)\n",
    "\n",
    "18. Texas Tech Red Raiders (6-3)\n",
    "\n",
    "19. Tulane Green Wave (7-2)\n",
    "\n",
    "20. Kansas State Wildcats (7-2)\n",
    "\n",
    "21. Indiana Hoosiers (9-0)\n",
    "\n",
    "22. Iowa State Cyclones (7-1)\n",
    "\n",
    "23. Iowa Hawkeyes (6-3)\n",
    "\n",
    "24. Pittsburgh Panthers (7-1)\n",
    "\n",
    "25. Michigan Wolverines (5-4)"
   ]
  },
  {
   "cell_type": "markdown",
   "id": "0149c1dd-cc56-40d5-b8d1-e33a6c713aa6",
   "metadata": {},
   "source": [
    "## Next 10 ##"
   ]
  },
  {
   "cell_type": "markdown",
   "id": "0046cc0e-f8b6-4d60-8be4-5224c00e3d32",
   "metadata": {},
   "source": [
    "Here is the next 10 up\n",
    "\n",
    "Florida Gators, TCU Horned Frogs, BYU Cougars, Missouri Tigers, Wisconsin Badgers, Illinois Fighting Illini, UNLV Rebels, Colorado Buffalos, Memphis Tigers, Washington Huskies"
   ]
  },
  {
   "cell_type": "markdown",
   "id": "73743692-aca4-4b4b-b6c1-6ee8e162852e",
   "metadata": {},
   "source": [
    "## G5 Top 25 ##"
   ]
  },
  {
   "cell_type": "markdown",
   "id": "e2d95ee4-118e-47a8-a5e0-980909bd6b84",
   "metadata": {},
   "source": [
    "Here is my G5 Top 25\n",
    "\n",
    "1. Boise State Broncos (7-1)\n",
    "\n",
    "2. Tulane Green Wave (7-2)\n",
    "\n",
    "3. UNLV Rebels (6-2)\n",
    "\n",
    "4. Memphis Tigers (7-2)\n",
    "\n",
    "5. Louisiana Ragin Cajun (7-1)\n",
    "\n",
    "6. James Madison Dukes (6-2)\n",
    "\n",
    "7. Ohio Bobcats (5-3)\n",
    "\n",
    "8. Western Kentucky Hilltoppers (6-2)\n",
    "\n",
    "9. Georgia Southern Eagles (6-3)\n",
    "\n",
    "10. South Alabama Jaguars (4-5)\n",
    "\n",
    "11. Miami (OH) Redhawks (4-4)\n",
    "\n",
    "12. Fresno State Bulldogs (5-4)\n",
    "\n",
    "13. North Texas Mean Green (5-3)\n",
    "\n",
    "14. Liberty Flames (5-2)\n",
    "\n",
    "15. Marshall Thundering Herd (5-3)\n",
    "\n",
    "16. Army Black Knights (8-0)\n",
    "\n",
    "17. Old Dominion Monarchs (4-5)\n",
    "\n",
    "18. Appalachian State Mountaineers (4-4)\n",
    "\n",
    "19. Arkansas State Red Wolves (5-3)\n",
    "\n",
    "20. Texas State Bobcats (4-4)\n",
    "\n",
    "21. San Diego State Aztecs (3-5)\n",
    "\n",
    "22. Toledo Rockets (6-3)\n",
    "\n",
    "23. Western Michigan (5-3)\n",
    "\n",
    "24. UTSA Roadrunners (4-5)\n",
    "\n",
    "25. USF Bulls (4-4)"
   ]
  }
 ],
 "metadata": {
  "kernelspec": {
   "display_name": "Python 3 (ipykernel)",
   "language": "python",
   "name": "python3"
  },
  "language_info": {
   "codemirror_mode": {
    "name": "ipython",
    "version": 3
   },
   "file_extension": ".py",
   "mimetype": "text/x-python",
   "name": "python",
   "nbconvert_exporter": "python",
   "pygments_lexer": "ipython3",
   "version": "3.10.12"
  }
 },
 "nbformat": 4,
 "nbformat_minor": 5
}
