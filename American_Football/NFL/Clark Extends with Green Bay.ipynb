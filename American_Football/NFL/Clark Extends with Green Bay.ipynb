{
 "cells": [
  {
   "cell_type": "markdown",
   "id": "8647de0a-74bf-4a10-81ba-b1951bd07518",
   "metadata": {},
   "source": [
    "# Kenny Clark agrees to Extension with Green Bay #"
   ]
  },
  {
   "cell_type": "markdown",
   "id": "835eb09b-5c55-409c-85e6-c4f0a2ce9d20",
   "metadata": {},
   "source": [
    "One of the most underrated players in the league, Kenny Clark, has agreed to a contract extension with the Packers on a 3-year deal worth 64 million dollars and not much is known on the contract except that he would be owed 29 million dollars in 2024. This signning is huge for the Packers to try and push for contention in the next couple of years."
   ]
  },
  {
   "cell_type": "markdown",
   "id": "2a404862-dea0-4da3-ac8f-9a4332f1052d",
   "metadata": {},
   "source": [
    "## Impact on the Packers ##"
   ]
  },
  {
   "cell_type": "markdown",
   "id": "4ba9411b-0cbc-4bf9-80a2-b28de90469fd",
   "metadata": {},
   "source": [
    "I'm a huge fan of this extension. Giving a 3-year deal shows that the Packers understand Clark's age and their window so going for a 3-year deal is great to compete in the current window while keeping in account of Clark's age. With that being said, if Clark were to leave he would've left Green Bay with a 13.75 million dollar dead cap next year and with this signning the Packers will now avoid the dead cap. If I'm looking at this with the cap hit this year being 29 million I'm going to assume that Clark signed a 6 million dollar signning bonus and with the 21.3 million dollar a year with a cap hit of 22.8 per year if the contract is evenly distributed between the 3 years. Overall this is a good deal of business. I really like Kenny Clark and he's still only 29-years-old. When this contract is over he will be 33 and from their the Packers can decide if he gets a 4th contract from the front office. The Packers got a deal on this and he could've gotten more in the open market but he wouldn't even be in the top 10 of the highest paid interior D-Lineman while playing like one. It's a great contract for the Packers to give him. He is also the highest paid player on the Packers currently. The Packers have a lot of cap space in the next 3 years, my concern is for next year as with this contract the Packers will only have 24.4 million dollars in cap space next year with Love still needing an extension. Thinking about this the question now arises with Love. Love would want a long term contract with the Packers looking for a short term contract. I think a 3-year 60 million extension with a 15 million dollar signning bonus would be a good enough contract for the Packers to give Love. It would keep them below the cap next year and give a large sum of money for Love while giving a shorter contract for the Packers. If Love shows promise in the next 2 years then you can sign him to a large extension the following year. With that all being said, the Clark signing is great for the Packers. He's a great player and has been healthy for 3 years now. While he won't grow and the chance of regression is higher than the chance of growth, he's still a great player and is getting paid what a player of his skill level should be getting paid. I will give this signning a A- with the pure fact that the chance of regression is higher than him getting better or even staying the same. I don't think it will this year or the next year, but the final 2 years of this contract is the real question mark."
   ]
  }
 ],
 "metadata": {
  "kernelspec": {
   "display_name": "Python 3 (ipykernel)",
   "language": "python",
   "name": "python3"
  },
  "language_info": {
   "codemirror_mode": {
    "name": "ipython",
    "version": 3
   },
   "file_extension": ".py",
   "mimetype": "text/x-python",
   "name": "python",
   "nbconvert_exporter": "python",
   "pygments_lexer": "ipython3",
   "version": "3.10.12"
  }
 },
 "nbformat": 4,
 "nbformat_minor": 5
}
