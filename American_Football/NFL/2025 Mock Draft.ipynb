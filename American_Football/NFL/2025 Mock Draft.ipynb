{
 "cells": [
  {
   "cell_type": "markdown",
   "id": "76fee915-9a43-4fa3-aca0-72deec7d6fd0",
   "metadata": {},
   "source": [
    "# 2025 NFL Draft Mock Draft"
   ]
  },
  {
   "cell_type": "markdown",
   "id": "9d79e8de-a85d-4b8a-abb5-e229293c7968",
   "metadata": {},
   "source": [
    "This is my NFL draft breakdown. This is what I would do in each team's situation. Not what they will do, not really what they should do, but what I would do. I will include a breakdown of why each pick is chosen and explain each pick. Note that there will be no trades in this mock, I know that their will be trades, but I will have no trades in this mock. Now let's do my NFL draft."
   ]
  },
  {
   "cell_type": "markdown",
   "id": "db15ee41-3dfa-4aa4-8344-79bd6938a55c",
   "metadata": {},
   "source": [
    "## 1. Tennessee Titans - Cam Ward, QB, Miami(FL)"
   ]
  },
  {
   "cell_type": "markdown",
   "id": "d9e9fb5f-5f4d-43f3-9dac-67aa95b8ebdb",
   "metadata": {},
   "source": [
    "The Titans need a QB. Levis was never the guy to lead the Titans; they have the number one pick, and with it, they should use it on a QB. I've been a Cam Ward fan since his time with WSU. I've seen him keep the Cougars in most games during his time at WSU. He has the classic strong WSU arm, and his ability to extend the play shows NFL ability. With all classic WSU QBs, his discipline and accuracy need work, but it's teachable in the NFL. I get he's coming out of Miami but a lot of his development was done at WSU. He looks like a great QB prospect to go 1 in this years draft."
   ]
  },
  {
   "cell_type": "markdown",
   "id": "9017a428-3f0e-4417-9daf-b00912afdd2f",
   "metadata": {},
   "source": [
    "## 2. Cleveland Browns - Shedeur Sanders, QB, Colorado"
   ]
  },
  {
   "cell_type": "markdown",
   "id": "2ec00af3-5b8c-4999-b799-c74f91be9efc",
   "metadata": {},
   "source": [
    "The Browns also need a QB. I only see 2 QBs in this year's draft that has the talent to be a first-round pick. While Sanders is seen as a later first-round talent, the QB tax is at play here. I get that the odds have Hunter here. It makes some sense as Watson still has one year after this one, and the Browns can run at Flacco for this year, draft a QB like Manning next year, and have him sit behind Watson next year. Still, my question is, who's to say nothing happens to a Manning or Iamaleava (outside of character concerns)? Who's to say the Browns will be bad next year? If you need a QB, and a first-round QB is available to you, you pick him. I'm high on Sanders. He makes plays, he has a great arm, and he has great accuracy. He knows how to drop the ball. The issue is physicals and decision-making. Undersized and can make bad decisions in the pocket, I can see a concern with Sanders. Either way he should go to the Browns."
   ]
  },
  {
   "cell_type": "markdown",
   "id": "77eaa795-3042-4854-a6da-06c7c4aab0a9",
   "metadata": {},
   "source": [
    "## 3. New York Giants - Travis Hunter, WR/CB, Colorado"
   ]
  },
  {
   "cell_type": "markdown",
   "id": "5ac57e3c-d805-4d10-ab41-c14e49036201",
   "metadata": {},
   "source": [
    "The Giants would be a great landing place for Hunter. The Giants would love a complement to Nabers, but they desperately need a CB, and I believe that Hunter needs to pick one of the positions to focus on in the NFL for a longer career and develop better for that one position. Either way, being on the Giants would open both positions to see which one he can develop at. He has great playmaking ability and strong hands on both ends of the ball. He needs to bulk up and develop his body. If he can do that, then the Giants have gotten the best prospect in this year's draft."
   ]
  },
  {
   "cell_type": "markdown",
   "id": "253d9068-6456-406a-9b40-af47800db5ee",
   "metadata": {},
   "source": [
    "## 4. New England Patriots - Abdul Carter, Edge, Penn State"
   ]
  },
  {
   "cell_type": "markdown",
   "id": "4db5510f-af91-4bff-892b-cef6ce08e1f2",
   "metadata": {},
   "source": [
    "The Patriots have Maye. They need help pretty much everywhere else. The Patriots should just go with BPA, non-QB. He has all the skills to be a top-tier rusher. His athleticism is on another level, and he has the ability to get around most Tackles at Penn State. With these strengths comes a weakness in always trying to go around a blocker, and he still needs to develop his pass rush. He also needs to grow in his body a little bit more to be a top-tier rusher. Once he develops these skills in the NFL, he should be seen as a top pick in this year's draft."
   ]
  },
  {
   "cell_type": "markdown",
   "id": "077c249e-3ff6-425c-9fe8-cf0f502d1a47",
   "metadata": {},
   "source": [
    "## 5. Jacksonville Jaguars - Tetairoa McMillian, WR, Arizona"
   ]
  },
  {
   "cell_type": "markdown",
   "id": "b0ac1c32-9eeb-49ee-a922-211ea8f3dfad",
   "metadata": {},
   "source": [
    "The Jaguars need help at Receiver. They lost Engram and Kirk in the offseason, and are only getting Dyami Brown to shore up the position. The Jags need to take some pressure off of Brian Thomas Jr.; Tetiroa should be seen as that player. He's built like a top-tier receiver, standing at 6'4'' 219, with a little more weight, he's built like the perfect WR. He has all the physical attributes and is a tough player. He has a major red flag. He might not work as hard and rely too much on talent in the NFL. Not studying tape outside of the practice facility is the biggest red flag. However, if he can get that down, he could be seen as one of the top players in the draft."
   ]
  },
  {
   "cell_type": "markdown",
   "id": "364e0dd4-7c9d-47d6-83f2-1269b3c58a9f",
   "metadata": {},
   "source": [
    "## 6. Las Vegas Raiders - Ashton Jeanty, RB, Boise State"
   ]
  },
  {
   "cell_type": "markdown",
   "id": "59c573e3-d4a3-4c5f-b751-c7655283c8e4",
   "metadata": {},
   "source": [
    "The Raiders are starting to right the ship. They have done a large overhaul in the football ops department in the offseason, and added Geno Smith as the QB for the foreseeable future. With that, there is one glaring weakness in Vegas: Running Back. They were dead last in carries. Mostert, McCormick, and White aren't RB1s in the league. Jeanty is that player. He is the best, NFL-ready prospect in the draft. He looks like an NFL rusher from his last year at Boise State. He has the speed, physicality, and physical attributes to succeed in the NFL. He needs to get better at pass protection, and some questions arise from the lack of play against top teams, but he's shown enough against great teams during the year where I have no issue with it. Is it worth it to draft an RB this high? For Jeanty, I believe that it is."
   ]
  },
  {
   "cell_type": "markdown",
   "id": "d1137b0f-0054-4169-8200-8c4d72fe58e8",
   "metadata": {},
   "source": [
    "## 7. New York Jets - Will Campbell, T, LSU"
   ]
  },
  {
   "cell_type": "markdown",
   "id": "c7ea82f0-057c-4965-8754-288d15727974",
   "metadata": {},
   "source": [
    "The Jets have gotten a restart after Rodgers. They have Fields on a prove-it for the next 2 seasons, and they have offensive weapons to help Fields. They have a solid enough defense, some holes that need to be patched up, but they have something going on that end. I'm always of the opinion that there is no such thing as being satisfied in the O-Line. Will Campbell is the best O-Line prospect in the draft. He's strong and has really good hands on the edge to be a great blocker. Issues arise in being too slow against an edge and his shorter arms. I don't think that he'll be a tackle in the NFL. The Jets should look to convert him to a Guard. With this switch, I see a top-tier prospect. He doesn't need to rely on his weaknesses and can show his polished skills at the Guard position. He's a high-floor OL."
   ]
  },
  {
   "cell_type": "markdown",
   "id": "9e9883c3-0333-4518-a5a4-eb843182fdcb",
   "metadata": {},
   "source": [
    "## 8. Carolina Panthers - Will Johnson, CB, Michigan"
   ]
  },
  {
   "cell_type": "markdown",
   "id": "26e82f67-1ff8-45c3-98b8-3462ad548d67",
   "metadata": {},
   "source": [
    "I can see a trade down with the Panthers here, but I'm not including trades, so we've got the Panthers taking Will Johnson. The Panthers have a lot of holes on the defensive end of the ball. With a historically bad defense last season, the Panthers need to look for anyone on that end of the ball to move the needle. Will Johnson is a prospect who has the physical and mental ability to be a top CB in the league. He has great footwork, speed, and his ability to jump passing lanes is on another level. His issue arises from his injury concerns and his aggressiveness. While he jumps passing lanes well, he still gets beat. If he can control his aggressiveness and stay healthy, he'll be a great talent."
   ]
  },
  {
   "cell_type": "markdown",
   "id": "9ca433aa-08f9-4fba-95e0-a8e84bffe1b4",
   "metadata": {},
   "source": [
    "## 9. New Orleans Saints - Mason Graham, DT, Michigan"
   ]
  },
  {
   "cell_type": "markdown",
   "id": "ab9a4e23-41d1-4c8d-961a-dedd17be619d",
   "metadata": {},
   "source": [
    "The Saints are in cap purgatory. Their immediate future looks bleak in the cap situation and injury issues. They need to go with BPA, and Mason Graham is that player. He's strong, has good moves, and his athleticism is top tier. He has a high floor, and he looks to be a great NFL starter at the moment. The issue comes from his aggressiveness. He is sometimes too aggressive to the point of throwing him out of a player, which could be a major issue at the NFL level. IOL could use that against the."
   ]
  },
  {
   "cell_type": "markdown",
   "id": "de589a6d-eca7-415f-97c8-e22438598c8e",
   "metadata": {},
   "source": [
    "## 10. Chicago Bears - Kenneth Grant, DT, Michigan"
   ]
  },
  {
   "cell_type": "markdown",
   "id": "73a73f0f-8b1b-4bc4-b588-5eb4d2a682e7",
   "metadata": {},
   "source": [
    "Bears have made huge upgrades on the other side of the ball in the offseason to free up moves on the other side. The Bears' DL was lacking throughout the year and would look to upgrade on that side of the trenches. Kenneth Grant is a massive DT from Michigan who could look to plug that hole on the Bears' DL. He's big, strong, and quick for his size. He has a lot of great skills needed for a great DL. The issue comes from being one-dimensional. Hopefully, he can develop as a pass rusher, but I'm not so sure about that. He could be seen as a great run stopper but a mediore pass rusher."
   ]
  },
  {
   "cell_type": "markdown",
   "id": "a9a2a53c-0e6d-472f-bbb3-99296fc75059",
   "metadata": {},
   "source": [
    "## 11. San Francisco 49ers - Armand Membou, T, Missouri"
   ]
  },
  {
   "cell_type": "markdown",
   "id": "c92277ac-8d3b-46e8-abac-30103d4ba4de",
   "metadata": {},
   "source": [
    "I think that the 49ers are in one of the most dire situations in the NFL. With a huge contract coming Purdy's way, the Niners had to lose out on players at multiple positions to open up the space for Purdy's contract. With the loss of many positions, the 49ers need to pick BPA. A strong Tackle, Membou can be seen as BPA at this time. Strong physically and mentally, the Niners are getting an all-around great pass protector and run blocker in Membou. Issues arise in speed and height. Standing at 6'4'' and can be seen as slow blocking an Edge, we might see Membou move to the Guard position in the OL."
   ]
  },
  {
   "cell_type": "markdown",
   "id": "9fe92bac-8329-429a-9ba7-6255f14a4fab",
   "metadata": {},
   "source": [
    "## 12. Dallas Cowboys - Emeka Egbuka, WR, Ohio State"
   ]
  },
  {
   "cell_type": "markdown",
   "id": "ec84a285-c247-4cb2-b5ba-2634d74374f0",
   "metadata": {},
   "source": [
    "The Cowboys need a lot of help in a lot of positions. They look mediocre at every position and need to look to add any player possible. With that being said, the biggest need for the Cowboys is a wide receiver. Outside of Ceedee Lamb, they have no one. They don't need to hit on an elite receiver, as Ceedee already fills that hole; they just need someone good enough to take pressure away from Ceedee and other areas on the offense. Egbuka is the perfect player for that. A high-floor, low-ceiling receiver, he has good route running, speed, and hands. He is a great blocker, and his the best NFL-ready WR in the draft. While he won't put up WR1 numbers, I see him and Ceedee fitting together like the Bucs WRs Godwin and Evans."
   ]
  },
  {
   "cell_type": "markdown",
   "id": "2fd41b35-f475-4972-b7fc-555effec313e",
   "metadata": {},
   "source": [
    "## 13. Miami Dolphins - Josh Simmons, T, Ohio State"
   ]
  },
  {
   "cell_type": "markdown",
   "id": "a96e68a9-169c-45a8-bca6-739e4e9b7ba4",
   "metadata": {},
   "source": [
    "The Dolphins are in dire need of an OL. In both protecting Tua and opening the run game, the Dolphins need to make a move at the OL to have a successful draft. The current BOLA (Best O-Line Available) is Josh Simmons. An all-around beast, he looks good at both pass protection and in opening the run game. Strong and quick with good footwork, Simmons could be seen as one of the best prospects in the draft in terms of skills. Why am I saying this and only having him go 13? Knee injuries are serious, especially at O-Line. If he can recover fine the Dolphins got a steal, if not, then this could be seen as a waste of a pick."
   ]
  },
  {
   "cell_type": "markdown",
   "id": "56177cd7-fe2a-4cc6-a261-c16256e38955",
   "metadata": {},
   "source": [
    "## 14. Indianapolis Colts - Tyler Warren, TE, Penn State"
   ]
  },
  {
   "cell_type": "markdown",
   "id": "cee70ecc-9dc6-4903-9ef2-1b086d240008",
   "metadata": {},
   "source": [
    "The Colts need a lot of help on the offensive side of the ball. They have holes that need to be filled on that side of the ball and should look to fill them with the best offensive player available. Warren is looking to be the best offensive piece in the draft at the moment. A large TE, he has a lot of great receiving abilities that make him an attractive prospect. He has great hands and great athleticism. Issues arise from his slower speed and blocking ability. If he can becoming a better blocker, Warren could look to be a great TE prospect."
   ]
  },
  {
   "cell_type": "markdown",
   "id": "694b499e-0be1-45c5-ab74-5b925bdfba61",
   "metadata": {},
   "source": [
    "## 15. Atlanta Falcons - Jalon Walker, LB, Georgia"
   ]
  },
  {
   "cell_type": "markdown",
   "id": "d3b6e2d3-2e5e-40ac-88fc-1a20a556a55e",
   "metadata": {},
   "source": [
    "The Falcons are set on the offensive side of the ball. They've made enough upgrades on that side of the ball over the years that they need to start focusing on the defensive side of the ball. Walker is the best defensive player in the draft at this moment. Walker is a great all-around defensive playmaker. Great in pass coverage and run defense, solid in the pass rush, Walker is an all-around great player. Issues arise in his size and technique. He's a little undersized, and he needs to be more natural in his play. If he figures that out, then the Falcons can get a great Georgia product."
   ]
  },
  {
   "cell_type": "markdown",
   "id": "cfb36327-83cd-4fcb-a868-1aa558d3418e",
   "metadata": {},
   "source": [
    "## 16. Arizona Cardinals - Kelvin Banks Jr., T, Texas"
   ]
  },
  {
   "cell_type": "markdown",
   "id": "f496e2c5-b8ca-424a-a527-aeba984d59d6",
   "metadata": {},
   "source": [
    "The Cardinals need to make major moves in the trenches. Banks Jr. is the best player in those positions at the time. Banks Jr. is experienced, strong, and athletic. He has the ability to block the edge well and has been strong in those positions. His problems, coordination and height. He overblocks and loses his coordination and can be short for a tackle. I think he will be fine and a solid pick for the Cardinals."
   ]
  },
  {
   "cell_type": "markdown",
   "id": "1ad5fdb6-e0c9-48d9-96af-78c7ebf3209e",
   "metadata": {},
   "source": [
    "## 17. Cincinnati Bengals - Jihaad Campbell, LB, Alabama"
   ]
  },
  {
   "cell_type": "markdown",
   "id": "723f5fc5-e5b8-4c88-b02b-2cbf380b4fd8",
   "metadata": {},
   "source": [
    "The Bengals are spending on offensive weapons. They're locked in at WR and QB for years to come. They need to fill out every other position on the team. Campbell is another all-around prospect who can do almost everything on the defensive side of the ball. He can line up anywhere and make an impact on the ball, no matter what. I do see him as a jack of all trades, master of none, though. That's where the issue arises. His IQ is raw in every aspect. While he can play and do everything at a fine enough level, he's not a master of one certain skillset. For this reason, he can be caught out of position a bit. I think that he's worth it, though. He's a great prospect all around and can make an impact on the Bengals day 1."
   ]
  },
  {
   "cell_type": "markdown",
   "id": "653e2c18-07f0-4b50-bb0b-93b2a24e23cd",
   "metadata": {},
   "source": [
    "## 18. Seattle Seahawks - Shemar Stewart, Edge, Texas A&M"
   ]
  },
  {
   "cell_type": "markdown",
   "id": "eda9a235-c41f-4ea9-8ba1-480e07691676",
   "metadata": {},
   "source": [
    "The Seahawks have made some massive moves in the offseason. While the Seahawks need help in the O-Line, the Seahawks could also use some upgrades on the defensive side of the ball. Shemar Stewart is the perfect Edge. He has the size and skillset to be one of the best Edges in the league. He's big, strong, quick, and could be seen as a steal in this draft. The issue? He's raw. Overall, he needs to develop more technique for the NFL game. While he can rely on physicality in the college game, he needs to be smarter and technical to succeed in the NFL game. The Seahawks have time to develop him, and if they do, they have one of the best steals in this draft."
   ]
  },
  {
   "cell_type": "markdown",
   "id": "d42287b3-bc36-4f0f-b8da-7c2df99fe0bb",
   "metadata": {},
   "source": [
    "## 19. Tampa Bay Buccaneers - Jahdae Barron, CB, Texas"
   ]
  },
  {
   "cell_type": "markdown",
   "id": "87f355e1-8e17-41ff-bbc8-6fd5a82a6106",
   "metadata": {},
   "source": [
    "The Buccaneers have a great offense. They retained a lot of their offensive free agents this offseason and look to make moves on the defensive side of the ball. The Buccaneers lack all aspects on the defensive side and need to look at all positions in this case. Jahdae is a great Corner. He's great in coverage and ball skills in general. He has great coverage, letting 0 TDs this past season at Texas. His issues are size, he is considered slightly undersized for an NFL CB, and physicality, drawing penalties based on this play against receivers."
   ]
  },
  {
   "cell_type": "markdown",
   "id": "8ecb6783-12ee-4b3e-9d1f-e5912cb8e2fe",
   "metadata": {},
   "source": [
    "## 20. Denver Broncos - Mykel Williams, Edge, Georgia"
   ]
  },
  {
   "cell_type": "markdown",
   "id": "b413f12c-10fc-4bde-ba12-54c5cd75f8d0",
   "metadata": {},
   "source": [
    "The Broncos were the most surprising team this past season. Many expected a bottom-of-the-league record, only for this team to make the playoffs. With Nix still on his rookie deal, the Broncos need to look to make a title push in the next year or 2. While it would be smart to grab a more NFL-ready prospect, Williams could be seen as a steal in this position. Williams has the traits to be a top edge in the league, but his actual production has been mediocre at best. He needs time to develop. Williams needs at least one year, and the Broncos are the perfect team to provide that. They're locked in at Edge for at least one year and would look at that position for next season."
   ]
  },
  {
   "cell_type": "markdown",
   "id": "7b3bd118-2d5d-460d-b4e1-0ac7fc1ee340",
   "metadata": {},
   "source": [
    "## 21. Pittsburgh Steelers - Josh Conerly Jr., T, Oregon"
   ]
  },
  {
   "cell_type": "markdown",
   "id": "0c629796-a572-47ae-9a4d-0bf11909af7c",
   "metadata": {},
   "source": [
    "The Steelers need to start looking to get younger in a lot of different positions. The Steelers could look to upgrade QB, but I don't think that there is a QB worthy of that first-round pick at this time. With that, the Steelers would look to make a move to shore up the OL. Conerly is a solid Tackle. While slightly undersized, he makes up for it athletically. He's quick laterally and well balanced, he can make an impact right away for any team he's drafted to. The only issue is with his hands, and if he can develop that better, he could be a solid Tackle in the league."
   ]
  },
  {
   "cell_type": "markdown",
   "id": "b31ca1b7-98d7-4172-a48f-a279ffa65c8e",
   "metadata": {},
   "source": [
    "## 22. Los Angeles Chargers - Colston Loveland, TE, Michigan"
   ]
  },
  {
   "cell_type": "markdown",
   "id": "9c7cbb39-10fb-49f8-a953-2a14dd06d0d7",
   "metadata": {},
   "source": [
    "The Chargers need to look into upgrading more offensive weapons and filling out the defensive side of the ball. The Chargers need to look into making a move at the TE position. They have no starting quality player at the TE position, and need to add another receiving threat. Loveland is a great player to fit that mold. Loveland is coming in at 6'6'' with great speed and hands. Loveland is the perfect asset for the Chargers to add to fulfill another receiver. With that being said, he's a pure pass-catching TE. He's not a very good blocker and needs to look to add more weight to his frame."
   ]
  },
  {
   "cell_type": "markdown",
   "id": "bd347462-6e2a-49d6-9a0c-37b90a32796a",
   "metadata": {},
   "source": [
    "## 23. Green Bay Packers - Malaki Starks, S, Georgia"
   ]
  },
  {
   "cell_type": "markdown",
   "id": "0d2e1d85-341c-4751-9f79-370ba78c3baa",
   "metadata": {},
   "source": [
    "The Packers are in an interesting situation. They have a mostly complete roster with certain postions in need. One of those needs is a defensive back. While CB is more of a specific need, Safety could help fill that need as well. Starks is the best Safety in this draft, and mentally and physically can be seen as a top 10 pick. The issue? He's a Safety. They usually don't go high in the draft, and most of the Packers' other needs aren't worth a reach when you have a player of Starks' caliber right there. He can be slightly slow, but it isn't enough to make much of an impact. While not fulfilling a direct need, he is a great pick for any team that makes the selection. This pick ties up Green Bay's Safety Corp for years to come."
   ]
  },
  {
   "cell_type": "markdown",
   "id": "f094e9dd-dfbf-4fc0-a196-ccd1e40a5b20",
   "metadata": {},
   "source": [
    "## 24. Minnesota Vikings - Donovan Jackson, T, Ohio State"
   ]
  },
  {
   "cell_type": "markdown",
   "id": "3d9d7da7-b520-4c08-ad6d-f08d5fa4503b",
   "metadata": {},
   "source": [
    "The Vikings have a new QB in McCarthy coming under Center. Coming off a major knee injury, the Vikings need to look into protecting McCarthy more on the O-Line. Jackson is a solid O-Line prospect. With good feet and hands, Jackson could be seen as NFL-ready the day he's drafted. While he has this, he is slow on his feet, as his horrid day against Abdul Carter has shown, and undersized. He needs to be drafted to become an interior O-Line and develop more as a Guard, which the Vikings should look for specifically."
   ]
  },
  {
   "cell_type": "markdown",
   "id": "16063a65-95a8-484f-91e5-a688cea322ec",
   "metadata": {},
   "source": [
    "## 25. Houston Texans - Matthew Golden, WR, Texas"
   ]
  },
  {
   "cell_type": "markdown",
   "id": "aba58c33-5686-477d-9193-f40af38aef79",
   "metadata": {},
   "source": [
    "The Texans need 2 postions. O-Line and WR. Whichever position has the BPA at the time will be the pick. Golden is that pick at the moment for the Texans. With only Collins, Metchie, and Kirk coming off injury, the Texans need to make a selection to shore up the WR position. Golden is shifty and fast. He has the intangibles to be a solid receiver. The issue is his size and strength. He's short for an NFL WR and can get punked when blocking. Golden can be seen as a WR that you want only one way of being and needing a fast WR, Golden is the perfect player."
   ]
  },
  {
   "cell_type": "markdown",
   "id": "1a5f787c-b937-4710-b428-70390129cbcd",
   "metadata": {},
   "source": [
    "## 26. Los Angeles Rams - Grey Zabel, T, North Dakota State"
   ]
  },
  {
   "cell_type": "markdown",
   "id": "7e7dbc70-75f6-454e-93eb-4579dafae0c3",
   "metadata": {},
   "source": [
    "The Rams don't have huge needs. They can draft for developing, and the need for the coming seasons is Tackle. Zabel is strong and flexible with this body. He's versatile enough to play any position of need on the line, and has the height to be a solid Tackle. Issues arise in his arm length, too short, and he has issues with speed off the edge. The speed off the edge is a huge issue, especially coming from the FCS level. If he can get quicker then he can be a great line prospect, the issue with the speed is concerning."
   ]
  },
  {
   "cell_type": "markdown",
   "id": "6a88fa08-79ef-42c0-8f95-eb4d3dceed44",
   "metadata": {},
   "source": [
    "## 27. Baltimore Ravens - Walter Nolen, DT, Mississippi"
   ]
  },
  {
   "cell_type": "markdown",
   "id": "970b4947-9b17-4116-8d00-234852d4f9dc",
   "metadata": {},
   "source": [
    "The Ravens are looking to stock up on the defensive end of the ball. At this point, Receivers have declined in talent, and the Ravens need to look to add some depth to their older core on that side of the ball. Nolen is looking like he could be a top interior D-lineman. He has a lot of the skills needed to succeed, and he has a good ability to make an impact on the Pass defense and running defense. If he can control himself, I can see a top DT in the league."
   ]
  },
  {
   "cell_type": "markdown",
   "id": "ac3449aa-e9c7-40bd-bec4-ae5481b01de0",
   "metadata": {},
   "source": [
    "## 28. Detroit Lions - Derrick Harmon, DT, Oregon"
   ]
  },
  {
   "cell_type": "markdown",
   "id": "f6d33671-130f-41f0-a1a7-c906e556e8bd",
   "metadata": {},
   "source": [
    "The trenches need to be filled again for Detroit. They've lost some key pieces on the offensive side of the ball, but they also need more depth on the defensive side of the ball. The Lions seem to always have injuries on that side and need to shore up some depth there. Harmon seems to have a lot of the necessary size and strength to be seen as a top defensive prospect in the NFL. His issue seems to be his ability to tackle. He can't seem to wrap up a QB or RB once he gets in the backfield and make the tackle. While he has everything else, this is a massive red flag."
   ]
  },
  {
   "cell_type": "markdown",
   "id": "5d8e0a5d-be68-434c-a36d-688b509a7baa",
   "metadata": {},
   "source": [
    "## 29. Washington Commanders - Treveyon Henderson, RB, Ohio State"
   ]
  },
  {
   "cell_type": "markdown",
   "id": "2e7aeb7a-6894-4105-bfbf-23aa07514cd6",
   "metadata": {},
   "source": [
    "The Commanders need to do something with the Running Back position. They can't seem to land an RB1, and the RB by Committee has been injured for a good portion of the year. He has some high upside if he can figure stuff out with this backfield. He's muscular and quick, a great pass-catching and blocking back. He has everything that one would look for in an RB. However, his lack of size is an issue. Standing at 5'10'', he is undersized even for an RB. If he can play up from his height, he can make a huge difference for the Commanders."
   ]
  },
  {
   "cell_type": "markdown",
   "id": "c3167140-5d7d-4413-8638-99be672de4fe",
   "metadata": {},
   "source": [
    "## 30. Buffalo Bills - Mike Green, Edge, Marshall"
   ]
  },
  {
   "cell_type": "markdown",
   "id": "f6a6efbb-58ac-4e8d-9ab2-7d340606b00c",
   "metadata": {},
   "source": [
    "The Bills need to make some moves on the defensive side of the ball to add much-needed youth at those positions. Green is one of the best products in that position and would be a great addition for the Bills. He performed well at Marshall, putting up stats that only rival Abdul Carter. He has a lot of the skills wanted in an Edge and is aggressive in a good way. Issues come from his size. He's undersized for an Edge Rusher. He needs to fill out and play to his height. If he can perform from that then the Bills got a great player."
   ]
  },
  {
   "cell_type": "markdown",
   "id": "40878a51-240d-4f90-950c-1804f971d998",
   "metadata": {},
   "source": [
    "## 31. Kansas City Chiefs - Tyleik Williams, DT, Ohio State"
   ]
  },
  {
   "cell_type": "markdown",
   "id": "65034410-f84a-499b-aeb3-699c09d850b2",
   "metadata": {},
   "source": [
    "The Chiefs need to look at DT and OL. In this case, I have them grabbing Williams to add depth and youth to an aging DL. Williams is a large man. He's built like a strong DT for the Chiefs to use. He's strong and has great athletic ability against the run. The issue comes with the pass rush. For as good as he is as a run defender, he's as bad as a pass rusher at the NFL level. If he can figure that out he's a steal for the Chiefs, however, that's a large if."
   ]
  },
  {
   "cell_type": "markdown",
   "id": "8edf4187-1a75-4d22-b1eb-c24727c7b22d",
   "metadata": {},
   "source": [
    "## 32. Philadelphia Eagles - Tyler Booker, G, Alabama"
   ]
  },
  {
   "cell_type": "markdown",
   "id": "13eb92ae-908c-427b-86dc-635188e4cca1",
   "metadata": {},
   "source": [
    "The Eagles don't have much need outside of the DL and CB. While there are good options at that position at this place, you can never go wrong with getting an OL if they're BPA. Booker is a big kid, and he has a great skill set to start day 1. He is strong and able to protect both the pass and run. He would fit perfectly in the scheme that the Eagles run. With that being said, he's pretty much set as a Guard and doesn't have much of a ceiling to me. What you get now is what you'll get in 5 years. He's good, but I wouldn't expect much development from him."
   ]
  }
 ],
 "metadata": {
  "kernelspec": {
   "display_name": "Python 3 (ipykernel)",
   "language": "python",
   "name": "python3"
  },
  "language_info": {
   "codemirror_mode": {
    "name": "ipython",
    "version": 3
   },
   "file_extension": ".py",
   "mimetype": "text/x-python",
   "name": "python",
   "nbconvert_exporter": "python",
   "pygments_lexer": "ipython3",
   "version": "3.10.12"
  }
 },
 "nbformat": 4,
 "nbformat_minor": 5
}
