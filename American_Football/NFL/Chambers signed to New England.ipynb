{
 "cells": [
  {
   "cell_type": "markdown",
   "id": "dc5a071b-b272-4870-a680-14c549d7c1e1",
   "metadata": {},
   "source": [
    "# Chambers Picked up from Waivers #"
   ]
  },
  {
   "cell_type": "markdown",
   "id": "54e124bd-fea2-4b85-afbb-bd51e99727d2",
   "metadata": {},
   "source": [
    "Steele Chambers, and undrafted rookie from Ohio State, was waived by the Lions yesterday, to now be picked up by the New England Patriots. A young player who started out as running back to later switch to Linebacker is only a rookie and yet to prove anything in the NFL. He has no injury history at Linebacker, while also accounting for 83 total tackles in 13 games with Ohio State last year, putting him at the same number as the first Linebacker taken in this years draft, Edgerrin Cooper. However, he is slightly undersized and his physicals at the combine weren't eye popping. New England roster is currently a mess right now and they need any help they can get in trying find something to build their offense or defense around. I don't expect much from this, honestly I don't see Chambers making the 52-man, but it's worth the punt for the Patriots to make."
   ]
  }
 ],
 "metadata": {
  "kernelspec": {
   "display_name": "Python 3 (ipykernel)",
   "language": "python",
   "name": "python3"
  },
  "language_info": {
   "codemirror_mode": {
    "name": "ipython",
    "version": 3
   },
   "file_extension": ".py",
   "mimetype": "text/x-python",
   "name": "python",
   "nbconvert_exporter": "python",
   "pygments_lexer": "ipython3",
   "version": "3.10.12"
  }
 },
 "nbformat": 4,
 "nbformat_minor": 5
}
