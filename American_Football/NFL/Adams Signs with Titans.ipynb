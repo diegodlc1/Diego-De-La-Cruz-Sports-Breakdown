{
 "cells": [
  {
   "cell_type": "markdown",
   "id": "953d33ba-db00-417d-9613-948da2a9e2dc",
   "metadata": {},
   "source": [
    "# Adams signs one year deal with the Titans #"
   ]
  },
  {
   "cell_type": "markdown",
   "id": "19d3d646-497c-4d61-ba2f-dc3f9539c0e0",
   "metadata": {},
   "source": [
    "Strong Safety Jamal Adams has joined the Titans on a one year deal worth an undisclosed amount at this moment in time. The former 6th overall pick hasn't showned much after his injury week one of the 2022 season, but with 3 pro bowl appearances and a weak strong safety free angency it makes sense that the Titans take a chance on the vet to help build up the Titans secondary. The Titans will have Adams as a backup behind Amani Hooker and try to compete. At the end of the day the Titans aren't in the position to win this year. This just adds depth and gives Adams the chance to maybe prove he has something left. With that being said he doesn't have anything left to make a big impact. Maybe being a backup will keep him healthier next year and build up his stock to then sign a new contract in next years free agency but I don't think he can stay healthy. The Titans do this to fill in depth but their isn't much youth in the secondary that needs to be mentored but the contract is just something to fill the roster and the cap. I'll give this signing a standard C. Not an impactful move, not much money involved, not much of a time commitment, not a contending team, and no youth to mentor. It's just a move to fill in cap space."
   ]
  }
 ],
 "metadata": {
  "kernelspec": {
   "display_name": "Python 3 (ipykernel)",
   "language": "python",
   "name": "python3"
  },
  "language_info": {
   "codemirror_mode": {
    "name": "ipython",
    "version": 3
   },
   "file_extension": ".py",
   "mimetype": "text/x-python",
   "name": "python",
   "nbconvert_exporter": "python",
   "pygments_lexer": "ipython3",
   "version": "3.10.12"
  }
 },
 "nbformat": 4,
 "nbformat_minor": 5
}
