{
 "cells": [
  {
   "cell_type": "markdown",
   "id": "b1a4a658-3e56-43ef-9512-9aa6dfcdf5ca",
   "metadata": {},
   "source": [
    "# Aiyuk Requests trade out of San Francisco #"
   ]
  },
  {
   "cell_type": "markdown",
   "id": "ac976a23-6b57-43c8-aaea-f709262e9e2d",
   "metadata": {},
   "source": [
    "Brandon Aiyuk has requested to be traded out of San Francisco. He has a year remaining on his deal and is set to make 14.124 million dollars for this upcoming season. He will be a free agent next season. I will break down the impact for the Niners and potential suitors."
   ]
  },
  {
   "cell_type": "markdown",
   "id": "a8080428-11be-40b8-8661-6815eb5c56dc",
   "metadata": {},
   "source": [
    "## Impact for the Niners ##"
   ]
  },
  {
   "cell_type": "markdown",
   "id": "e1ee2b67-6e7b-4186-a2ed-f639b1b1b788",
   "metadata": {},
   "source": [
    "The Niners are going through this again for another year. I see the 2 outcomes have an equal chance of happening. I can see Aiyuk coming back and I can see a trade going through. Aiyuk wants an extension and he is doing what Deebo did and trying to get a new contract with the Niners and if they're not going to give it to him then. I think that he would ask for a similar deal as Deebo, Pittman Jr., Metcalf, and Collins range deal. I see 23-25 million dollars a year for a 4-year deal. I think that it would be a solid deal as I think that he's an impact player for a Super Bowl-contending team. The issue is that the Niners don't have that money next year and would have to make moves next year to try and fit him in the cap. Losing Aiyuk would be terrible for the Niners. They made it to the Super Bowl and to continue with that they would need to try and keep Aiyuk. They only have 3 WR that are serviceable and to continue to contend for a Super Bowl. I think that the Niners should sign this deal and continue to contend but I don't think they will."
   ]
  },
  {
   "cell_type": "markdown",
   "id": "6c796d58-cb7c-467e-8404-42b5b3f8249a",
   "metadata": {},
   "source": [
    "## Potential Suitors ##"
   ]
  },
  {
   "cell_type": "markdown",
   "id": "05fe119b-1a65-426b-b177-a83788bd5595",
   "metadata": {},
   "source": [
    "I can see 7 teams looking to add Aiyuk to their teams. I say that the Steelers, Chargers, Packers, Jaguars, Cardinals, Commanders, and Patriots are the best suitors for Aiyuk. I would say that the Packers and Cardinals are most likely no go as the Packers are contending with the Niners and the Cardinals are in the same division. I'm not saying that it won't happen if they overpay, but I highly doubt these teams would overpay as the Packers WR room is young and solid throughout and the Cardinals would want to develop MHJ. This would leave the Steelers, Chargers, Jaguars, Commanders, and Patriots. These are the teams that would be able to trade just picks for him and give him the extension that he is looking for. With that being said I would say that the Steelers and Jaguars are the two teams that would offer the biggest package as they are closer to contending in the next 4 years than the other 4. I believe the Commanders and the Chargers are further away and would start contending around the 3rd year in his contract if everything goes right, maybe a year earlier for the Chargers. The Patriots are further away and if they trade for Aiyuk they won't compete until at least the last year of his deal and it's not worth it at that point. It truthfully will be the Steelers and the Jaguars out of every other team. I think a first-rounder, second-rounder, fifth-rounder, and maybe a seventh would be the deal. If I had to pick the team then I would say the Steelers would be the team that gets him."
   ]
  }
 ],
 "metadata": {
  "kernelspec": {
   "display_name": "Python 3 (ipykernel)",
   "language": "python",
   "name": "python3"
  },
  "language_info": {
   "codemirror_mode": {
    "name": "ipython",
    "version": 3
   },
   "file_extension": ".py",
   "mimetype": "text/x-python",
   "name": "python",
   "nbconvert_exporter": "python",
   "pygments_lexer": "ipython3",
   "version": "3.10.12"
  }
 },
 "nbformat": 4,
 "nbformat_minor": 5
}
