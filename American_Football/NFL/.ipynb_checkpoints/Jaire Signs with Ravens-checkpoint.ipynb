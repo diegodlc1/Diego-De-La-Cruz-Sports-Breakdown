{
 "cells": [
  {
   "cell_type": "markdown",
   "id": "e0edb7be-6bcd-45c5-b185-ec26338fd8f9",
   "metadata": {},
   "source": [
    "# Jaire Alexander signs with Ravens"
   ]
  },
  {
   "cell_type": "markdown",
   "id": "c996ecd6-72bc-4248-827c-a74550261b28",
   "metadata": {},
   "source": [
    "The Baltimore Ravens has signed Jaire Alexander to a 1-year, 6 million dollar deal to join the Ravens for this coming season. I will break down my thoughts in this write-up."
   ]
  },
  {
   "cell_type": "markdown",
   "id": "dd1b503d-a04e-4c26-bd27-9b27e0800b66",
   "metadata": {},
   "source": [
    "## My Thoughts"
   ]
  },
  {
   "cell_type": "markdown",
   "id": "ff8e0408-7c58-400c-8070-46d1726ff405",
   "metadata": {},
   "source": [
    "I have a lot of thoughts on this. It's a solid signing by the Ravens. When healthy, Jaire is worth more than the 6 million that the Ravens are paying him. The issue is his injury history. He's played 14 games in total with the Packers over the last 2 seasons. That's on top of only playing 34 games the last four seasons. That is only half of the regular season games in that timeline. He's hurt often, but is a great CB when healthy. In total, I do think he's slightly overpaid. The Ravens are paying him as the ninth-highest player on their roster. I think there was a decent market for him, and that's the reason why he's paid 6 million instead of the 5 million I was expecting him to get. Talent-wise, he's worth more; injury-wise, it's fine. I like him on the Ravens, too. He fills a need as a second CB next to Humphrey on a contending team. I'm still high on Wiggins, but as a competing team, getting a veteran is important. Also, Wiggins will get enough reps as Jaire is more than likely going to get injured this season, or the Ravens would look to run cover 1 man often.\n",
    "\n",
    "For Jaire, it's a fine deal. Supposedly, the Panthers are offering him more money. I would've tried to lock up a multi-year deal instead of a 1-year deal, but if you're high on yourself in both health and skill, then take the 1-year prove-it deal. It's a solid deal all around.\n",
    "\n",
    "In total, it's a B+ signing. I'm also seeing it's only 4 million with the other 2 million in incentives, which is a great deal if that's the real numbers. If it's that, then it's an A signing for the Ravens. For Jaire, I'll give it a B+ signing. Maybe his goal is to play with his friends and ring chase. If so, then good move. If it's money, he should've gotten a multi-year deal if he had one, or signed with the Panthers for more money. I'm not high on his health."
   ]
  }
 ],
 "metadata": {
  "kernelspec": {
   "display_name": "Python 3 (ipykernel)",
   "language": "python",
   "name": "python3"
  },
  "language_info": {
   "codemirror_mode": {
    "name": "ipython",
    "version": 3
   },
   "file_extension": ".py",
   "mimetype": "text/x-python",
   "name": "python",
   "nbconvert_exporter": "python",
   "pygments_lexer": "ipython3",
   "version": "3.10.12"
  }
 },
 "nbformat": 4,
 "nbformat_minor": 5
}
