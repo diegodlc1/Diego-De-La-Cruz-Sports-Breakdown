{
 "cells": [
  {
   "cell_type": "markdown",
   "id": "95e49e8a-d0ee-44e1-b244-33b1ea1ee95d",
   "metadata": {},
   "source": [
    "# Bucs Gurantee Mayfield's Money"
   ]
  },
  {
   "cell_type": "markdown",
   "id": "b22a9358-16eb-48cb-bcfd-367526f3a325",
   "metadata": {},
   "source": [
    "Baker Mayfield and the Tampa Bay Buccaneers have restructured his contract to guarantee 30 million for next season. This gurantees Mayfield coming back for next season and the Bucs holding onto the best deal at the QB position."
   ]
  },
  {
   "cell_type": "markdown",
   "id": "38a091eb-eab5-41e7-bc8e-9c56e39cc920",
   "metadata": {},
   "source": [
    "## Impact for Bucs"
   ]
  },
  {
   "cell_type": "markdown",
   "id": "8e218baa-48ef-4ed3-8e9a-5c0bc8628075",
   "metadata": {},
   "source": [
    "Solid deal for both parties. Mayfield gets guaranteed money from the previous, with nothing being guaranteed. The Bucs get to build a relationship with Mayfield in showing that they trust him to be their QB of the near future. This has a small impact on the Bucs' cap, as the Bucs increase their cap for next season by 3 to 20 million, depending on how they restructure the deal. It's worth it for the Bucs in that they still have space, but it'll depend on whether the salary increases and the bonuses stay the same or if they're putting the bonus into the salary. I'm assuming the bonuses get added to the salary, and Mayfield gets a 3 million pay raise. Either way, it's great for all parties and shows a healthy working relationship."
   ]
  }
 ],
 "metadata": {
  "kernelspec": {
   "display_name": "Python 3 (ipykernel)",
   "language": "python",
   "name": "python3"
  },
  "language_info": {
   "codemirror_mode": {
    "name": "ipython",
    "version": 3
   },
   "file_extension": ".py",
   "mimetype": "text/x-python",
   "name": "python",
   "nbconvert_exporter": "python",
   "pygments_lexer": "ipython3",
   "version": "3.10.12"
  }
 },
 "nbformat": 4,
 "nbformat_minor": 5
}
