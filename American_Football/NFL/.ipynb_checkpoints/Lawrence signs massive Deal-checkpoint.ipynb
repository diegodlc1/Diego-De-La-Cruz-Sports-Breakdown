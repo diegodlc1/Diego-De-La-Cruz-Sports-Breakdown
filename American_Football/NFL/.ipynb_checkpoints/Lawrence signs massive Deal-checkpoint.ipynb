{
 "cells": [
  {
   "cell_type": "markdown",
   "id": "6456b1a9-2a6a-46f8-baab-39b74748edc4",
   "metadata": {},
   "source": [
    "# Trevor Lawrence signs 5-year extension #"
   ]
  },
  {
   "cell_type": "markdown",
   "id": "585309c6-deea-4eb8-a638-bb56f8942b8b",
   "metadata": {},
   "source": [
    "The 2021 First Overall Pick, Trevor Lawrence, has signed a 5-year 275 million dollar contract, 55 million a year, 200 million guranteed. This will make him the tied as the highest paid Quarterback per year with Joe Burrow. I will add my thoughts about the impact for the Jags and just free agency and such"
   ]
  },
  {
   "cell_type": "markdown",
   "id": "16453663-f0a1-4fd7-b6a3-973b34225452",
   "metadata": {},
   "source": [
    "## Impact on the Jags ##"
   ]
  },
  {
   "cell_type": "markdown",
   "id": "065422f7-a1ca-4cb4-b316-02898adcb0ba",
   "metadata": {},
   "source": [
    "The Jaguars signed their Quarterback of the future to a long-term deal. Honestly, it's not that bad of a deal. I think at his age, 24, and the potential he had coming into the league, it may be seen as a bargain, even with the increase of the Cap. It's a really good deal compared to the market. I also think that Lawrence is a good quarterback and that is hard to come by in the NFL. He is also someone who I think can win the Super Bowl, so in that case, it is a good deal to lock him in for the longer term. My only issue is that Lawrence is somewhat injury-prone. While he has been available for every game in the 21 and 22 seasons, only missing 1 game last year, he is available. However, he seems to always nurse an injury at some point in the season. That's the only main concern I have with this deal, however, a good QB is a position you would always have to pay for. The Jags seemed to offer him the most money near the end of the deal, expecting the cap to increase by then. With that being said I think that this is a great deal."
   ]
  },
  {
   "cell_type": "markdown",
   "id": "698d4d84-ca65-433a-b043-5641c0726209",
   "metadata": {},
   "source": [
    "## Impact on the NFL ##"
   ]
  },
  {
   "cell_type": "markdown",
   "id": "997a8e9c-77e0-431c-bd95-4f54e0274951",
   "metadata": {},
   "source": [
    "As any major contract will have, this will have an impact on the NFL. The main question is with Dak, Jordan Love, and Tua. Those are the 3 starting quarterbacks who can get more money from this. With that being said, I don't think that Jordan Love will command that much money. I think that Trevor Lawrence is much more expereienced and proven QB in the NFL than Love. While they are the same age, I don't think that Love has proven enough in the one season to command the same price. My prediction would be a 5-year 50 Million dollar deal if Love is proving it, or if he wants to get signed now, a 3-year 55 million dollar deal migh tbe offered. It depends on what the Packers front office see in Love, if this was a one season fluke, or he's the real deal. With Dak Prescott, I can see a similar deal as Love. He has proven enough that he does deserve a deal, however, he is on the older side. Looking at Cousins contract is more of a gage on the idea than Lawrence's. As for Tua, this is were this contract my be a huge deal. Tua, to me, has proven to be a better QB. The only thing that Lawrence has over Tua is one playoff win, other than that, if you look at Tua's stats, he has a higher completion %, more TDs, same number of Ints, higher QBR last season. That to me shows that Tua is just better. I think that Tua can command 60 million a year and that shouldn't be looked as bad. The one knock to Tua is his injury history, that can bring down his value. \n",
    "\n",
    "The one loser in this as well is the Lions. Like I understand that QB is a hard position to lock down and you need to draft talent at that position. However, Goff is 5 years older, doesn't have the potential as Lawrence, and to me doesn't have it to win the Super Bowl, unlike Lawrence, yet he is getting 2 million dollars less this year. This is a terrible deal for the Lions and I will stand by this position."
   ]
  }
 ],
 "metadata": {
  "kernelspec": {
   "display_name": "Python 3 (ipykernel)",
   "language": "python",
   "name": "python3"
  },
  "language_info": {
   "codemirror_mode": {
    "name": "ipython",
    "version": 3
   },
   "file_extension": ".py",
   "mimetype": "text/x-python",
   "name": "python",
   "nbconvert_exporter": "python",
   "pygments_lexer": "ipython3",
   "version": "3.10.12"
  }
 },
 "nbformat": 4,
 "nbformat_minor": 5
}
