{
 "cells": [
  {
   "cell_type": "markdown",
   "id": "5aefd37a-ef30-4537-a55b-ff4cc9717edb",
   "metadata": {},
   "source": [
    "# Diggs signs one-year deal with Titans #"
   ]
  },
  {
   "cell_type": "markdown",
   "id": "00679c4d-f3fe-4f21-bace-8d8a780b9a1d",
   "metadata": {},
   "source": [
    "Quandre Diggs has signed a 1-year deal worth up to 5 million dollars. This signing add a new starting safety for the Titans for this coming year. The 31-year-old safety is not set to be the second highest paid Safety for the TItans this coming season. With that being said I will go into depth with this signning for the Titans."
   ]
  },
  {
   "cell_type": "markdown",
   "id": "025b407f-372c-41b5-8909-5c8df6ceab3b",
   "metadata": {},
   "source": [
    "## Imapact for the Titans ##"
   ]
  },
  {
   "cell_type": "markdown",
   "id": "a0cac1ad-41c7-4e9b-bb85-6b9ad4971837",
   "metadata": {},
   "source": [
    "This signing is a great signning for the Titans. Amani Hooker will be paid more than Diggs, however Diggs is both younger, plays SS, and is comperable to Diggs as a player. I would even say that Diggs is slightly a better player than Hooker. Diggs should be set to be the starting Free Safety for the Titans, however it's not enough to make an impact for the Titans to be a better team overall. The Titans are set to be one of the worst teams this coming season so it might not make too much of an impact for the Titans right now but it fills a much needed positiong of Strong Safety for the Titans. 5 million dollars a year is a great deal for the Titans to get a former Pro Bowler that had a substantial drop off in production last season. The Titans are getting a decent deal for the guy and fills a much needed position. A solid A signning."
   ]
  }
 ],
 "metadata": {
  "kernelspec": {
   "display_name": "Python 3 (ipykernel)",
   "language": "python",
   "name": "python3"
  },
  "language_info": {
   "codemirror_mode": {
    "name": "ipython",
    "version": 3
   },
   "file_extension": ".py",
   "mimetype": "text/x-python",
   "name": "python",
   "nbconvert_exporter": "python",
   "pygments_lexer": "ipython3",
   "version": "3.10.12"
  }
 },
 "nbformat": 4,
 "nbformat_minor": 5
}
