{
 "cells": [
  {
   "cell_type": "markdown",
   "id": "47d4afdc-47ab-437d-9f32-bd438b597522",
   "metadata": {},
   "source": [
    "# Tua Signs Extension with Dolphins #"
   ]
  },
  {
   "cell_type": "markdown",
   "id": "20c5c42f-ed65-4e07-af65-676bd240eed2",
   "metadata": {},
   "source": [
    "The Dolphins have signed Tua Tagovailoa to a 4-year 212.4 million dollar Extension. This sets Tua to be the third highest-paid QB by APY at 53.1 million dollars a year, 167 million dollars will be guaranteed in this deal. In this move, I will break down this move for the Dolphins."
   ]
  },
  {
   "cell_type": "markdown",
   "id": "5ddca1f5-c8f2-42f8-9150-122c7269aecc",
   "metadata": {},
   "source": [
    "## Impact for the Dolphins ##"
   ]
  },
  {
   "cell_type": "markdown",
   "id": "3a947cbe-c26f-45cd-8318-878d173da139",
   "metadata": {},
   "source": [
    "Great deal for both the Dolphins and Tua. The Dolphins are currently looking to make an impact during the rest of Tyreek's contract. Tua is the best option at QB right now for the Dolphins. With that being said Tua gets paid a fair amount, less per year than Lawrence, and gets a short-term deal to gamble on himself to make more money if he performs and if the cap rises more. This is also a great deal for the Dolphins as they get to keep Tua for the rest of Tyreek's contracts and is a short-term deal where they can pivot if Tua doesn't perform to the level that the Dolphins are hoping for and start rebuilding after this contract. If I'm the Dolphins I'm hoping for a Conference Championship appearance to justify giving him an extension. This is a great deal for all involved and on top of that many other top teams are paying QBs a lot in the coming years as their contracts are backloaded and those years are coming up, for example, Jackson and Mahomes. This is a great deal for all teams involved and I would give this signing a solid A-. I also like Tua and truly think that he gets too much hate."
   ]
  }
 ],
 "metadata": {
  "kernelspec": {
   "display_name": "Python 3 (ipykernel)",
   "language": "python",
   "name": "python3"
  },
  "language_info": {
   "codemirror_mode": {
    "name": "ipython",
    "version": 3
   },
   "file_extension": ".py",
   "mimetype": "text/x-python",
   "name": "python",
   "nbconvert_exporter": "python",
   "pygments_lexer": "ipython3",
   "version": "3.10.12"
  }
 },
 "nbformat": 4,
 "nbformat_minor": 5
}
