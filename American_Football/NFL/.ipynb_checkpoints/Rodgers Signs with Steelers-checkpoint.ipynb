{
 "cells": [
  {
   "cell_type": "markdown",
   "id": "c5fe1880-55c2-4a3c-b53d-3efafb0e22b7",
   "metadata": {},
   "source": [
    "# Aaron Rodgers sign with the Steelers"
   ]
  },
  {
   "cell_type": "markdown",
   "id": "b611b7cd-8ff3-4c04-90bd-440f10d4e142",
   "metadata": {},
   "source": [
    "I have been doing a lot of different writing for law school, so I had to take a short break from this, but now I should be good to write on this every day until at the minimum the 1st of August. With that being said, let's get into this."
   ]
  },
  {
   "cell_type": "markdown",
   "id": "75f3f087-89a4-435e-b5b4-4d7f9a3047bc",
   "metadata": {},
   "source": [
    "## Cap Hit/Contract"
   ]
  },
  {
   "cell_type": "markdown",
   "id": "e74615ca-4984-41be-aca9-1accfeed82b6",
   "metadata": {},
   "source": [
    "It seems like Rodgers is set to have a 1-year, 10 million contract, adding a cap hit to the Steelers' cap sheet. Not sure on the signing bonus numbers or the salary numbers, but at the end of the day, the cap hit for the Steelers will end up being around 10 million since it is a one-year deal, and that full number will be attributed to this year's cap sheet."
   ]
  },
  {
   "cell_type": "markdown",
   "id": "f8706aad-b8e9-4476-aa49-172bf40c1439",
   "metadata": {},
   "source": [
    "## Impact for the Steelers and Rodgers"
   ]
  },
  {
   "cell_type": "markdown",
   "id": "77945a5a-7ff5-4dcd-a841-f3a2824d1432",
   "metadata": {},
   "source": [
    "I mean, this is a huge get for the Steelers and the most obvious landing spot for Rodgers. The Steelers have been building their team to compete now, but they had a huge hole at QB that needed to be filled coming into this season. I think they reached their peak in Wilson and weren't willing to pay Fields the number that the Jets gave him, which is fair, but they needed an option for this year, and potentially next, while they find their QB for the future through the draft. I don't blame the Steelers. Rodgers is still a fine option, and by making the moves, like signing Metcalf, the Steelers did this offseason, it seemed like they wanted to compete this next year. Of all of the free agent options, Rodgers is the best player for that. We should see the Steelers as a top AFC team this season with this signing, but the Steelers still need to find a QB for the future. I'll give this a B+ signing. The Steelers are going to compete for this year and maybe next year, but they need to hit on a QB at either the end of the first round or a non-first-round QB, which is going to be difficult. While they should be set for now and at a low risk, they're not going to hit on a future franchise QB if they keep up their history, which can lift them up more than Rodgers can do from now. They also got him as the 24th-paid QB in the league.\n",
    "\n",
    "Rodgers made the best choice for himself to start the season. The Saints or Giants aren't going to compete right now. The Colts want to run with Richardson one more year and take a chance with Jones. Rodgers wants to compete now, the Steelers have the best team to compete for now, and it's better to be with a team to start the season instead of hoping a QB from a competing team gets injured and stepping in for the season. This is the best landing spot for him. A+ decision for him and his agent."
   ]
  }
 ],
 "metadata": {
  "kernelspec": {
   "display_name": "Python 3 (ipykernel)",
   "language": "python",
   "name": "python3"
  },
  "language_info": {
   "codemirror_mode": {
    "name": "ipython",
    "version": 3
   },
   "file_extension": ".py",
   "mimetype": "text/x-python",
   "name": "python",
   "nbconvert_exporter": "python",
   "pygments_lexer": "ipython3",
   "version": "3.10.12"
  }
 },
 "nbformat": 4,
 "nbformat_minor": 5
}
