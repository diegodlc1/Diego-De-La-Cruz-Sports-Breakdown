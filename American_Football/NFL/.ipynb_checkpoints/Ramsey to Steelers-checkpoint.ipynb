{
 "cells": [
  {
   "cell_type": "markdown",
   "id": "c49dbdf9-5dde-4be3-a4ac-f54e0095dffc",
   "metadata": {},
   "source": [
    "# Steelers and Dolphins Make Trade"
   ]
  },
  {
   "cell_type": "markdown",
   "id": "9385cad4-deff-4618-9fb0-66995f2cd11a",
   "metadata": {},
   "source": [
    "With everything going on with the NBA and NHL for their free agency periods, I want to take some time and talk about some NFL news. The Dolphins are trading Minkah Fitzpatrick and a 5th round pick for Jonnu Smith and Jalen Ramsey. I will be breaking that part down here."
   ]
  },
  {
   "cell_type": "markdown",
   "id": "a7dcc382-9028-4cbc-9c60-6231910b40a8",
   "metadata": {},
   "source": [
    "## Impact for Pittsburgh"
   ]
  },
  {
   "cell_type": "markdown",
   "id": "0eec9d53-941b-48ec-b16f-ae4b666b7c8d",
   "metadata": {},
   "source": [
    "The Steelers are going all in currently. I like this deal. While they take a slight downgrade at the Safety position, they beef up their TE and CB spots. I would've preferred a WR instead of another TE when you have Freiermuth, but a pass-catching TE isn't a terrible backup option. I can get that part of the end if a WR2 isn't on the market. I can get that, but it's hard to fully justify with Friermouth. Ramsey is still a solid CB in the league and can help shore up that position for the Steelers. They need more help at that, but losing Fitzpatrick is a tough pill to swallow. It's just hard to understand. They're shoring up one position and leaving a hole in the other. I will give this trade a B-. Solid to get another pass-catcher, but it being a TE isn't great. They're adding more salary, too. I can see some of the vision, but not fully."
   ]
  },
  {
   "cell_type": "markdown",
   "id": "dc095d2f-631f-4ea6-96f9-f6bdd37f749a",
   "metadata": {},
   "source": [
    "## Impact for Miami"
   ]
  },
  {
   "cell_type": "markdown",
   "id": "ac06e00a-5f21-429b-ab70-045a707c06e5",
   "metadata": {},
   "source": [
    "Yeah, I don't really get it for the Dolphins. I don't like Waller, who they just got in a trade. I don't think he's going to turn back around. Fitzpatrick is a fine addition, and saving money is nice, too. Fitzpatrick fills a safety position, but I'm not crazy about their cornerbacks either. I think they're still trying to compete, and this is telling me that it is a competing move, but I'm not fully certain why they would go through this. I would give this trade a B- as well. It's a lateral move to me and we'll see if I'm wrong about it."
   ]
  },
  {
   "cell_type": "markdown",
   "id": "7ebe8f1b-8ada-4202-a76b-c79e09058853",
   "metadata": {},
   "source": [
    "## Final Thoughts"
   ]
  },
  {
   "cell_type": "markdown",
   "id": "3dbf8e6e-3ff6-4303-81d1-7e2f2dabdb20",
   "metadata": {},
   "source": [
    "This is a very meh trade. I guess the Dolphins would like to fill this need, but this just creates a hole at the CB position. Vice Versa for the Steelers. I get that the Steelers get another pass catcher in this trade, but do they need a TE when they have Freiermuth? Like I said, a WR2 might not be on the market, and this is the best move they can make to get another pass-catcher on the team. Either way, I guess this could make sense, but I just don't get it. With that all being said, this feels like a lateral move for both teams, so we'll have to see how this would play out."
   ]
  }
 ],
 "metadata": {
  "kernelspec": {
   "display_name": "Python 3 (ipykernel)",
   "language": "python",
   "name": "python3"
  },
  "language_info": {
   "codemirror_mode": {
    "name": "ipython",
    "version": 3
   },
   "file_extension": ".py",
   "mimetype": "text/x-python",
   "name": "python",
   "nbconvert_exporter": "python",
   "pygments_lexer": "ipython3",
   "version": "3.10.12"
  }
 },
 "nbformat": 4,
 "nbformat_minor": 5
}
