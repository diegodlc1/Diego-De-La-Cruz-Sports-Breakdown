{
 "cells": [
  {
   "cell_type": "markdown",
   "id": "b4c6eb2c-cb3c-484c-ba96-bc5654196e84",
   "metadata": {},
   "source": [
    "# MVS Signs for Bills with contract worth up to $4.5 Million #"
   ]
  },
  {
   "cell_type": "markdown",
   "id": "ddd59ca2-c25c-46d8-80c8-352df2dbe8d0",
   "metadata": {},
   "source": [
    "UFA Valdes-Scantling has signed a contract worth upwards for $4.5 Million for one year. Supposidely the salary is worth 1.125 million dollars with a 1.125 million signing bonus. The remainder of the contract is based on incentives for this coming season\n",
    "\n",
    "This is a good signning for the Bills. The contract makes him one of the higher paid recievers in Buffalo however the reciever room in Buffalo isn't impressive anymore. With this signing, I think the Bills are trying to bring in someone who can run block like Davis last year. MVS has always been a good run blocker however he drops a lot of passes. Only catching 50% of balls thrown last year, coming from Patrick Mahomes as well, he is a notorious pass dropper, however he is worth a flier to try and see what he can do with a new team.\n",
    "\n",
    "I like Khalil Shakir a lot more than MVS. They're both slot recievers and Shakir put up solid numbers with a catch percentage of 86.7% and with more receptions than MVS last year. On top of that Samuel is better and I think that Coleman is a new draft prospect that should get playing time next year. I think that he would be a good rotational piece, especially in running situations."
   ]
  }
 ],
 "metadata": {
  "kernelspec": {
   "display_name": "Python 3 (ipykernel)",
   "language": "python",
   "name": "python3"
  },
  "language_info": {
   "codemirror_mode": {
    "name": "ipython",
    "version": 3
   },
   "file_extension": ".py",
   "mimetype": "text/x-python",
   "name": "python",
   "nbconvert_exporter": "python",
   "pygments_lexer": "ipython3",
   "version": "3.10.12"
  }
 },
 "nbformat": 4,
 "nbformat_minor": 5
}
