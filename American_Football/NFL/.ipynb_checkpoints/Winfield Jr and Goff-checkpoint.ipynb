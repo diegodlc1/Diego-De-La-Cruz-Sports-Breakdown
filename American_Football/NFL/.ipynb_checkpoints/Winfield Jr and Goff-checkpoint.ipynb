{
 "cells": [
  {
   "cell_type": "markdown",
   "id": "57bc27c7-fdc3-4045-8b04-40ef576f59cb",
   "metadata": {},
   "source": [
    "# Winfield Jr. signs Record Contract for Bucs, Goff signs extension to be second Highest paid player per year #"
   ]
  },
  {
   "cell_type": "markdown",
   "id": "16ef4015-c3ef-416e-9ee0-0b45a94d42a3",
   "metadata": {},
   "source": [
    "Winfield Jr. signs 4 year 84.1 million dollar contract with the Bucs while a couple hours later Goff signs a 4 year 212 million dollar contract with the Lions to be the second highest paid player per year, only behind Joe Burrow."
   ]
  },
  {
   "cell_type": "markdown",
   "id": "e06a0bf9-8667-4982-9cea-cdc24666c1ec",
   "metadata": {},
   "source": [
    "## Winfield and Tampa ##"
   ]
  },
  {
   "cell_type": "markdown",
   "id": "2c2b6f77-aa38-4cfa-941e-72cd1a242926",
   "metadata": {},
   "source": [
    "Winfield to me is one of the best safety's in the NFL, if not the best. Giving up 69% of completions per target as a Safety as well as getting 76 solo tackles and 4 fumble recoverers, Winfield Jr. to me is worth that contract with the Buccaneers. The Buccaneers are coming off of a Divisional round appearance and a 9-8 record last year and Winfield is a key contributor to that. I don't know how the Buccaneers were able to keep Mayfield, Evans, and David but here we are. This contract makes him the highest-paid Safety in the league. While I still have question marks on Mayfield, I think that Winfield is a surefire thing and deserves every penny. If you want to be a great team in the NFL you need a solid defense, Winfield is that"
   ]
  },
  {
   "cell_type": "markdown",
   "id": "1ed713b3-3778-4e9e-aade-f1b8776dc4da",
   "metadata": {},
   "source": [
    "## Goff signs extension with Lions ##"
   ]
  },
  {
   "cell_type": "markdown",
   "id": "e98c86b9-6b30-44d6-8723-427cf4ac5c89",
   "metadata": {},
   "source": [
    "Goff just signed a 4-year 212 million dollar contract with the Lions to become the second highest-paid quarterback in the league. While I understand that the Lions are in win-now mode and based on the quarterback market the last 2 seasons being bad, I think that this was an overpay. I get the circumstances. I get that he is the best chance for the Lions to win a Super Bowl. The quarterback market has been bad for the last couple of years with no true win now quarterbacks unless you count Cousins last year (I didn't with him coming off an ACL tear at his age). However, he is not worth being paid as the second-highest-paid quarterback in the League. I think a 4-year 188 million dollar contract or even pushing for a 5-year 230 million would be more of a reasonable price for Goff if they were high on him for an extra year, however, I get giving only 4 years but not for 212 million. With only Burrow getting more than him (which I think is fair), Goff will be a big cap hit for the Lions. The Lions won't have that much cap space to make improvements to the squad in the future. They would have to hope that they hit the draft, which in all honesty they have.\n",
    "\n",
    "I understand that looking at the players in next year's free agency market Goff is the Lions' best chance right now to win a Super Bowl. With Wilson and Prescott being the only other names next year that can make the push, I think that Goff has the best chance. However, that chance is next to none. I understand why they overpaid but I don't think that Goff can win them a Super Bowl and the better action was to ride out this year and go from there. If he proves to have a great year then I would resign him, if he proves to have the same or worse year, then I would let him go and draft a Quarterback to develop in 3 years. I know they're in win now mode but they won't win now with Goff under center. I think that they trapped themselves for at least 3 years with no Super Bowl. Maybe the Lions draft someone in 2 years to develop under Goff, which I think is the smartest option now that Goff re-signed, or maybe they ride this contract out hoping for a Super Bowl.\n",
    "\n",
    "I think that this was a bad decision made by the front office to sign Goff. If the Lions couldn't get him for the 4-year 188 million or less. Anything more than that will tie the Lions up with too much money and they can't make a move for a future free agent. While I think they have a solid backfield and O-Line, I think that parts of the defense are questionable and the WR room is questionable. I see much better teams with cheaper QBs being title contenders, while the Lions will be strung up in Goff's massive contract."
   ]
  }
 ],
 "metadata": {
  "kernelspec": {
   "display_name": "Python 3 (ipykernel)",
   "language": "python",
   "name": "python3"
  },
  "language_info": {
   "codemirror_mode": {
    "name": "ipython",
    "version": 3
   },
   "file_extension": ".py",
   "mimetype": "text/x-python",
   "name": "python",
   "nbconvert_exporter": "python",
   "pygments_lexer": "ipython3",
   "version": "3.10.12"
  }
 },
 "nbformat": 4,
 "nbformat_minor": 5
}
