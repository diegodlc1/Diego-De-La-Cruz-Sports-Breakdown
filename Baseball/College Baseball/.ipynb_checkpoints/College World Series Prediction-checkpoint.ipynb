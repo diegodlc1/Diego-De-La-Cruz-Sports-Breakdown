{
 "cells": [
  {
   "cell_type": "markdown",
   "id": "d0f92411-f4c1-416c-b9fb-40fadfdda29a",
   "metadata": {},
   "source": [
    "# College World Series Final Predictions #"
   ]
  },
  {
   "cell_type": "markdown",
   "id": "1275ca38-5e98-476e-8882-ed7dde904622",
   "metadata": {},
   "source": [
    "Looking at my predictions from last time, I feel like I did fine. Getting 4 of the 8 teams correct, I want to be able to predict the remainder of this tournament. Since this is a double elimination tournament until the 3 game final series, I'll try to predict the Semis, pick a winner, and then talk about the finals. With that being said here are my predictions for the remainder of this tournament."
   ]
  },
  {
   "cell_type": "markdown",
   "id": "88a7840b-22a5-4c2e-b8b9-0eb7e402a787",
   "metadata": {},
   "source": [
    "## Bracket 1: North Carolina, Virginia, Tennessee, Florida State ##"
   ]
  },
  {
   "cell_type": "markdown",
   "id": "fc81c3b0-b170-4a70-b1c6-e504d3c0f6d2",
   "metadata": {},
   "source": [
    "In this bracket we have 3 ACC teams with Tennessee being the only non-ACC team. With that being said, this is the Semi-Finals that I see coming from this bracket.\n",
    "\n",
    "Tennessee v Florida State\n",
    "\n",
    "I think that these are the 2 best-performing teams in this bracket. I think that North Carolina is the worst team in this bracket. They played in some of the closes games in this tournament against possibly weaker teams. This team will lose to Virginia and Tennessee. Virginia is a good team. I think that they have the best pitching on this side of the bracket but the batting isn't impressive. I think that Florida State and Tennessee have way better hitting than the other team, and only slightly worse pitching than Virginia. For that reason, Virginia will lose to both Tennessee and Florida State. In the end, I think Florida State is one of the best teams remaining. They will edge out Tennessee in 2 matches at the Semi-Finals.\n",
    "\n",
    "With that being said, Florida State will go to the Finals this year"
   ]
  },
  {
   "cell_type": "markdown",
   "id": "85bd5491-566f-413e-b095-d69774361b09",
   "metadata": {},
   "source": [
    "## Bracket 2: Kentucky, NC State, Texas A&M, Florida ##"
   ]
  },
  {
   "cell_type": "markdown",
   "id": "eca2500f-d105-4876-9c29-3e60aac66330",
   "metadata": {},
   "source": [
    "In this bracket we have the opposite as above. We have 3 SEC schools and 1 ACC school. With that being said, this is the Semi-Finals match that I see happening.\n",
    "\n",
    "Kentucky vs Texas A&M\n",
    "\n",
    "Florida is the worst team remaining. I don't think that this team will win any games in this World Series, and should lose to both Texas A&M and then NC State. For NC State, they have one of the better bats remaining on this side of the bracket. However, I don't think that that's enough to get out of this situation. NC State will beat Florida, but they will lose to Kentucky First, beat Florida, then lose to Kentucky again. With that being said, Kentucky has the best remaining pitching in this tournament. However, Kentucky doesn't have enough bats to get past Texas A&M. They will beat NC State, lose to Texas A&M, beat NC State again, and then lose to NC State in 2 games. The winner of this group is A&M."
   ]
  },
  {
   "cell_type": "markdown",
   "id": "2bb96b72-feb0-4a7b-9e59-a26ff7d5f82b",
   "metadata": {},
   "source": [
    "## Finals ##"
   ]
  },
  {
   "cell_type": "markdown",
   "id": "0acf5943-bd9d-464d-8990-972403985aa9",
   "metadata": {},
   "source": [
    "The Finals will be:\n",
    "\n",
    "Florida State vs Texas A&M\n",
    "\n",
    "I think that they are relatively even. I think that both teams' pitching is even to each other, and will depend mostly on the bats. For that reason, I think that Florida State has that edge over A&M. FSU will win this in 2 games as well, I think that FSU is on a roll right now. They will bring home their first title and add that to this historic program.\n",
    "\n",
    "Winner: Florida State"
   ]
  }
 ],
 "metadata": {
  "kernelspec": {
   "display_name": "Python 3 (ipykernel)",
   "language": "python",
   "name": "python3"
  },
  "language_info": {
   "codemirror_mode": {
    "name": "ipython",
    "version": 3
   },
   "file_extension": ".py",
   "mimetype": "text/x-python",
   "name": "python",
   "nbconvert_exporter": "python",
   "pygments_lexer": "ipython3",
   "version": "3.10.12"
  }
 },
 "nbformat": 4,
 "nbformat_minor": 5
}
