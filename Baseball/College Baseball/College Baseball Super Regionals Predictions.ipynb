{
 "cells": [
  {
   "cell_type": "markdown",
   "id": "8100f2a7-d1ca-46f3-a2dd-e945e92154c5",
   "metadata": {},
   "source": [
    "# College Baseball Predictions #"
   ]
  },
  {
   "cell_type": "markdown",
   "id": "335f586b-977b-42cb-b396-0b832368cef0",
   "metadata": {},
   "source": [
    "With the College Baseball regionals done, I want to look at the Super Regionals and make my predictions on who will make it to the College World Series in Omaha this year. There is 16 teams remaining and 8 spots so I will try and predict this next round."
   ]
  },
  {
   "cell_type": "markdown",
   "id": "527ba236-cf72-4f4a-b250-d7ead2f27186",
   "metadata": {},
   "source": [
    "## Tennessee vs Evansville ##"
   ]
  },
  {
   "cell_type": "markdown",
   "id": "53997f3c-700c-453a-b175-57e0e081b3de",
   "metadata": {},
   "source": [
    "We see an Underdog going up against the top team in the nation in what could be seen as an easy prediction. While I would like to see Evansville pull off the upset, I just can't see it with their pitching and defensive output compared to the likes of Tennessee, I see Tennessee winning this in 2, one close game and then one blow out. "
   ]
  },
  {
   "cell_type": "markdown",
   "id": "c9bc830b-3239-4727-8dcb-c5bf19a86eb5",
   "metadata": {},
   "source": [
    "## UCONN vs Florida State ##"
   ]
  },
  {
   "cell_type": "markdown",
   "id": "bd05dfc1-d290-4774-b4b9-16d81363cbf7",
   "metadata": {},
   "source": [
    "Kind of like above we see the traditional powerhouse in Florida State going up agaist a more non-traditional team in UCONN. With that being said, I believe that this series will only go to 2 games with Florida State winning. It will be both a low scoring close affair, but FSU will pull out the win."
   ]
  },
  {
   "cell_type": "markdown",
   "id": "2a05fb9b-5ea0-4be7-a1b4-4987ba381a73",
   "metadata": {},
   "source": [
    "## Kansas State vs Virginia ##"
   ]
  },
  {
   "cell_type": "markdown",
   "id": "2c66df07-c304-42c5-926c-e624c1578ba3",
   "metadata": {},
   "source": [
    "We have another matchup between a more traditional powerhouse and a non-traditional team with Kansas State. With that being said I see a 3-game series win to the Wildcats with Kansas State advancing to their first College World Series in Program history."
   ]
  },
  {
   "cell_type": "markdown",
   "id": "dd83a042-6633-4098-95f0-dd447a6b8a1e",
   "metadata": {},
   "source": [
    "## West Virginia vs North Carolina ##"
   ]
  },
  {
   "cell_type": "markdown",
   "id": "031e0e59-8b37-4eeb-9c63-b5909d438f45",
   "metadata": {},
   "source": [
    "The Tar Heels are coming into this matchup beating the defending champs 2 of the 3 times in their regional, however, I see the Mountaineers taking down the Tar Heels with a better offense and pitching and advancing to Omaha."
   ]
  },
  {
   "cell_type": "markdown",
   "id": "21d5b9ee-2307-4427-99e9-ae4cd5509bb1",
   "metadata": {},
   "source": [
    "## Kentucky vs Oregon State ##"
   ]
  },
  {
   "cell_type": "markdown",
   "id": "ac301c1b-b83d-417e-a0a9-b5a2011373b6",
   "metadata": {},
   "source": [
    "I see this series being the best one in the Super Regionals. We have a more recent successful team in the Wildcats going up against the traditional powerhouse of the Oregon State Beavers. With that being said, I see the Beavers pulling out of this series in 3 close games and advancing to the College World Series for the first time since 2018."
   ]
  },
  {
   "cell_type": "markdown",
   "id": "b0f37e36-fa47-4757-9e48-da641ac72443",
   "metadata": {},
   "source": [
    "## NC State vs Georgia ##"
   ]
  },
  {
   "cell_type": "markdown",
   "id": "caa08603-0ff8-46b0-9cb8-7f969794204c",
   "metadata": {},
   "source": [
    "Another great series in this tournament, I see a very even matchup. This will also go through 3 games with the Wolfpack's pitching to have the edge over Georgia and help the Wolfpack go across the finish line and advance to Omaha."
   ]
  },
  {
   "cell_type": "markdown",
   "id": "e56adb3c-1a22-4ab8-8ccf-9081b33fc351",
   "metadata": {},
   "source": [
    "## Clemson vs Florida ##"
   ]
  },
  {
   "cell_type": "markdown",
   "id": "e231a8ad-00e1-4a91-8135-3b904affd328",
   "metadata": {},
   "source": [
    "In this matchup we have the Tigers going up against the Gators. The Gators had to go through the most games out of the remaining teams, playing 5 games, going up aginst the Tigers. I think that with that, Clemson should win this series in 2 games taking the Gators out of this tournament."
   ]
  },
  {
   "cell_type": "markdown",
   "id": "113d380f-6a73-4611-bd48-dd51a8444666",
   "metadata": {},
   "source": [
    "## Oregon vs Texas A&M ##"
   ]
  },
  {
   "cell_type": "markdown",
   "id": "decab279-108e-44de-9b65-c47023b65a30",
   "metadata": {},
   "source": [
    "In this final prediction between the Ducks and the Aggies, I see a 3 game series between these 2 teams. The Ducks to me have one of the best pitching and defense currently, however, the Aggies have a way better offense. I see 2 close games with a blow out win to advance the Aggies to the College World Series."
   ]
  },
  {
   "cell_type": "markdown",
   "id": "efd01f12-5280-4ece-9c9d-d7c742d39eca",
   "metadata": {},
   "source": [
    "## College World Series setup ##"
   ]
  },
  {
   "cell_type": "markdown",
   "id": "bba4126c-ff61-4f87-b7f9-fc3bbe08d4c7",
   "metadata": {},
   "source": [
    "With the College World Series being the same as the Regionals I won't predict games individually. These are the 2 brackets that would be at play in Omaha as well as the first matchups at play.\n",
    "\n",
    "Bracket 1:\n",
    "\n",
    "Tennessee vs Florida State\n",
    "\n",
    "Kansas State vs West Virginia\n",
    "\n",
    "Bracket 2:\n",
    "\n",
    "Oregon State vs NC State\n",
    "\n",
    "Clemson vs Texas A&M\n",
    "\n",
    "and with these regionals right now if I had to predict the World Series I see this:\n",
    "\n",
    "Tennessee vs Texas A&M\n",
    "\n",
    "with the winners being\n",
    "\n",
    "Tennessee\n",
    "\n",
    "but I will come back to this after this round to make my final predictions on the College World Series."
   ]
  }
 ],
 "metadata": {
  "kernelspec": {
   "display_name": "Python 3 (ipykernel)",
   "language": "python",
   "name": "python3"
  },
  "language_info": {
   "codemirror_mode": {
    "name": "ipython",
    "version": 3
   },
   "file_extension": ".py",
   "mimetype": "text/x-python",
   "name": "python",
   "nbconvert_exporter": "python",
   "pygments_lexer": "ipython3",
   "version": "3.10.12"
  }
 },
 "nbformat": 4,
 "nbformat_minor": 5
}
