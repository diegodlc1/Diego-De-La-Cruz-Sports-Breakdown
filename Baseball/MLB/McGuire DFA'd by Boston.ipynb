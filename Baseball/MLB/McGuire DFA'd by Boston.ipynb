{
 "cells": [
  {
   "cell_type": "markdown",
   "id": "9d67abc1-b94b-4716-a566-7f69a3b85c6d",
   "metadata": {},
   "source": [
    "# Reese McGuire DFA'd by Red Sox #"
   ]
  },
  {
   "cell_type": "markdown",
   "id": "1a776ccc-fd6a-47d9-935a-a959468e5ba0",
   "metadata": {},
   "source": [
    "Reese McGuire has been DFA'd by the Boston Red Sox after posting a .209/.280/.295 for this season. With the Red Sox he posted .264/.315/.370. He has been DFA'd with Chase Anderson to make room for James Paxton and Yohan Ramirez with Danny Jansen set to replace him. Since this is about McGuire I will mostly focus on where he might end up and only touch on the Red Sox with the moves of Paxton, Ramierez, and Anderson. "
   ]
  },
  {
   "cell_type": "markdown",
   "id": "4d966e91-cb39-4480-983b-012cd4fd02bd",
   "metadata": {},
   "source": [
    "## Impact on the Red Sox ##"
   ]
  },
  {
   "cell_type": "markdown",
   "id": "3c7bde4e-92d7-440d-97b7-1a4590cc7094",
   "metadata": {},
   "source": [
    "This has been interesting for the Red Sox. Anderson is a better Catcher than McGuire. He offers more offensive firepower than McGuire. With that being said, I'm not sure about the pitching moves. I think that Anderson is a better relief pitcher than Ramierez and I don't know if Paxton would be a starter in the playoffs. I would say that Paxton is only better than Bello currently and you can make the arguemnet of Pivetta. I would say that in the long term developing Bello is better and Pivetta would be the only one that Paxton could be better. This could put him in the top 4 starters for the playoffs but I'm not 100% sure on that. With that being said I only feel confident in Jansen being better than McGuire out of all of these moves."
   ]
  },
  {
   "cell_type": "markdown",
   "id": "ae7216b9-3c1f-421e-bd68-987424963428",
   "metadata": {},
   "source": [
    "## McGuire's Future ##"
   ]
  },
  {
   "cell_type": "markdown",
   "id": "626f5cdd-14c8-45eb-a768-c166cae1c1bd",
   "metadata": {},
   "source": [
    "With a salary of only 1.5 million and another year of arbitration left, he will end up on a team soon. He could be a great backup or a starting Catcher on a team in need of a starter. Outside of his past, he should be able to drum up some interest in the market. I don't think he would go for much outside of just cash, but he would be able to get a job somewhere. I think he would be able to end up on any type of team. I think the main suspects would be Pittsburgh, Miami, and Detroit as the front runners for McGuire's service. I would say that the team with the highest chance is Pittsburgh but like I said I won't be surprised about the other moves or any other team. They would have control for next season and he's getting paid a modest contract for the remainder of this year. With that being said it would be interesting to see the outcome of all of this and where he would end up."
   ]
  }
 ],
 "metadata": {
  "kernelspec": {
   "display_name": "Python 3 (ipykernel)",
   "language": "python",
   "name": "python3"
  },
  "language_info": {
   "codemirror_mode": {
    "name": "ipython",
    "version": 3
   },
   "file_extension": ".py",
   "mimetype": "text/x-python",
   "name": "python",
   "nbconvert_exporter": "python",
   "pygments_lexer": "ipython3",
   "version": "3.10.12"
  }
 },
 "nbformat": 4,
 "nbformat_minor": 5
}
