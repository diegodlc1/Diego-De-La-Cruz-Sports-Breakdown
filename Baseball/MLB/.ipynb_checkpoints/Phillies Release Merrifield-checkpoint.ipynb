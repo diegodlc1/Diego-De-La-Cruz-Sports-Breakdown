{
 "cells": [
  {
   "cell_type": "markdown",
   "id": "0ca3f5e4-6a70-4780-a135-f92860a3c4b3",
   "metadata": {},
   "source": [
    "# Phillies Release Merrifield, assigns Wilson to 26-man #"
   ]
  },
  {
   "cell_type": "markdown",
   "id": "9d7e81ef-d802-4bec-83e8-273e78222dd4",
   "metadata": {},
   "source": [
    "The Phillies have relesased Whit Merrifield to free agency from their 26-man roster, bringing up Weston Wilson from Lehigh Valley to take a spot on the 26-man. After a successful season with Toronto last season, the mainly Second Baseman has struggled this past season being on the bench for most of the season. With that being said the Phillies still have to pay out the remaining 3.01 million remaining on his single year deal, while also paying out the 1 million dollar buyout on his contract. I will go in depth with the Phillies and Merrifield's potential landing spots and who I think will get him."
   ]
  },
  {
   "cell_type": "markdown",
   "id": "1655d960-8dd8-4f37-a09f-2c544d6b0bb0",
   "metadata": {},
   "source": [
    "## Impact on the Phillies ##"
   ]
  },
  {
   "cell_type": "markdown",
   "id": "66530910-9bbe-4616-8e4e-0c08d49e8e93",
   "metadata": {},
   "source": [
    "The Phillies are bringing up a younger prospect who plays the same positions as Merrifield in Weston Wilson. With the Phillies looking to use their youth on the bench, they have brought up Wilson to cover the same positions as Merrifield. Merrifield hasn't been having a spectacular season either. Hitting under .200 and with a bad OBP but a pretty low strikeout rate, Merrifield hasn't proven to be the same player as last year as well as for his age. Replacing him with Wilson makes sense in covering his positions while also being younger. Wilson has also played in 10 games at the major league level hitting .250/.423/.400 during his 10-game stint. With that all being said, Wilson has also proved to be a solid piece at Lehigh Valley hitting .240/.340/.487 in 313 at-bats at the Triple-A level this year. I understand the move and think it helps the Phillies develop youth and push for the World Series by giving a chance on a bat to be better than what Merrifield has shown this year. I'll give this move a B+ for the fact it gives a chance on a different, younger bat, however, the Phillies will owe at least a million dollars on the buyout and the remainder of his 3.01 million while he's off an MLB roster, based on my math he's owed around 37,433 dollars a day while he's off an MLB roster. This isn't terrible but still a good chunk of money and that's why I'll give this move a B+ rating. It's some bad business but it does free up space on a 26-man spot for Wilson to prove it and helps give a new bat for a World Series push, or a spot if a trade were to happen by the deadline."
   ]
  },
  {
   "cell_type": "markdown",
   "id": "24e38ec5-b0ba-4df0-a343-d1495536f168",
   "metadata": {},
   "source": [
    "## What's next for Merrifield ##"
   ]
  },
  {
   "cell_type": "markdown",
   "id": "14b2210c-209f-47c0-8a00-5dd605e16f96",
   "metadata": {},
   "source": [
    "Merrifield is a utility player that is able to play both Second Base and the Outfield. He'll be seen mostly as a Second Baseman in the free agency market, and due to his age he'll be looked upon by teams contending for the playoffs this year. With these requirements the 2 teams I see Seattle, Boston, and Kansas City being the top-3 teams to take in Merrifield. These are teams looking to contend this year and are in need of a Second Baseman. I don't think a deal will do through until after the deadline at the minimum. If their was a team that would looking to bring in Merrifield right now then Boston will be the top option for that. Merrifield will end up with a team, the question is where and when. If I had to give my best guess it would be Boston after all-star break or Kansas City after the deadline."
   ]
  }
 ],
 "metadata": {
  "kernelspec": {
   "display_name": "Python 3 (ipykernel)",
   "language": "python",
   "name": "python3"
  },
  "language_info": {
   "codemirror_mode": {
    "name": "ipython",
    "version": 3
   },
   "file_extension": ".py",
   "mimetype": "text/x-python",
   "name": "python",
   "nbconvert_exporter": "python",
   "pygments_lexer": "ipython3",
   "version": "3.10.12"
  }
 },
 "nbformat": 4,
 "nbformat_minor": 5
}
