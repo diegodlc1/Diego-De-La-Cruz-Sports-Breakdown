{
 "cells": [
  {
   "cell_type": "markdown",
   "id": "61b6bae5-c168-4ebe-a063-ea81762ad088",
   "metadata": {},
   "source": [
    "# Miller Goes back to San Diego"
   ]
  },
  {
   "cell_type": "markdown",
   "id": "aef00de5-6858-4dc4-a2e4-a4d66e8a340a",
   "metadata": {},
   "source": [
    "The MLB trade deadline has come and passed. One of the biggest moves was Mason Miller heading to San Diego from Oakland. With so many moves happening, I picked the biggest one to talk about. With that being said, let's talk about this."
   ]
  },
  {
   "cell_type": "markdown",
   "id": "45d2b4cb-7909-4314-b88b-7bfb1f4e592b",
   "metadata": {},
   "source": [
    "## Impact for Padres"
   ]
  },
  {
   "cell_type": "markdown",
   "id": "d71ac45c-b9b1-4ffc-b119-6207d88235a5",
   "metadata": {},
   "source": [
    "Wow. The Padres sold a chunk of the farm to make this move. With that being said, I don't like it very much for them. I get that they're a top team right now and looking to compete, but why did they make these moves to get pitchers? They don't need pitchers. They're rotation is solid enough, and their relief pitching is very good as well. Why are they giving a top 5 prospect in the league, and 3 other top 20 prospects in their farm, to solidify a top pitching lineup? I would've looked for a starting OF for that price. Sure, Miller is good, don't get me wrong, but why did they give all that up to only solidify their position? That in itself is a bad move. I'll give this a C- move. It's too much for what they need (which they don't need), but it solidifies their position as having the best pitching staff in the league as well and having control over their new young pitchers. They also have control over Miller and Sears for the next 3-4 years. That gives them a bump in value."
   ]
  },
  {
   "cell_type": "markdown",
   "id": "8fd987df-986f-4c66-a4cc-ab168503f120",
   "metadata": {},
   "source": [
    "## Impact for the A's"
   ]
  },
  {
   "cell_type": "markdown",
   "id": "1b7f393a-866a-4c98-93dd-e7de1869755e",
   "metadata": {},
   "source": [
    "Awesome move for the A's. They're not competing right now, and they won't for the next year or 2, and for that reason, they don't need players for right now. The only \"now\" player in this trade is Nunez, and even then, he's still young. Losing Miller is tough. He was still young enough to have an impact for the A's when they were going to compete, but when they got this haul from the Padres, you have to take it. All of these players can be great in a few years, especially De Vries. The grade for this is an A. Losing Miller is tough, but they got an offer they can't refuse."
   ]
  }
 ],
 "metadata": {
  "kernelspec": {
   "display_name": "Python 3 (ipykernel)",
   "language": "python",
   "name": "python3"
  },
  "language_info": {
   "codemirror_mode": {
    "name": "ipython",
    "version": 3
   },
   "file_extension": ".py",
   "mimetype": "text/x-python",
   "name": "python",
   "nbconvert_exporter": "python",
   "pygments_lexer": "ipython3",
   "version": "3.10.12"
  }
 },
 "nbformat": 4,
 "nbformat_minor": 5
}
