{
 "cells": [
  {
   "cell_type": "markdown",
   "id": "1a2196eb-7ea1-4757-9899-257b5aea21b8",
   "metadata": {},
   "source": [
    "# Yankees deal Groshans for Davis and cash #"
   ]
  },
  {
   "cell_type": "markdown",
   "id": "49088708-5238-4731-a552-3f4df69df850",
   "metadata": {},
   "source": [
    "J.D. Davis was recently DFA by the Athletics and now with a recent injury to Rizzo, the Yankees need to make a move now to grab a player that can help with their World Series push. I want to break it down for both teams and give a grade for this trade for both teams."
   ]
  },
  {
   "cell_type": "markdown",
   "id": "336ef373-2d9b-4c95-94fa-264d86a25fd7",
   "metadata": {},
   "source": [
    "## Impact for the Yankees ##"
   ]
  },
  {
   "cell_type": "markdown",
   "id": "c5f0dbc4-a49c-4ebe-8f19-05e16b73afdc",
   "metadata": {},
   "source": [
    "The Yankees have just lost Rizzo. The backup options for a first baseman is not looking good for the Yankees. Giving up an ok prospect for Davis, who is having a better season than any option the Yankees have in their 26-man roster, is a good deal for them. He is posting .236/.304/.366 this year with the Athletics. He's having a decent season for a bench player on a bad A's team. This is a necessary move for the Yankees to make, and to be honest I think that this is a great fit for all involved. The Yankees lost a prospect who was seen as a top prospect years ago, but has struggled in the Minors, for a starting first baseman for the next couple of months, which would turn into a solid bench piece in the fall. It's also worth to note that Stanton has gone down with an injury today and the DH spot might be open in New York. He will most likely slot in their with Rice taking the 1B job, or Wells might go to the DH spot and Davis move to 1B."
   ]
  },
  {
   "cell_type": "markdown",
   "id": "31d9d45e-2755-49c3-9473-7ae6acf29ee7",
   "metadata": {},
   "source": [
    "## Impact on the Athletics ##"
   ]
  },
  {
   "cell_type": "markdown",
   "id": "03d6a516-8a67-4968-91e6-b50a5648f5c5",
   "metadata": {},
   "source": [
    "I know why they DFA's Davis. Jacob Wilson is rising up the minor leagues fast. They would need to create a space in the lineup for him and he was a bench player, on the older end, and has value. The A's are a younger team. Filling up with youth talent is necessary for the A's to compete in the future and trying to get any value out of an older player is necessary. Davis offers that for them. They get another youth talent in Groshans, which struggled in Triple-A, but is having a fine season in double-A with the Yankees. He was a prospect that was drafted 12th overall years back and could still have that talent. I think that he would start at 3B for the Rockhounds in Double-A and see if he can rise up the ranks with the A's in the coming seasons. It's worth to note the cash that is being sent back but that's is an added benefit for the A's"
   ]
  },
  {
   "cell_type": "markdown",
   "id": "0c25fdec-b7b3-418f-a094-32f587e7dcb9",
   "metadata": {},
   "source": [
    "## Conclusion ##"
   ]
  },
  {
   "cell_type": "markdown",
   "id": "b385134b-40bd-456b-8265-609a10f960db",
   "metadata": {},
   "source": [
    "I understand why this trade was made for both ends. With that, I will give these grades for each team:\n",
    "\n",
    "Yankees: A\n",
    "\n",
    "A's: C+\n",
    "\n",
    "I like this trade for the Yankees. They're having injury issues currently and Davis can slot in for any positional need the Yankees have. He is having a good enough season that the Yankees would be a good landing spot for him. I can't agree with this move for the A's. I understand why they did it, and maybe I'm missing something in contracts or they did try to shop him in the trade market, but the A's should've tried to shop him in the regular trade market. I feel like you could've gotten a better return than a former 12th overall pick that is doing ok at best in the Double-A for him. I just can't see a world where they couldn't get more value then what they got. I still give them a C+ because I can see the vision, which gets them above a C, but I don't like Groshans as a prospect and I feel like they could've gotten more out of Davis than Groshans and Cash."
   ]
  }
 ],
 "metadata": {
  "kernelspec": {
   "display_name": "Python 3 (ipykernel)",
   "language": "python",
   "name": "python3"
  },
  "language_info": {
   "codemirror_mode": {
    "name": "ipython",
    "version": 3
   },
   "file_extension": ".py",
   "mimetype": "text/x-python",
   "name": "python",
   "nbconvert_exporter": "python",
   "pygments_lexer": "ipython3",
   "version": "3.10.12"
  }
 },
 "nbformat": 4,
 "nbformat_minor": 5
}
