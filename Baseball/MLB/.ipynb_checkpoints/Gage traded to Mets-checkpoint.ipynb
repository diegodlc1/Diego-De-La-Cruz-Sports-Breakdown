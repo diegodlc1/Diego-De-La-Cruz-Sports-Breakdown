{
 "cells": [
  {
   "cell_type": "markdown",
   "id": "0e66d73a-3beb-44cc-9f45-6266f140bde7",
   "metadata": {},
   "source": [
    "# Matt Gage Traded to Mets for Cash #"
   ]
  },
  {
   "cell_type": "markdown",
   "id": "e2594fab-03ab-4481-aec4-866f0885c25f",
   "metadata": {},
   "source": [
    "The Dodgers have traded Triple-A pitcher Matt Gage to the Mets for cash. This was done after reliever Drew Smith has been transfered to the 60-day IL list. The Mets have only traded Cash to the Dodgers to complete this trade."
   ]
  },
  {
   "cell_type": "markdown",
   "id": "018c1025-a72a-4f3f-909e-938ec3d31443",
   "metadata": {},
   "source": [
    "## Impact for the Dodgers ##"
   ]
  },
  {
   "cell_type": "markdown",
   "id": "eb26f588-95d3-49f6-b94f-f878e277ff3f",
   "metadata": {},
   "source": [
    "The Dodgers have traded a man that is on their 40-man roster to for cash. This opens a spot on the 40-man roster and they get Cash. Gage has shown to be a decent relief pitcher at Oklahoma City this past season posting a 4.29 ERA with a 1.381 WHIP at the Triple-A level. The open 40-man spot will most likely be used for another player at the minor league level, possibly Kevin Gowdy, since Gage was only added to the 40-man roster on July 3rd. With that I don't think a 60-day spot will be open anytime soon."
   ]
  },
  {
   "cell_type": "markdown",
   "id": "ac91e2c9-d97f-406d-a029-f0888a3975b0",
   "metadata": {},
   "source": [
    "## Impact for the Mets ##"
   ]
  },
  {
   "cell_type": "markdown",
   "id": "38827763-9175-46e9-9382-ec81f9aed9e9",
   "metadata": {},
   "source": [
    "The Mets have traded cash to get Matt Gage. With Drew Smith being moved to the 60-day IL and most likely out for the season, the Mets are in need to add some depth in the bullpen. The Mets are in need for some depth and a possible new piece to add to the bullpen. With that being said it only took cash to make this deal, and Gage will be sent to Syracuse for the time being."
   ]
  },
  {
   "cell_type": "markdown",
   "id": "6ac981e4-f06c-4276-90c1-bfc00d0d24e8",
   "metadata": {},
   "source": [
    "## Final Grades ##"
   ]
  },
  {
   "cell_type": "markdown",
   "id": "99bba74b-e391-460c-a397-745534ec3ffe",
   "metadata": {},
   "source": [
    "Dodgers: B+\n",
    "\n",
    "Mets: B\n",
    "\n",
    "Dodgers get a B+ for making a spot on the 40-man open for another player. Trading for cash is meh for me most of the time, but the spot is always valuable. For the Mets they get a B for not giving any valuable pieces, but I don't think that Gage will be all of that. His MLB stats look good, but his stats this year in the Minors is very Meh. At the same time trading for cash to take a chance on a somewhat proven MLB reliever gives this at least a B. I don't think he will make that much of an impact though."
   ]
  }
 ],
 "metadata": {
  "kernelspec": {
   "display_name": "Python 3 (ipykernel)",
   "language": "python",
   "name": "python3"
  },
  "language_info": {
   "codemirror_mode": {
    "name": "ipython",
    "version": 3
   },
   "file_extension": ".py",
   "mimetype": "text/x-python",
   "name": "python",
   "nbconvert_exporter": "python",
   "pygments_lexer": "ipython3",
   "version": "3.10.12"
  }
 },
 "nbformat": 4,
 "nbformat_minor": 5
}
