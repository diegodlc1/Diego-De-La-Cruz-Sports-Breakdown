{
 "cells": [
  {
   "cell_type": "markdown",
   "id": "d75a1cd2-b9aa-4242-a525-c79b5b0eb0fa",
   "metadata": {},
   "source": [
    "# Verlander contract off for 2025 #"
   ]
  },
  {
   "cell_type": "markdown",
   "id": "59c70b8c-9664-43c9-a27d-4a23c2076d77",
   "metadata": {},
   "source": [
    "Justin Verlander's contract will not vest for the Mets, taking them off of 17.5 million dollars for next season. I will go into a little bit of detail for this impact on the Mets."
   ]
  },
  {
   "cell_type": "markdown",
   "id": "21c67c46-0422-4ad8-8fc9-379aef841b77",
   "metadata": {},
   "source": [
    "## Impact for the Mets ##"
   ]
  },
  {
   "cell_type": "markdown",
   "id": "a01e3866-38db-4fb0-bf42-913065ae9d3a",
   "metadata": {},
   "source": [
    "This is great news for the Mets. Based on my math, the Mets should be free of around 180 million dollars for the next season. They have 9 players that are going to arbitration for the next season. The Mets will owe around 80 million to arbitration and other contracts for 9 players that the Mets will have coming into next season. The Mets will have around 90-100 million dollars after these contracts that they could be willing to spend. They would have to be ok with going deep into the salary tax again but with the current contracts that they have on their books for next season, the Mets have around 100 million dollars that they have before the tax treshold. Basically what I'm saying is that the Mets will be spending huge this next offseason. We will have to see what the Mets do and I will play it out in the next coming of weeks if they make the playoffs, but it will be interesting to see what they could do with this money."
   ]
  }
 ],
 "metadata": {
  "kernelspec": {
   "display_name": "Python 3 (ipykernel)",
   "language": "python",
   "name": "python3"
  },
  "language_info": {
   "codemirror_mode": {
    "name": "ipython",
    "version": 3
   },
   "file_extension": ".py",
   "mimetype": "text/x-python",
   "name": "python",
   "nbconvert_exporter": "python",
   "pygments_lexer": "ipython3",
   "version": "3.10.12"
  }
 },
 "nbformat": 4,
 "nbformat_minor": 5
}
