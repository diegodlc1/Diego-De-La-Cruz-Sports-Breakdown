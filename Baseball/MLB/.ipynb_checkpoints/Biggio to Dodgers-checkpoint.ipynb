{
 "cells": [
  {
   "cell_type": "markdown",
   "id": "743ca918-f9ca-4f9e-8584-b13ac11907a8",
   "metadata": {},
   "source": [
    "# Biggio to the Dodgers, Fisher to Jays, Vargas optioned to OKC #"
   ]
  },
  {
   "cell_type": "markdown",
   "id": "b4d66ab0-cca1-48d0-b7a8-03859a3ffd37",
   "metadata": {},
   "source": [
    "Cavan Biggio of the formorly Toronto Blue Jays have been DFA and then traded to the LA Dodgers for Braydon Fisher and Cash. This move puts Biggio into the 40-man roster and the Dodgers have optioned Miguel Vargas to OKC."
   ]
  },
  {
   "cell_type": "markdown",
   "id": "e7b68694-3fb0-4acc-8c48-e27e9c83b25f",
   "metadata": {},
   "source": [
    "## Cavan Biggio to the Dodgers ##"
   ]
  },
  {
   "cell_type": "markdown",
   "id": "7b6ff52e-f8f5-4279-8687-7a8456a34d6d",
   "metadata": {},
   "source": [
    "The Dodgers are have designated their starting 3B Max Munxy to the 10-day IL list. I don't think that his injury is the reason for this trade, however, it could be the reason why the Dodgers want to make this trade. On the other hand, Biggio can play up to 3 different positions, 2B, RF, and 3B. A lot of players in those position on the Dodgers 26-man roster is on the older side. Biggio showed promise earlier in his career, however he has feel off since then. At the same time I think slotting him into 3B for the time being is the best move currently to replace Muncy and then compete for that spot. At the same time this makes sense for the Dodgers to get him to compete for the 3B position and being a fine back up for the Dodgers due to the old age on the Dodgers bench."
   ]
  },
  {
   "cell_type": "markdown",
   "id": "b28c9b80-a95e-4a71-b138-0dc0eeddd881",
   "metadata": {},
   "source": [
    "## Fisher to the Jays ##"
   ]
  },
  {
   "cell_type": "markdown",
   "id": "6b566947-ab84-41a4-b446-8a31c16c1af2",
   "metadata": {},
   "source": [
    "Brayden is a relief pitcher that has last pitched in the Double A this season. He is a younger prospect who pitched 8 games in OKC, however posted an 6.94 ERA and being designated back down to Double-A. I think that Fisher still has some time to develop. He is only 24 still and can prove himself in Double-A. At the same time the Blue Jays Relief situation is bad currently and any potential future help would be helpful."
   ]
  },
  {
   "cell_type": "markdown",
   "id": "33dc2248-dc7a-47eb-94d4-eb1ee09a8358",
   "metadata": {},
   "source": [
    "## Miguel Vargas optioned to OKC #"
   ]
  },
  {
   "cell_type": "markdown",
   "id": "a266ee9f-53d7-4006-9e45-4d785f90123a",
   "metadata": {},
   "source": [
    "With Biggio having played over 5 seasons, he can only be optioned to the Minors through his consent. He will not consent and thus the Dodgers have to make room in their 26-man roster. The Dodgers will bring back down their youngest bench player in Miguel Vargas back to OKC. I think that Vargas has shown some progress and can be a good player for the Dodgers in the future. However, right now Vargas would benefit with more time and development in OKC. Designating him down, may say that they see Biggio bring a 2B option.We'll see, but Vargas needs to develop more and sending him down over the likes of Lux, who also plays 2B, makes the most sense."
   ]
  },
  {
   "cell_type": "markdown",
   "id": "58df86ec-99d2-4e83-9722-b63154802a04",
   "metadata": {},
   "source": [
    "## Conclusion ##"
   ]
  },
  {
   "cell_type": "markdown",
   "id": "0a9d2e07-f5c7-4329-9990-62f220f4a1ed",
   "metadata": {},
   "source": [
    "To conclude I see Biggio starting out as the starting 3B until Muncy comes back. Once Muncy comes back, moving Hernandez to LF and dropping Taylor from the starting lineup, and placing Biggio into RF makes sense. I could also see Biggio coming off the bench and competeting for both the 2B and 3B jobs. For the Blue Jays I see Clement coming into the replace him, as well as the Blue Jays having a bad bullpen currently and any future help would be great for them. They also will save around 2.49 million dollars in this trade, which is always a great thing for a mediocre team over the tax treshold. Vargas getting more time in OKC is great for his developmemt, he showed slight improvement on the Dodgers compared to last year, however he had way less at bats. To grade this trade I would give these out:\n",
    "\n",
    "Dodgers: A-, they need Biggio to fill in the holes on the current roster. He fills exactly what they need and has a good MLB track record, even after his last couple of years. An average player who might still have it on a competing team. The reason it's an A- is the salary that is coming in and not coming out. If the Dodgers win it all this year I'll give it an A+, if they don't I'll give this a B. Right now, it's a A- for the potential.\n",
    "\n",
    "Blue Jays: B+, giving a player who has performed bad, paying less tax for a team under the treshold, and getting a potential relief pitcher for a currently bad bullpen is good. That's pretty much it though. The Jays shouldn't expect much for a player that was DFA but honestly I would've tried to at least get a Triple-A prospect. Other than that it's still a fine trade for a team that is currently in limbo."
   ]
  }
 ],
 "metadata": {
  "kernelspec": {
   "display_name": "Python 3 (ipykernel)",
   "language": "python",
   "name": "python3"
  },
  "language_info": {
   "codemirror_mode": {
    "name": "ipython",
    "version": 3
   },
   "file_extension": ".py",
   "mimetype": "text/x-python",
   "name": "python",
   "nbconvert_exporter": "python",
   "pygments_lexer": "ipython3",
   "version": "3.10.12"
  }
 },
 "nbformat": 4,
 "nbformat_minor": 5
}
