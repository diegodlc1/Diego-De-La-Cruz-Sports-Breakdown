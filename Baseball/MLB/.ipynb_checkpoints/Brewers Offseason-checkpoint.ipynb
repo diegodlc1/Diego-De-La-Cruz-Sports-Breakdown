{
 "cells": [
  {
   "cell_type": "markdown",
   "id": "d70fc236-d5ab-4408-a735-a99501183f89",
   "metadata": {},
   "source": [
    "# Milwaukee Brewers Offseason Breakdown #"
   ]
  },
  {
   "cell_type": "markdown",
   "id": "dd0b5391-3a1e-481c-a15a-38212ed60f7b",
   "metadata": {},
   "source": [
    "With the MLB season ending, I always like to breakdown the offseason of playoff teams. With 4 teams getting out of the playoffs these past 4 days, I want to do what I did with the NBA and breakdown what these teams should do. Now, with a less scattered playoff and as well as studying for the LSAT in November, I will try to get these breakdowns as soon as I can, but we will see how to go from there. With that being said I will start my breakdown with the Milwaukee Brewers. The Milwaukee Brewers exceeded expectations and made the playoffs in a year that many didn't think that they would. With that being they lost in heartbreaking fashion against the New York Mets. With that being said, I want to look at the roster, contract situations, and possible prospects to try and fill out the 26-man roster coming into next season."
   ]
  },
  {
   "cell_type": "markdown",
   "id": "ebb1c970-eabc-4c40-b0bb-0a8a6db045bd",
   "metadata": {},
   "source": [
    "## History ##"
   ]
  },
  {
   "cell_type": "markdown",
   "id": "c8d5383b-f336-43e7-9910-63a47ae243ce",
   "metadata": {},
   "source": [
    "Unlike the NBA, NFL, and NHL, baseball doesn't have a set salary cap. We can look at past years with Mark Attanasio as an owner and see the trend of how much he likes to invest based off of playoff years. It seems to be that every year that the Brewers are expected to make the playoffs, Attanasio likes to invest 20-30 million dollars a year more into the team. After 2019 he's invested 25 million more after making the playoffs, in 2022, he's invested 30 million more into the team after making playoffs in 2021. I don't think that he will put up those same numbers coming into next year, but I will say I believe he will put in around 20 million dollars more at the minimum, maybe we could see another 5-10 million but I will go off of 20 million more for now."
   ]
  },
  {
   "cell_type": "markdown",
   "id": "574e60d3-6dfd-401a-b04a-67a3d801aa9e",
   "metadata": {},
   "source": [
    "## Current Contract Situation ##"
   ]
  },
  {
   "cell_type": "markdown",
   "id": "af3bb1d4-2e3d-4ef3-b8b7-b9ed5d366281",
   "metadata": {},
   "source": [
    "The Current Contract situation of the Milwaukee Brewers according to Cot's Baseball Contracts is in the same folder as this one. As I would love to try and parse through the data frame and print it on this document, I don't have the time to do that at the current moment in time, with studying and such. With that being said I will conclude that at the current moment in time, the Brewers are committing 66,201,000 dollars to contracts next year. Applying the minimum of 20 million extra dollars the Brewers should be expected to spend 136,000,000 dollars in salaries next year. With that being said, let's look at the current players set under contract next year."
   ]
  },
  {
   "cell_type": "markdown",
   "id": "de4a2fe6-4213-416a-8275-88fc2efd369a",
   "metadata": {},
   "source": [
    "## Players for sure returning. ##"
   ]
  },
  {
   "cell_type": "markdown",
   "id": "21e33b68-74c9-473f-8715-611cf08afebb",
   "metadata": {},
   "source": [
    "LF/DH Christian Yelich\n",
    "\n",
    "1B Rhys Hoskins\n",
    "\n",
    "RHP-S Brandon Woodruff\n",
    "\n",
    "LF/RF Jackson Chourio\n",
    "\n",
    "LHP-R Aaron Ashby\n",
    "\n",
    "These 5 players are set to make money for with the team for sure coming into next year. These 5 players are set to make around 64 million dollars in total coming into next year."
   ]
  },
  {
   "cell_type": "markdown",
   "id": "7bc22b91-83fc-4c49-9e11-b12a6faee032",
   "metadata": {},
   "source": [
    "## Player's possibly returning ##"
   ]
  },
  {
   "cell_type": "markdown",
   "id": "cd070fc9-a4d0-4b09-a13f-c90f7d405fb0",
   "metadata": {},
   "source": [
    "The Brewers then have 6 players set to have options to be picked up.\n",
    "\n",
    "RHP-S Frankie Montas 20 million, mutual option\n",
    "\n",
    "RHP-C Devin Williams 10.5 million, club option\n",
    "\n",
    "LHP-S Wade Miley 12 million, mutual option\n",
    "\n",
    "RHP-S Freddy Peralta 8 million, club option\n",
    "\n",
    "RHP-S Colin Rea 5.5 million, club option\n",
    "\n",
    "C/DH Gary Sanchez, 1 dollar, mutual option"
   ]
  },
  {
   "cell_type": "markdown",
   "id": "8df8f731-4564-44df-a0b3-e2cc8b8111f0",
   "metadata": {},
   "source": [
    "Looking at these options, I see 3 possibly 4 options being picked up. Montas' will not be picked. 20 million for the year he had will not be picked up by the Brewers. Williams, with what happened in the playoffs is kind of iffy, however, I think a full offseason will help. He didn't look the same since coming back from injury and he could be the pitcher he was before with a full offseason. Peralta and Rea for 8 million and 5.5 million is good value for the club and they should pick them both up. 1 dollar will not be picked up from Gary Sanchez and he will be released. The question is the 12 million for Wade Miley. While he can still fill in the lineup, 12 million for a 37-year-old coming off of Tommy John wouldn't be worth it. I say that option is declined. I will say that 3 of the options will be picked up for next year totalling around 88 million total salaries. If 8.5 million will be paid out if Montas, Miley, or Sanchez don't get picked up by another team I only see 1.5 being added with just Miley, but even then I won't give them that."
   ]
  },
  {
   "cell_type": "markdown",
   "id": "537de6e0-4368-4890-b51f-27ea0789f7b8",
   "metadata": {},
   "source": [
    "## Pre-Arb ##"
   ]
  },
  {
   "cell_type": "markdown",
   "id": "b238bd13-4a9e-4387-a666-755daeb79e00",
   "metadata": {},
   "source": [
    "There is 13 Pre-Arbitration players set for next year. Here are the players I believe will be picked up for sure based on position and pitcher.\n",
    "\n",
    "Positional player\n",
    "1. CF Blake Perkins\n",
    "2. 3B/IF Andruw Monesterio\n",
    "3. 2B Brice Turang\n",
    "4. RF Sal Frelick\n",
    "5. CF Garrett Mitchell\n",
    "6. 3B/SS Joey Ortiz\n",
    "\n",
    "Pitchers\n",
    "1. LHP DL Hall\n",
    "2. LHP Bryan Hudson\n",
    "3. RHP Elvis Peguero\n",
    "\n",
    "Possible other Pre-Arbitration\n",
    "1. RHP Abner Uribe\n",
    "2. RHP JB Bukauska\n",
    "\n",
    "No Chance\n",
    "1. Vinny Capra\n",
    "2. Kevin Herget\n",
    "\n",
    "These players will make around 760-820K a year. I will set the starting positional players to 800K, Perkins to 820K, Monesterio/Mitchell/Hall/Hudson/Peguero to 780K. I will also set Uribe and Bukauska to 760K. This sets current salaries to around 97 million in wages."
   ]
  },
  {
   "cell_type": "markdown",
   "id": "087c1f21-c830-45ac-82fb-82fe6f1a123a",
   "metadata": {},
   "source": [
    "## Arbitration ##"
   ]
  },
  {
   "cell_type": "markdown",
   "id": "a66bee74-a895-4917-b7d2-add1ac717571",
   "metadata": {},
   "source": [
    "There is 10 current players on the lineup that will be under arbitration. I will split it like I split it above by players your keep, possible players, and no chance.\n",
    "\n",
    "Positional Players\n",
    "1. 1B/OF Jake Bauers, 2.5 million for next year\n",
    "2. C/DH William Contreras, 2-year 20 million coming for next year\n",
    "\n",
    "Pitching\n",
    "1. LHP Hoby Milner, 2.5 million\n",
    "2. RHP Joel Payamps, 2.5 million\n",
    "3. RHP-S Bryce Wilson, 1.5 million\n",
    "4. RHP Trevor Megill, 2 million\n",
    "5. RHP Nick Mears, 1 million\n",
    "\n",
    "Possible\n",
    "1. RHP-S Aaron Civale, 7.5 million\n",
    "\n",
    "No Chance\n",
    "1. Owen Miller\n",
    "2. Taylor Clarke\n",
    "\n",
    "For this we have set around 127.85 million set excluding Civale's contract. The issue is 7.5 from Civale will be the going cost and puts the Brewers close to the 136 set, if Attanasio sets an extra 5 to 10 million then I would say it's possible but I want to set the min amount I think would happen."
   ]
  },
  {
   "cell_type": "markdown",
   "id": "d09d21a7-ddad-4f7f-8ced-e741cce42dee",
   "metadata": {},
   "source": [
    "This is the current roster setting based on best position\n",
    "\n",
    "C. Contreras\n",
    "\n",
    "1B. Hoskins\n",
    "\n",
    "2B. Turang\n",
    "\n",
    "SS. Ortiz\n",
    "\n",
    "3B. Monesterio\n",
    "\n",
    "LF. Chourio\n",
    "\n",
    "CF. Perkins\n",
    "\n",
    "RF. Frelick\n",
    "\n",
    "DH. Yelich\n",
    "\n",
    "Bench\n",
    "1. Mitchell\n",
    "2. Bauers\n",
    "\n",
    "Pitching\n",
    "\n",
    "Rotation\n",
    "1. Woodruff\n",
    "2. Peralta\n",
    "3. Rea\n",
    "4. Wilson\n",
    "\n",
    "Bullpen\n",
    "1. Hall\n",
    "2. Hudson\n",
    "3. Peguero\n",
    "4. Milner\n",
    "5. Payamps\n",
    "6. Megill\n",
    "7. Mears\n",
    "8. Williams"
   ]
  },
  {
   "cell_type": "markdown",
   "id": "1ec9ffda-e1a8-4ad5-a8d2-df78263ef46e",
   "metadata": {},
   "source": [
    "With this, there are still 2 spots in the 26-man roster open. The question ends up being if Civale gets paid, or do they get a 3rd Baseman or Shortstop. I believe Carlos Rodriguez should be called up and around. I will say that around 4 million to 4.5 million will be spent on the remaining 14 players and Rodriguez. I will use 4.5 million and thus give the Brewers around 5 million a year to spend on a 3B or SS. Like I've mentioned before, Attanasio can pay around 5 to 10 million more if need be. With that being said, Adames will be paid more than that. Adames will go over 20 million and the max the Brewers will pay is 15 million. With that being said let's look at the possible options.\n",
    "\n",
    "3B Yoan Moncada - Coming off a major injury and only played in 12 games with the White Sox last year. I don't believe the White Sox will pick his option up and I don't think that they will even pay him. There could be competition but looking at what the Brewers did with Hoskins, they could do with Moncada.\n",
    "\n",
    "SS Enrique Hernandez - Hernandez had a fine season with the Dodgers this past year. I don't see the Dodgers paying him for next season and he would be a free agent. The Brewers may have enough to make a push for him for around 3 million."
   ]
  },
  {
   "cell_type": "markdown",
   "id": "6402a12d-f4db-49d5-a83c-50a7024f87fd",
   "metadata": {},
   "source": [
    "## Conclusion ##"
   ]
  },
  {
   "cell_type": "markdown",
   "id": "63160af8-fda6-4249-a8ca-8638539a61a8",
   "metadata": {},
   "source": [
    "With all of this hopefully the Brewers will have enough to make a push for one of these free agents and thus this would be a good team coming into the next season."
   ]
  }
 ],
 "metadata": {
  "kernelspec": {
   "display_name": "Python 3 (ipykernel)",
   "language": "python",
   "name": "python3"
  },
  "language_info": {
   "codemirror_mode": {
    "name": "ipython",
    "version": 3
   },
   "file_extension": ".py",
   "mimetype": "text/x-python",
   "name": "python",
   "nbconvert_exporter": "python",
   "pygments_lexer": "ipython3",
   "version": "3.10.12"
  }
 },
 "nbformat": 4,
 "nbformat_minor": 5
}
