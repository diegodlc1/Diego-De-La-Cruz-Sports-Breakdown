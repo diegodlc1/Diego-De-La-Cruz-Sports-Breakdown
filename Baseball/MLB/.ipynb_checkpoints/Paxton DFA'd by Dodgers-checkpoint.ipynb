{
 "cells": [
  {
   "cell_type": "markdown",
   "id": "84454965-5683-4a3b-89b8-1b330d406df1",
   "metadata": {},
   "source": [
    "# Paxton DFA'd by Dodgers #"
   ]
  },
  {
   "cell_type": "markdown",
   "id": "8ee28daa-7f92-451c-86e2-449b713d07e4",
   "metadata": {},
   "source": [
    "James Paxton has been DFA'd from the LA Dodgers. The 35-year-old Starting Pitcher is expected to get the 13 million dollars in his contract while being able to be traded to another team. The Dodgers have moved River Ryan to the Majors for this move. It's an interesting move and I will break this down more for the impact of the Dodgers and where Paxton might end up."
   ]
  },
  {
   "cell_type": "markdown",
   "id": "50cffdf9-3a6d-4d8f-92c1-8bd210713324",
   "metadata": {},
   "source": [
    "## Impact for the Dodgers ##"
   ]
  },
  {
   "cell_type": "markdown",
   "id": "b7c86df2-b8b9-46d5-a141-a89118f05160",
   "metadata": {},
   "source": [
    "The Dodgers are letting go depth in a position where they've had injury problems this whole year to make room for 25-year-old River Ryan to join the rotation and with Glasnow and Kershaw expected to come back in the coming week the Dodgers are expected to get some depth back in the starting rotation. With that being said This move makes some sense but I'm not sure if I agree with it. Paxton has put up solid numbers this year and while he's not the player he was before he's posted a solid 4.43 ERA with a 1.455 WHIP. He still struggled though, posting a 90 ERA+ is key to that issue, but I feel like with someone who's been consistently healthy in a position that has been plagued with an injury they should've DFA'd Buehler but maybe they're trying to get a decent return and Buehler will not bring the same return as Paxton. With that being said I think that a contending team should keep a healthy, older, starting pitcher in their rotation for the playoffs. That's why Buehler should've been DFA'd instead with his 8.025 million-dollar contract. I would give this move a C for the reason I said. After a DFA trade then we could see a rise in this but we would have to see what the return would be."
   ]
  },
  {
   "cell_type": "markdown",
   "id": "7816b2c3-fe9a-409b-aa40-19a91525449d",
   "metadata": {},
   "source": [
    "## Paxton's Future ##"
   ]
  },
  {
   "cell_type": "markdown",
   "id": "efcbe0a7-76ae-4bda-884b-bac8a1dae711",
   "metadata": {},
   "source": [
    "After being DFA'd and having good value, we should expect to see a decent return for Paxton. If the Dodgers can try and get a 1B, 2B, or an Outfielder in a trade then it would be a great return. I expect a decent return for a DFA Free Agent of Paxton's caliber. With that being said a contender that can trade that position and need a Starting Pitcher would be a solid return. The Guardians, Astros, and Diamondbacks. These are the 3 teams that are contending, need a pitcher, and have a player that the Dodgers could use in a trade. The Guardians and the D-Backs are in the most in need of a Starting Pitcher with only 2 competent starters in their rotation and then everything else for a playoff push. With that being said I will eliminate the Astros from this as they would give up a little more in a trade than what they would receive in Paxton. The Guardians and D-Backs need a starter more and would give up more to get one. With that being said I would say that the Guardians would more than likely get him as they are in contention being the the 2 best of the AL and they have the best player that the Dodgers could realistically get in a trade. I think that Noel would be a player that the Guardians would give up to get a decent starter and he's a player that the Dodgers could use on the bench for a playoff push. Now being DFA the question is if Noel would be a return that can match a DFA starter, but the Guardians desperately need a Starter in the position that they are in, and if they need to slightly overpay for one then this is the one that they should look to do while not giving too much up in their starting lineup."
   ]
  }
 ],
 "metadata": {
  "kernelspec": {
   "display_name": "Python 3 (ipykernel)",
   "language": "python",
   "name": "python3"
  },
  "language_info": {
   "codemirror_mode": {
    "name": "ipython",
    "version": 3
   },
   "file_extension": ".py",
   "mimetype": "text/x-python",
   "name": "python",
   "nbconvert_exporter": "python",
   "pygments_lexer": "ipython3",
   "version": "3.10.12"
  }
 },
 "nbformat": 4,
 "nbformat_minor": 5
}
