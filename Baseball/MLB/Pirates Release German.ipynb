{
 "cells": [
  {
   "cell_type": "markdown",
   "id": "f6b1245b-79f4-41e9-9a6d-ad83051b3e93",
   "metadata": {},
   "source": [
    "# Pirates Release German #"
   ]
  },
  {
   "cell_type": "markdown",
   "id": "c269f1f3-fcc6-46d9-bae3-92df07b79383",
   "metadata": {},
   "source": [
    "Domingo German has been released by the Pirates after exercising an opt-out clause in his contract. The Pirates are looking to sign him back under a new minor league contract."
   ]
  },
  {
   "cell_type": "markdown",
   "id": "8d2ae7d7-4f67-4119-81ac-158638e39ccf",
   "metadata": {},
   "source": [
    "## Impact on the Pirates ##"
   ]
  },
  {
   "cell_type": "markdown",
   "id": "4bf56691-72a3-4729-9646-9d4eeff5a25c",
   "metadata": {},
   "source": [
    "The Pirates have a deep rotation currently and with the exception of some injuries on the rotation currently the Pirates are set with 6 competent starting pitchers. With that being said German has been playing in triple-A this past season and has been putting up decent stats for the Pirates. He wasn't included on the 40-man roster currently and I feel like this is the reason why he's looking for a new contract. Outside of one terrible outing, he has an ERA of 3.6 and an ok Walk and SO percentage. I think that he opted out to get more money and a spot on the 40-man for whatever team takes him. There is plenty of teams looking for an older potential starter that could use his help for the remainder of the season. I don't think that he ends up with the Pirates. I think that there are a lot of teams in the MLB looking to get a starting pitcher. His off the field issues have some effect on the teams but at the end of the day he's had a solid year in the minors where I can see an MLB team looking to contend and needing a starting pitcher to make this pick up in free agency. I would say look out for the Guardians, Mets, and Brewers would be the top 3 teams that could look to get German in Free Agency and I do believe one of them would do it. Out of the 3 I would say that the Guardians are the most likely to get him and I would say that they should attempt to get him. He's performed well in AAA and outside of that one start has put up good stats."
   ]
  }
 ],
 "metadata": {
  "kernelspec": {
   "display_name": "Python 3 (ipykernel)",
   "language": "python",
   "name": "python3"
  },
  "language_info": {
   "codemirror_mode": {
    "name": "ipython",
    "version": 3
   },
   "file_extension": ".py",
   "mimetype": "text/x-python",
   "name": "python",
   "nbconvert_exporter": "python",
   "pygments_lexer": "ipython3",
   "version": "3.10.12"
  }
 },
 "nbformat": 4,
 "nbformat_minor": 5
}
