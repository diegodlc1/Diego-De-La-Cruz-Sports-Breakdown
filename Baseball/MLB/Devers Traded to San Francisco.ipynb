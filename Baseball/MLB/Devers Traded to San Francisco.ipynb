{
 "cells": [
  {
   "cell_type": "markdown",
   "id": "5b1fc556-7648-4418-abf9-6c8583cef4ab",
   "metadata": {},
   "source": [
    "# Devers traded to Giants"
   ]
  },
  {
   "cell_type": "markdown",
   "id": "0ed26147-b758-481a-b1f5-cb78f48cbc04",
   "metadata": {},
   "source": [
    "In a blockbuster trade, the Red Sox have traded Rafael Devers to the San Francisco Giants for a haul of prospects. Devers, who is still set to make 250 million dollars over the next 8 years, is moving to the Giants."
   ]
  },
  {
   "cell_type": "markdown",
   "id": "cf9d03fe-ffd2-4388-813e-fbbd2870aecf",
   "metadata": {},
   "source": [
    "## Impact for the Red Sox"
   ]
  },
  {
   "cell_type": "markdown",
   "id": "b3c76550-0829-4758-ba47-ebdf30e91cac",
   "metadata": {},
   "source": [
    "I mean it's a move if you believe that the Devers relationship is strained beyond repair. I don't know how I feel about this for them. I get that they had a set idea of what they wanted Devers to do, but this idea set them at odds with him. For this reason, the Red Sox traded him for mostly prospects and opened up space to spend money. Supposedly, they didn't shop him around either. I can't understand this trade, no matter what. You're knocking on a wild card spot, and while the Sox are in a bad position pitching-wise, it's not like they got a great pitcher for right now. Looking at the return doesn't make it much better. While Harrison could be great, he hasn't put it all together yet, and the Sox optioned him to Worcester. Tibbs is the real prize in this and could be a solid MLB player in the future. The issue is that he's in Single-A at the moment and still a couple of years away from the Big Leagues. Hicks is a throw in and he hasn't shown much this season but covers a bullpin need the Red Sox has right now, but truthfully isn't going to make much of an impact outside of an extra arm. It's too early to tell much about Bello to really say much about him. All in all it's not a great return."
   ]
  },
  {
   "cell_type": "markdown",
   "id": "219c93ff-2e19-48d3-ac01-8360be56f157",
   "metadata": {},
   "source": [
    "## Impact for the Giants"
   ]
  },
  {
   "cell_type": "markdown",
   "id": "fa9348ad-1118-4ec5-9db3-1815853ddb32",
   "metadata": {},
   "source": [
    "The Giants add another player to continue competing in the top-heavy NL. I don't know what their plan is, though. If the whole reason why Devers was unhappy at Boston was because he didn't play 3B, then what's the plan for the Giants when they have Chapman making a lot of money at 3B? Are they planning on moving? Chapman to DH, or is Devers going to be fine with playing 1B or even DH for the Giants? It's just a little hard to completely understand what the Giants are doing. On top of all of this, they add another massive contract to their payroll. What they gave up isn't anything crazy either. When you're competing, that's a deal you have to make. I mean, there's not much to say outside of it's a move that you make if you're given the chance to. The Giants got a good deal out of this."
   ]
  },
  {
   "cell_type": "markdown",
   "id": "25c56d59-24bb-4167-abe7-9a5775d3170b",
   "metadata": {},
   "source": [
    "## Conclusions"
   ]
  },
  {
   "cell_type": "markdown",
   "id": "ea2f021f-d487-4dbb-88d0-23843e66abfc",
   "metadata": {},
   "source": [
    "Red Sox: C\n",
    "\n",
    "I just can't get behind all of this. You signed him to a massive deal about 2 years ago, and then you do this type of move. I like Tibbs, and maybe Harrison figures something out, but I still don't get it when you're .5 games out of a Wild Card spot. You do this in the offseason or something when you don't want him around. It might be an addition by subtraction idea, but it's still not a great move in the current situation. It opens salary flexibility, but I feel like making this move in the offseason would still make more sense. It's a move you make in this scenario. I knew the Red Sox needed to make a move, but this doesn't help the backlog of OFs they currently still have.\n",
    "\n",
    "Giants: B+\n",
    "\n",
    "Solid move by the Giants. While you're taking on the full contract, not much was given up in exchange for Devers. You get a great hitter who can help in competing for a World Series. It makes sense to take on that financial burden if that is the case. Good move by the Giants, truthfully. The reason it's not higher than a B+ is purely on taking the full contract that could age horribly as the salary increases by the year, and the question mark of what they're planning to do position-wise with Devers. Other than that, it's still a really solid trade."
   ]
  }
 ],
 "metadata": {
  "kernelspec": {
   "display_name": "Python 3 (ipykernel)",
   "language": "python",
   "name": "python3"
  },
  "language_info": {
   "codemirror_mode": {
    "name": "ipython",
    "version": 3
   },
   "file_extension": ".py",
   "mimetype": "text/x-python",
   "name": "python",
   "nbconvert_exporter": "python",
   "pygments_lexer": "ipython3",
   "version": "3.10.12"
  }
 },
 "nbformat": 4,
 "nbformat_minor": 5
}
