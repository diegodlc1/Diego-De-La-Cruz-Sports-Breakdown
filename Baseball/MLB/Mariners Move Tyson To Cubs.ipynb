{
 "cells": [
  {
   "cell_type": "markdown",
   "id": "86d8b24c-c57b-4cc4-9faa-f6deb346e0f7",
   "metadata": {},
   "source": [
    "# Mariners trade Tyson Miller to Cubs for Jake Slaughter #"
   ]
  },
  {
   "cell_type": "markdown",
   "id": "bb5e8712-b6d4-487e-ac0f-c8e3ecc0cf92",
   "metadata": {},
   "source": [
    "## Impact for Seattle ##"
   ]
  },
  {
   "cell_type": "markdown",
   "id": "b91aae5b-8700-4e61-97d6-064b417c0edf",
   "metadata": {},
   "source": [
    "I feel like this trade was understandable for Seattle. They have a congested Bullpen currently and they needed to DFA a relief pitcher due to the return of Bryan Woo. Not sure why Miller was traded over the likes of Bazardo. I'm guessing contract situations make Bazardo part of the 40-man, however I think that Miller is the better option to keep.\n",
    "\n",
    "The addition of Slaughter is probably the best that the Mariners can get for Miller. With a DFA relief pitcher, there isn't that much value in it. With the year that Miller is having though, they could get a decent enough Minor Leaguer for him. Slaughter is that player. Slaughter, 28, hasn't played in the Majors yet, however, he has played 136 games with 482 AB, hitting .255 AVG, .352 OBP, .483 SLG, and 27 HR with 94 RBIs in triple-A. My issue with him is his 151 strikeouts, striking out 31.3% of his plate appearances.\n",
    "\n",
    "I think that Slaughter is someone who can spend more time in triple-A and see what he has for the 40-man next year, but I do think that the Mariners may need a better 1st baseman as well as depth in that position. Slaughter could be that player next year and beyond however I think that at best he would be a backup infielder and maybe a DH. "
   ]
  },
  {
   "cell_type": "markdown",
   "id": "ee45b435-239f-490d-a107-1a5af4f3399d",
   "metadata": {},
   "source": [
    "## Impact for Chicago ##"
   ]
  },
  {
   "cell_type": "markdown",
   "id": "9901e18a-da50-4f98-80b8-cb02496dbe89",
   "metadata": {},
   "source": [
    "Losing Miller isn't something that the Cubs should be losing sleep over. They have a solid infield and Slaughter at best would be a bench player for the Cubs. I think that if they kept Miller he would make the 40-man next year and maybe get a spot on the 26-man. However, I think that is unlikely, and getting a player like Miller to compete this year is important.\n",
    "\n",
    "I love this trade for the Cubs. They need relievers if they want to compete for the now. This is a solid reliever that has put up good numbers during this season. The Cubs get the bullpen depth that they need and only lose a triple-A player that I don't think would make it on the 26-man anytime soon for them. However, people can argue that this isn't that great of a trade for the Cubs as they're giving resources for a player that would hit free agency. I think that's a dumb way to think. The Cubs need a bullpen and Miller is a player that could fulfill that need. On top of that, we don't know if another team in need of relievers would grab him if he hit the market or even offer a trade. Only trading a solid Triple-A player who I don't think will make an impact in the majors for a reliever is a great move for the Cubs."
   ]
  },
  {
   "cell_type": "markdown",
   "id": "2eba3cb1-6159-44e8-a680-e1dfeb06d588",
   "metadata": {},
   "source": [
    "# Conclusion #"
   ]
  },
  {
   "cell_type": "markdown",
   "id": "051926f4-0d02-433f-a315-a6f5edd862d2",
   "metadata": {},
   "source": [
    "I would give this trade an A- for the Cubs and a B- for the Mariners. I think that the issue I have is the Mariners DFA'ing Miller to begin with. That in itself is a C- move. I think getting Slaughter for a DFA relief pitcher though is an A- move and thus the B- grade. The Cubs getting Miller is an A- move all around. Getting a relief pitcher with the stats he has, 11.2 IP posting a 3.09 ERA and .771 WHIP this year. My only issue is relying on a player with only 11.2 IP this year to possibly be your 3rd or 4th best reliever barring injuries."
   ]
  }
 ],
 "metadata": {
  "kernelspec": {
   "display_name": "Python 3 (ipykernel)",
   "language": "python",
   "name": "python3"
  },
  "language_info": {
   "codemirror_mode": {
    "name": "ipython",
    "version": 3
   },
   "file_extension": ".py",
   "mimetype": "text/x-python",
   "name": "python",
   "nbconvert_exporter": "python",
   "pygments_lexer": "ipython3",
   "version": "3.10.12"
  }
 },
 "nbformat": 4,
 "nbformat_minor": 5
}
