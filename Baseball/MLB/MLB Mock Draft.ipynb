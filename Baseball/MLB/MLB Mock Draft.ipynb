{
 "cells": [
  {
   "cell_type": "markdown",
   "id": "bdfee95f-e315-416e-9405-659ced837bdc",
   "metadata": {},
   "source": [
    "# MLB Draft First Round Mock #"
   ]
  },
  {
   "cell_type": "markdown",
   "id": "14372a60-e16a-4cfa-83af-671f7784c7e2",
   "metadata": {},
   "source": [
    "With the MLB Draft First Round Happening tomorrow I want to do a mock draft with only the first round as well as the prospect promotion, compensation picks, and competitive balance picks. With that being said this year is kind of a strange year with the draft. The Guardians have the first pick while having the best record in the AL. It's also worth noting that a lot of first-rounders are coming from College this year, not that many high schoolers are seen to be top prospects this year. With that being said this is my note\n",
    "\n",
    "1. This is what I would do as a GM, not what I think will happen. I will look at contract situations, the current roster, and all the such to make a determination of what will happen. I'm not listening to anything the media says, this is what I would do if I were the GM of the team.\n",
    "\n",
    "2. I will not do trades. This will be a draft of the current order with no trades. Will there be trades, yes, but I'm not doing that. I will mention points in the draft where I could see a trade happening.\n",
    "\n",
    "With that being said this would be my first round mock draft."
   ]
  },
  {
   "cell_type": "markdown",
   "id": "54f7c66f-ca76-423e-bcb8-e93d6951a00c",
   "metadata": {},
   "source": [
    "## 1. Cleveland Guardians - Charlie Condon, OF/3B Georgia ##"
   ]
  },
  {
   "cell_type": "markdown",
   "id": "19517cc0-417e-4e0b-83c3-6015d3ec05e2",
   "metadata": {},
   "source": [
    "The Guardians would pick the SEC player of the year to possibly help the Guardians as soon as possible. Leading the NCAA in BA, SLG%, and Home Runs, he's a solid prospect that has the ability to play multiple positions on the field. He's has a big, athletic frame. His one issue is that he does seem to chase pitches quite a bit but with some time in the Minors and playing at that level for a bit I can see him develop. If Condon goes up to the Majors in the next couple of years I see him being in the Outfield."
   ]
  },
  {
   "cell_type": "markdown",
   "id": "f22eeef6-3789-4e47-9ce0-b2dbd7599133",
   "metadata": {},
   "source": [
    "## 2. Cincinnati Reds - Travis Bazzana, 2B Oregon State ##"
   ]
  },
  {
   "cell_type": "markdown",
   "id": "b6932d77-39ae-4b40-81b8-480885424cda",
   "metadata": {},
   "source": [
    "The project first overall pick should really go second for me. His hitting is great this past season. Posting a statline of .340/.463/.549 during his time at Oregon State, he has proven to be a great hitter. My issue with the Australian is his build and his defensive limitations. Standing at 6 feet tall and with a weak arm pretty much sticks him at second base. With his above average athlecticism he can prove that he should've went first overall."
   ]
  },
  {
   "cell_type": "markdown",
   "id": "171162fe-844f-4878-a28d-94a9a848c273",
   "metadata": {},
   "source": [
    "## 3. Colorado Rockies - Chase Burns, RHP Wake Forest ##"
   ]
  },
  {
   "cell_type": "markdown",
   "id": "f8479a9e-47dd-4ab0-b5a6-a31ec955f4a2",
   "metadata": {},
   "source": [
    "The Rockies take the best pitcher in this draft to add to their future rotation. Burns has good command of the strike zone and his fastball can clock in at around 100 at times. He average around 2 strikeouts per inning and has only walked 8% of the batters that he's faced this past year. The one concern is that his fastball doesn't have too much stuff to it and goes straight most of the time. With that being said he's still a great pitching prospect as that's truly his only concern."
   ]
  },
  {
   "cell_type": "markdown",
   "id": "0264f4fd-937b-4a94-a4a4-a2afda205b46",
   "metadata": {},
   "source": [
    "## 4. Oakland Athletics - Jac Caglianone, 1B/LHP Florida ##"
   ]
  },
  {
   "cell_type": "markdown",
   "id": "5a2b5ad6-358f-4465-9d16-3d8644e4a08a",
   "metadata": {},
   "source": [
    "The Athletics are starting with a clean slate with them next year with them moving to Sacramento and having no one on the MLB roster, the Athletics will take the best player available. To me, Caglianone is BPA in this situation and has 2-way ability. With that being said he is stuck as a 1B or DH for his MLB career and I don't think that he can pitch at the MLB level. His pitch speed isn't MLB level and he has a high walk rate, but his 33 Home Runs at the NCAA level help with that. He could develop his pitching in the minors but at best he's a relief pitcher if not 1B or DH at the MLB level."
   ]
  },
  {
   "cell_type": "markdown",
   "id": "cfb23f60-6eb0-485e-8098-a05444966526",
   "metadata": {},
   "source": [
    "## 5. Chicago White Sox - J.J. Wetherholt, SS/2B West Virginia"
   ]
  },
  {
   "cell_type": "markdown",
   "id": "ddb8db08-7e1e-4d0d-9b2c-352feee5d3b6",
   "metadata": {},
   "source": [
    "The worst team in the MLB would take one of the better prospects in Wetherholt from West Virginia. One of the best hitters in the draft with statline of  .370/.468/.625 this past season with the Mountaineers, Wetherholt has shown that he can swing the bat. The issue with Wetherholt is his size and his defensive ability. Standing at 5'10'' he is on the shorter side and is a slower defender, showing the issue with his hamstring. He won't play SS at the MLB level but he shouldn't struggle as a 2B."
   ]
  },
  {
   "cell_type": "markdown",
   "id": "8787b60a-b061-44fb-9cf4-26675a6d7f2d",
   "metadata": {},
   "source": [
    "## 6. Kansas City Royals - Hagen Smith, LHP Arkansas ##"
   ]
  },
  {
   "cell_type": "markdown",
   "id": "41954c4b-029b-4283-b313-d369655c5705",
   "metadata": {},
   "source": [
    "The best Lefty in the draft would head to Kansas City. With a WHIP of .893 and struck out an average of 2 batters per inning, he's proven that has the stuff and the speed. His fastball averages in the upper 90's and his has a release that seems to trick up batters during this past season at Kansas City. With that all being said he only has a fastball and a slider currently. He would need to try and develop a third pitch to be a starter in the future but if he doesn't he could be a solid relief or a possible closer."
   ]
  },
  {
   "cell_type": "markdown",
   "id": "307632fb-a148-4792-bc87-8c58e2c9b45c",
   "metadata": {},
   "source": [
    "## 7. St.Louis Cardinals - Braden Montgomery, OF Texas A&M"
   ]
  },
  {
   "cell_type": "markdown",
   "id": "7260b037-d3c8-4557-85a2-c222b7aadf67",
   "metadata": {},
   "source": [
    "The Cardinals get a solid prospect in Montgomery. Montgomery is seen as a solid all around prospect. He has the ability to pitch and be a switch hitter but has struggled on the right side when batting and barely cracks 90 in his pitch speed. In other words I think that he would be an Outfielder that bats lefty. With that being said he has the speed, the arm, and a SLG% of .733 to be a solid player for the future."
   ]
  },
  {
   "cell_type": "markdown",
   "id": "196465ff-1f28-4ddf-a4d8-9bbaf902520c",
   "metadata": {},
   "source": [
    "## 8. Los Angeles Angels - Konnor Griffin, SS/OF Jackson Prep (MS) ##"
   ]
  },
  {
   "cell_type": "markdown",
   "id": "db64dfdd-36bd-44c5-bfb2-6f382058d7b6",
   "metadata": {},
   "source": [
    "The first high school prospect to be selected in this draft, Griffin is one of the younger prospects in this draft. With that being said his defensive ability is great currently. He has the ability to play either SS or CF and has speed. The main issue is his inconsistent bat at his level. He struggled with contact this past season in Mississippi. With that being said if he can develop that and his youth, he could be one of the best players in this draft."
   ]
  },
  {
   "cell_type": "markdown",
   "id": "19dd469f-2fc1-4df1-ab1e-71a2138dc586",
   "metadata": {},
   "source": [
    "## 9. Pittsburgh Pirates - Nick Kurtz, 1B Wake Forest ##"
   ]
  },
  {
   "cell_type": "markdown",
   "id": "2aaf5b54-7e93-4087-b0b0-6340443446a3",
   "metadata": {},
   "source": [
    "To me this is one of the safest picks in this draft. He has a high floor and low ceiling. He has above average power and lead the NCAA in Walks. To me this would be a good prospect. With that being said I don't see much more in development to be made with him. He's stuck at 1B and can be a decent player at the MLB level."
   ]
  },
  {
   "cell_type": "markdown",
   "id": "46872562-d61b-446a-8e61-453542271335",
   "metadata": {},
   "source": [
    "## 10. Washington Nationals - Bryce Rainer, SS Harvard Westlake HS (CA) ##"
   ]
  },
  {
   "cell_type": "markdown",
   "id": "163726b4-f0e5-4ee7-912b-b294cf80c2d3",
   "metadata": {},
   "source": [
    "The other top High School prospect, to me Rainer is the second best in this draft. A tall SS is a solid high school prospect. He is a solid hitter that is defensivly a good prospect. The Nationals would get a good prospect in Rainer."
   ]
  },
  {
   "cell_type": "markdown",
   "id": "414769f3-9d1f-4df9-a6c2-24789dde7de3",
   "metadata": {},
   "source": [
    "## 11. Detroit Tigers - James Tibbs III, OF/1B Florida State ##"
   ]
  },
  {
   "cell_type": "markdown",
   "id": "16890eee-2908-45be-9c1a-a37af0904ecb",
   "metadata": {},
   "source": [
    "The Florida State prospect has developed a lot during the last season. Hitting 28 HRs this past season and winning the ACC player of the year. Tibbs has dropped the number of strikeouts and upping the number of walks has helped out his stock. With that being said he's not fast as a runner currently."
   ]
  },
  {
   "cell_type": "markdown",
   "id": "d42b7abd-8a9d-44b4-8f28-de75f9ab1a0b",
   "metadata": {},
   "source": [
    "## 12. Boston Red Sox - Trey Yesavage, RHP East Carolina ##"
   ]
  },
  {
   "cell_type": "markdown",
   "id": "850673b5-d760-4940-8afe-c2ca724ad0fe",
   "metadata": {},
   "source": [
    "The Red Sox's select a top tier prospect in Yesavage. The righty was a relief pitcher last year and as developed to be a top starting pitcher this past season for the Pirates. With that being said Yesavage has a solid arsenal to pitch from. His fastball is on the slower side, however his offspeed pitches have shown to have good stuff to it. Yesavage also had the best ERA and OPS in NCAA ball this year. He has all the possiblity to be a great pitcher if he develops."
   ]
  },
  {
   "cell_type": "markdown",
   "id": "544087d4-426c-4120-9bb1-85d20dc3a884",
   "metadata": {},
   "source": [
    "## 13. San Francisco Giants - Cam Smith, 3B Florida State ##"
   ]
  },
  {
   "cell_type": "markdown",
   "id": "cc5e8400-f71a-43a8-b46c-d0c7b66d881c",
   "metadata": {},
   "source": [
    "A big, athletic built prosepct, Smith has hit .331/.420/.594 during his time with the Seminoles. However he is still awkward in his current frame but he can still make plays at his current ability. With that being said he has the build to be a power hitter at the MLB level and if he can develop to not be awkward with his feet, he could be a good 3B."
   ]
  },
  {
   "cell_type": "markdown",
   "id": "68c35bef-3372-45f0-9752-d79b473160be",
   "metadata": {},
   "source": [
    "## 14. Chicago Cubs - Christian Moore, 2B/SS Tennessee ##"
   ]
  },
  {
   "cell_type": "markdown",
   "id": "917a26bd-8fd2-4caa-b782-5265018a805b",
   "metadata": {},
   "source": [
    "With solid defensive ability and a power hitter with his time in Tennessee, Moore has a good build that I think he can develop to fill in. He has good speed to be able to steal and get extra bases. With that being said Moore chases a lot of pitches and with him chasing a lot of pitches that could cause some issues if he doesn't develop out of that. With that being said he has the ability to be a solid all-around prospect."
   ]
  },
  {
   "cell_type": "markdown",
   "id": "a1e4e927-e4e3-403b-8cc1-8e0f2e1be4d7",
   "metadata": {},
   "source": [
    "## 15. Seattle Mariners - Seaver King, CF/INF Wake Forest ##"
   ]
  },
  {
   "cell_type": "markdown",
   "id": "0aaae2be-4ef9-4b56-85e1-c0e60226c25e",
   "metadata": {},
   "source": [
    "One of the fastest prospect in the draft, King has shown to be utalized at 3 different positions. He has the ability to play CF, 3B, and SS at a high level. While at Wake Forest he was utalized as a 3B for most of his time, but his speed and arm has shown to be able to play CF and SS. He also has a good exit velocity on his hits. With that being said he chases a good amount of pitches."
   ]
  },
  {
   "cell_type": "markdown",
   "id": "24dea64f-9b77-4908-9112-18996afb970a",
   "metadata": {},
   "source": [
    "## 16. Miami Marlins - Cam Camintini, LHP Saguaro HS (AZ) ##"
   ]
  },
  {
   "cell_type": "markdown",
   "id": "07d0a872-1526-4835-9b72-52d19f07ab93",
   "metadata": {},
   "source": [
    "One of the worst teams in the MLB currently, the Marlins would pick the high school lefty to join their organization. The 17-year-old has a solid arsenal of a Fastball, Curveball, Slider, and a Changeup that isn't used too often. With that being said he averages a low 90 fastball and an upper 70 in offspeed pitches. If he can add more zip to his pitches and develop his changeup more, he could be a solid prospect."
   ]
  },
  {
   "cell_type": "markdown",
   "id": "70034e6c-f40a-4bb7-b3eb-42276440c02b",
   "metadata": {},
   "source": [
    "## 17. Milwaukee Brewers - William Schmidt, RHP Catholic (LA) ##"
   ]
  },
  {
   "cell_type": "markdown",
   "id": "74f0992d-757b-4eed-a4ed-e3e00d9602c0",
   "metadata": {},
   "source": [
    "The tall, athletic pitcher is one of the better pitching prospect in this draft. Having a fastball that averages in the mid-90s and a curveball that is one of the best in this draft, Schmidt needs to develop his changeup to be a starting pitcher in the future. He also needs to have more control with his pitches and can be a good prospect for the future."
   ]
  },
  {
   "cell_type": "markdown",
   "id": "23fc7276-84d9-41b7-b7e4-4d16bb72e38b",
   "metadata": {},
   "source": [
    "## 18. Tampa Bay Rays - Malcolm Moore, C Stanford ##"
   ]
  },
  {
   "cell_type": "markdown",
   "id": "953968c7-c378-4d2c-bb51-60c9b1aeaa4e",
   "metadata": {},
   "source": [
    "This selection would be for the bat and if he can develop to be a catcher at the MLB level then this would be a catcher with solid hitting ability. He hit .311/.386/.564 with 15 home runs with the Pac-12 team, he has a high potential for hit speed and pull. He has a decent arm and defensive actions, the question is can he develop that at a high level?"
   ]
  },
  {
   "cell_type": "markdown",
   "id": "88ce120b-be00-4160-97f9-fc4f8290656b",
   "metadata": {},
   "source": [
    "## 19. New York Mets - Jurrangelo Cijntje, SHP Mississippi State ##"
   ]
  },
  {
   "cell_type": "markdown",
   "id": "20320ef8-7abf-4d3f-ad0e-8f05a9061cf6",
   "metadata": {},
   "source": [
    "The switch pitcher has shown that he has the ability to pitch with both his left and right hand. With that being said Cijntje is better with his right hand and has shown to have good stuff with all of his pitches. His build is a concern, being on the shorter side, however, he has shown to be athletic and that could help him boost his profile."
   ]
  },
  {
   "cell_type": "markdown",
   "id": "0d309c64-f438-4453-9ef5-9fbe67b4ad19",
   "metadata": {},
   "source": [
    "## 20. Toronto Blue Jays - Theo Gillen, SS Westlake HS (TX) ##"
   ]
  },
  {
   "cell_type": "markdown",
   "id": "f47a5eea-8975-433a-b98f-e93e04d00530",
   "metadata": {},
   "source": [
    "Gillen is one of the best hitters in the draft. He has the speed and has shown to be able to hit for both power and contact. With that all being said his injury history is a concern. The main injury was a shoulder injury which has shown to affect his throwing ability and would most likely have him move to 2B, maybe CF for his speed but I'm not sure if his shoulder could do that."
   ]
  },
  {
   "cell_type": "markdown",
   "id": "d34a5187-b389-4bf5-ac9c-d04b1a008707",
   "metadata": {},
   "source": [
    "## 21. Minnesota Twins - Carson Benge, OF Oklahoma State ##"
   ]
  },
  {
   "cell_type": "markdown",
   "id": "e2c16fb9-cddf-435d-a7a4-ae3d6c7a5fcf",
   "metadata": {},
   "source": [
    "The former 2-way prospect has shown that he favors the hitting box over the pitching mound. With that being said, Benge has solid Power and is able to command the outfield well. Benge isn't that fast and typically plays right field, however, he has the ability to play CF. He has good arm strength as well."
   ]
  },
  {
   "cell_type": "markdown",
   "id": "613a1037-edf5-4489-8e64-00e58d478416",
   "metadata": {},
   "source": [
    "## 22. Baltimore Orioles - Ryan Waldschmidt, OF Kentucky ##"
   ]
  },
  {
   "cell_type": "markdown",
   "id": "64dcd4ce-c640-472b-8cd5-eb596c5a1b2d",
   "metadata": {},
   "source": [
    "Waldschmidt is a solid hitting prospect who has the power and the speed to be able to steal bases. Waldschmidt also has the ability to work the count and is disciplined at the plate. He should be a solid prospect for the Orioles."
   ]
  },
  {
   "cell_type": "markdown",
   "id": "fc4c8ae6-9a98-4e7c-b122-6cf005a4233b",
   "metadata": {},
   "source": [
    "## 23. Los Angeles Dodgers - Vance Honeycutt, OF North Carolina ##"
   ]
  },
  {
   "cell_type": "markdown",
   "id": "e453b74b-7e4d-4ad6-9859-c340d5368ce4",
   "metadata": {},
   "source": [
    "He is a great all around prospect. He's improved on his strikeout rate, lowered his chasing, his power has somewhat returned, is a great runner on the basepath, and has great defensive ability, the Dodgers got a steal of a prospect right? Well kind of, his strikeout rate is still high even with the drop and he needs to develop as a hitter overall. This would be a solid selection for the Dodgers though."
   ]
  },
  {
   "cell_type": "markdown",
   "id": "176bb5bc-0329-43c9-85a6-9d45c54fcb1e",
   "metadata": {},
   "source": [
    "## 24. Atlanta Braves - Ryan Sloan, RHP York Community (IL) ##"
   ]
  },
  {
   "cell_type": "markdown",
   "id": "784e94e4-1d6a-4178-90d9-11fd65343111",
   "metadata": {},
   "source": [
    "The Braves pick the tall high school prospect in Sloan. The 6'5'' righty has a Fastball and Changeup that is good for a high schooler. He's developing his slider though and doesn't have that much control on his pitches and need to be better at the command of them. With that said, a fastball that reaches nearly 100 is great for a high school prospect."
   ]
  },
  {
   "cell_type": "markdown",
   "id": "a88b7afe-534a-414d-b9b3-bdb5792aa328",
   "metadata": {},
   "source": [
    "## 25. San Diego Padres - Brody Brecht, RHP Iowa ##"
   ]
  },
  {
   "cell_type": "markdown",
   "id": "a0f94551-2d2b-4ec6-a8b1-5c2d0a3d92a8",
   "metadata": {},
   "source": [
    "Brecht is a prospect who has a high ceiling but a low floor. Having not focused on baseball for that long in his life, he has an interesting arsenal. He doesn't have that much command to his pitches, he's a walk machine, but his speed on the pitches and the stuff of it has a lot going for it. With that all being said he's a high risk prospect that could be the best pitcher in this draft for the right system."
   ]
  },
  {
   "cell_type": "markdown",
   "id": "2267b0bf-894d-4d50-8467-0c41da4fc605",
   "metadata": {},
   "source": [
    "## 26. New York Yankees - Kash Mayfield, LHP Elk City (OK) ##"
   ]
  },
  {
   "cell_type": "markdown",
   "id": "3180c4a0-3426-4a7e-ac30-023ad09d66e8",
   "metadata": {},
   "source": [
    "The southpaw is an interesting prospect coming into this draft. The speed of his pitches are high and his release is hard for hitters to find. With that all being said his breaking ball is a slight issue in that it hangs at times and has a chance for solid contact from hitters. With that being said he's an interesting prospect for the Yankees to pick."
   ]
  },
  {
   "cell_type": "markdown",
   "id": "b58ee5bc-5186-4ab5-b8c0-25aee166a768",
   "metadata": {},
   "source": [
    "## 27. Philadelphia Phillies - Tommy White, 3B LSU ##"
   ]
  },
  {
   "cell_type": "markdown",
   "id": "e7e311ef-1151-4cd5-8c29-838d7856fb65",
   "metadata": {},
   "source": [
    "The Phillies get a pure power hitter in Tommy White with this selection. He hit 75 home runs during his time in the NCAA and is an above average runner. With that all being said his fielding is a concern. While he played 3B during his time with the Tigers, DH with NC State, he would most likely move to 1B if he doesn't find a way to be more consistent with his throws."
   ]
  },
  {
   "cell_type": "markdown",
   "id": "81e4b086-6282-4452-a67f-9cc6cf5929db",
   "metadata": {},
   "source": [
    "## 28. Houston Astros - Walker Janek, C Sam Houston State ##"
   ]
  },
  {
   "cell_type": "markdown",
   "id": "70e07729-ea02-492f-83b3-2274a6e73159",
   "metadata": {},
   "source": [
    "The Texas product will stay in his being selected by the Astros. Possibly the best catching prospect in this draft in terms of both sides of the ball, Janek has good bat speed and strength at the plate. At the same time his defensive ability is a stand out as well. He has a good arm and his framing ability is also good. With that being said he's not that fast, but fast for a catcher, and he chases pitches a lot. It would be interesting to see how he develops."
   ]
  },
  {
   "cell_type": "markdown",
   "id": "8447d852-4ca5-4b52-8189-373b409e4a47",
   "metadata": {},
   "source": [
    "## 29. Arizona Diamondbacks - Slade Caldwell, OF Valley View HS (AR) ##"
   ]
  },
  {
   "cell_type": "markdown",
   "id": "5e9ef9bf-323d-4e69-b655-7a10a1edafde",
   "metadata": {},
   "source": [
    "The Arkansas prospect's height is huge concern, especially as an outfielder. However, he still can grow and has good bat speed and OBP. His speed is also a plus for him as he has the ability to play in the outfield and steal bases. He would be an interesting prospect to watch."
   ]
  },
  {
   "cell_type": "markdown",
   "id": "33ec8371-2a1a-4355-9b1d-381bd985e7ec",
   "metadata": {},
   "source": [
    "## 30. Texas Rangers - Caleb Lomavita, C California ##"
   ]
  },
  {
   "cell_type": "markdown",
   "id": "75c5506b-41ee-4baa-ae36-8d5ed7a7a5f4",
   "metadata": {},
   "source": [
    "The athletic catcher has a solid bat that is able to hit all over the field. He is fast on the basepath but he lacks arm strength and his recieving is subpar. He's an aggressive hitter as well and chases pitches a lot of the time. If he can be more consistent with his at bats and either move to 3B or get better defensively, the Rangers got a steal of a a prospect."
   ]
  },
  {
   "cell_type": "markdown",
   "id": "5c44ff96-113c-44f0-8381-4dda4f77dce9",
   "metadata": {},
   "source": [
    "## 31. Arizona Diamondbacks - Kellon Lindsey, SS Hardee (FL) ##"
   ]
  },
  {
   "cell_type": "markdown",
   "id": "d970c28f-2728-45b9-9a26-1027f1593598",
   "metadata": {},
   "source": [
    "The high school SS is fast on the basepath and on the field. He also has good contact and decision making for a high school prospect. He has improved defensively and can make plays at the position while a solid arm. With that being said he doesn't have much power, and nor will he, but if he can get just a little more power to his hit then we could see a good prospect in Lindsey."
   ]
  },
  {
   "cell_type": "markdown",
   "id": "c5662089-f58f-49cb-8dab-bbeb73485e05",
   "metadata": {},
   "source": [
    "## 32. Baltimore Orioles - Kaelen Culpepper, SS, Kansas State ##"
   ]
  },
  {
   "cell_type": "markdown",
   "id": "97fd240a-c28a-4970-997a-b349cda7606d",
   "metadata": {},
   "source": [
    "Culpepper is an interesting prospect. He has shown the ability to be solid SS at the MLB level. He has the arm and athleticism to play that position. The one issue is his hitting showing he can make good contact, however, he lacks in power and is swing happy. With that being said he has hit for a cycle in the NCAA tournament so there might be a chance that he's developing there."
   ]
  },
  {
   "cell_type": "markdown",
   "id": "7ee61582-d509-4bbc-a3b8-e677e2529e39",
   "metadata": {},
   "source": [
    "## 33. Minnesota Twins - Dakota Jordan, OF Mississippi State ##"
   ]
  },
  {
   "cell_type": "markdown",
   "id": "f04d5127-9331-4e2f-ad84-99a9ff06cfc5",
   "metadata": {},
   "source": [
    "Jordan is a boom and bust prospect in this year draft. He has the power and the ability to be a great hitter at the MLB level. The one issue with him is his high strikeout rate. Striking out at 31% of his at bats against SEC teams is a concern. With that being said if he can drop that and have his power stay at least the same then the Twins would have the steal of the draft."
   ]
  },
  {
   "cell_type": "markdown",
   "id": "b5bbdff3-dc3a-4a52-8441-6af88f085b83",
   "metadata": {},
   "source": [
    "## 34. Milwaukee Brewers - Braylon Doughty, RHP Chaparral HS (CA) ##"
   ]
  },
  {
   "cell_type": "markdown",
   "id": "36e20720-da0e-4704-b88a-d5337e58ac58",
   "metadata": {},
   "source": [
    "The Brewers select another RHP high school pitcher in this draft. Doughty has great command, good breaking ball, and a good looking fastball. His Curveball is one of the best in the draft and he should be an interesting prospect for this draft."
   ]
  },
  {
   "cell_type": "markdown",
   "id": "b99db924-49a9-41fb-854b-e4cda9053a02",
   "metadata": {},
   "source": [
    "## 35. Arizona Diamondbacks - Billy Amick, 3B Tennessee ##"
   ]
  },
  {
   "cell_type": "markdown",
   "id": "86b9b7ff-f0c6-4c5c-9383-a1f089fa304f",
   "metadata": {},
   "source": [
    "Amick has good raw power with his swing speed and strength, he chases balls a lot though. Needs to get comfotable at 3B to continue to develop at that position."
   ]
  },
  {
   "cell_type": "markdown",
   "id": "cee9c687-e70c-4829-961c-3e3799651e7b",
   "metadata": {},
   "source": [
    "## 36. Cleveland Guadians - Wyatt Sanford, SS Independence HS (TX) ##"
   ]
  },
  {
   "cell_type": "markdown",
   "id": "22beeb96-08b2-4d08-a4a3-f5bffbefc0b2",
   "metadata": {},
   "source": [
    "Another Texas SS prospect, Sanford has good defensive ability and speed. If he can improve on his hitting then it would be necessary to make that step to the MLB level."
   ]
  },
  {
   "cell_type": "markdown",
   "id": "11b11f5f-fc64-4176-b807-25c8e07eb0b7",
   "metadata": {},
   "source": [
    "## 37. Pittsburgh Pirates - Jonathan Santucci, LHP Duke ##"
   ]
  },
  {
   "cell_type": "markdown",
   "id": "149e7ea6-fa53-41b9-b8c3-60c7ef3a0f68",
   "metadata": {},
   "source": [
    "A solid athlete and pitcher, Santucci needs to get better with his command on his pitches and develop his third pitch."
   ]
  },
  {
   "cell_type": "markdown",
   "id": "aee67c71-d878-477d-8137-2f46aba4dd72",
   "metadata": {},
   "source": [
    "## 38. Colorado Rockies - Carter Johnson, SS Oxford HS (AL) ##"
   ]
  },
  {
   "cell_type": "markdown",
   "id": "d61ff730-4c28-42b9-ac7f-a0ea97ed5322",
   "metadata": {},
   "source": [
    "A solid hitter that has more room to grow while also being an ok SS, he needs to mature a little as a hitter with his decisions and such."
   ]
  },
  {
   "cell_type": "markdown",
   "id": "7be69093-352e-46b0-9585-96235dd2f9ec",
   "metadata": {},
   "source": [
    "## 39. Kansas City Royals - Griff O'Ferrall, SS Virginia ##"
   ]
  },
  {
   "cell_type": "markdown",
   "id": "d7d3fb3f-92e4-4ca2-8e21-a51e6591d7d6",
   "metadata": {},
   "source": [
    "A solid all around prospect that needs to develop his power and some defensive ability at shortstop would could be good for the Royals."
   ]
  }
 ],
 "metadata": {
  "kernelspec": {
   "display_name": "Python 3 (ipykernel)",
   "language": "python",
   "name": "python3"
  },
  "language_info": {
   "codemirror_mode": {
    "name": "ipython",
    "version": 3
   },
   "file_extension": ".py",
   "mimetype": "text/x-python",
   "name": "python",
   "nbconvert_exporter": "python",
   "pygments_lexer": "ipython3",
   "version": "3.10.12"
  }
 },
 "nbformat": 4,
 "nbformat_minor": 5
}
