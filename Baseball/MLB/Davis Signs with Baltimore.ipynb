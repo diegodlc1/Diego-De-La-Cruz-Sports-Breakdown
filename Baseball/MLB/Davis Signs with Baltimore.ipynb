{
 "cells": [
  {
   "cell_type": "markdown",
   "id": "a58b4866-a84c-4c3a-bdcd-3895977eee47",
   "metadata": {},
   "source": [
    "# Davis Signs with Baltimore #"
   ]
  },
  {
   "cell_type": "markdown",
   "id": "96766d33-3d5c-48ed-8c57-36bce9cca606",
   "metadata": {},
   "source": [
    "JD Davis has signed with Baltimore on a minor league deal after being traded to the Yankees and then released last week. The Orioles are getting some infield depth but will be playing in the Minors for the time being. "
   ]
  },
  {
   "cell_type": "markdown",
   "id": "f7d3c223-d366-47e3-a411-1928131627d7",
   "metadata": {},
   "source": [
    "## Impact for Baltimore ##"
   ]
  },
  {
   "cell_type": "markdown",
   "id": "7d0e0f3f-4b76-484c-9a7d-fc77fd60eac2",
   "metadata": {},
   "source": [
    "After being traded from the A's and a terrible 7-game stint with the Yankees, Davis was released from the Yankees last week. With that being said, Baltimore has signed him on a Minor League deal. The Orioles are lacking in 3rd base depth with both Mateo and Westburg on the injury list for the next coming days and Urias and Mayo covering the position, but are both struggling at the moment. We could see Davis come back in the Majors if both Urias and Mayo continue to struggle with them. With that being said, I think that Urias is still a better player than Davis and Baltimore is just getting someone with Major League experience to mentor the young guys in Triple-A at the moment. If the playoffs come around and one of the 3 of Urias, Westburg, and Mateo go down then I think Davis should get the call up over Mayo due to age and experience. This is a low risk, low reward signning and will give this signning a B. Solid all around but don't expect much. Basically paying premium for a mentor for the young guys."
   ]
  }
 ],
 "metadata": {
  "kernelspec": {
   "display_name": "Python 3 (ipykernel)",
   "language": "python",
   "name": "python3"
  },
  "language_info": {
   "codemirror_mode": {
    "name": "ipython",
    "version": 3
   },
   "file_extension": ".py",
   "mimetype": "text/x-python",
   "name": "python",
   "nbconvert_exporter": "python",
   "pygments_lexer": "ipython3",
   "version": "3.10.12"
  }
 },
 "nbformat": 4,
 "nbformat_minor": 5
}
