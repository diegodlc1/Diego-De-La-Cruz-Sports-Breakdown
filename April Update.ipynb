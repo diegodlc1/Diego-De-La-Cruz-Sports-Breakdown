{
 "cells": [
  {
   "cell_type": "markdown",
   "id": "ff2d22e0-91a7-49cd-bc83-7e90127fa71d",
   "metadata": {},
   "source": [
    "# April Update"
   ]
  },
  {
   "cell_type": "markdown",
   "id": "4adf5ef9-76b6-4a99-8d24-d18313aac949",
   "metadata": {},
   "source": [
    "I have officially been accepted to Law School and now have no concern about that aspect anymore, as well as being able to fix the github. With that being said, I learned that a huge aspect of preparing for law school is writing/typing. With that being said, from now until August, I will be typing and writing about sports every day until I start Law School. Once I start Law School, I will stop typing this and will pretty much go silent here until I get a chance to type again. I really like my offseason breakdowns, so I will emphasize that. The issue is that it will be just the NBA, NHL, and some international soccer. The issue with all of that is that I won't have all the time in the world to cover all of that and still give time to the NFL and MLB. Since I feel more comfortable with the NBA CBA, I will only write an offseason breakdown for the 30 NBA teams and try and give coverage for the rest. After the draft, after free agency, the MLB trade deadline, etc. I feel like the offseason breakdowns show the best ability I have and give interest to my job prospects and hopefully I impress. I will start Monday once the NBA season officially ends."
   ]
  }
 ],
 "metadata": {
  "kernelspec": {
   "display_name": "Python 3 (ipykernel)",
   "language": "python",
   "name": "python3"
  },
  "language_info": {
   "codemirror_mode": {
    "name": "ipython",
    "version": 3
   },
   "file_extension": ".py",
   "mimetype": "text/x-python",
   "name": "python",
   "nbconvert_exporter": "python",
   "pygments_lexer": "ipython3",
   "version": "3.10.12"
  }
 },
 "nbformat": 4,
 "nbformat_minor": 5
}
