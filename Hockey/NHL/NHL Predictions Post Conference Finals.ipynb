{
 "cells": [
  {
   "cell_type": "markdown",
   "id": "496c9b39-7a1d-483f-9055-394353c56da5",
   "metadata": {},
   "source": [
    "# NHL Predictions Post Second Round #"
   ]
  },
  {
   "cell_type": "markdown",
   "id": "339823d3-cfc8-4c91-8bbb-b9359e0d46c5",
   "metadata": {},
   "source": [
    "With the Oilers beating the Canucks in game 7, the second round is over with the 2 Conference Finals set to see who wins the Stanley Cup. These are my predictions for the remainder of the playoffs at this point in time."
   ]
  },
  {
   "cell_type": "markdown",
   "id": "62047f2b-af9c-40fe-b4a4-ab96d21958ab",
   "metadata": {},
   "source": [
    "## New York Rangers vs Florida Panthers ##"
   ]
  },
  {
   "cell_type": "markdown",
   "id": "d84e721a-579b-4afc-84a7-c28cc573a4dc",
   "metadata": {},
   "source": [
    "The best team in the Metro takes on the best team in the Atlantic for the Eastern Conference Finals. Florida beat Tampa and Boston in 5 and 6 games, while the Rangers took down the Caps and Canes in 4 and 6 games. The Rangers played one less game, however, that came early on in the First Round. The Panthers have one of the best offenses in the playoffs and had one of the best defenses in the regular season even when Reinhart hasn't been too convincing to me. The same thing can be said about New York as I feel the same way about Panarin. With that being said I think with Tkachuk stepping up and between these 2 teams being the best players in this series at the moment, I feel like the Panthers win this in 6."
   ]
  },
  {
   "cell_type": "markdown",
   "id": "efde6e52-328e-4329-b0ca-dc85401b44ee",
   "metadata": {},
   "source": [
    "## Dallas Stars vs Edmonton Oilers ##"
   ]
  },
  {
   "cell_type": "markdown",
   "id": "8211fa9b-fcc2-433a-bfea-ea439336c095",
   "metadata": {},
   "source": [
    "With the Stars taking the Golden Knights to 7, and the Avalanche to 6, they're coming in to play the Oilers who played the Kings in 5 and Canucks to 7, this is an interesting series. In the regular season, the Stars were the better team of the 2, however, the Oilers have the best attack in the league. We see Draisaitl, McDavid, Bouchard, and Nugent-Hopkins all topping the top 4 in Points in the playoffs. Bouchard looks to be the best player in the series currently. However, I feel like Tanev is a great defender to cover this. I think that this is going to be a battle, however, the extra game that the Oilers played against the Canucks will give the Stars the edge. Stars win in 7"
   ]
  },
  {
   "cell_type": "markdown",
   "id": "fa8c4163-2100-4037-8aa1-68fd9a87859c",
   "metadata": {},
   "source": [
    "# Finals #"
   ]
  },
  {
   "cell_type": "markdown",
   "id": "5c80f229-bdd2-42a6-a228-f9fbc0c6bcfb",
   "metadata": {},
   "source": [
    "## Panthers vs Stars ##"
   ]
  },
  {
   "cell_type": "markdown",
   "id": "727fe77c-e664-4e96-8060-51ba6a7517d1",
   "metadata": {},
   "source": [
    "While I never go in-depth with predictions after a round is over, only at the beginning of the playoffs, this looks to be an interesting Finals. The Stars and the Panthers were 2 of the best teams in the league and the playoffs. With that being said I feel like the Panthers are just better in a lot of ways. They have the clear-cut better defense, a better attacker in Reinhart, and a better attacker now in Tkachuk. Forsling is one of the better defenders currently, I will give props to Tanev for being up there, and Forsling is also one of the best players. The only thing the Stars have an advantage in is a slight one in overall attack. Even with that the Panthers have stepped up in the playoffs. On top of the extra game, I predicted I think that the Panthers win the finals and in 5."
   ]
  }
 ],
 "metadata": {
  "kernelspec": {
   "display_name": "Python 3 (ipykernel)",
   "language": "python",
   "name": "python3"
  },
  "language_info": {
   "codemirror_mode": {
    "name": "ipython",
    "version": 3
   },
   "file_extension": ".py",
   "mimetype": "text/x-python",
   "name": "python",
   "nbconvert_exporter": "python",
   "pygments_lexer": "ipython3",
   "version": "3.10.12"
  }
 },
 "nbformat": 4,
 "nbformat_minor": 5
}
