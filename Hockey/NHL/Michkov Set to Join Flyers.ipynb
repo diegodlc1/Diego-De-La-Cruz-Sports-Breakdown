{
 "cells": [
  {
   "cell_type": "markdown",
   "id": "e18a6df7-09e1-4709-93f2-2c8c8b231518",
   "metadata": {},
   "source": [
    "# Michkov set to Leave SKA, will join Flyers next season #"
   ]
  },
  {
   "cell_type": "markdown",
   "id": "a7c466a6-38a7-484c-ade5-55fb7234667d",
   "metadata": {},
   "source": [
    "SKA and Michkov has agreed to part ways to let the 7th pick of last year's draft join the Flyers this coming season. The 19-year-old right winger played in Sochi this past season, posting 41 points in 48 games for Sochi, while also having a -6 +/- this past season. With this I want to talk about the impact for the Flyers and what the Flyers should do with him."
   ]
  },
  {
   "cell_type": "markdown",
   "id": "45b95119-7c9b-490c-aaac-6b7a8d0abe35",
   "metadata": {},
   "source": [
    "## Impact for the Flyers ##"
   ]
  },
  {
   "cell_type": "markdown",
   "id": "0f896f75-d71f-4312-9f4d-adbd68b5f518",
   "metadata": {},
   "source": [
    "The Flyers should be happy that the 7th overall pick in last year's draft is joining them this upcoming season. There was a lot of thought that he would stay in Russia for a longer time, however, it looks like he will come earlier then most anticipated. With that being said I want to look at the impact this move will have on the Flyers this current season. Looking at the Flyers lineup, Brink is the only RW that is out of contract, which is set to be a Restricted Free agent this coming season. He might be resigned by the Flyers. Now the question ends up Michkov in that would he join the Flyers lineup this coming season or would he start the season at Lehigh Valley. To me, I don't think that he is ready for the NHL at this moment in time. He's on the slower end of skating in terms of NHL terms, but he has the ability improve. At the KHL level he was on the slower end their. I think spending some time at Lehigh Valley would help his development, but I can see that the Flyers would want to start him with the Flyers as he was a 7th overall pick in last years draft. We'll see what happens."
   ]
  }
 ],
 "metadata": {
  "kernelspec": {
   "display_name": "Python 3 (ipykernel)",
   "language": "python",
   "name": "python3"
  },
  "language_info": {
   "codemirror_mode": {
    "name": "ipython",
    "version": 3
   },
   "file_extension": ".py",
   "mimetype": "text/x-python",
   "name": "python",
   "nbconvert_exporter": "python",
   "pygments_lexer": "ipython3",
   "version": "3.10.12"
  }
 },
 "nbformat": 4,
 "nbformat_minor": 5
}
