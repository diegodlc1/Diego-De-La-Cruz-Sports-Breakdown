{
 "cells": [
  {
   "cell_type": "markdown",
   "id": "8fe32d34-bac2-40ae-a078-e0de13a4b50f",
   "metadata": {},
   "source": [
    "# Kuznetsov Leaves Hurricanes #"
   ]
  },
  {
   "cell_type": "markdown",
   "id": "55216e96-d244-4524-b2c0-4fdc9c59c757",
   "metadata": {},
   "source": [
    "Evgeny Kuznetsov has left the NHL to go back to Russia. The 32-year-old Centre was set to earn 6 million this year and got a 2 million dollar signing bonus just this past year. With that being said the Hurricanes have freed up 3.9 million dollars in cap space and currently have 15.6 million dollars in cap space with 3 open spots on the roster for this coming season."
   ]
  },
  {
   "cell_type": "markdown",
   "id": "36664e2f-bde5-49bc-9616-cd144553914a",
   "metadata": {},
   "source": [
    "## Impact on the Hurricanes ##"
   ]
  },
  {
   "cell_type": "markdown",
   "id": "8f73fbc6-e92a-4aed-90c0-4d7b774e443b",
   "metadata": {},
   "source": [
    "Kuznetsov has only played with Carolina this past season. He played in only 30 total games this season and scored 13 total points in all those games combined. The Hurricanes aren't losing much with him opting to move to Russia this coming season. With that being said the Hurricanes now have 15.6 million dollars in cap space with 20 roster spots filled currently. They also have 3 restricted free agents in Necas, Drury, and Jarvis. At the time of this writing news broke that Drury has signed a 2-year deal worth 3.45 million dollars. This will bring the Hurricanes numbers to 21 roster spots filled with around 13.86 million dollars in cap space open. From there the question is what do the Hurricanes do. Honestly, they should try and get Necas and Jarvis under contract again and look to possibly trade one of them during the season. Jarvis is a young superstar. They should look to give him a hefty extension. I would look to give a 8-year, 88 million dollars. Having a cap hit of around 11 million a year. The thing is that Jarvis is an RFA which would allow the Hurricanes to pay market price for him, however, I think that the Hurricanes should just lock him down for the future now. Like I said, he's only 22 and has more time to develop. With that being said after a signing of this size the Hurricanes would need to sign Necas for a 2-year min deal or take a chance on one of the remaining free agents on the market for a min deal. To me it makes no sense to not give a massive extension to a 22-year old who has scored 67 points this past season. Jack Eichel is getting 10 million a year and he scored 1 more point than Jarvis and and is 27-years-old. Getting Jarvis for 11 million would be a great deal for all involved. I would give this situation an A+ for the Hurricanes has they free up the cap space to keep Jarvis and hope he develops more to push the Hurricanes up for next year."
   ]
  }
 ],
 "metadata": {
  "kernelspec": {
   "display_name": "Python 3 (ipykernel)",
   "language": "python",
   "name": "python3"
  },
  "language_info": {
   "codemirror_mode": {
    "name": "ipython",
    "version": 3
   },
   "file_extension": ".py",
   "mimetype": "text/x-python",
   "name": "python",
   "nbconvert_exporter": "python",
   "pygments_lexer": "ipython3",
   "version": "3.10.12"
  }
 },
 "nbformat": 4,
 "nbformat_minor": 5
}
