{
 "cells": [
  {
   "cell_type": "markdown",
   "id": "b16bdd2b-41d7-4b1c-9499-43f2fb99a0cf",
   "metadata": {},
   "source": [
    "# NHL Draft First Round Mock Draft #"
   ]
  },
  {
   "cell_type": "markdown",
   "id": "89e91e12-7b4f-4139-be09-bdceb02e2f67",
   "metadata": {},
   "source": [
    "With the NBA draft heading to the second round today, I want to take some time to draft the NHL first round. Again here are my rules as taken from the NBA draft\n",
    "\n",
    "1. This is what I would do as a GM, not what I think will happen. I will look at contract situations, current roster, and all the such to make a determination of what will happen. I'm not listening to anything the media says, this is what I would do if I'm the GM of the team.\n",
    "\n",
    "2. I will not do trades. This will be a draft with the current order with no trades. Will their be trades, yes, but I'm not doing that. I will mention points in the draft where I could see a trade happening.\n",
    "\n",
    "With that out of the way I want to start my draft.\n",
    "\n",
    "Note: This was started before the Sharks and Sabres trade yesterday. The order is different."
   ]
  },
  {
   "cell_type": "markdown",
   "id": "cdc9c1b1-e0b7-4e13-88dd-7404e738bac8",
   "metadata": {},
   "source": [
    "## 1. San Jose Sharks - Macklin Celebrini, Boston University #"
   ]
  },
  {
   "cell_type": "markdown",
   "id": "a2598945-3c3d-4035-bf7c-c3858d21fa0e",
   "metadata": {},
   "source": [
    "The Sharks need a lot of help. Celebrini is the best player in this draft without a question. The Sharks are getting a great young Center to join this bad Sharks team. Sharks need to take BPA right now."
   ]
  },
  {
   "cell_type": "markdown",
   "id": "35138423-c0c3-4d0b-8b0e-983bc63d46cd",
   "metadata": {},
   "source": [
    "## 2. Chicago Blackhawks - Ivan Demidov, Russia ##"
   ]
  },
  {
   "cell_type": "markdown",
   "id": "d5e77f75-a73c-4d60-be7d-5e544da8aefb",
   "metadata": {},
   "source": [
    "The Blackhawks need a Right Winger. Demidov is an offensive powerhouse. He scored 60 points last year in the KHL, with 23 of them being goals. His ability to create and score makes him an attractive prospect for the Blackhawks to take and develop."
   ]
  },
  {
   "cell_type": "markdown",
   "id": "1952382f-0283-41aa-ada2-c6d27b968874",
   "metadata": {},
   "source": [
    "## 3. Anaheim Ducks - Artyom Levshunov, Michigan State ##"
   ]
  },
  {
   "cell_type": "markdown",
   "id": "254b8b6e-5fd0-4ae7-818a-6dc9ca53abac",
   "metadata": {},
   "source": [
    "The Ducks need a right defender. Zellweger and Lindstrom are question marks for the Ducks and the Ducks can beef up their defensive lines with this pick. His 26 assists at the NCAA level makes him an attractive playmaker. The one issue is a big one, he's not that great of a defender. I want to see how he develops as a prospect for the Ducks"
   ]
  },
  {
   "cell_type": "markdown",
   "id": "e07caf3a-415f-4e7b-ae40-69523b89781e",
   "metadata": {},
   "source": [
    "## 4. Columbus Blue Jackets - Beckett Sennecke, Canada ##"
   ]
  },
  {
   "cell_type": "markdown",
   "id": "02f84f88-b532-492c-9554-4a54336576f2",
   "metadata": {},
   "source": [
    "The big winger will be pick by the Blue Jackets. Sennecke is a great skater who was able to score 68 points in the OHL. His IQ is also a plus to join the Jackets. Sennecke would be a good pick here."
   ]
  },
  {
   "cell_type": "markdown",
   "id": "6fc36fbf-86ac-47ef-a292-75301735cec8",
   "metadata": {},
   "source": [
    "## 5. Montreal Canadians - Cayden Lindstrom, Canada ##"
   ]
  },
  {
   "cell_type": "markdown",
   "id": "4e6ece5f-67d2-4077-9e5f-bd4e2156d56b",
   "metadata": {},
   "source": [
    "Lindstrom is a Center who scored 27 goals in the WHL this past season is a strong skater who lacks some playmaking abilities. He can score goals as shown in the 27 goals, but he only had 19 assists compared to the higher assists totals from other top offensive prospects. With that being said, if he can figure out this problem then he can be a problem."
   ]
  },
  {
   "cell_type": "markdown",
   "id": "75fdb99c-4b21-4dbc-8b8a-a65488418aac",
   "metadata": {},
   "source": [
    "## 6. Utah Hockey Club - Zeev Buium, Denver University ##"
   ]
  },
  {
   "cell_type": "markdown",
   "id": "3541099b-e533-4349-bdaa-6a892ac79f6e",
   "metadata": {},
   "source": [
    "Utah needs a lot of help in different positions. The second highest contributer on the National Championship team Denver, he had 39 assists and is a great skater. His lack of size is a bit of concern, but his defensive ability makes him a great prospect in a weaker draft like this."
   ]
  },
  {
   "cell_type": "markdown",
   "id": "912ebbc3-7274-4863-a46f-9d3fac4e674f",
   "metadata": {},
   "source": [
    "## 7. Ottawa Senators - Tij Iginla, Canada ##"
   ]
  },
  {
   "cell_type": "markdown",
   "id": "d6e3b258-96ce-4d16-a54d-d5ee8e663741",
   "metadata": {},
   "source": [
    "A major offensive workhorse in the WHL, he scored 84 points playing in that league. His smaller size is a concern to some, but his playmaking abilities that can make an impact for the Senators. It'll be interesting to watch him develop, could be one of the best picks in this draft."
   ]
  },
  {
   "cell_type": "markdown",
   "id": "156679ec-5f9f-4c35-9769-7b645bcd6585",
   "metadata": {},
   "source": [
    "## 8. Seattle Kraken - Zayne Parekh, Canada ##"
   ]
  },
  {
   "cell_type": "markdown",
   "id": "88a1117f-3ea9-4054-a2af-129f3fdca533",
   "metadata": {},
   "source": [
    "Parekh looks to be a great prospect coming out of the OHL in Canada. Playing 66 games and getting 63 assists in that time period, he looks to be a solid defensemen in the NHL. He looks to be a top playmaker with some decent defensive skills. He still needs to develop but I think the Kraken will be a solid pickup."
   ]
  },
  {
   "cell_type": "markdown",
   "id": "d6e3a9a5-51f4-48d4-b422-fb6926e845ef",
   "metadata": {},
   "source": [
    "## 9. Calgary Flames - Anton Silayev, Russia ##"
   ]
  },
  {
   "cell_type": "markdown",
   "id": "67e078a9-9c4a-4f16-8740-59d56a365120",
   "metadata": {},
   "source": [
    "Silayev is a beast. His large frame makes him a menacing defender. The Flames need the defensive help and Silayev can contribute that. He doesn't have much of a offensive potential but his defensive ability and skillset is what is needed."
   ]
  },
  {
   "cell_type": "markdown",
   "id": "90d406da-efa0-4fd4-9016-25d771af8fc4",
   "metadata": {},
   "source": [
    "## 10. New Jersey Devils - Sam Dickinson, Canada ##"
   ]
  },
  {
   "cell_type": "markdown",
   "id": "0e171e0b-65d0-44e9-b1da-9ab900753095",
   "metadata": {},
   "source": [
    "Dickinson is a good defensive prospect coming out of Canada for the Devils. The Devils need help in a lot of positions and Dickinson can add a strong defensive player that is able to add stability to this team. He's a solid prospect."
   ]
  },
  {
   "cell_type": "markdown",
   "id": "6fc3ed99-1504-445c-be53-2364d1f5a78e",
   "metadata": {},
   "source": [
    "## 11. Buffalo Sabres - Beckett Sennecke, Canada ##"
   ]
  },
  {
   "cell_type": "markdown",
   "id": "3b6a4f05-f3d0-43ec-bbeb-29bea6c9d105",
   "metadata": {},
   "source": [
    "A great skater that is able to playmake well, Sennecke would be a great addition to the Sabres. His 41 assists is a great indication of his playmaking but I'm scared about his scoring ability. With that being said, he's a good player for the Sabres to add."
   ]
  },
  {
   "cell_type": "markdown",
   "id": "7f403b28-a660-465d-815a-de207df424c9",
   "metadata": {},
   "source": [
    "## 12. Philadelphia Flyers - Berkly Catton, Canada ##"
   ]
  },
  {
   "cell_type": "markdown",
   "id": "f2a00344-db37-46a5-ab9e-62d0d6229f0b",
   "metadata": {},
   "source": [
    "The Flyers are in a good spot. I think that they don't have much of a need, I believe that they'll take BPA. He had 116 points in the OHL, that's some of the highest in this draft prospect. On the other end though, his small statue is one of the biggest concerns. I think his skill is enough to be a lottery pick and be in a solid Flyers organization."
   ]
  },
  {
   "cell_type": "markdown",
   "id": "a567ba21-e412-424d-b453-3d1dd03a6278",
   "metadata": {},
   "source": [
    "## 13. Minnesota Wild - Konsta Helenius, Finland ##"
   ]
  },
  {
   "cell_type": "markdown",
   "id": "8d355480-ec81-406e-b94e-80a2897fb919",
   "metadata": {},
   "source": [
    "The Wild are in need of a lot of positions. They pick up BPA. With his high Hockey IQ. He is more of playmaker than a scorer, which is different than most Centers, I think that the Wild will take him. Solid in all aspects, not great at one thing."
   ]
  },
  {
   "cell_type": "markdown",
   "id": "6bf8a3ff-526d-4f3f-86fe-1b81ad00c4ad",
   "metadata": {},
   "source": [
    "## 14. San Jose Sharks - Cole Eiserman, Boston University ##"
   ]
  },
  {
   "cell_type": "markdown",
   "id": "e977a4ee-d27b-4aa0-a1e3-6f821dd7e37b",
   "metadata": {},
   "source": [
    "The Sharks will take another Boston University prospect, however, he has played a minute for the Terriers. Eiserman is a great scorer that lacks other aspects of his game. The Sharks need a lot of help and Eiserman can add to that."
   ]
  },
  {
   "cell_type": "markdown",
   "id": "b3f5653f-5596-4967-9604-2c1e4262f63e",
   "metadata": {},
   "source": [
    "## 15. Detroit Red Wings - Carter Yakemchuk, Canada ##"
   ]
  },
  {
   "cell_type": "markdown",
   "id": "2ea5aaf1-1afd-4acf-b771-29426009bc7d",
   "metadata": {},
   "source": [
    "Scoring 30 goals as a defenseman is amazing. He has great goal scorering ability and able to defend well. The one issue is his athlectism that is preventing him from being a top-5 pick in this draft the Red Wings get a solid defenseman in Yakemchuck."
   ]
  },
  {
   "cell_type": "markdown",
   "id": "13183319-d89e-48e6-a27f-ce1825b5eded",
   "metadata": {},
   "source": [
    "## 16. St. Louis Blues - Adam Jiříček, Czechia ##"
   ]
  },
  {
   "cell_type": "markdown",
   "id": "5b09df5c-943c-4051-908d-a133f201f1ff",
   "metadata": {},
   "source": [
    "Jiříček is a solid defensive player that is coming off a major injury. His IQ is great as well and he has a good defensive ability. With that being said he has no offensive game. He has the potential to be a solid prospect at some point."
   ]
  },
  {
   "cell_type": "markdown",
   "id": "228ca390-f8df-4ed7-aefc-5b3ee073fcbf",
   "metadata": {},
   "source": [
    "## 17. Washington Capitals - Trevor Connelly, Providence College ##"
   ]
  },
  {
   "cell_type": "markdown",
   "id": "67dcd18d-b420-4442-985b-aa4284f71296",
   "metadata": {},
   "source": [
    "Connelly is a solid prospect that has deep concerns on his charecter. Scoring 78 points in the Junior levels he is an interesting prospect for the Capitals to take a chance on. His ability to be a solid player is enough to make an impact. With that said, he'll spend a year in college and hopefully mature there."
   ]
  },
  {
   "cell_type": "markdown",
   "id": "7e7885ab-c181-42ee-9d69-6f98b9aaa7ec",
   "metadata": {},
   "source": [
    "## 18. Chicago Blackhawks - Stian Solberg, Norway ##"
   ]
  },
  {
   "cell_type": "markdown",
   "id": "7dad5c2f-85e8-497b-adfc-eada0530ad06",
   "metadata": {},
   "source": [
    "Solberg looks to be a great player. He has the defensive ability as well as an offensive mindset. With that being said, he's not successful with his offensive abilty. He makes the right decision, but he can't really execute it. He has 15 points in Norway this year to prove that point more."
   ]
  },
  {
   "cell_type": "markdown",
   "id": "dc826836-5377-4dbc-a91e-96a7d58af585",
   "metadata": {},
   "source": [
    "## 19. Vegas Golden Knights - Michael Brandsegg-Nygard, Norway ##"
   ]
  },
  {
   "cell_type": "markdown",
   "id": "ff089ac8-0f96-4a28-94d1-ab7e7ec1e0da",
   "metadata": {},
   "source": [
    "Another Norweigan prospect in this draft, Michael will go right after Solberg. He a jack of all trades, master of none, Brandsegg-Nygard is a solid player with no big weakness. With that said, his ceiling is very low. I think that what you get right now is who you'll get. With that being said, Vegas is a solid landing spot for him."
   ]
  },
  {
   "cell_type": "markdown",
   "id": "2f66db9b-a859-47ff-98f7-6e5b2ef720f7",
   "metadata": {},
   "source": [
    "## 20. New York Islanders - Liam Greentree, Canada ##"
   ]
  },
  {
   "cell_type": "markdown",
   "id": "c2e3692b-4a1f-4eb3-a819-6329a6c842c0",
   "metadata": {},
   "source": [
    "Greentree is a good player. He was a do it all for Windsor in the OHL. He can score, make plays, and actually defend well for a right winger. With that being said his skating is a huge concern and the question of can he play at the NHL level has to be asked."
   ]
  },
  {
   "cell_type": "markdown",
   "id": "19bc069d-ea69-401c-b20d-17e8ae51f6f5",
   "metadata": {},
   "source": [
    "## 21. Los Angeles Kings - Michael Hage, University of Michigan ##"
   ]
  },
  {
   "cell_type": "markdown",
   "id": "30473130-5c05-4d73-8c54-e33adc19a7cf",
   "metadata": {},
   "source": [
    "Hage is a solid Center that has had major injuries this past season stopping his development. With that being said, Hage is a good player when he is on the ice. The issue is the question if hr can stay on the ice."
   ]
  },
  {
   "cell_type": "markdown",
   "id": "36c1fc20-f666-40b5-b15f-1f2dd87fdf99",
   "metadata": {},
   "source": [
    "## 22. Nashville Predators - Igor Chernyshov, Russia ##"
   ]
  },
  {
   "cell_type": "markdown",
   "id": "69d4b7f0-6f58-4c99-9047-7c1463585184",
   "metadata": {},
   "source": [
    "He has the size to perform. He has the skillsets to be a performer. My issue with him is his 4 points in 34 games at the KHL. With that being said, he's not ready now. He'll spend more time in Russia and when he is ready he'll go to the minors first. He has the potential though, that's what Nashville will buy."
   ]
  },
  {
   "cell_type": "markdown",
   "id": "89f82f3b-dedb-40fd-ad8e-0ac7ab56c0b5",
   "metadata": {},
   "source": [
    "## 23. Toronto Maple Leafs - Charlie Elick, Canada ##"
   ]
  },
  {
   "cell_type": "markdown",
   "id": "0ce818bb-b385-4b47-8a93-dea3b52aef14",
   "metadata": {},
   "source": [
    "Elick is a big defensive prospect coming out of the WHL. He has all of the defensive ability but lacks the offensive power to be a higher ranked prospect. His 4 goals in the last season is low, however he has good playmaking ability with 23 assists in that same year."
   ]
  },
  {
   "cell_type": "markdown",
   "id": "d3a6c292-aaac-4d4b-9c42-0d7fb62a8e3b",
   "metadata": {},
   "source": [
    "## 24. Colorado Avalanche - Andrew Basha, Canada ##"
   ]
  },
  {
   "cell_type": "markdown",
   "id": "ab94ad84-8b99-490a-9ffa-16ee8888a679",
   "metadata": {},
   "source": [
    "Basha is comming off a great season in the WHL scoring 85 points in 63 games, he is a talented offensive talent that could make an impact for any NHL team that drafts him. While his speed is a great attribute, and his main one, the question is if he can create when everyone is just as fast as him. We'll see but he could end up being the steal of the draft"
   ]
  },
  {
   "cell_type": "markdown",
   "id": "653ff2d9-b82d-4b5a-b2ba-04fef32a55ca",
   "metadata": {},
   "source": [
    "## 25. Boston Bruins - Sacha Boisvert, University of North Dakota ##"
   ]
  },
  {
   "cell_type": "markdown",
   "id": "29d6f4e9-9897-490e-977a-0c3394c9ddde",
   "metadata": {},
   "source": [
    "Getting 68 points in the USHL, he's a great scorer and decently well at playmaking. The issue seems to be his skating. Hopefully his time at UND would help develop his skills and the Bruins would get a solid prospect."
   ]
  },
  {
   "cell_type": "markdown",
   "id": "80c5cbac-1460-4c22-a46a-a77f2d4e07cb",
   "metadata": {},
   "source": [
    "## 26. Los Angeles Kings - Teddy Stiga, Boston College ##"
   ]
  },
  {
   "cell_type": "markdown",
   "id": "3385344d-6510-4d76-a18e-2f7963074fec",
   "metadata": {},
   "source": [
    "Stiga is a strong Forward who is able to play both Center and Left Wing who has the tools to be a great offensive piece for a team in the future. That's what the Kings would get in Stiga. He can hone his skill at BC and be a solid 2-way player."
   ]
  },
  {
   "cell_type": "markdown",
   "id": "48074562-d3e3-455e-af11-b564e56a6b37",
   "metadata": {},
   "source": [
    "## 27. Carolina Hurricanes - Nikita Artamonov, Russia ##"
   ]
  },
  {
   "cell_type": "markdown",
   "id": "503203e2-aed3-4882-b58b-0855f124b10b",
   "metadata": {},
   "source": [
    "The Russian is a great defender. He has the IQ and the defensive mechanics to be a solid defender for the Hurricanes. With that being said, Artamonov is still a raw prospect that has to develop more of an offensive game to be a contributer at the NHL level."
   ]
  },
  {
   "cell_type": "markdown",
   "id": "a696b0e3-8f0d-4d13-9b5c-bbdacf65ec7b",
   "metadata": {},
   "source": [
    "## 28. Calgary Flames - Charlie Elick, Canada ##"
   ]
  },
  {
   "cell_type": "markdown",
   "id": "65b934ea-0b0f-4cfb-a87f-bfdaea88554d",
   "metadata": {},
   "source": [
    "Elick is a strong defensemen that has the ability to be a good defensemen in the NHL. With that being said, he is still very raw on the offensive end and he might not have an offensive game at all. With that being said he has the skillset to be a defender for the Flames."
   ]
  },
  {
   "cell_type": "markdown",
   "id": "07851b03-f6f3-48db-ba2f-56fd08dc14dd",
   "metadata": {},
   "source": [
    "## 29. Dallas Stars - EJ Emery, University of North Dakota ##"
   ]
  },
  {
   "cell_type": "markdown",
   "id": "f4b5c757-e811-4329-882c-279ee8d1c1ad",
   "metadata": {},
   "source": [
    "Just like most other defenders that are being drafted at this point in the draft, Emery is a strong defenseman that has a larger frame and has the tools to be a solid defender for the Stars. With that being said his offensive skill is lacking."
   ]
  },
  {
   "cell_type": "markdown",
   "id": "e204957f-4c1a-4c1d-8bce-c1287ef4ea8c",
   "metadata": {},
   "source": [
    "## 30. New York Rangers - Cole Beaudoin, Canada ##"
   ]
  },
  {
   "cell_type": "markdown",
   "id": "d4c46ff3-5577-40bb-b682-bdfbdc119126",
   "metadata": {},
   "source": [
    "Beaudoin is a solid Center that spent the season playing OHL. Possibly the best athlete in the draft, the Canadian is a solid Center that is able to do a lot of things well but nothing great. With that being said he's a bad skater that needs to develop that skill."
   ]
  },
  {
   "cell_type": "markdown",
   "id": "3af370f1-dde4-4cef-a03e-39694ec0a672",
   "metadata": {},
   "source": [
    "## 31. Anaheim Ducks - Dean Letourneau, Boston College ##"
   ]
  },
  {
   "cell_type": "markdown",
   "id": "8d320f13-9082-4a45-ab53-8109f03f6284",
   "metadata": {},
   "source": [
    "The large Center is able to use his size while also being a solid offensive threat. The issue is that he seems to be very inconsistent on a nightly basis and would need to develop his raw talents to be impactful at the NHL level."
   ]
  },
  {
   "cell_type": "markdown",
   "id": "a6261b71-9384-4bde-bdc1-c3963b5aec83",
   "metadata": {},
   "source": [
    "## 32. Philadelphia Flyers - Sam O'Reilly - Canada ##"
   ]
  },
  {
   "cell_type": "markdown",
   "id": "5cfabe46-58e7-4756-b718-defe83290dbb",
   "metadata": {},
   "source": [
    "O'Reilly is a very good complementary player. While his own skillset relies on the play of the others and he can't really do much himself, he is a physical player that is able to be a solid prospect for the Flyers."
   ]
  }
 ],
 "metadata": {
  "kernelspec": {
   "display_name": "Python 3 (ipykernel)",
   "language": "python",
   "name": "python3"
  },
  "language_info": {
   "codemirror_mode": {
    "name": "ipython",
    "version": 3
   },
   "file_extension": ".py",
   "mimetype": "text/x-python",
   "name": "python",
   "nbconvert_exporter": "python",
   "pygments_lexer": "ipython3",
   "version": "3.10.12"
  }
 },
 "nbformat": 4,
 "nbformat_minor": 5
}
