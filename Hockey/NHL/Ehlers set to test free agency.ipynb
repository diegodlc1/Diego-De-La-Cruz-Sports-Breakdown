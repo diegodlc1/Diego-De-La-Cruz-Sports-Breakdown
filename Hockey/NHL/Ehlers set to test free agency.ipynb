{
 "cells": [
  {
   "cell_type": "markdown",
   "id": "8cf3c83e-0b5a-4ddc-b418-8955689e7545",
   "metadata": {},
   "source": [
    "# Ehlers Set to Test Free Agency"
   ]
  },
  {
   "cell_type": "markdown",
   "id": "c6c539f9-c918-4c1f-a429-397ac66c2ad6",
   "metadata": {},
   "source": [
    "Nikolaj Ehlers is set to test free agency. He has noted that he is more than willing to stay in Winnipeg, but wants to test out his worth in the market. With that, I will write about this decision."
   ]
  },
  {
   "cell_type": "markdown",
   "id": "d4a0e8b7-a9f3-471f-b8a0-81ea285de630",
   "metadata": {},
   "source": [
    "## Thoughts"
   ]
  },
  {
   "cell_type": "markdown",
   "id": "a673fb8f-e0c2-46a0-85f1-02fe8285e497",
   "metadata": {},
   "source": [
    "This makes more than enough sense for Ehlers to do. Ehlers is set to be a second-line Left Winger for the Jets. Kyle Conner is set to be in the first line, so that leaves Ehlers to play the second line. With that being said, if another team offers the first line and more money, Ehlers will move to them. I believe that he can pull 7.5-8.5 million. He should be looking for that number, and Winnipeg can still offer that type of money to him. I believe that he wants to be on the first line of a competing team. Outside of Winnipeg, I can see teams like Edmonton, Florida, Toronto, Los Angeles, Calgary, Carolina, and Columbus. These are all possible teams, but not all teams that should be doing it. I would drop Edmonton and Florida, as I'm not sure if they have the money to do that. Same with Toronto, I'm not sure if they would have the money to do anything. I would say the other 4 teams have a chance. They have the money, roster spots, and need that Ehlers fill. I don't think that he'll go back to Winnipeg."
   ]
  }
 ],
 "metadata": {
  "kernelspec": {
   "display_name": "Python 3 (ipykernel)",
   "language": "python",
   "name": "python3"
  },
  "language_info": {
   "codemirror_mode": {
    "name": "ipython",
    "version": 3
   },
   "file_extension": ".py",
   "mimetype": "text/x-python",
   "name": "python",
   "nbconvert_exporter": "python",
   "pygments_lexer": "ipython3",
   "version": "3.10.12"
  }
 },
 "nbformat": 4,
 "nbformat_minor": 5
}
