{
 "cells": [
  {
   "cell_type": "markdown",
   "id": "721c8519-4ace-4fbd-b678-50d50ed7a9dd",
   "metadata": {},
   "source": [
    "# Blue Jackets Hire Dean Evason #"
   ]
  },
  {
   "cell_type": "markdown",
   "id": "b81797cc-7229-481e-8a40-59330ff8c90a",
   "metadata": {},
   "source": [
    "The Blue Jackets have hired Dean Evason to be head coach for them. Evason is a proven coach having coached the Wild the last 5 years and was fired early last year after starting 5-10-4. I will go in with the impact for the Blue Jackets here."
   ]
  },
  {
   "cell_type": "markdown",
   "id": "54e7c592-c22f-42bf-a7b1-3e7409e231cd",
   "metadata": {},
   "source": [
    "## Impact on Blue Jackets ##"
   ]
  },
  {
   "cell_type": "markdown",
   "id": "d9e0a717-2701-4322-a23d-167350f23e8e",
   "metadata": {},
   "source": [
    "This is a boring hiring which is exactly what the Blue Jackets need to make. Not having been to the post-season since the 2019-20 season, the Blue Jackets are in need of a coach that can help them reach that next level. Evason has made the playoffs every year while with the Wild and while he only made it past the first round at all in any of those years. I don't think that this hiring would help the Blue Jackets make the playoffs this year, but I think that this is a solid foundation for the Blue Jackets to build from to help them compete once they build the team around a coach. If the Blue Jackets can make the playoffs then that would be considered a success for the Blue Jackets and that is what they need to look for. It's a boring hire but that's what the Blue Jackets need, a boring hire."
   ]
  }
 ],
 "metadata": {
  "kernelspec": {
   "display_name": "Python 3 (ipykernel)",
   "language": "python",
   "name": "python3"
  },
  "language_info": {
   "codemirror_mode": {
    "name": "ipython",
    "version": 3
   },
   "file_extension": ".py",
   "mimetype": "text/x-python",
   "name": "python",
   "nbconvert_exporter": "python",
   "pygments_lexer": "ipython3",
   "version": "3.10.12"
  }
 },
 "nbformat": 4,
 "nbformat_minor": 5
}
