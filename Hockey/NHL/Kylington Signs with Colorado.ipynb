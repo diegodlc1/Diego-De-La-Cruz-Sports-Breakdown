{
 "cells": [
  {
   "cell_type": "markdown",
   "id": "c6eaa51f-2994-43da-a098-b105acf0dfc5",
   "metadata": {},
   "source": [
    "# Kylington signs with Colorado #"
   ]
  },
  {
   "cell_type": "markdown",
   "id": "0ca1e3da-1df8-48e4-bd39-6a23160c66e6",
   "metadata": {},
   "source": [
    "Oliver Kylington has signed with the Avalanche on a 1-year deal worth 1.05 million dollars. The Swedish Defenseman is set to add some depth to the Avalanche. I will break this signning down for the Avs."
   ]
  },
  {
   "cell_type": "markdown",
   "id": "b52529c6-8a4a-4a81-8e36-c45da82ace2f",
   "metadata": {},
   "source": [
    "## Impact on Colorado ##"
   ]
  },
  {
   "cell_type": "markdown",
   "id": "bcb662ff-4d65-4b6b-aee0-ae0a0b5c1952",
   "metadata": {},
   "source": [
    "This signning adds some depth for the Avs. Kylington has had a drop off in production with his shorten year last year, but this is a solid deal for the Avs to sign. Kylington had personal matters last year and could be the reason why he not only having a shorten season, but also a drop off in production with the Flames. Kylington is a solid guy to be a 3rd line Defenseman and 2nd line with injuries. If he can catch some form from the 21-22 season, then he could be a solid signning. It has been 3 years since that season so I don't think he will ever be that player again, but if he can be half of that player then the Avs should be happy on what they got out of him. With this signning, the Avs only have 2.07 million in cap space open with an open spot on the 23 man roster. If the Avs can get a Right Winger, someone like Okposo who's still avaliable for a one-year deal then they would be in a good place to compete for the Cup. These one year deals are solid to have cap space open for next year though with more space being opened up for that. All in all I would give this signning a B+. Not sure if a one-year deal is too small of a contract for a relatively younger player but with someone who hasn't played much since the 21-22 season the one-year part mitigates a lot of the risk involved."
   ]
  }
 ],
 "metadata": {
  "kernelspec": {
   "display_name": "Python 3 (ipykernel)",
   "language": "python",
   "name": "python3"
  },
  "language_info": {
   "codemirror_mode": {
    "name": "ipython",
    "version": 3
   },
   "file_extension": ".py",
   "mimetype": "text/x-python",
   "name": "python",
   "nbconvert_exporter": "python",
   "pygments_lexer": "ipython3",
   "version": "3.10.12"
  }
 },
 "nbformat": 4,
 "nbformat_minor": 5
}
