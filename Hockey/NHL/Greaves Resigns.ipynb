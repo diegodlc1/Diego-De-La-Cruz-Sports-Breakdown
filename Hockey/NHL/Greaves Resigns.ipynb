{
 "cells": [
  {
   "cell_type": "markdown",
   "id": "165c1e01-a3ad-493f-b9c1-65486bb52efb",
   "metadata": {},
   "source": [
    "# Greaves Resigns with Columbus ##"
   ]
  },
  {
   "cell_type": "markdown",
   "id": "b372c19e-eabf-42b3-baea-9faa06ad2426",
   "metadata": {},
   "source": [
    "Jet Greaves have resigned with Columbus for a 2-year contract worth up to 1.625 million with his first year being a 2-way contract and his second year being a one way contract. I will break this signning down for Columbus."
   ]
  },
  {
   "cell_type": "markdown",
   "id": "da2ec837-f88a-4cc2-a31d-b42b31b2e1aa",
   "metadata": {},
   "source": [
    "## Imapact for Columbus ##"
   ]
  },
  {
   "cell_type": "markdown",
   "id": "1b1984fe-ee6e-4fa6-870c-45deff73c840",
   "metadata": {},
   "source": [
    "The Blue Jackets lock in the 23-year-old for another 2 years to see if he has the potential to be a solid goalkeeper of the future while also having the potential to be an impact player for the now. The Blue Jackets had one of the worst goalkeeping units in the NHL while also being the worst Eastern Conference team in general being the midst of a rebuild. The Blue Jackets are taking a chance on the 23-year-old who was the youngest member of the goalkeeping unit last season while playing most of his time in Cleveland. This contract makes some sense as the goalkeeping unit is under lock this season so Greaves can develop in Cleveland and the 2-way makes sense, next season Tarasov will be a restricted free agent so he can walk and Greaves will be paid as an NHL player with the higher chance of playing in the NHL. The risk is being run as if Tarasov shows promise and Columbus resigns him then they're paying NHL money to an AHL player. It's a risky play but it makes some sense. Now breaking down Greaves he's a very weird player. Playing in 9 games, starting 8, and putting up a record of 3-6 in that time while putting up an ok save percentage of .908 but a GAA of 3.46. At the AHL level, he's also a weird player at that level. He played in the third most games at that level, giving up the second most goals in the AHL, having one of the worst GAA for starting goalies, but also having one of the best records at the level. This is also excluding his decent win percentage and the second-most assists as a goalie at that level. He's a strange player that I feel like with age he can develop those skills and at best be an ok NHL goalie, able to be a starter. I'll give this signing a A- with giving a chance and a solid contract coming with it. The issue is the risk being run of paying an AHL player NHL money next season but I don't think that's very likely and if it does happen then is it a problem for the Blue Jackets that they have Tarasov being developed more."
   ]
  }
 ],
 "metadata": {
  "kernelspec": {
   "display_name": "Python 3 (ipykernel)",
   "language": "python",
   "name": "python3"
  },
  "language_info": {
   "codemirror_mode": {
    "name": "ipython",
    "version": 3
   },
   "file_extension": ".py",
   "mimetype": "text/x-python",
   "name": "python",
   "nbconvert_exporter": "python",
   "pygments_lexer": "ipython3",
   "version": "3.10.12"
  }
 },
 "nbformat": 4,
 "nbformat_minor": 5
}
