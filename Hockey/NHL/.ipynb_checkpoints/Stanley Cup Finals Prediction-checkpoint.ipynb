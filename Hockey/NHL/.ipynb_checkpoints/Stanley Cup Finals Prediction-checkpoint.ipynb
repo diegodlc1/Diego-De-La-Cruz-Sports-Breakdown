{
 "cells": [
  {
   "cell_type": "markdown",
   "id": "89a9da12-1716-424c-9c04-6c21ef50adbe",
   "metadata": {},
   "source": [
    "# Stanley Cup Finals Prediction #"
   ]
  },
  {
   "cell_type": "markdown",
   "id": "49afddbb-0dbc-499c-9d5e-24422b2a0e17",
   "metadata": {},
   "source": [
    "With the NHL season coming to an end I want to give my prediction for the Stanley Cup Finals. In this years matchup we have the Florida Panthers going up against the Edmonton Oilers to determine the winner for the 2023-24 NHL season. This year's matchup looks to be great as I feel like both the Oilers and the Panthers had to go through a gauntlet to get to the Finals as both teams had to take down the 2 best teams this year by points in the Rangers and the Stars. I feel like this would be a thriller of a series. With that being said, I think the high flying offense of the Oilers, led by McDavid, will finally meet it's match in the overall better team of the Panthers. While I feel like McDavid and Bouchard are great players for the Oilers, I think a defensive line of the likes of Ekblade and Forsling is enough to stop this team. With that being said I see a 7 game series with the Panthers pulling out a win in Florida winning their first Stanley Cup in team history."
   ]
  }
 ],
 "metadata": {
  "kernelspec": {
   "display_name": "Python 3 (ipykernel)",
   "language": "python",
   "name": "python3"
  },
  "language_info": {
   "codemirror_mode": {
    "name": "ipython",
    "version": 3
   },
   "file_extension": ".py",
   "mimetype": "text/x-python",
   "name": "python",
   "nbconvert_exporter": "python",
   "pygments_lexer": "ipython3",
   "version": "3.10.12"
  }
 },
 "nbformat": 4,
 "nbformat_minor": 5
}
