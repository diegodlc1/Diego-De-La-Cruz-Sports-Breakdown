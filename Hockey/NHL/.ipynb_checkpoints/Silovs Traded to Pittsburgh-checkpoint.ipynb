{
 "cells": [
  {
   "cell_type": "markdown",
   "id": "5db4d08a-10d7-449f-93c0-05113937d272",
   "metadata": {},
   "source": [
    "# Silovs Traded to Pittsburgh"
   ]
  },
  {
   "cell_type": "markdown",
   "id": "8ea50a37-9b72-4105-910f-a56556c3216f",
   "metadata": {},
   "source": [
    "Arturs Silovs has been traded from Vancouver to Pittsburgh for Chase Stillman and a 4th round pick. This is mainly an AHL trade; however, this could have a minor impact at the NHL level for now. With that, let's take a look."
   ]
  },
  {
   "cell_type": "markdown",
   "id": "688e75fb-d5a8-487c-8acd-d65b86b8b866",
   "metadata": {},
   "source": [
    "## Impact for Pittsburgh"
   ]
  },
  {
   "cell_type": "markdown",
   "id": "adbd921c-7317-4c6f-b196-fc03d2caf4f3",
   "metadata": {},
   "source": [
    "Pittsburgh needed someone to fill a hole as a backup goalie. Silvos is a fine option for that. He's played in 10 games this past season and brings that experience. Truthfully, Pittsburgh isn't going to be competing this year. They need to develop their youth to try and make them into something. They have interesting prospects in Murashov and Blomqvist, but they don't need to develop behind the disaster they have for skaters. Silvos brings experience for the hole that they have without messing with developing their youth. I will give this trade a solid B+. It's a good trade that doesn't give up much for them. Solid trade for them."
   ]
  },
  {
   "cell_type": "markdown",
   "id": "5f7daa7b-ebda-4538-bbc1-68edac5d4a3b",
   "metadata": {},
   "source": [
    "## Impact for Vancouver"
   ]
  },
  {
   "cell_type": "markdown",
   "id": "7ce59d9a-90d0-48fb-9e4d-add84f20dce9",
   "metadata": {},
   "source": [
    "Vancouver makes this trade to get some value for Silovs. He was a 3rd stringer and spent most of the season in Abbotsford. It's better than losing him in waivers, and Goalies traditionally don't have much value. Getting a 4th rounder and a former first-rounder is good. With that being said, they're taking a lottery card on Stillman. A former first, Stillman has yet to crack minutes at the NHL level. I don't think that he'll be much of anything, but it's worth a shot. The 4th is a nice add-on. I don't think Silovs is worth more than that, so it's a solid return. The 4th is probably the most valuable part of this, and take a chance on Stillman to see if he can figure something out. He's an RFA next season, so it's worth a shot to see this season and go from there. He'll most likely play in Abbotsford. I would give this a B+ as well."
   ]
  }
 ],
 "metadata": {
  "kernelspec": {
   "display_name": "Python 3 (ipykernel)",
   "language": "python",
   "name": "python3"
  },
  "language_info": {
   "codemirror_mode": {
    "name": "ipython",
    "version": 3
   },
   "file_extension": ".py",
   "mimetype": "text/x-python",
   "name": "python",
   "nbconvert_exporter": "python",
   "pygments_lexer": "ipython3",
   "version": "3.10.12"
  }
 },
 "nbformat": 4,
 "nbformat_minor": 5
}
