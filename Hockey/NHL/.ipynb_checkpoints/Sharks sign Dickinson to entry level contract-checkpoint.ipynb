{
 "cells": [
  {
   "cell_type": "markdown",
   "id": "74c28f6d-514e-4279-8f1e-abde1a8cb4ca",
   "metadata": {},
   "source": [
    "# Sharks sign Dickinson to an Entry Contract #"
   ]
  },
  {
   "cell_type": "markdown",
   "id": "f6abc909-2629-4259-aa9b-474aa9491270",
   "metadata": {},
   "source": [
    "The San Jose Sharks have signed their 11th pick of this year's draft to an entry-level contract of 3 years for 877.5 thousand a year with a cap hit of 975k after a yearly bonus. This contract has the ability to slide until he turns 20 or if he plays 10 games in the NHL, whichever comes first. Dickinson is a solid defensive prospect in this weaker draft. To me, he was the 5th best defender in the draft and will more than likely play for London again this coming season. His contract is a standard entry-level type of contract. With that all being said Dickinson is a solid all-around prospect coming out of this draft. He was a great facilitator who scored 70 points as a defenseman for a great London team this past season. We'll see what happens with Dickinson but this contract is the standard that a solid player would get."
   ]
  }
 ],
 "metadata": {
  "kernelspec": {
   "display_name": "Python 3 (ipykernel)",
   "language": "python",
   "name": "python3"
  },
  "language_info": {
   "codemirror_mode": {
    "name": "ipython",
    "version": 3
   },
   "file_extension": ".py",
   "mimetype": "text/x-python",
   "name": "python",
   "nbconvert_exporter": "python",
   "pygments_lexer": "ipython3",
   "version": "3.10.12"
  }
 },
 "nbformat": 4,
 "nbformat_minor": 5
}
