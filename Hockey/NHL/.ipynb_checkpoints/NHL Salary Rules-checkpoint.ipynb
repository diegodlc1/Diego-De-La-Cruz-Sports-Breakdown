{
 "cells": [
  {
   "cell_type": "markdown",
   "id": "2932136f-049b-4dd6-b604-785ff0ed56f3",
   "metadata": {},
   "source": [
    "# NHL Cap Situation"
   ]
  },
  {
   "cell_type": "markdown",
   "id": "dd8a48c6-9c26-4473-b4f8-08aff323a2f8",
   "metadata": {},
   "source": [
    "Due to no transactions happening today, I'll take the time to talk about how the NHL does their cap situation. This is what I will do today"
   ]
  },
  {
   "cell_type": "markdown",
   "id": "d87ebdc6-53ff-4235-8882-691973673e8c",
   "metadata": {},
   "source": [
    "## Hard Cap"
   ]
  },
  {
   "cell_type": "markdown",
   "id": "72bbf7ff-9505-451e-8a94-05cecd9a624d",
   "metadata": {},
   "source": [
    "First things first, the NHL, like the NFL, has the hard cap. You can't go above or below that set number. The cap this season is set at 95.5 million dollars, and a cap floor of 70.6 million. This means the max AAV for all Roster and non-roster players over the treshold has to add between these 2 numbers."
   ]
  },
  {
   "cell_type": "markdown",
   "id": "203dc25c-8176-4230-a59d-5ea5c9045b7b",
   "metadata": {},
   "source": [
    "## Waivers"
   ]
  },
  {
   "cell_type": "markdown",
   "id": "25488022-897a-4599-8409-3d44f24d360e",
   "metadata": {},
   "source": [
    "During the year, this is very similar to DFA in the MLB. A team can send any player to the AHL if the game threshold hasn't been hit. If that threshold has been met, that player has the right to be available for any team to pick up their contract. A small compensation fee is given to the team that waived that player from the team that picked them up. "
   ]
  },
  {
   "cell_type": "markdown",
   "id": "dda81dea-a803-46fe-a457-931ba469cf91",
   "metadata": {},
   "source": [
    "## Trades"
   ]
  },
  {
   "cell_type": "markdown",
   "id": "5e668c18-0277-4ccb-a52b-fd070c79ca16",
   "metadata": {},
   "source": [
    "Cash can't be used in a trade. The only restrictions that the NHL has in trade are that the receiving team must take on at least 50% of the traded player's contract on their cap.\n",
    "\n",
    "Other than that, the other restrictions involve the retention of contracts and more about what players can do, and less so what the team can do.\n",
    "\n",
    "A contract that the sending team retains some portion of can only be retained by 2 teams. That means that a player traded twice with the same contract can only have that contract retained by 2 other teams. Another is that the trading team can't retain more than 15% of the upper salary cap. That means the retained salary this year is 14.325 million, and a team can't keep more than that in a trade. Other than that, the last rule is that a team can't hold onto more than 3 contracts in this way."
   ]
  },
  {
   "cell_type": "markdown",
   "id": "d47b7f50-2fd9-42e7-b71f-de7ce20a121f",
   "metadata": {},
   "source": [
    "## Free Agency"
   ]
  },
  {
   "cell_type": "markdown",
   "id": "b4e53085-d0b0-4810-b5a3-a676920d4f65",
   "metadata": {},
   "source": [
    "The Free Agency is an interesting aspect of the NHL. The NHL has 2 types of free agents, unrestricted and restricted free agents. This isn't much different that the other American Leagues, but the way they go about it is different."
   ]
  },
  {
   "cell_type": "markdown",
   "id": "28b361f1-33a2-4b9f-b97f-a29e2e1e6462",
   "metadata": {},
   "source": [
    "### Unrestricted Free Agents"
   ]
  },
  {
   "cell_type": "markdown",
   "id": "10769282-3c77-43d0-a6c9-1a0b9676402d",
   "metadata": {},
   "source": [
    "These free agents can sign anywhere they would like to after their contract is up. There are 2 groups of unrestricted free agents.\n",
    "\n",
    "Group 3 is anyone over the age of 27 who has 7 seasons of NHL experience. This is the easiest to make sense of.\n",
    "\n",
    "Group 6 are free agents who have reached the age of 25 and have played 3 years of professional hockey. As well as playing less than 80 games if they're a non-goaltender or 23 games as a goaltender. \n",
    "\n",
    "Most NHL players are part of that group 3, as that's a common route that teams want to retain top talent.\n",
    "\n",
    "Other UFAs are bought-out players and UDFA that weren't signed by either June 25th or the Monday after the draft."
   ]
  },
  {
   "cell_type": "markdown",
   "id": "5eaf6c58-1f5d-4bd6-b1c2-93aaf06410d8",
   "metadata": {},
   "source": [
    "### Restricted Free Agents"
   ]
  },
  {
   "cell_type": "markdown",
   "id": "cadd008b-9b0a-41bb-acd3-3efd56bb7c35",
   "metadata": {},
   "source": [
    "This is group 2 free agents, and the remainder of the free agents. These free agents are controlled more by the team with which they were signed. Anyone who isn't in the other groups is a restricted free agent. A restricted free agent is usually given a qualifying offer, which is the same or more than the previous season's contract.\n",
    "\n",
    "The restricted part comes from the aspect of an offer sheet. A team can offer a player a contract, and the other team can match that contract or take draft compensation from the other team. The Compensation is laid out on a table for different salary points."
   ]
  },
  {
   "cell_type": "markdown",
   "id": "f2eec96d-3148-41fc-967c-09275a80e149",
   "metadata": {},
   "source": [
    "## Arbitration"
   ]
  },
  {
   "cell_type": "markdown",
   "id": "40eb22a7-af76-4b2a-b373-b7925a84408e",
   "metadata": {},
   "source": [
    "Arbitration is just like it is in baseball. Anyone who signed a contract under the age of 21 and has played at least 10 professional games for 4 years is eligible for arbitration at the end of the 4 years, going in front of a non-sports arbitrator and choosing a salary number for the player and team. Anyone over the age of 21 is eligible for arbitration at the end of their first contract.\n",
    "\n",
    "Other than these, a team can elect for arbitration one time in a player's career, and a player can elect for arbitration however many times in their career. With this, a team can walk away from a player's arbitration number but must take on the arbitration value if they initiate the arbitration. This is how arbitration works out."
   ]
  }
 ],
 "metadata": {
  "kernelspec": {
   "display_name": "Python 3 (ipykernel)",
   "language": "python",
   "name": "python3"
  },
  "language_info": {
   "codemirror_mode": {
    "name": "ipython",
    "version": 3
   },
   "file_extension": ".py",
   "mimetype": "text/x-python",
   "name": "python",
   "nbconvert_exporter": "python",
   "pygments_lexer": "ipython3",
   "version": "3.10.12"
  }
 },
 "nbformat": 4,
 "nbformat_minor": 5
}
