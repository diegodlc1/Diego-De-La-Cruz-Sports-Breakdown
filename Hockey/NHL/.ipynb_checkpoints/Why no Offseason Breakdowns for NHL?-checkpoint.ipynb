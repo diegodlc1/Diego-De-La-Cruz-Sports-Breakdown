{
 "cells": [
  {
   "cell_type": "markdown",
   "id": "e4b878bd-4b21-43cc-be00-daf90c76ca9c",
   "metadata": {},
   "source": [
    "# Why No Offseason Breakdowns for the NHL?"
   ]
  },
  {
   "cell_type": "markdown",
   "id": "f045926c-f3b2-4766-a683-ead98a41237d",
   "metadata": {},
   "source": [
    "I love doing offseason breakdowns for the NBA and would love to do it for the NHL. The issue is that the NHL is more dynamic in its offseason. The main issue, and the same issue I ran into with the MLB, is the possibility of arbitration. Arbitration is hard to simulate. While the easy solution is for me to assign the value I would to the player, that defeats the point of arbitration, which requires 2 people's interest vs. just one. I can also pretend it's not a big deal, as only 14 players went into arbitration last year, however, it is a big part of players' contracts that it can make a difference in what I can do with the cap. Offer sheets are another reason that it's hard to do a breakdown. While I think it's a great way to do free agency, in this aspect, it's hard to think for 32 teams at a time. For example, if the Kings offer a Panthers RFA 1-2 million, which is a second-round pick, it's hard to simulate that happening. The sheer number of UFAs in the NHL with no extra team control after the age of 27 is also hard to keep track of without repeating the same names over. It would just be me stating the best value players for the same salary to all 32 teams, with only a handful of differences between teams with more cap space vs teams like the Stars. Truthfully, I would do this if there were more control for teams with some Free Agents. Even with the players whose teams have control, RFAs, having the possibility of getting an offer sheet or arbitration is too hard to simulate from that. \n",
    "\n",
    "With that all being said, I really like the cap situation that the NHL does and would still like to show my knowledge of it. I'm planning to write a summary on a slow day to show my knowledge, as well as write about NHL roster moves as the summer goes on until I go to law school."
   ]
  }
 ],
 "metadata": {
  "kernelspec": {
   "display_name": "Python 3 (ipykernel)",
   "language": "python",
   "name": "python3"
  },
  "language_info": {
   "codemirror_mode": {
    "name": "ipython",
    "version": 3
   },
   "file_extension": ".py",
   "mimetype": "text/x-python",
   "name": "python",
   "nbconvert_exporter": "python",
   "pygments_lexer": "ipython3",
   "version": "3.10.12"
  }
 },
 "nbformat": 4,
 "nbformat_minor": 5
}
