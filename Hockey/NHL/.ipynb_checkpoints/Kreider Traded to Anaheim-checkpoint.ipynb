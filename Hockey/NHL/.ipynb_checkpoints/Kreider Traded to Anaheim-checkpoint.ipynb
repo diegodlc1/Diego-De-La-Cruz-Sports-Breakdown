{
 "cells": [
  {
   "cell_type": "markdown",
   "id": "076cae64-3a67-4f39-ad99-402e931fdf6c",
   "metadata": {},
   "source": [
    "# Kreider Traded to Ducks"
   ]
  },
  {
   "cell_type": "markdown",
   "id": "90ad1888-ac6e-4bd0-be29-c991ad009fcb",
   "metadata": {},
   "source": [
    "Chris Kreider has been traded from the Rangers to the Ducks with a 4th round pick for Carey Terrance and a third-round pick. The Ducks get their pick back from the Rangers, and the Rangers get Toronto's third-round pick. Let's break this down."
   ]
  },
  {
   "cell_type": "markdown",
   "id": "3c984333-5063-4c39-9d6e-355b6dc5b857",
   "metadata": {},
   "source": [
    "## Impact for Anaheim"
   ]
  },
  {
   "cell_type": "markdown",
   "id": "ebb6dc06-5609-4ecd-b3a7-451363262b3d",
   "metadata": {},
   "source": [
    "The Ducks add a veteran Left Winger and get rights to their 4th-round pick back. This would have a cap hit of 6.5 million for the next 2 seasons for the Ducks. Kreider can be seen as part of the first or second line, depending on how they view Vatrano. In my opinion, he's going to be in the first line for now. If his hand or if he continues to diminish in skill due to age, I can see him being relegated to the second line. With that being said, this is a complete now move. Moving from a 20-year-old prospect with a lot of years of control remaining for a 34-year-old player who's had his worst year since the COVID year and one of the worst of his career. They're banking on getting Kreider from 2 or 3 years ago, not last season. The Ducks have a lot of cap space to work with as well. I do think that they're going to make more moves to try and make a push next season. The Ducks have space to work with and have holes to upgrade. I'll give this a B grade. I don't think they gave up too much to see what Krieder still has. They have cap space to fill out the rest of the team and see if they're going to compete right now. Until they start doing that, I will only give them a B since I don't like the move if this is the only move they're making going into the offseason. This can rise to a A- at the end of the offseason though."
   ]
  },
  {
   "cell_type": "markdown",
   "id": "97a285da-f4a3-490f-935d-12dd7c42e2a8",
   "metadata": {},
   "source": [
    "## Impact for New York"
   ]
  },
  {
   "cell_type": "markdown",
   "id": "f35417fd-1773-4750-865d-cccc224176bb",
   "metadata": {},
   "source": [
    "This is a move indicating change for the Rangers. Trading a franchise player who's been with you for the last 14 years for a young prospect. The Rangers need to start selling and start looking to tank. They missed the playoffs this past season and have a lot of long-term contracts that can be moved on from. They have a lot of young left-wingers coming up as well, and getting a young prospect in return for their older prospect is a good start. Moves need to be made now, and this was one of them. With that being said, Terrance is coming off a down year at Erie. While he has potential and came off a great year last season, he has declined this season. Going to the Rangers, who are probably tanking this coming season, can be enough for him to come a develop in the minors. I'll give this move a grade of A. This is the first step to tank, which the Rangers need to do, and if not they can get off of bad money from last season. They're not winning it next season so giving up older skaters is the best move for that."
   ]
  }
 ],
 "metadata": {
  "kernelspec": {
   "display_name": "Python 3 (ipykernel)",
   "language": "python",
   "name": "python3"
  },
  "language_info": {
   "codemirror_mode": {
    "name": "ipython",
    "version": 3
   },
   "file_extension": ".py",
   "mimetype": "text/x-python",
   "name": "python",
   "nbconvert_exporter": "python",
   "pygments_lexer": "ipython3",
   "version": "3.10.12"
  }
 },
 "nbformat": 4,
 "nbformat_minor": 5
}
