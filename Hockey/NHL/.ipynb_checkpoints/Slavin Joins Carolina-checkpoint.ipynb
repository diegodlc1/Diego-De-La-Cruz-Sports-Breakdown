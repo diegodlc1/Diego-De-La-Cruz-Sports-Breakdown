{
 "cells": [
  {
   "cell_type": "markdown",
   "id": "8b5ebc29-bb85-48cc-afe4-02bc899ab76b",
   "metadata": {},
   "source": [
    "# Josiah Slavin joins Hurricanes #"
   ]
  },
  {
   "cell_type": "markdown",
   "id": "3702e0ef-fbd8-49a2-a8de-319cd9207a58",
   "metadata": {},
   "source": [
    "The Hurricanes have signed Left Winger Joshiah Slavin on a 2-way contract with the Carolina Hurricans for 2 years, 1.55 million contract with them. The younger brother of first line Defender Jacob Slavin."
   ]
  },
  {
   "cell_type": "markdown",
   "id": "7c72f969-1213-4cc9-99be-47e186cb864b",
   "metadata": {},
   "source": [
    "## Impact for the Hurricane ##"
   ]
  },
  {
   "cell_type": "markdown",
   "id": "68a18908-7238-495b-8e36-b30e3aba4de4",
   "metadata": {},
   "source": [
    "Slavin joins the Hurricanes, with his older brother, on a 2-year deal. Slavin played in 70 games during the regular season with the Marlies, however he only scored 24 points in that time. Slavin will most likely start with the Wolves next season as Slavin hasn't played in the NHL since the 21-22 season with the Blackhawks. I feel like this deal was to make Jacob Slavin happy to have a chance with his brother, and Slavin is 25 so he could be something during these next 2 years, but his time with the Marlies last year doesn't support him being more than a 4th liner at best. With that being said the Hurricanes only gave a 2-year min deal for him. I'll give this signing a B- with the idea of keeping Jacob happy and only being the min deal."
   ]
  }
 ],
 "metadata": {
  "kernelspec": {
   "display_name": "Python 3 (ipykernel)",
   "language": "python",
   "name": "python3"
  },
  "language_info": {
   "codemirror_mode": {
    "name": "ipython",
    "version": 3
   },
   "file_extension": ".py",
   "mimetype": "text/x-python",
   "name": "python",
   "nbconvert_exporter": "python",
   "pygments_lexer": "ipython3",
   "version": "3.10.12"
  }
 },
 "nbformat": 4,
 "nbformat_minor": 5
}
