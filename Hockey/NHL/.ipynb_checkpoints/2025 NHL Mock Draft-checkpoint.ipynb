{
 "cells": [
  {
   "cell_type": "markdown",
   "id": "18a3d7ac-a51a-4d35-9fd2-d4ddd0eb1290",
   "metadata": {},
   "source": [
    "# 2025 NHL Mock Draft"
   ]
  },
  {
   "cell_type": "markdown",
   "id": "cd62401a-c699-4293-9c45-5d1a8982da14",
   "metadata": {},
   "source": [
    "With my NBA mock done with, I'll continue with the NHL draft. Now I don't have the time these next 2 days to really put much into this mock as I did with the NBA. I'll do the first round with no trades. While the actual draft will have trades, I am very busy these next 2 days, and the NBA mock took a whole day for 2 rounds with trades. At the end of the day, I realized the trades didn't mean much. It isn't so much what I would do at that point; it was more so what I was predicting, and I didn't want my mock to be predictions; I wanted it to be what I would've done at that selection. Anyways, I will start with the NHL mock draft now as I have the time to."
   ]
  },
  {
   "cell_type": "markdown",
   "id": "2e98c25b-4b1c-447c-8854-45338e91b80a",
   "metadata": {},
   "source": [
    "## 1. New York Islanders - Matt Schaefer, Erie"
   ]
  },
  {
   "cell_type": "markdown",
   "id": "0257337e-a066-40aa-a175-4f55e615898a",
   "metadata": {},
   "source": [
    "Scheafer is an all-around great prospect for the Islanders. He's strong, quick, and very intelligent as a defender. While he missed a great deal of the season, what he showed when he did play was a great ability to create from the back and make a play. The Islanders get a great player at one."
   ]
  },
  {
   "cell_type": "markdown",
   "id": "ea1b0b8a-5ddf-40e4-85e6-69beb56b0e83",
   "metadata": {},
   "source": [
    "## 2. San Jose Sharks - Michael Misa, Saginaw"
   ]
  },
  {
   "cell_type": "markdown",
   "id": "cb889265-6c50-488a-9bde-4d2ebbac8080",
   "metadata": {},
   "source": [
    "The Sharks add Misa after getting Celbrini first overall from last year's draft. Misa has put up amazing numbers at Saginaw this past season, and I can't see the Sharks passing up on. A great scorer who is creative with the puck, if this is the future line for the Sharks, they have a lot to be excited for."
   ]
  },
  {
   "cell_type": "markdown",
   "id": "5fd7ec72-e03a-4157-afcf-a4439f2668a7",
   "metadata": {},
   "source": [
    "## 3. Chicago Blackhawks - Portor Martone, Brampton"
   ]
  },
  {
   "cell_type": "markdown",
   "id": "9a9f611e-99fe-4af6-8f10-8428be3b7572",
   "metadata": {},
   "source": [
    "Martone is a great scorer who is built for the NHL. He has the size, skill, and creativity to be a top scorer at the NHL level. The issue comes from his ability as a skater. He's fast enough, but he can look awkward while doing it. With that being said, Martone is still a great scorer that you have to take a chance on."
   ]
  },
  {
   "cell_type": "markdown",
   "id": "0fcba1c7-4fac-4395-84cd-bbd2cd86d587",
   "metadata": {},
   "source": [
    "## 4. Utah Mammoths - Caleb Desnoyers, Moncton"
   ]
  },
  {
   "cell_type": "markdown",
   "id": "fc0478d1-b994-4ac1-9d24-5e97702291b5",
   "metadata": {},
   "source": [
    "A great Center prospect, Desnoyers has the height and speed to play as a top Center in the league. He has great playmaking skills with a strong sense to score, while exhibiting a great 2-way ability. All in all, a solid prospect that Utah would love to have."
   ]
  },
  {
   "cell_type": "markdown",
   "id": "c37fc474-41a1-473b-b0ef-f0bc80c1e0c1",
   "metadata": {},
   "source": [
    "## 5. Nashville Predators - Victor Eklund, Djurgarden"
   ]
  },
  {
   "cell_type": "markdown",
   "id": "ad706aaa-6626-4261-843f-cf9ca5a02ff9",
   "metadata": {},
   "source": [
    "Djurgarden is one of the best winger options in this draft. He has a lot of creativity on the wing that can make plays happen. His only issue is his size. He is a bit undersized for the position."
   ]
  },
  {
   "cell_type": "markdown",
   "id": "2ef08b52-0516-4ce1-9ad7-e0dafeb34137",
   "metadata": {},
   "source": [
    "## 6. Philadelphia Flyers - James Hagens, Boston College"
   ]
  },
  {
   "cell_type": "markdown",
   "id": "06c51d6f-3e1e-41e2-afe1-beb82adb189f",
   "metadata": {},
   "source": [
    "The first American prospect taken in the draft, Hagens, is a solid Center prospect coming out of Boston College. Creative and a great playmaker, what he lacks in size and physicality, he makes up for in elusive playmaking. He can be seen as a solid prospect in this draft."
   ]
  },
  {
   "cell_type": "markdown",
   "id": "ad8c62bd-4050-49af-a070-8a8950d6a79b",
   "metadata": {},
   "source": [
    "## 7. Boston Bruins - Roger McQueen, Brandon"
   ]
  },
  {
   "cell_type": "markdown",
   "id": "436e5b28-a81f-46ed-baad-48cd474506f9",
   "metadata": {},
   "source": [
    "I might be higher on McQueen than most, but a strong, big Forward who has great offensive skills sounds amazing to me. On the other end, I'm not a fan of injury-prone players; that is what McQueen is. He has everything to be a top prospect, but the injury concern is major."
   ]
  },
  {
   "cell_type": "markdown",
   "id": "cb397c24-67ab-4d51-b4dc-230246bb4f5c",
   "metadata": {},
   "source": [
    "## 8. Seattle Kraken - Anton Frondell, Djurgarden"
   ]
  },
  {
   "cell_type": "markdown",
   "id": "9a5857fa-76c1-4173-9184-ba553cd8e209",
   "metadata": {},
   "source": [
    "The Kraken take Frondell, a strong prospect with great creating and scoring ability. He can make plays and tough shots. The issue arises in consistency. Some nights he will be on, other nights he's quiet."
   ]
  },
  {
   "cell_type": "markdown",
   "id": "7b67223d-32b2-425a-8e8a-98421381ccc1",
   "metadata": {},
   "source": [
    "## 9. Buffalo Sabres - Jake O'Brien, Brantford"
   ]
  },
  {
   "cell_type": "markdown",
   "id": "a5e7f0f7-c951-4ecb-bdbc-f8976811dc69",
   "metadata": {},
   "source": [
    "A patient, skillful offensive player, O'Brien would be a great playmaker in the league. He makes plays and can create for the offense. His issue comes in pushing the puck and playing with it. He's on the slower end and can be too patient."
   ]
  },
  {
   "cell_type": "markdown",
   "id": "96c0401c-5090-4622-8991-ca65790a748f",
   "metadata": {},
   "source": [
    "## 10. Anaheim Ducks - Brady Martin, Sault Ste. Marie"
   ]
  },
  {
   "cell_type": "markdown",
   "id": "5c48f77d-6152-4a1a-b350-50d1a5cce497",
   "metadata": {},
   "source": [
    "Martin is a skillful offensive player who can create with the puck and has a high IQ. While he has all of that going, he still has a cap on what he can do. I don't see more than just that."
   ]
  },
  {
   "cell_type": "markdown",
   "id": "b778c758-eb8b-46a2-8bf4-2798c6eb26a5",
   "metadata": {},
   "source": [
    "## 11. Pittsburgh Penguins - Kashawn Aitcheson, Barrie"
   ]
  },
  {
   "cell_type": "markdown",
   "id": "1e0ebe22-317f-4f85-ae45-8339d86e7a08",
   "metadata": {},
   "source": [
    "An athletic, defensive menace, Kashawn would be the second defenseman drafted in this draft. He's a great skater with a solid IQ. Issues come on the offensive end. While he has somewhat of a shot, he's not great with the puck. With that being said, he would be a solid selection by the Penguins."
   ]
  },
  {
   "cell_type": "markdown",
   "id": "16b7de51-2941-4122-9f9f-03b7ac7fb1e4",
   "metadata": {},
   "source": [
    "## 12. Pittsburgh Penguins - Cole Reschny, North Dakota"
   ]
  },
  {
   "cell_type": "markdown",
   "id": "29d30d87-a7b4-4d98-b2e0-2106c5754ca6",
   "metadata": {},
   "source": [
    "A skillful player who is a quick skater, Reschny is a player who can create well with the puck. His size is of concern, though. Undersized for his position, he needs to get stronger to compete at the next level."
   ]
  },
  {
   "cell_type": "markdown",
   "id": "0f9d536d-1bce-413d-b191-b2ea6d5e8c07",
   "metadata": {},
   "source": [
    "## 13. Detroit Red Wings - Jackson Smith, Penn State"
   ]
  },
  {
   "cell_type": "markdown",
   "id": "afb0fd7b-d7cd-4e22-a210-853ad5e799a0",
   "metadata": {},
   "source": [
    "The third defender off the board, Smith, is an interesting prospect. He has a lot of athletic ability to be a top player; however, his issue comes from his skill on both ends. He's a fine creator, but he's also not great. Same defensively as his size makes him a fine defender, but skillfully isn't. He has a lot of potential, though, and that's what the Red Wings are banking on."
   ]
  },
  {
   "cell_type": "markdown",
   "id": "3f1bf609-934e-4d87-b04d-07bf20466ab2",
   "metadata": {},
   "source": [
    "## 14. Columbus Blue Jackets - Radim Mrtka, Seattle"
   ]
  },
  {
   "cell_type": "markdown",
   "id": "8390f641-dd96-4543-a4e5-dca8832861d6",
   "metadata": {},
   "source": [
    "Mrtka has the size of a great NHL defenseman. With that being said, he needs to work on his offensive game. He has the feel and hands, but he can do more. On defense, he can be more aggressive. He needs to use his body more, and he can be the defenseman that he projects to be."
   ]
  },
  {
   "cell_type": "markdown",
   "id": "4e3a0558-a252-4c16-826e-c84baf82dc02",
   "metadata": {},
   "source": [
    "## 15. Vancouver Canucks - Braeden Cootes, Seattle"
   ]
  },
  {
   "cell_type": "markdown",
   "id": "e3c6529a-d03b-48e4-9e33-fd54cd45c08a",
   "metadata": {},
   "source": [
    "Back-to-back Thunderbirds, the Canucks get Cootes from Seattle. Cootes is a solid prospect all around. He has the offensive skills necessary, he has the playmaking and scoring ability, and he's fast. He's good all around. With that being said, if he can get stronger, he can make up for his lack in size."
   ]
  },
  {
   "cell_type": "markdown",
   "id": "b55ae058-276f-491a-96e8-1d73e211bc98",
   "metadata": {},
   "source": [
    "## 16. Montreal Canadiens - Carter Bear, Everett"
   ]
  },
  {
   "cell_type": "markdown",
   "id": "86e94161-d3d1-4020-869f-f09d018e796c",
   "metadata": {},
   "source": [
    "A creative, skillful player, Bear looks to be a solid winger prospect. Bear has the playmaking and speed to do well at the higher level and bring that to the Canadiens."
   ]
  },
  {
   "cell_type": "markdown",
   "id": "33ef51f1-b86c-4fe6-9d24-82cd20afb788",
   "metadata": {},
   "source": [
    "## 17. Montreal Canadiens - Jack Nesbitt, Windsor"
   ]
  },
  {
   "cell_type": "markdown",
   "id": "e7d80fa7-dda6-4411-b4f5-af859f10ea22",
   "metadata": {},
   "source": [
    "With back-to-back picks, Montreal gets another Forward in their lineup. Nesbitt comes with a lot of skills that I would want in an offensive player. Great playmaking and very high IQ, Nesbitt can make the right players. The issue comes in speed. He needs to be a faster skater at the NHL level."
   ]
  },
  {
   "cell_type": "markdown",
   "id": "686c845c-6f3f-4184-85da-b60e7b918237",
   "metadata": {},
   "source": [
    "## 18. Calgary Flames - Joshua Ravensbergen, Prince George"
   ]
  },
  {
   "cell_type": "markdown",
   "id": "0ecdfa05-bb16-4d46-96c7-b3e87c30dbbc",
   "metadata": {},
   "source": [
    "Ravensbergen is a big, athletic goalie who can make plays in the net. While he is aggressive to make some great plays, the issue comes in that he can be too aggressive. He can mess up and leave the goal open for a goal."
   ]
  },
  {
   "cell_type": "markdown",
   "id": "0e331073-1fdc-4a93-aed5-dcf26c600bfb",
   "metadata": {},
   "source": [
    "## 19. St Louis Blues - Justin Carbonneau, Blainville-Boisbriand"
   ]
  },
  {
   "cell_type": "markdown",
   "id": "b40cdb36-deee-4b97-959d-d3368f7cf5a2",
   "metadata": {},
   "source": [
    "A strong, quick, physical winger with a great shot, Carbonneau is a great offensive player at the NHL level. One issue is with his IQ. He's not much of a playmaker and can make some costly mistakes."
   ]
  },
  {
   "cell_type": "markdown",
   "id": "843865f4-1189-4fc0-b0c3-a0d84258e2dc",
   "metadata": {},
   "source": [
    "## 20. Columbus Blue Jackets - Lynden Lakovic, Moose Jaw"
   ]
  },
  {
   "cell_type": "markdown",
   "id": "7dcc5fba-7c3b-4435-8d88-65b9b2cac175",
   "metadata": {},
   "source": [
    "A big winger, Lakovic is an athletic winger who is strong and creative with the puck. However, he is a selfish player in looking to score more than looking to pass, but he is still a talented scorer for that reason."
   ]
  },
  {
   "cell_type": "markdown",
   "id": "81d8a0e4-6744-4c37-a9e8-cb8b0382685e",
   "metadata": {},
   "source": [
    "## 21. Ottawa Senators - Blake Fiddler, Edmonton"
   ]
  },
  {
   "cell_type": "markdown",
   "id": "4ffab1ab-fb6f-4638-b684-d19516820aeb",
   "metadata": {},
   "source": [
    "A strong, aggressive defensman, Fiddler is big and skates well. He knows how to use his body and has shown flashes of offensive skills. His IQ and vision aren't great. He sometimes makes bad decisions with the puck."
   ]
  },
  {
   "cell_type": "markdown",
   "id": "eda69dc5-bb81-43cc-982a-e2d0e96e4a2d",
   "metadata": {},
   "source": [
    "## 22. Philadelphia Flyers - Malcolm Spence, Erie"
   ]
  },
  {
   "cell_type": "markdown",
   "id": "76b7d87b-59c3-4274-8c68-95aa74a3206e",
   "metadata": {},
   "source": [
    "A winger that is seen as more of a defensive piece, Spence has great ability at winning the puck. He's not bad offensively. He has solid vision and can pass, just questionable scoring ability and is not very creative."
   ]
  },
  {
   "cell_type": "markdown",
   "id": "2c5e9abd-7bae-4a43-aede-cce52a078ba6",
   "metadata": {},
   "source": [
    "## 23. Nashville Predators - Cameron Reid, Kitchener"
   ]
  },
  {
   "cell_type": "markdown",
   "id": "9ee70d48-d336-439c-a2aa-7bc498290dbd",
   "metadata": {},
   "source": [
    "A powerful skater who is physical and has good vision to make and see plays on the offensive side of the game. He has an average build but he does use his body well on the defensive side of the ice."
   ]
  },
  {
   "cell_type": "markdown",
   "id": "d7263dd8-773e-41b4-928a-651a8c740482",
   "metadata": {},
   "source": [
    "## 24. Los Angeles Kings - Sascha Boumedienne, Boston"
   ]
  },
  {
   "cell_type": "markdown",
   "id": "819f7f00-8e34-48a6-83cb-e6e97c62041c",
   "metadata": {},
   "source": [
    "A solid defenseman, Sascha has the speed and physicality to be good in the NHL. He's all over the ice and can make plays there. However, he's not a good offensive piece. He can make some plays, but nothing spectacular. Don't expect an offensive player in Sascha."
   ]
  },
  {
   "cell_type": "markdown",
   "id": "89120a3e-8d4b-4536-8a95-8ee052d85fd7",
   "metadata": {},
   "source": [
    "## 25. Chicago Blackhawks - Milton Gastrin, MoDo Jr."
   ]
  },
  {
   "cell_type": "markdown",
   "id": "f953811f-9f0b-45dd-8ca6-f23233b67c9e",
   "metadata": {},
   "source": [
    "A two-way center, he is very skilled offensively; however, nothing spectacular. He'll make the right plays and there is nothing more to it."
   ]
  },
  {
   "cell_type": "markdown",
   "id": "aeb49135-569d-4fc8-b1fc-27d42f294e9a",
   "metadata": {},
   "source": [
    "## 26. Nashville Predators - Logan Hensler, Wisconsin"
   ]
  },
  {
   "cell_type": "markdown",
   "id": "68736231-a3dd-4d2c-bba0-64816dc249f9",
   "metadata": {},
   "source": [
    "Hensler is an offensive-minded defenseman. He has great playmaking and strong offensive skills. His issues come on the defensive side of the puck. He's fine there, but it isn't anything to write home about."
   ]
  },
  {
   "cell_type": "markdown",
   "id": "27872d5e-6b89-40e9-ac79-90aa647af3ea",
   "metadata": {},
   "source": [
    "## 27. Washington Capitals - Henry Brzustewicz, London"
   ]
  },
  {
   "cell_type": "markdown",
   "id": "dba11934-9a24-4e48-9106-cc8bbbccccff",
   "metadata": {},
   "source": [
    "Brzustewicz is a skillful, creative player with the puck. He can make solid plays on the offensive side of the ice. Defensively, he's a solid player. Can close on players and pucks. An all-around solid player."
   ]
  },
  {
   "cell_type": "markdown",
   "id": "b538c29a-3a6d-418d-9964-e4446b0db4f0",
   "metadata": {},
   "source": [
    "## 28. Winnipeg Jets - William Horcoff, Michigan"
   ]
  },
  {
   "cell_type": "markdown",
   "id": "f8c9b899-3c48-4486-84b1-36e237cb5115",
   "metadata": {},
   "source": [
    "A creative, offensive-minded Center, Horcoff has made some great plays at Michigan. While he has all of that going for him, he is very slow. He needs to get faster and more athletic to be competitve in the NHL, but he has the skills."
   ]
  },
  {
   "cell_type": "markdown",
   "id": "775460f1-743e-4d5b-9621-859e398c1372",
   "metadata": {},
   "source": [
    "## 29. Carolina Hurricanes - Jakob Ihs-Wozniak, Lulea Jr."
   ]
  },
  {
   "cell_type": "markdown",
   "id": "c9337ec7-7c44-4368-8c0c-1138493551ee",
   "metadata": {},
   "source": [
    "A pure scorer, Ihs-Wozniak is a very inconsistent Forward. While some nights he's on, others he's silent. However, he has solid ability as a scorer. His issue comes from not being a creator, and his passing is lacking."
   ]
  },
  {
   "cell_type": "markdown",
   "id": "f9894216-31ef-45db-8423-f2eb574631c4",
   "metadata": {},
   "source": [
    "## 30. San Jose Sharks - Cullen Potter, Arizona State"
   ]
  },
  {
   "cell_type": "markdown",
   "id": "be6a4339-9f40-4ead-b315-d09b0b54f45f",
   "metadata": {},
   "source": [
    "A great skater, Potter is a pure scorer who can, well, score. He's fast and creative with the puck, and he knows how to get the puck in the goal. His size and passing ability are of concern. He's on the smaller side and while he can shoot, he can't really create for others."
   ]
  },
  {
   "cell_type": "markdown",
   "id": "146b04b7-94b5-49fd-94a0-5249efba07ff",
   "metadata": {},
   "source": [
    "## 31. Philadelphia Flyers - Mason West, Edina/Michigan State"
   ]
  },
  {
   "cell_type": "markdown",
   "id": "72e03da5-b75b-47b1-92f9-33a7f38500a1",
   "metadata": {},
   "source": [
    "The Flyers take West out of High School. A large, raw prospect, West has speed and great control with the Puck. It seems as if he's picked hockey as his sport, so there isn't a concern about him picking football, but he needs to get better at playmaking as well."
   ]
  },
  {
   "cell_type": "markdown",
   "id": "2fb28896-58f2-4475-ba02-973c276b6e80",
   "metadata": {},
   "source": [
    "## 32. Calgary Flames - Benjamin Kindel, Calgary"
   ]
  },
  {
   "cell_type": "markdown",
   "id": "4f03886b-c75e-481a-b886-40ed25ad7b88",
   "metadata": {},
   "source": [
    "Staying in the city, a fast, creative player, Kindel has the drive and ethic to always play up to his competition. His issue is his size. He's small. There's no way around it. However, he's always played up his ability for his size, so you draft him for the skill he possesses and go from there."
   ]
  }
 ],
 "metadata": {
  "kernelspec": {
   "display_name": "Python 3 (ipykernel)",
   "language": "python",
   "name": "python3"
  },
  "language_info": {
   "codemirror_mode": {
    "name": "ipython",
    "version": 3
   },
   "file_extension": ".py",
   "mimetype": "text/x-python",
   "name": "python",
   "nbconvert_exporter": "python",
   "pygments_lexer": "ipython3",
   "version": "3.10.12"
  }
 },
 "nbformat": 4,
 "nbformat_minor": 5
}
