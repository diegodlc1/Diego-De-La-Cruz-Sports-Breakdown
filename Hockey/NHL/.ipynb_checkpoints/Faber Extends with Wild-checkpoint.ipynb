{
 "cells": [
  {
   "cell_type": "markdown",
   "id": "bc828cf5-1939-4880-a25f-186d80d69168",
   "metadata": {},
   "source": [
    "# Faber Extends with Wild #"
   ]
  },
  {
   "cell_type": "markdown",
   "id": "b032bc17-956a-42f8-98cc-81d2350fbc2d",
   "metadata": {},
   "source": [
    "The 21-year-old defenceman has signed an 8-year, 68 million dollar extension with the Wild (costing 8.5 million a year). This contract will start for the 2025-26 season and set to end on the 2032-33 season. I will break this contract down for the Wild and my current thoughts on this deal."
   ]
  },
  {
   "cell_type": "markdown",
   "id": "8f7c84ff-bc2c-43ee-a213-51f27feb477e",
   "metadata": {},
   "source": [
    "## Impact for the Wild ##"
   ]
  },
  {
   "cell_type": "markdown",
   "id": "ef532cbe-0dd4-4762-bfeb-4d5c4e9325cd",
   "metadata": {},
   "source": [
    "In a huge deal for the Wild, they extend the young defenceman for another 8 years. In this deal, the Wild are set to have a cap hit of 8.5 million a year after the 2024-25 season. With that being said, I don't know how I feel about this deal. While Faber ended up coming second in the Calder Cup last season as well as contributing the 5th most points for a mediocre Wild team. With that being said, the Wild are locked in for an 8.5 million dollar contract. With that being said I understand that they need to lock in young talent to a long-term extension, however, this makes Faber the second highest-paid player on the Wild Roster but he ended the season with a -1 for a team with a goal differential of -12. The Wild also gave up the 13th most goals last season. To me, this is a huge overpay. I understand that Faber has a solid first season, however, I don't think it was enough to warrant an 8-year extension, let alone paying 8.5 million a year for his talent. I would've looked to give a 4-year contract worth 26 million dollars contract for his talent. This would rate him at 6.5 million a year, which I would rate as fair for a solid first year, and also keeping him on a short-term contract would help with mitigating the risk. This may mean you would overpay in the future but I would rather overpay on a more proven talent than possibly underpay on an unproven talent. The Wild are on the upper tier of the salary cap and they're now stuck paying 8.5 million on this contract. I would give this deal a C-. It's an overpay currently on a long-term deal, which is bad to me, and they're banking on underpaying in the long term. This is a bad deal right now and I don't see it getting much better until 4 years later at the earliest."
   ]
  }
 ],
 "metadata": {
  "kernelspec": {
   "display_name": "Python 3 (ipykernel)",
   "language": "python",
   "name": "python3"
  },
  "language_info": {
   "codemirror_mode": {
    "name": "ipython",
    "version": 3
   },
   "file_extension": ".py",
   "mimetype": "text/x-python",
   "name": "python",
   "nbconvert_exporter": "python",
   "pygments_lexer": "ipython3",
   "version": "3.10.12"
  }
 },
 "nbformat": 4,
 "nbformat_minor": 5
}
