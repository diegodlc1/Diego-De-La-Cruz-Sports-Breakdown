{
 "cells": [
  {
   "cell_type": "markdown",
   "id": "3344c66a-beda-4a29-8307-23b3504b616f",
   "metadata": {},
   "source": [
    "# Harden Contract Includes Player Option and Trade Bonus #"
   ]
  },
  {
   "cell_type": "markdown",
   "id": "466cd3d1-1072-43a5-9d37-b7fe206076d7",
   "metadata": {},
   "source": [
    "James Harden's contract is essentially a 1-year deal worth 33.65 million a year with a player option of an extra year worth 36.35 million for next year. On top of this, he also has a 15% trade bonus worth around 5 million if he were to be traded this year and around 5.5 million a year if he were to be traded next year. With that being said this is a great contract for the Clippers and at this very moment in time is a good contract for Harden but looking back he lost out on a lot of money. Now I won't be talking about that part of this contract deal and will focus on the Clippers' end. The Clippers got a great deal. Being on a 2-year deal, this lines up with the end of Kawhi's and Powell's bad contracts, and the Clippers can try and trade this contract and Powell next year for some draft picks, and then Kawhi's contract will expire the following year and with this, the Clippers are stuck as they can't tank the next years. Hopefully, the Clippers can get a mediocre team for the following 2 years with draft picks in 2030 and 2031 but they need to build a decent team for at least the 2028 season. With that all being said this is still a decent contract."
   ]
  }
 ],
 "metadata": {
  "kernelspec": {
   "display_name": "Python 3 (ipykernel)",
   "language": "python",
   "name": "python3"
  },
  "language_info": {
   "codemirror_mode": {
    "name": "ipython",
    "version": 3
   },
   "file_extension": ".py",
   "mimetype": "text/x-python",
   "name": "python",
   "nbconvert_exporter": "python",
   "pygments_lexer": "ipython3",
   "version": "3.10.12"
  }
 },
 "nbformat": 4,
 "nbformat_minor": 5
}
