{
 "cells": [
  {
   "cell_type": "markdown",
   "id": "66e3105f-004a-4f07-991f-555f97a8984f",
   "metadata": {},
   "source": [
    "# Theis signs with Pelicans on one year deal #"
   ]
  },
  {
   "cell_type": "markdown",
   "id": "01cac25a-628f-4728-afc0-679551704ec8",
   "metadata": {},
   "source": [
    "Daniel Theis has signed a one year deal to join the New Orleans Pelicans next year. Not much is known on the amount that is being sent, but due to his age and the current state in both free agency and the Pelicans I'm going to assume that this was for the vet min. With that being said I will go in depth with this deal."
   ]
  },
  {
   "cell_type": "markdown",
   "id": "b20a1e61-a5eb-4f4c-ad4a-738a2784fff1",
   "metadata": {},
   "source": [
    "## Impact on the Pelicans ##"
   ]
  },
  {
   "cell_type": "markdown",
   "id": "fa0bd863-78ec-4b0c-99a7-10c69cd50164",
   "metadata": {},
   "source": [
    "After dealing out Nance Jr. and losing Valancuinas to free agency, the Pelicans only had Yves Missi as a player that excels at Center. Robinson-Earl can play but he's too short and not proven enough to be a back-up Center. Theis was the best Center currently available in free agency. With the Pelicans lacking in a starting/vet Center, needing someone to help develop Missi, the Pelicans decided to make a push to get him. I like this deal. I'm concern with the spacing with this team not matter who the Pelicans got in free agency. Valancuinas and Williamson had some weird spacing issues and I feel like Theis and Missi play more as a traditional Center like Valancuinas, neither bein a true stretch 5 which I think would help this team. With that being said if the Pelicans want to compete in the West they had to get a solid 5 as Missi isn't NBA starter worthy. With that being said, when you're in a weird position like the Pelicans you have to get the best Center in free agency since there isn't much of a difference in style with the other options available. This signing will get a solid B grade as it fills the need with the best option available but it's a downgrade from what they had before. It makes sense why it's done."
   ]
  },
  {
   "cell_type": "markdown",
   "id": "8a86d15c-b7e7-4c8d-bd98-6c1effb76379",
   "metadata": {},
   "source": [
    "## Possible Pelicans moves ##"
   ]
  },
  {
   "cell_type": "markdown",
   "id": "f570f1f4-6642-482d-8837-566f8bc37027",
   "metadata": {},
   "source": [
    "I want to touch on the Pelicans real quick with Brandon Ingram. This signing to me proves that the Pelicans will be in need for a true Center. Trying to get a stretch 5 for Brandon Ingram would be a necessity. I think that Herb Jones can can be a starting option for the Pelicans and he can slot in as an option at the 3. The Pelicans will look for a stretch 5 as well as a backup at the Forward position. I think that we could see either Missi or Theis being moved to make this trade happen. Knowing this the Pelicans won't make this trade until either Missi or Theis's contract can be moved, so I don't think a Brandon Ingram trade will happen any time soon. Ingram is looking for the max extension so I could see a younger team that is looking to make that push to compete taking the chance on him, but with that they would want Missi. I could see a contending team looking for Ingram as a short-term option to compete for a title and if Ingram shows he can be that player they will take on him and Theis as Theis is a good vet option that is on an expiring for next year. With that being said these are the teams that would be interested for Ingram.\n",
    "\n",
    "Brooklyn, Charlotte, Cleveland, Detroit, Golden State, Houston, Indiana, LAC, Memphis, Milwaukee, Phoenix, Portland, Toronto, and Washington\n",
    "\n",
    "Now based on the need that the Pelicans would look for these are the teams that have that player.\n",
    "\n",
    "Detroit, Milwaukee, Toronto, and Washington\n",
    "\n",
    "Detroit deal:\n",
    "\n",
    "Detroit gets: Ingram and Missi\n",
    "\n",
    "New Orleans gets: Stewart, Harris or THJ, and a protected 1st\n",
    "\n",
    "Milwaukee deal: Not possible unless a 3rd team is involved\n",
    "\n",
    "Toronto deal:\n",
    "\n",
    "Toronto gets: Ingram and Missi\n",
    "\n",
    "New Orleans gets: Olynyk, Brown, and 4 first-round picks\n",
    "\n",
    "This could be 3 first with a swap and less protections or Missi could be out of this trade and Pelicans get 2 first in that case\n",
    "\n",
    "Washington deal:\n",
    "\n",
    "Washington gets: Ingram and Missi\n",
    "\n",
    "New Orleans gets: Kuzma and Holmes\n",
    "\n",
    "With these deals the only deal that doesn't work is the Milwaukee one unless a third team is involved. With that being said I think that Washington's deal the worse as Kuzma is the best player that the Pelicans could get out of all of these trades, however, he doesn't play Center and Holmes is barely a starting Center. I think that the best deal for a player is Detroit but a better long-term option is the Toronto one. The question is what do the Pelicans want? Getting more first-round picks to make a push for a prospect in the future or get the better Center in Stewart who is only 24. I don't think that the Pelicans are on the same tier as the Thunder or T-Wolves. They could be on the same tier as Denver but we'll see next year. With the Murray trade, it tells me that they're competing so that leans the Detroit option, however, the better one to me is the Toronto one. Getting more first and getting the Olynyk as a fill-in isn't terrible and they could flip that next year. They also open money next year for Brown. I think either or will be fine as Ingram is looking for the max extension and Toronto and Detroit can give him that opportunity. but I see him being a Piston while I think that he would be better for the Raptors for himself, the Raptors, and the Pelicans."
   ]
  }
 ],
 "metadata": {
  "kernelspec": {
   "display_name": "Python 3 (ipykernel)",
   "language": "python",
   "name": "python3"
  },
  "language_info": {
   "codemirror_mode": {
    "name": "ipython",
    "version": 3
   },
   "file_extension": ".py",
   "mimetype": "text/x-python",
   "name": "python",
   "nbconvert_exporter": "python",
   "pygments_lexer": "ipython3",
   "version": "3.10.12"
  }
 },
 "nbformat": 4,
 "nbformat_minor": 5
}
