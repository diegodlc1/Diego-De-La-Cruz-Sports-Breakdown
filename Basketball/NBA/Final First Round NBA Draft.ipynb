{
 "cells": [
  {
   "cell_type": "markdown",
   "id": "a8c91946-cfa9-4796-86fc-8d5438ead2fe",
   "metadata": {},
   "source": [
    "# NBA Mock Draft First Round #"
   ]
  },
  {
   "cell_type": "markdown",
   "id": "c7fa7798-2b36-449e-8ba1-e5af2b8c3ce2",
   "metadata": {},
   "source": [
    "With the NBA draft first round starting tomorrow, I want to be able to do a mock draft. I want to make my final mock draft. I made a mock draft earlier right after the lottery with only the lottery, now I want to do it with the full first round. Some things to note:\n",
    "\n",
    "1. This is what I would do as a GM, not what I think will happen. I will look at contract situations, current roster, and all the such to make a determination of what will happen. I'm not listening to anything the media says, this is what I would do if I'm the GM of the team.\n",
    "\n",
    "2. I will not do trades. This will be a draft with the current order with no trades. Will their be trades, yes, but I'm not doing that. I will mention points in the draft where I could see a trade happening.\n",
    "\n",
    "Besides that I want to note that this is a weaker draft and I love it. It makes speculation a lot more influencial. Another thing I want to note is that looking at this draft, I don't see any day one starters, I will take this in account. I do see a lot of solid role players so I want to play this out. With that being said let's start this up."
   ]
  },
  {
   "cell_type": "markdown",
   "id": "d008c593-03f0-4f0d-bb80-386900409959",
   "metadata": {},
   "source": [
    "## 1. Atlanta Hawks - Reed Sheppard, Kentucky ##"
   ]
  },
  {
   "cell_type": "markdown",
   "id": "33bbdd44-afc0-4202-9846-e961565011da",
   "metadata": {},
   "source": [
    "In a surprising turn of events, the Hawks take Sheppard outside all of the bigs being thrown around. The Hawks are in desperate need of a backup guard. Having more depth in Sheppard allows the Hawks to have that depth. He can play both at the point and as a shooting guard. With the thought that one of Murray or Young may be traded in the next couple of years, Sheppard can step into that role in the future. I think that Risacher may be a good shout here, however, I don't think that the Hawks want a project, nor do I think Bey will leave the Hawks this free agency. The Hawks take the combo guard out of Kentucky."
   ]
  },
  {
   "cell_type": "markdown",
   "id": "86921024-a36a-4792-92c1-d6a9898ccda5",
   "metadata": {},
   "source": [
    "## 2. Washington Wizards - Alex Sarr, France ##"
   ]
  },
  {
   "cell_type": "markdown",
   "id": "ffb3daaa-c60e-424a-b0dd-5650e0656641",
   "metadata": {},
   "source": [
    "The former number one selection in my previous mock, I selected Sarr for the Wizards. Looking at the lineup Sarr can backup Kuzma as well as giving flexibility for the Wizards to trade Kuz in the future to let Sarr take the starting role for the Wizards. He is a solid defender but a raw prospect on the offense. Learning from Kuzma could help in his development and I can see him being a good Power Forward in some time."
   ]
  },
  {
   "cell_type": "markdown",
   "id": "cffe7c14-5412-493a-8cd4-26f12d9a9cea",
   "metadata": {},
   "source": [
    "## 3. Houston Rockets - Stephon Castle, UConn ##"
   ]
  },
  {
   "cell_type": "markdown",
   "id": "00f2c26b-67e4-4b5b-94a5-5282b760648e",
   "metadata": {},
   "source": [
    "I really like how this Rockets team is shaping up currently. I think that Castle is NBA ready at this point in time. Having him backup FVV as a taller backup to him, I think that this can push this Rockets team to the next stage. He has played in large moments for this UConn team, and would help add that experience to this Rockets team. I think that this would be a great pick for the Rockets. With that being said I can see this pick being traded. "
   ]
  },
  {
   "cell_type": "markdown",
   "id": "b4fc3e40-c3d4-4326-8ed4-ac81fc3ede77",
   "metadata": {},
   "source": [
    "## 4. San Antonio Spurs - Zaccharie Risacher, France ##"
   ]
  },
  {
   "cell_type": "markdown",
   "id": "feaf6924-471e-49fe-bcac-af9104d8f0d8",
   "metadata": {},
   "source": [
    "The Spurs draft another Frenchman for their first pick in back-to-back years. Risacher could be one of the best players coming out of this draft. I think that the Spurs, who are still developing talent, could help with the development of Risacher. The Spurs do a point guard and all, but I think that this is the better player that the Spurs can draft at this moment in time. He fits the Spurs mold perfectly."
   ]
  },
  {
   "cell_type": "markdown",
   "id": "80b37eed-ee18-49a4-90f3-8e2480731cb4",
   "metadata": {},
   "source": [
    "## 5. Detroit Pistons - Donovan Clingan, UConn ##"
   ]
  },
  {
   "cell_type": "markdown",
   "id": "d58553f7-abfc-4acc-9f79-752b7e306e38",
   "metadata": {},
   "source": [
    "The Detroit Pistons need a lot of help in a lot of different positions. I think at this point they will select the best player availiable, which is Clingan. Clingan was the main contributer for the back-to-back champions at UConn, as well as being a pressence in the inside. He could very well be the best player in the draft and the Pistons getting him at 5 would be huge for the franchise. Him and Duran could be a decent pair in the front court, or Clingan can back up Duran for a little bit. This would be a great pick for the Pistons."
   ]
  },
  {
   "cell_type": "markdown",
   "id": "5c4bfcd0-bec0-4323-866c-49d980b1363e",
   "metadata": {},
   "source": [
    "## 6. Charlotte Hornets - Matas Buzelis, G-League Ignite ##"
   ]
  },
  {
   "cell_type": "markdown",
   "id": "3d4b4e21-2f3b-4335-a1cf-5a0103b47a90",
   "metadata": {},
   "source": [
    "The Hornets take the Athletic Lithuanian to be able to play multiple positions. He has the ability to play guard, forward, and even as a small 5. He is able to space the floor, and make an impact coming off the bench for the Honets this coming season. I like this pick for the Hornets and hopefully they can find a piece in Buzelis to push this team further."
   ]
  },
  {
   "cell_type": "markdown",
   "id": "b9a67c12-7b25-4d52-89a1-e357fb9506a0",
   "metadata": {},
   "source": [
    "## 7. Portland Trail Blazers - Devin Carter, Providence ##"
   ]
  },
  {
   "cell_type": "markdown",
   "id": "1d119dea-ad0f-4bd7-8565-5692f8399b87",
   "metadata": {},
   "source": [
    "I see the Trail Blazers taking the Junior out of Providence. He has the ability on both offense and is a great slasher and hustler for any team that he would join. Portland needs a lot of help in different areas and I see Carter being someone like a Jrue Holiday in the future to lead teams. He isn't that great of a shooter, but their's many pieces on the Blazers that can shoot the ball. Having someone control the game and do the little things like Carter can could help this team in many ways."
   ]
  },
  {
   "cell_type": "markdown",
   "id": "cb97e185-f7dc-42ea-83eb-7e061195ad94",
   "metadata": {},
   "source": [
    "## 8. San Antonio Spurs - Rob Dillingham, Kentucky ##"
   ]
  },
  {
   "cell_type": "markdown",
   "id": "5c0a97c5-51fa-437d-9ea9-906022dd65a2",
   "metadata": {},
   "source": [
    "The Spurs are in desperate need of a point guard. He has everything the offensive side. He has a great shot, good finishing, and good play making ability. This would be helpful for the Spurs in having these different skillsets that complement that of Wemby and Vassell. He has a great ability of drawing defenders which is needed for the Spurs to open space for Wemby."
   ]
  },
  {
   "cell_type": "markdown",
   "id": "8de7edc0-7137-4330-9bb0-086c502a6136",
   "metadata": {},
   "source": [
    "## 9. Memphis Grizzlies - Nikola Topic, Serbia ##"
   ]
  },
  {
   "cell_type": "markdown",
   "id": "dadb5176-e4a9-4b01-b085-36a6fd778e14",
   "metadata": {},
   "source": [
    "The Grizzlies draft another guard to be able to play behind Morant. The Serbian guard dropped in the rankings due to his recent ACL tear, but he was ranked near the top of this draft in many mocks throughout the season. He has the ability and the Grizzlies get a steal after he dropped and get one of the best players in the draft when it's all set and done. I do see this pick being involved in a trade though."
   ]
  },
  {
   "cell_type": "markdown",
   "id": "01e5b3e5-9a5a-4922-a3fb-fdfaeb9da1e3",
   "metadata": {},
   "source": [
    "## 10. Utah Jazz - Dalton Knecht, Tennessee ##"
   ]
  },
  {
   "cell_type": "markdown",
   "id": "51b01600-b1a5-44b7-b6f9-5bf45923d590",
   "metadata": {},
   "source": [
    "The Jazz takes another shooter to come off the bench. I think that Markkannen will stay, but this gives them the option to trade either Sexton or Markannen in the near future. I think the Senior has a high floor and a low ceiling and the Jazz would be a good landing spot for him to help contribute to the Jazz instantly and help with the push the Jazz to the next step."
   ]
  },
  {
   "cell_type": "markdown",
   "id": "7fd0e38f-2c6d-4811-9723-20d7314995e1",
   "metadata": {},
   "source": [
    "## 11. Chicago Bulls - Tidjane Salaun, France ##"
   ]
  },
  {
   "cell_type": "markdown",
   "id": "704cb498-a638-471d-88ca-087757d46604",
   "metadata": {},
   "source": [
    "Tidjane is a project. I think that he has the potential to be the best player in this draft. He has the pieces to make an impact for any team that he joins. With DeRozan and Williams set to be Free Agents at the moment, the Bulls can find a piece for the future, which is what they could be looking for at the moment. A good player to develop in the future."
   ]
  },
  {
   "cell_type": "markdown",
   "id": "c33c771b-b49c-4dfd-a78d-8975a21ce541",
   "metadata": {},
   "source": [
    "## 12. Oklahoma City Thunder - Zach Edey, Purdue ##"
   ]
  },
  {
   "cell_type": "markdown",
   "id": "8c39722f-2236-44be-9f01-6d68f25c0bbd",
   "metadata": {},
   "source": [
    "The Thunder are in need of someone that can rebound the ball. They lack a true big that can play under the basket and this is what Edey can bring. He is a true Center that can play under the basket and is NBA ready at the moment. The Thunder need a backup big and this is the backup big that the Thunder lack. This is a major move that could put the Thunder in Championship contention."
   ]
  },
  {
   "cell_type": "markdown",
   "id": "2574b9fc-19ca-4645-b9c7-90c74c452d11",
   "metadata": {},
   "source": [
    "## 13. Sacramento Kings - Cody Williams, Colorado ##"
   ]
  },
  {
   "cell_type": "markdown",
   "id": "f2e9c961-738c-43f6-a031-5b2814e45a30",
   "metadata": {},
   "source": [
    "The Kings select Cody Williams, the brother of Jalen Williams, in the lottery of this draft. He has the 2-way ability that a lot of teams look for. He has great defensive ability and good playmaking. While he does lack a shot, he doesn't need it that much for this Kings team. His potential is also outstanding. He was near the top in mocks at points this year and he could have that ability. I could see this pick being traded."
   ]
  },
  {
   "cell_type": "markdown",
   "id": "2f1539f7-3cbc-45f4-9c05-a12c2a397085",
   "metadata": {},
   "source": [
    "## 14. Portland Trail Blazers - Kyle Filipowski, Duke ##"
   ]
  },
  {
   "cell_type": "markdown",
   "id": "5d604e63-418c-438f-9a3d-ba3f530369a8",
   "metadata": {},
   "source": [
    "The Trail Blazers select a stretch big to stretch out the floor. This is a good complement to Ayton and Grant currently, while also giving the Blazers the ability to trade Grant away to create playing time for Filipowski. Filipowski is a good stretch player that complements many styles of the Trail Blazers current lineup. This would be a good selection for the Blazers to make."
   ]
  },
  {
   "cell_type": "markdown",
   "id": "b5570cf0-3595-4101-89de-9052f3c0e6fa",
   "metadata": {},
   "source": [
    "## 15. Miami Heat - Jared McCain, Duke ##"
   ]
  },
  {
   "cell_type": "markdown",
   "id": "b277555f-5a8b-4a73-b8d8-55e1e3cce92c",
   "metadata": {},
   "source": [
    "A solid point guard, McCaine has the ability to playmack as well as has the shooting ability. He would be a solid backup behind Rozier for 2 years, then could step into the new Heat lineup. He is a shooter. With him and Herro in the back court, we could see this Heat lineup of the future make solid strides."
   ]
  },
  {
   "cell_type": "markdown",
   "id": "8e02f113-7d33-4b8a-8d31-9b7fda1d30f0",
   "metadata": {},
   "source": [
    "## 16. Philadelphia 76ers - Ron Holland, G-League Ignite ##"
   ]
  },
  {
   "cell_type": "markdown",
   "id": "ee8b35be-8e88-4f5a-8479-48bc63d63424",
   "metadata": {},
   "source": [
    "At one point one of the top prospects in this draft, Holland falls out of the lottery. The Sixers are a blank slate this offseason and will take BPA. He has great defensive ability and solid athleticism. If he can develop an offensive game, then he can be a problem. The Sixers can help with that, not needing him on offense with Embiid and Maxey still on the roster."
   ]
  },
  {
   "cell_type": "markdown",
   "id": "ad4ced78-b5a0-497a-a269-bf1e0453f163",
   "metadata": {},
   "source": [
    "## 17. Los Angeles Lakers - JaKobe Walter, Baylor ##"
   ]
  },
  {
   "cell_type": "markdown",
   "id": "fb278058-560d-4c97-8122-2cadbde39241",
   "metadata": {},
   "source": [
    "A shooter with limited playmaking ability, Walter would go 17 in my mock. He has the 3 and D ability that many teams would like to have. With that being said, he's not a good playmaker. However, with the current Lakers team, that wouldn't be a necessary. He can compete with Vincent for the shooting guard position righ away."
   ]
  },
  {
   "cell_type": "markdown",
   "id": "c6b4d550-7960-43d7-bba9-927e2fda3da0",
   "metadata": {},
   "source": [
    "## 18. Orlando Magic - Isaiah Collier, USC ##"
   ]
  },
  {
   "cell_type": "markdown",
   "id": "d7c55b80-44f7-425d-8fe1-c311deaf536e",
   "metadata": {},
   "source": [
    "With Fultz contract up, the Magic will look to replace him with Collier. The guard has good ball handeling ability as well as good defensive skills. With that beign said, he also makes risky passes and not really a shooter. With that all being said, he can fit into this Magic lineup. He's not needed as a shooter but as a good defender on the perimeter and another guard for this team."
   ]
  },
  {
   "cell_type": "markdown",
   "id": "59914f9e-14f3-4c24-a06f-d6a82a7abcdd",
   "metadata": {},
   "source": [
    "## 19. Toronto Raptors - Carlton Carrington, Pitt ##"
   ]
  },
  {
   "cell_type": "markdown",
   "id": "19b7ccaa-606b-427c-b83d-4417ab4c6edd",
   "metadata": {},
   "source": [
    "The Raptors are in need for a lot of positions. Carrington can come in as both a shooter and a playmaker for this Raptor team. He lacks in other deparments, but he would be a solid backup for Quickly and the Raptors. Carrington is a solid pick here to help contribute to this Raptors team."
   ]
  },
  {
   "cell_type": "markdown",
   "id": "7ff93b74-3f16-49f0-8cbb-5b52c07950a9",
   "metadata": {},
   "source": [
    "## 20. Cleveland Cavaliers - Kel'el Ware, Indiana ##"
   ]
  },
  {
   "cell_type": "markdown",
   "id": "91ac7f62-3ad0-4dc6-bb1a-02e0c8bb13ff",
   "metadata": {},
   "source": [
    "The Cavaliers need to add some frontcourt depth to take off the ware and tear from both Mobley and Allen. Allen is injury prone and Mobley is young and could end up being injury prone. Adding more depth to the front court is important and Ware is a great addition from that. He has the ability to play a stretch 5, while both Mobley and Allen are more traditional 5's. This would be a great pick for the Cavs."
   ]
  },
  {
   "cell_type": "markdown",
   "id": "971b4876-bd81-4d71-bb78-b35907cbd162",
   "metadata": {},
   "source": [
    "## 21. New Orleans Pelicans - Yves Missi, Baylor ##"
   ]
  },
  {
   "cell_type": "markdown",
   "id": "8b928c2a-691b-469b-a65c-196743bf8f37",
   "metadata": {},
   "source": [
    "With Valancuinas a free agent and Nance Jr. on the last year of his contract, the Pelicans need to start getting young in the front court. Missi brings the youth as more of a traditional Center that plays similarly to both Nance and Jonas. He brings a strong defensive and rebounding pressence to the Pelicans and could help bring athleticism to the Pelicans front court."
   ]
  },
  {
   "cell_type": "markdown",
   "id": "68c5ffb6-8516-4b2f-bce8-283958c63712",
   "metadata": {},
   "source": [
    "## 22. Phoenix Suns - Tristan Da Silva, Colorado ##"
   ]
  },
  {
   "cell_type": "markdown",
   "id": "4c86d466-81c4-4764-8d50-6a9b7720886f",
   "metadata": {},
   "source": [
    "The Suns need depth pretty much everywhere. Da Silva is a solid all around prospect who is able to do a lot of things well, but nothing great. My one issue is that his athleticism isn't the greatest so I don't see much growth. With that being said he has a high floor, low ceiling, and NBA ready right now. That is exactly what the Suns need at this moment."
   ]
  },
  {
   "cell_type": "markdown",
   "id": "0f4421aa-e5ac-44b1-b176-712c5d341bb9",
   "metadata": {},
   "source": [
    "## 23. Milwaukee Bucks - Johnny Furphy, Kansas ##"
   ]
  },
  {
   "cell_type": "markdown",
   "id": "e1adc253-0b8f-431b-8579-2e05815c85f6",
   "metadata": {},
   "source": [
    "The Bucks are in desperate need of a Shooting Guard. Furphy offers the ability to be a pressence on the offensive side of the ball, with his height as well, and great offensive ability. He is an ok defender on a skill level, but too slow on his feet. While this would be a bad combo for if he was starting for the Bucks with Dame, I think that he'll come off the bench right now."
   ]
  },
  {
   "cell_type": "markdown",
   "id": "ad8de7f2-e91d-4b64-a242-5d0ebdff2fcc",
   "metadata": {},
   "source": [
    "## 24. New York Knicks - Tyler Smith, G-League Ignite ##"
   ]
  },
  {
   "cell_type": "markdown",
   "id": "cb62a600-ace6-44ee-aa19-8b47100ab16f",
   "metadata": {},
   "source": [
    "The Knicks need a lot of depth in this upcoming season. With that being said I think that they'll take the BPA here. He has the shot with the potential to be a solid 2-way player. The issue is that his shot isn't that great. I would argue that he is actually bad at it. With the Knicks though, I think that they need a shooter at this point and you can develop the defense for over time."
   ]
  },
  {
   "cell_type": "markdown",
   "id": "f89d5cb7-90a3-42f8-b016-d89c1123419d",
   "metadata": {},
   "source": [
    "## 25. New York Knicks - Daron Holmes II, Dayton ##"
   ]
  },
  {
   "cell_type": "markdown",
   "id": "cfbbf5ac-0de4-4730-b654-1a76aca2bb02",
   "metadata": {},
   "source": [
    "As I mentioned before, the Knicks need a lot of depth and Holmes can add to that. On top of that, with back to back picks the Knicks will pick someone different with the first one and someone that fits the Knicks mold in the second. Holmes fits the Knicks identity. He fits the mold and will develop with it. I can see a trade here though."
   ]
  },
  {
   "cell_type": "markdown",
   "id": "f5b3c44c-aca5-4748-8ffc-0e4b46a8c128",
   "metadata": {},
   "source": [
    "## 26. Washington Wizards - Tyler Kolek, Marquette ##"
   ]
  },
  {
   "cell_type": "markdown",
   "id": "f3776c1f-236c-44d3-a5cb-4c9544581a89",
   "metadata": {},
   "source": [
    "After draft Sarr, the Wizards are in need of a Point Guard. Kolek had a breakout year for Marquette and can fit the mold of the Wizards in need of a PG. He has good all around ability that can help out the Wizards right now due to his experience at the NCAA level. If the Wizards don't get Tyus Jones back, Kolek could end up being the starter."
   ]
  },
  {
   "cell_type": "markdown",
   "id": "15e8d237-2216-4903-9118-e1044bb06063",
   "metadata": {},
   "source": [
    "## 27. Minnesota Timberwolves - Ryan Dunn, Virginia ##"
   ]
  },
  {
   "cell_type": "markdown",
   "id": "f62ad42a-5bcb-4e73-9ad4-09921e89defe",
   "metadata": {},
   "source": [
    "Dunn will come into the win now T-Wolves to help out on the defensive end. He is an elite defender that has little offensive game. He will could come off the bench for the Timberwolves and play as a lock down defender. The offensive power of the T-Wolves helps make up for the lack of offensive ability. That's why Dunn would be a great pick here."
   ]
  },
  {
   "cell_type": "markdown",
   "id": "5dd6597a-518b-466b-9581-feefce67e3d5",
   "metadata": {},
   "source": [
    "## 28. Denver Nuggets - Jaylon Tyson, California ##"
   ]
  },
  {
   "cell_type": "markdown",
   "id": "13f97e65-e54e-4296-bf59-43f5406ddd37",
   "metadata": {},
   "source": [
    "He was a do it all while at California. He was able to do everything that you were to ask for while their. Now joining a team like the Nuggets, the question is how well would he do when he is not the guy, nor the next couple of guys. Tyson is a great pick though. Like I said he can do everything that you ask a Basketball player to do well."
   ]
  },
  {
   "cell_type": "markdown",
   "id": "066f0622-c597-4b8a-825e-dd31204ad21a",
   "metadata": {},
   "source": [
    "## 29. Utah Jazz - Bobi Klintman, Sweden ##"
   ]
  },
  {
   "cell_type": "markdown",
   "id": "bdc0fbf1-9a24-4fa0-a733-1fdde26e33bd",
   "metadata": {},
   "source": [
    "I understand the Jazz and it's fans think that they need a point guard. I understand and get it. However, the front court situation isn't good at all. He has great on ball defense. While is offensive ability is lower than what you want, he can develop that as well as the Jazz being an offensive team overall, that won't be asked of him this early in his career."
   ]
  },
  {
   "cell_type": "markdown",
   "id": "b7e86a21-19e7-4630-bdf5-0fa6bf40f8d7",
   "metadata": {},
   "source": [
    "## 30. Boston Celtics - Kyshawn George, Miami ##"
   ]
  },
  {
   "cell_type": "markdown",
   "id": "68434631-5327-44db-9bb6-aa1e69166a4d",
   "metadata": {},
   "source": [
    "A pure shooter that has the ability to be a good passer, George would fit well into this Celtics team. His height and his potential is a great starting point for the Celtics to build around. With that being said he fits well as a need for the Celtics right now."
   ]
  }
 ],
 "metadata": {
  "kernelspec": {
   "display_name": "Python 3 (ipykernel)",
   "language": "python",
   "name": "python3"
  },
  "language_info": {
   "codemirror_mode": {
    "name": "ipython",
    "version": 3
   },
   "file_extension": ".py",
   "mimetype": "text/x-python",
   "name": "python",
   "nbconvert_exporter": "python",
   "pygments_lexer": "ipython3",
   "version": "3.10.12"
  }
 },
 "nbformat": 4,
 "nbformat_minor": 5
}
