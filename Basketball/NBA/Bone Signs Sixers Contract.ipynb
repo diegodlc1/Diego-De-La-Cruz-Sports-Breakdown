{
 "cells": [
  {
   "cell_type": "markdown",
   "id": "232525fb-4233-4d65-b307-b3ba965671ca",
   "metadata": {},
   "source": [
    "# Bona Signs with Sixers #"
   ]
  },
  {
   "cell_type": "markdown",
   "id": "5d6f8300-63c5-4446-8d94-a1b5ddeff355",
   "metadata": {},
   "source": [
    "The 44th pick of this year's draft, Adem Bona has signed a 4-year, 8 million dollar deal with the 76ers. This is a typical deal for a pick in this range. Bona has shown to be an impact player in the summer league for the 76ers. I will break down this contract in terms of the league and the Sixers."
   ]
  },
  {
   "cell_type": "markdown",
   "id": "692331f1-9cd2-4008-9c15-6d7d2fd6ada8",
   "metadata": {},
   "source": [
    "## Impact for the Sixers ##"
   ]
  },
  {
   "cell_type": "markdown",
   "id": "3cc69325-586e-4d17-94a4-6571b8b291f8",
   "metadata": {},
   "source": [
    "The UCLA product spent 2 years for the Bruins and put up a stat line of 12.4/5.9/1.2 during his last year with UCLA. He signs on for a typical 4-year contract that most second-round picks get for only 2 million a year. This is a pretty good contract for any team that signs a second-round pick. With that being said I like the look of Bona. I don't think his ceiling is that high, but being under Embiid and learning from the Sixers staff may develop him into a prime Kevon Looney-type player looking at the front courts of many teams around the league, it's an important position that we'll see teams take chances on these type of players. Bona has put up an impressive stat line for Summer League, but he has shown that he has the athletic and defensive ability to possibly make an impact in the future. With that being said the Sixers needed to add more depth in the frontcourt and Bona will add some more depth as a PF/C. Again we shouldn't expect much from him between this year and next year, a young big man requires time before they makes an impact, but training with Embiid and Drummond could help develop his offensive game while he grows as a defender and could be a solid 2-way Center at best case scenario. I like this deal for the 76ers with the fit, contract, and player."
   ]
  }
 ],
 "metadata": {
  "kernelspec": {
   "display_name": "Python 3 (ipykernel)",
   "language": "python",
   "name": "python3"
  },
  "language_info": {
   "codemirror_mode": {
    "name": "ipython",
    "version": 3
   },
   "file_extension": ".py",
   "mimetype": "text/x-python",
   "name": "python",
   "nbconvert_exporter": "python",
   "pygments_lexer": "ipython3",
   "version": "3.10.12"
  }
 },
 "nbformat": 4,
 "nbformat_minor": 5
}
