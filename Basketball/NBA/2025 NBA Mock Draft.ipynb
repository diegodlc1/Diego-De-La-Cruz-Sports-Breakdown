{
 "cells": [
  {
   "cell_type": "markdown",
   "id": "92861a4c-568e-4b5e-acde-808cad6c92b1",
   "metadata": {},
   "source": [
    "# NBA Mock Draft"
   ]
  },
  {
   "cell_type": "markdown",
   "id": "fd22bbd0-7edc-4754-814b-ea372b40ced6",
   "metadata": {},
   "source": [
    "Here is my mock draft for the NBA. I'll be doing this draft as if I were the GM of the team and drafting based on the team. I will be adding trades to this draft and having trades happen in this draft. With that being said, I have a long way to go, so let's get into it.\n",
    "\n",
    "*Note: A lot of trades just went down, and some changes might need to be made here."
   ]
  },
  {
   "cell_type": "markdown",
   "id": "a4caf2ef-4b74-4278-b016-354c56d01e45",
   "metadata": {},
   "source": [
    "## 1. Dallas Mavericks - Cooper Flagg, Duke"
   ]
  },
  {
   "cell_type": "markdown",
   "id": "73050bf0-11e5-4e24-a99d-b221b8646848",
   "metadata": {},
   "source": [
    "The most surefire thing is Flagg going one to the Mavericks. He has the ability to be a top 2-way player in the league and has shown improvement during his time at Duke. My only issue is that he likes to leave his feet on defense. While he recovers fine, the NBA is a different pace than the NCAA. We'll see how he is, but other than that, he's a great prospect and slots in perfectly with the Mavericks"
   ]
  },
  {
   "cell_type": "markdown",
   "id": "5abb9594-537c-4331-84f0-cba4e2d43190",
   "metadata": {},
   "source": [
    "## 2. San Antonio Spurs - Dylan Harper, Rutgers"
   ]
  },
  {
   "cell_type": "markdown",
   "id": "cf660ce7-549f-4a32-88f1-86703b5c8220",
   "metadata": {},
   "source": [
    "Another surefire thing in this draft is Harper going to the Spurs. A great offensive player with solid defensive skills makes him one of the best products in this draft. A slasher who can shoot with a solid defensive game makes him one of the best players in this draft and would be the first pick in most drafts if someone like Flagg is in it. Great selection for the Spurs."
   ]
  },
  {
   "cell_type": "markdown",
   "id": "b1a1ab1c-f041-4c66-aa96-80392e9736bb",
   "metadata": {},
   "source": [
    "## 3. Philadelphia 76ers - Kon Knueppel, Duke"
   ]
  },
  {
   "cell_type": "markdown",
   "id": "77c78a63-e5bf-4a16-afbd-979fb2cd9679",
   "metadata": {},
   "source": [
    "Now we get to the interesting part of the draft. If the Sixers are serious about building around PG and Embiid, then Knueppel is the best option for that team. The most \"finished\" product in this draft, the Sixers need to look to complement what they have and not build a 2 timeline that picking Ace Bailey would be. You want someone to compete right now, and that's Kon. He has the shot and he has the ability to create an open shot. The Sixers' defense will be nasty, but they can have a great shooter to take the load off Maxey, Embiid, and PG."
   ]
  },
  {
   "cell_type": "markdown",
   "id": "a711996d-78ca-4624-93dd-3567b6f4c023",
   "metadata": {},
   "source": [
    "## 4. Charlotte Hornets - VJ Edgecombe, Baylor"
   ]
  },
  {
   "cell_type": "markdown",
   "id": "42b02b47-a013-4242-bf1e-e36161b6a6c8",
   "metadata": {},
   "source": [
    "Edgecombe is the most athletic player in this draft. He has a solid 2-way ability and is one of the better defenders in the draft. While he can work on his shooting, he brings a lot of defense and slashing ability to the Hornets. He looks to fit well with LaMelo in the backcourt, so I believe this would be a great pick for the Hornets."
   ]
  },
  {
   "cell_type": "markdown",
   "id": "d9b6a781-f73b-4fb0-8c2d-743647943be0",
   "metadata": {},
   "source": [
    "## 5. Utah Jazz - Tre Johnson, Texas"
   ]
  },
  {
   "cell_type": "markdown",
   "id": "d0a4feab-1459-45a8-990a-ae711e28a1ae",
   "metadata": {},
   "source": [
    "A true bucket-getter. Johnson is one of the best shooters in the draft, if not the best. While the Jazz may be interested in the potential of Bailey, I don't think that they will take that shot just yet. Clarkson and Sexton will be moved during this season, and nailing on a great shooter is what the Jazz should look for after dropping from the top odds. While I don't think Johnson is the piece to take Utah to the next level, he's a necessary piece to be part of that transition."
   ]
  },
  {
   "cell_type": "markdown",
   "id": "7f7cb3cb-791b-40d1-8006-4a6dca66a1e0",
   "metadata": {},
   "source": [
    "## 6. Washington Wizards - Ace Bailey, Rutgers"
   ]
  },
  {
   "cell_type": "markdown",
   "id": "37b2add5-eb74-4ea0-95b5-3963e9c72632",
   "metadata": {},
   "source": [
    "The biggest boom-bust in this draft. Ace Bailey is the type of player who could be the best in this draft, or he may flame out as quickly as he enters the league. I think the Wizards pull the trigger. I understand he's trying to force his way to the Nets, and we may see a trade with the Nets here, but I don't think the Wizards do it as they need just as much help as the Nets, if not more. He has the shot, but his IQ is awful. We'll see if he fixes it, but the Wizards are one of the best landing spots, as I think Poole gets moved this season as well, opening up minutes for Bailey and Coulibaly. \n",
    "\n",
    "Note: Well, I predicted a Poole trade, but I wasn't expecting it a few hours later. This more than solidifies this selection for the Wizards, though, nothing much else to think about here."
   ]
  },
  {
   "cell_type": "markdown",
   "id": "3cc8a2ff-9e41-4ed1-82eb-713fca0b99d7",
   "metadata": {},
   "source": [
    "## 7. New Orleans Pelicans - Kasparas Jakucionis, Illinois"
   ]
  },
  {
   "cell_type": "markdown",
   "id": "00f021e7-6222-4cd4-9391-85151af2055a",
   "metadata": {},
   "source": [
    "With McCollum expected to leave after this season, the Pelicans are in need of a guard to fill in. Kasparas is the best guard at the moment for this selection unless we see a trade-down scenario. I don't think many teams are looking at this spot heavily or have the assets, so the Pelicans make the selection for Kasparas. He's a solid scoring first guard with playmaking ability. He has the potential to be a good NBA guard; he just needs to work on his off-ball defense, some of the worst I've seen in the lottery for this draft. I think he fits nicely with Zion and Trey Murphy.\n",
    "\n",
    "Note: Well, the Pelicans got Poole. I don't think that move changes this selection. You can argue some big men depth, but the Pelicans can still use guard depth, especially with Murray being out for half the season. I still would do this selection if I were the Pelicans."
   ]
  },
  {
   "cell_type": "markdown",
   "id": "c65cdbee-0cfe-4b96-b02b-5ff4c65ed9f9",
   "metadata": {},
   "source": [
    "## 8. Brooklyn Nets - Collin Murray-Boyles, South Carolina"
   ]
  },
  {
   "cell_type": "markdown",
   "id": "0563d646-97f1-4bb8-96ed-53fdddbbfc34",
   "metadata": {},
   "source": [
    "Another higher-floor player in this draft, Murray-Boyles, is probably the best defender in this draft. A pure tanky Forward of the likes of Draymond, he's a franchise cornerstone that any team would love to have. While a high-floor player seems unappealing to the Nets, I think Murray-Boyles brings enough of a needed skill to be passed on in this scenario. He would fit well at the beginning of the Nets' rebuild.\n",
    "\n",
    "Note: The Nets made a trade, but that doesn't change this selection either. They have a lot of positional needs and open spots. I don't think the other 7 teams are open to going down, so the Nets are stuck in this position at the moment."
   ]
  },
  {
   "cell_type": "markdown",
   "id": "75623137-fd8c-44e5-a022-c20806362417",
   "metadata": {},
   "source": [
    "## 9. San Antonio Spurs (via Toronto) - Carter Bryant, Arizona"
   ]
  },
  {
   "cell_type": "markdown",
   "id": "d70ecc06-0b17-4c19-8993-3bc17567db0c",
   "metadata": {},
   "source": [
    "I see a massive trade here. San Antonio gives up Vassell, 14, 39, and 2 future firsts for Barrett and 9. This fits a need for both teams, and I believe the Spurs need to give up some of their guard depth for a new win. Barrett is that, and they move up in the draft. They select Carter Bryant here. A prototypical 3-and-D player, the Spurs need to have a solid win-now player with whom they get Bryant. He's the perfect player to fit the Spurs at the moment and worth the move up of 5 sports, huge win-now moves for both teams."
   ]
  },
  {
   "cell_type": "markdown",
   "id": "105819a2-e7cc-4c5f-9262-93ca0619bbcf",
   "metadata": {},
   "source": [
    "## 10. Oklahoma City Thunder (via Phoenix) - Khaman Maluach, Duke"
   ]
  },
  {
   "cell_type": "markdown",
   "id": "0e06494e-5f47-4cf3-bf47-31814e7df2bb",
   "metadata": {},
   "source": [
    "I see another trade here. The Thunder would trade 15, 24, and 44 from the Thunder for the 10th overall pick in this scenario. The Thunder don't have roster space to hold their picks, so the only team that would be interested in this trade down is the Suns, as they need to fill roster space on their team. It's an overpay, but the Thunder need to do it as they can't hold their own players. Khaman is the perfect selection for them. He needs to develop, and the Thunder is a great team for him to do that. They have the starters but need to prepare for when they need to move Hartenstein. Maluach can hopefully fill that void, and he goes to a winning team. The best selection for him. "
   ]
  },
  {
   "cell_type": "markdown",
   "id": "c090b665-c4d3-4628-8632-d355b2ee3b8a",
   "metadata": {},
   "source": [
    "## 11. Atlanta Hawks (via Portland) - Derik Queen, Maryland"
   ]
  },
  {
   "cell_type": "markdown",
   "id": "9a0ea6d5-dea8-45b6-b0cf-aa3bd13446fa",
   "metadata": {},
   "source": [
    "The Hawks would trade their 13th pick and 2 future seconds to move up to 11 and grab Derik Queen. The Hawks are in need of another big and would move up to get a great offensive big in Queen. He's a strong, offensive-minded big man who would lack heavily on the defensive end of the court, but brings an offensive spark that the Hawks could be looking for in a new Center after moving from Capela. Great selection here for the Hawks."
   ]
  },
  {
   "cell_type": "markdown",
   "id": "e0def294-d460-41d7-880d-ea9c6410da91",
   "metadata": {},
   "source": [
    "## 12. Golden State Warriors (via Chicago) - Cedric Coward, Washington State"
   ]
  },
  {
   "cell_type": "markdown",
   "id": "5a795fb3-298d-4b95-8d93-fb20fc101eff",
   "metadata": {},
   "source": [
    "Another trade I see is between Golden State and Chicago. Chicago gets Moody, Jackson-Davis, filler, 2026 first, 2027 swap, and 41 for Vucevic and 12. The Warriors get a lottery pick and a Center while the Bulls get a lot. Moody is essentially the 12th pick, and the rest is for an expiring Vucevic. They might pull a protected 2028 instead of the 2027 swap, but I don't think the Warriors pull that trigger. Cedric is perfect for the Warriors. A large guard who can defend and shoot the ball. Going to a competing team is the best way to grow as a player and show their high floor. The Warriors would be happy to get an impactful 6th man in this draft right away while coming away with a Center."
   ]
  },
  {
   "cell_type": "markdown",
   "id": "2c988508-9ff2-4d74-b569-36ae47d8303a",
   "metadata": {},
   "source": [
    "## 13. Portland Trail Blazers (via Atlanta) - Noa Essengue, France"
   ]
  },
  {
   "cell_type": "markdown",
   "id": "411c029e-617b-41cf-a010-16161305d1af",
   "metadata": {},
   "source": [
    "The Blazers move down to get a prospect in Essengue. An athletic, raw talent in Essengue, the Blazers take a chance on Essengue to see try and develop behind Deni. He's still a raw prospect, and I don't think he'll be an immediate impact player for the Blazers, but that's not what the Blazers should be looking for. He can be a great player in the NBA if he develops."
   ]
  },
  {
   "cell_type": "markdown",
   "id": "fda5863e-3f5c-4d28-809c-0be246a415d0",
   "metadata": {},
   "source": [
    "## 14. Toronto Raptors (via San Antonio) - Joan Beringer, France"
   ]
  },
  {
   "cell_type": "markdown",
   "id": "44bea3ba-296d-4ef0-b9d9-efed78164656",
   "metadata": {},
   "source": [
    "One of the rawest projects in the draft. Beringer can turn into one of the best products of this draft. He is an athletic Center who has all of the tools to be a top big man, which the Raptors need in a backup. He has everything, but he needs to put it all together."
   ]
  },
  {
   "cell_type": "markdown",
   "id": "65dcf9e8-4b39-4c18-a0ee-cb8d6a74eb50",
   "metadata": {},
   "source": [
    "## 15. Phoenix Suns (via Oklahoma City) - Danny Wolf, Michigan"
   ]
  },
  {
   "cell_type": "markdown",
   "id": "3392362e-3683-436d-a64e-6b67a40075f2",
   "metadata": {},
   "source": [
    "The Suns need a lot of things. One of their massive needs is a Center. Danny Wolf can be that Center that the Suns want. He has solid playmaking and great footwork. He's good around the rim, and that's it, though. I don't see him being a stretch big in the league, and thus the Suns would still like to go and seek that."
   ]
  },
  {
   "cell_type": "markdown",
   "id": "6e3854b0-6ba2-4073-abc6-abdbc6249367",
   "metadata": {},
   "source": [
    "## 16. Memphis Grizzlies - Thomas Sorber, Georgetown"
   ]
  },
  {
   "cell_type": "markdown",
   "id": "a3939326-00fa-4f20-a612-0dbf8dc1000d",
   "metadata": {},
   "source": [
    "The Grizzlies draft another big. However, they need some help at the PF position, and Sorber is like JJJ in that he's flexible to play both the 4 and 5. Sorber is a talented player with some injury issues. He's a solid 2-way player who can defend around the perimeter. He may lack rim protection, however, going to Memphis would allow him to develop at the 4, where I think he would fit the best. If he can work on his shot and stay healthy, the Grizzlies got a steal at 16."
   ]
  },
  {
   "cell_type": "markdown",
   "id": "58d4117d-c266-414e-9a84-349553e30166",
   "metadata": {},
   "source": [
    "## 17. Minnesota Timberwolves - Jase Richardson, Michigan State"
   ]
  },
  {
   "cell_type": "markdown",
   "id": "05fd8ca3-9096-4632-b0b5-ceec7642c722",
   "metadata": {},
   "source": [
    "The Timberwolves are in need of a Point Guard. While I believe that Fears can be a solid pick, Richardson fits Minnesota a lot better. While he is undersized by NBA standards, he plays with some of the most heart I have ever seen in a prospect. He has all of the intangibles that I would love to have in a PG. His defense, shooting, playmaking, and strength. If he were 3 inches taller, he would be a top 5 pick in this draft. He is a great player for the Wolves. He's unselfish with the ball, but can make a shot if needed, which is perfect for this Minnesota team. He's a great fit for Minnesota."
   ]
  },
  {
   "cell_type": "markdown",
   "id": "ebe9387e-635f-4431-97a7-a2568eadd37a",
   "metadata": {},
   "source": [
    "## 18. Washinton Wizards - Jeremiah Fears, Oklahoma"
   ]
  },
  {
   "cell_type": "markdown",
   "id": "bfebc525-3ab4-4b53-9f87-f399f3590cf7",
   "metadata": {},
   "source": [
    "After sliding down the board a bit, the Wizards will take another shot at a dropping talent. Fears is the selection here. An athletic, playmaking guard who has great potential, the Wizards give him a chance to show what he's got. While he has a lot of the ability to be an NBA star, he just needs to polish it all up. He's not the strongest, and he can be too fast for his own good. He needs to develop as an NBA player first and go from there."
   ]
  },
  {
   "cell_type": "markdown",
   "id": "8399bfd6-11c8-482f-aff6-c45cd5970f3c",
   "metadata": {},
   "source": [
    "## 19. Brooklyn Nets - Walter Clayton Jr. - Florida"
   ]
  },
  {
   "cell_type": "markdown",
   "id": "dbe4063f-8e11-4f03-834c-965ff0b25278",
   "metadata": {},
   "source": [
    "The Nets stay at 19 and will pick Walter Clayton Jr. out of Florida. A player who came in the first round scene through the NCAA tournament, the Nets would take a chance on the National Champion. While he's on the older side of things, so his ceiling is more limited, he has the skills of a pure shooting Point Guard. A great player for the Nets to have, he will go to Brooklyn at 19. "
   ]
  },
  {
   "cell_type": "markdown",
   "id": "62c3a925-2970-43f9-be55-1e10e1e6067c",
   "metadata": {},
   "source": [
    "## 20. Miami Heat - Egor Demin, BYU"
   ]
  },
  {
   "cell_type": "markdown",
   "id": "5595b33a-d1cb-4202-9473-8b855123414c",
   "metadata": {},
   "source": [
    "The Heat would look for some backcourt help and land on Demin. Demin is a sharpshooting combo-guard who can look to play the 1 or 2. He would complement nicely with Davion Mitchell in the backcourt, and can play off of Herro when he's on the court. Demin lacks a lot of athleticism for on-ball defense but that can be shored up with the help the Heat have around him."
   ]
  },
  {
   "cell_type": "markdown",
   "id": "f4365e12-9a21-461f-b98c-1ef05bada1a9",
   "metadata": {},
   "source": [
    "## 21. Memphis Grizzlies (via Utah, via Golden State) - Liam McNeeley, UConn"
   ]
  },
  {
   "cell_type": "markdown",
   "id": "f3416973-1eb9-4f0a-94f1-afa89c57d445",
   "metadata": {},
   "source": [
    "The Grizzlies trade for another pick in this draft with the Jazz. I see a future lottery-protected pick or 2 of the Magic's picks they got from the Bane trade. I don't see the Jazz picking again in this draft unless they trade someone, but I can't see that happening at the moment. I may be wrong, but they have a solid thing going; they can get more assets and make trades after the draft to help them out in areas of need. The Grizzlies more in to grab McNeeley. A 3-pointer specialist that creates great spacing needed for this Grizzlies team, he would fit in with what Memphis wants. He just needs to get better defensively and athletically, and they can go from there."
   ]
  },
  {
   "cell_type": "markdown",
   "id": "a36edad7-4b23-4770-a856-731df4f22214",
   "metadata": {},
   "source": [
    "## 22. Brooklyn Nets - Noah Penda, France"
   ]
  },
  {
   "cell_type": "markdown",
   "id": "37186e94-f861-4b4a-90f7-4751b49deee8",
   "metadata": {},
   "source": [
    "The Nets select a great defensive wing to add to their team. Penda is what you want to see in an athletic wing. Quick and a great off-ball defender, the Nets look to bank on defense in this draft. If Penda can figure out his offensive game for the NBA level, he can be looked back on as a steal at this position in the draft.\n",
    "\n",
    "Note: The trade went down before I did this so I knew Brooklyn was here for a while now."
   ]
  },
  {
   "cell_type": "markdown",
   "id": "9cee66f2-f2f1-4f61-b50c-f35ac2e5e6a4",
   "metadata": {},
   "source": [
    "## 23. New Orleans Pelicans - Ryan Kalkbrenner, Creighton"
   ]
  },
  {
   "cell_type": "markdown",
   "id": "d714315a-8670-487c-86d6-98954d681d47",
   "metadata": {},
   "source": [
    "The Pelicans get some much-needed big man depth in Kalkbrenner. A rim protecting big that could have some impact in the post, Kalkbrenner would fit well on this New Orleans team. He and Missi can come in and out of the lineup and provide that protection at the rim. I do feel like he can fit in with Zion as well, with Zion stretching the floor with Kalkbrenner at the rim. This would be a nice selection for the Pelicans."
   ]
  },
  {
   "cell_type": "markdown",
   "id": "5eeca395-e16a-40e4-af27-8b8107e57ab7",
   "metadata": {},
   "source": [
    "## 24. Brooklyn Nets (via Phoenix, via Oklahoma City, via LAC) - Nolan Traore, France"
   ]
  },
  {
   "cell_type": "markdown",
   "id": "9caee0cc-9670-443d-885b-29d53823ce65",
   "metadata": {},
   "source": [
    "Everyone is speculating that the Nets are hoping to move up with all of the picks they have in this round, but I don't buy it. They make this one move so the Suns can get 2 more first-round picks later in this draft while giving up the 44th pick as well in this draft. The Nets take a swing at Traore. At one time seen as a top 5 selection in this draft, Traore dropped further than what was expected. He's not an efficient scorer, and you can hope he gets back into his old ways. The Nets make this pick hoping he can show the domination he showed a year ago."
   ]
  },
  {
   "cell_type": "markdown",
   "id": "49f31718-a752-49bb-935c-bcedeeebddb8",
   "metadata": {},
   "source": [
    "## 25. Orlando Magic - Will Riley, Illinois"
   ]
  },
  {
   "cell_type": "markdown",
   "id": "a7b804eb-f0a3-4824-adbe-8e90ba04a869",
   "metadata": {},
   "source": [
    "The Magic still needs shooters. While I get that Desmond Bane is a step up from what they had before, Riley can fill that need coming off the bench. He's a tall SG/SF who is able to pull up from anywhere and make a basket. He provides the spacing that the Magic need and can be a threat height-wise to other SGs in the league. With that being said, his on-ball defense isn't great, and his off-ball is mediocre at best. If he can fix that, he's a quintessential 3-and-D player in the league."
   ]
  },
  {
   "cell_type": "markdown",
   "id": "d9c92a42-824c-4b1e-af40-1be8492264bf",
   "metadata": {},
   "source": [
    "## 26. Boston Celtics (via Phoenix, via Brooklyn, via New York) - Hugo Gonzalez, Spain"
   ]
  },
  {
   "cell_type": "markdown",
   "id": "e03b13c4-f524-4307-bde4-359112569f39",
   "metadata": {},
   "source": [
    "The Celtics trade 28 and 32 to move up to 26. The Celtics would pick Hugo Gonzalez at this pick, a high-motor SF who still needs to develop his offensive game but was a lock-down defender on the other end of the court. He can fit well with what Boston has got going and try to complement their scorers while he develops his own scoring."
   ]
  },
  {
   "cell_type": "markdown",
   "id": "3afd69ba-d767-4203-9df2-86a2529ed84c",
   "metadata": {},
   "source": [
    "## 27. Minnesota Timberwolves (via Phoenix, via Brooklyn, via Houston) - Nique Clifford, Colorado State"
   ]
  },
  {
   "cell_type": "markdown",
   "id": "577958d2-8715-4406-a03b-7b500b494042",
   "metadata": {},
   "source": [
    "The Timberwolves would give a pick swap in 2028 and the 31st overall pick to make this trade with Phoenix. While Phoenix may lose value as the swap may not convey (tough to say for sure for both teams) but having more seconds isn't bad for a team like Phoenix, which is well above the second apron, and second-rounders are cheap deals that fill out the roster. I like Nique Clifford in Minnesota. A solid 2-way wing that is on the older side of the draft, he would fit the scheme in Minnesota well. Able to play good defense and able to hit shots from most places, the T-Wolves get a great win-now player in Nique Clifford."
   ]
  },
  {
   "cell_type": "markdown",
   "id": "1275e74c-5cdf-43f3-a125-83ec033b2aa0",
   "metadata": {},
   "source": [
    "## 28. Phoenix Suns (via Boston) - Ben Saraf, Israel"
   ]
  },
  {
   "cell_type": "markdown",
   "id": "248df871-3993-4703-a248-7ac0296d2a9f",
   "metadata": {},
   "source": [
    "The Suns look to add a Point Guard in the draft to go along with the deal of SGs and SFs they already have. He has great playmaking ability and is able to create good shots for those around him. If he can get better at his ball-handling, the Suns could have a solid PG for the future."
   ]
  },
  {
   "cell_type": "markdown",
   "id": "b5ae9058-39eb-49ef-b27a-e8fb6bb690f2",
   "metadata": {},
   "source": [
    "## 29. Phoenix Suns - Asa Newell, Georgia"
   ]
  },
  {
   "cell_type": "markdown",
   "id": "9f3b73e4-74d6-426c-87d5-6ec4d73c1a1f",
   "metadata": {},
   "source": [
    "A great defensive cornerstone that the Suns would look to have on their team, Newell is a great piece for the new identity that the Suns would look to add to. If he can develop a somewhat mediocre offensive game, the Suns got a steal at 29. He has it on the defensive end, just needs to figure it out on the offensive end."
   ]
  },
  {
   "cell_type": "markdown",
   "id": "0fb7acbb-3add-4fb1-b834-82c85fb2cca4",
   "metadata": {},
   "source": [
    "## 30. Los Angeles Clippers - Adou Thiero, Arkansas"
   ]
  },
  {
   "cell_type": "markdown",
   "id": "5e660622-7e69-495f-ba64-3560399ef761",
   "metadata": {},
   "source": [
    "The Clippers would look to build around what they have already. The Clippers need to add more defensive strength to the frontcourt, and Thiero brings that for them. I don't think he has much potential, but that doesn't mean he's not great, especially for a team like the Clippers. He's not a sexy name, but he's necessary for a team that already has the offensive game and just needs to add to the defense."
   ]
  },
  {
   "cell_type": "markdown",
   "id": "6ba2733b-546e-4903-b8f7-8e9c36b80b29",
   "metadata": {},
   "source": [
    "# Round 2"
   ]
  },
  {
   "cell_type": "markdown",
   "id": "8f823402-fcd1-4164-834f-817b84873a9c",
   "metadata": {},
   "source": [
    "Here I will only write a sentence or 2 if a trade that wasn't mentioned before happens. That's it for these prospects."
   ]
  },
  {
   "cell_type": "markdown",
   "id": "582d4d6c-1cbb-4e2c-9572-7ee36947641a",
   "metadata": {},
   "source": [
    "## 31. Phoenix Suns (via Minnesota, via Utah) - Maxime Raynaud, Stanford"
   ]
  },
  {
   "cell_type": "markdown",
   "id": "820524f4-2801-46c7-9b36-15e95ddf2b15",
   "metadata": {},
   "source": [
    "A great potential stretch big that can hopefully develop more in Phoenix. Needs to work on his shooting form."
   ]
  },
  {
   "cell_type": "markdown",
   "id": "e7bb9a94-2fdf-4e29-9632-70f66294e976",
   "metadata": {},
   "source": [
    "## 32. Phoenix Suns (via Boston, via Washington) - Rasheer Fleming, St Joe's"
   ]
  },
  {
   "cell_type": "markdown",
   "id": "215c9ab8-fa23-4d1a-8986-47cec668e9f7",
   "metadata": {},
   "source": [
    "A solid 3-and-D who needs to prove that he can play up to the NBA talent after somewhat struggling in the weak A-10."
   ]
  },
  {
   "cell_type": "markdown",
   "id": "f6d20ae2-ca05-4e54-b397-538db69d8a5a",
   "metadata": {},
   "source": [
    "## 33. Charlotte Hornets - Kam Jones, Marquette"
   ]
  },
  {
   "cell_type": "markdown",
   "id": "c099a906-ed38-4858-8af0-351590f0abec",
   "metadata": {},
   "source": [
    "A plug and play PG who is who he is. Can make shots and play ball, maybe he can show more, but he might be what he is."
   ]
  },
  {
   "cell_type": "markdown",
   "id": "eb5f477c-65f9-4fef-b982-b392a1e482b9",
   "metadata": {},
   "source": [
    "## 34. Sacramento Kings (via Charlotte, via New Orleans) - Tyrese Proctor, Duke"
   ]
  },
  {
   "cell_type": "markdown",
   "id": "e588481f-b480-4441-85bf-be76924c84d2",
   "metadata": {},
   "source": [
    "Sacramento trades back Charlotte's second-round pick for next season for this pick. The Kings take a PG in Proctor showed he can be a connceting piece and that's what he'll do in Sac-town."
   ]
  },
  {
   "cell_type": "markdown",
   "id": "e7cbd175-b69c-4609-9b57-0c94dc9cb615",
   "metadata": {},
   "source": [
    "## 35. New York Knicks (via Philadelphia) - Drake Powell, North Carolina"
   ]
  },
  {
   "cell_type": "markdown",
   "id": "ad51e478-3d1b-439d-9d23-a2273aec7e3d",
   "metadata": {},
   "source": [
    "New York trades 50 and 2 future seconds to move up to 35 and pick Powell. A solid two-way player to have coming off the bench that is able to defend and needs a little work on scoring."
   ]
  },
  {
   "cell_type": "markdown",
   "id": "e0a85f80-44cc-45fe-9b10-d86f6fb8a008",
   "metadata": {},
   "source": [
    "## 36. Indiana Pacers (via Brooklyn) - John Tonje, Wisconsin"
   ]
  },
  {
   "cell_type": "markdown",
   "id": "26e92061-3fd2-4adf-8ec9-23e64c9788e2",
   "metadata": {},
   "source": [
    "Indiana trades 36 for 54 and 2 future seconds, and the Pacers get Tonje. A pro-ready, high-floor, low-ceiling shooter who has solid defensive ability but needs to work on his speed and athleticism."
   ]
  },
  {
   "cell_type": "markdown",
   "id": "7abb9799-a52c-485e-9cc3-5b030a0a5be6",
   "metadata": {},
   "source": [
    "## 37. Detroit Pistons - Johni Broome, Auburn"
   ]
  },
  {
   "cell_type": "markdown",
   "id": "b56a2b29-9084-409c-a615-0a0b9b2e5a47",
   "metadata": {},
   "source": [
    "Detroit gets a solid defender here in Broome, and see if they can make him a good post protector and catch him to speed."
   ]
  },
  {
   "cell_type": "markdown",
   "id": "82e80b9d-009b-4b87-94ad-216e95e1b5f6",
   "metadata": {},
   "source": [
    "## 38. Toronto Raptors (via San Antonio) - Alex Toohey, Australia"
   ]
  },
  {
   "cell_type": "markdown",
   "id": "a6625247-5e98-41bb-aba0-0c1a91995b0e",
   "metadata": {},
   "source": [
    "A solid wing that looks to be a decent scorer and ok on the defensive end of the court."
   ]
  },
  {
   "cell_type": "markdown",
   "id": "acc17c1f-6c9b-4f7d-a321-3e01bf5b8a10",
   "metadata": {},
   "source": [
    "## 39. Toronto Raptors - Bogoljob Markovic - Serbia"
   ]
  },
  {
   "cell_type": "markdown",
   "id": "254f74f1-444c-4097-b98f-5e82bab68af6",
   "metadata": {},
   "source": [
    "A solid spacer who can shoot. Would need to work a good deal on the defensive side of the ball."
   ]
  },
  {
   "cell_type": "markdown",
   "id": "2a09a61f-b08f-4ec4-82e7-157e34a66948",
   "metadata": {},
   "source": [
    "## 40. Los Angeles Lakers (via New Orleans, via Washington) - Alijah Martin, Florida"
   ]
  },
  {
   "cell_type": "markdown",
   "id": "60158705-07d8-4ac9-89d2-8ffc5b5d7f6c",
   "metadata": {},
   "source": [
    "Lakers trade 55 and 2 future seconds to move to 40. They need another shooter off the bench, and Martin can bring that to them."
   ]
  },
  {
   "cell_type": "markdown",
   "id": "bdff365b-9de1-4466-a892-af0c7ced6d6c",
   "metadata": {},
   "source": [
    "## 41. Chicago Bulls (via Golden State, via Miami) - Yanic Konan Niederhauser, Penn State"
   ]
  },
  {
   "cell_type": "markdown",
   "id": "f101907e-231b-436d-9383-41a4ed3ab7ec",
   "metadata": {},
   "source": [
    "A late bloomer who can look to put it all together on both ends of the court. He has pretty good potential if it all comes together."
   ]
  },
  {
   "cell_type": "markdown",
   "id": "77070714-5d60-4bd2-a4bf-5b359d32ee4b",
   "metadata": {},
   "source": [
    "## 42. Sacramento Kings - Sion James, Duke"
   ]
  },
  {
   "cell_type": "markdown",
   "id": "98a709d9-61bf-4019-b258-8423de31391e",
   "metadata": {},
   "source": [
    "A bruiser who can shoot, the Kings look to add a bench player who can bring intensity on the court. It would work well with what the Kings are building."
   ]
  },
  {
   "cell_type": "markdown",
   "id": "1383c094-8f96-475f-a964-17ff783ed6c9",
   "metadata": {},
   "source": [
    "## 43. Portland Trail Blazers (via Utah, via Dallas) - Brice Williams, Nebraska"
   ]
  },
  {
   "cell_type": "markdown",
   "id": "f80dba7e-0904-4cfd-b01d-a02917f5b367",
   "metadata": {},
   "source": [
    "Blazers trade 2 future seconds to come into the draft at 43 and pick Williams, a solid offensive piece that needs to work on athleticism and on the defensive side of the ball."
   ]
  },
  {
   "cell_type": "markdown",
   "id": "5fa71334-e1ca-42a4-9ca6-b8d08e07eb34",
   "metadata": {},
   "source": [
    "## 44. Brooklyn Nets (via Phoenix, via OKC) - Brooks Barnhizer, Northwestern"
   ]
  },
  {
   "cell_type": "markdown",
   "id": "48d8c210-5d8e-4cbb-8a2b-62e1625fa458",
   "metadata": {},
   "source": [
    "A sharpshooting wing that would draw interest in the mid second due to age and defensive ability. "
   ]
  },
  {
   "cell_type": "markdown",
   "id": "ccd0bb56-4474-48f7-a6ad-14748d247247",
   "metadata": {},
   "source": [
    "## 45. Chicago Bulls - Max Shulga, VCU"
   ]
  },
  {
   "cell_type": "markdown",
   "id": "1834e2a7-e761-4073-850b-135c023db0cc",
   "metadata": {},
   "source": [
    "A nice catch and shoot guard that needs to get stronger and more athletic with the ball and on defense."
   ]
  },
  {
   "cell_type": "markdown",
   "id": "f5182c80-2d32-4330-9d97-4753e5f50111",
   "metadata": {},
   "source": [
    "## 46. Dallas Mavericks (via Orlando)  - Chaz Lanier, Tennessee"
   ]
  },
  {
   "cell_type": "markdown",
   "id": "b4d15de4-f5c7-4e19-9fde-b3f8b754bab8",
   "metadata": {},
   "source": [
    "Dallas trades 2 protected seconds for this move. A catch-and-shoot guard who lacks both the height of a 2 and defensive ability on the court."
   ]
  },
  {
   "cell_type": "markdown",
   "id": "27a753e6-5ae0-47cd-9cfb-3b3144c601cc",
   "metadata": {},
   "source": [
    "## 47. Milwaukee Bucks - Micah Peavy, Georgetown"
   ]
  },
  {
   "cell_type": "markdown",
   "id": "b1d05c3e-4247-41fe-bdce-6348920f5003",
   "metadata": {},
   "source": [
    "A long athletic wing who can play some lockdown defense, who needs to work heavily on his shot."
   ]
  },
  {
   "cell_type": "markdown",
   "id": "1645b969-184d-4fa0-bd0f-d83dd2174c1c",
   "metadata": {},
   "source": [
    "## 48. Memphis Grizzlies - Jamir Watkins, Florida State"
   ]
  },
  {
   "cell_type": "markdown",
   "id": "5d7715df-3204-4353-9d2f-db787a1f4430",
   "metadata": {},
   "source": [
    "Like Peavy drafted before him, a long defensive wing who needs to work on his offensive game."
   ]
  },
  {
   "cell_type": "markdown",
   "id": "3219b339-22f0-4c33-8fc5-d0a30fde3767",
   "metadata": {},
   "source": [
    "## 49. Cleveland Cavaliers - Hansen Yang, China"
   ]
  },
  {
   "cell_type": "markdown",
   "id": "8edeae39-20c5-4168-998e-20ef47d29ab0",
   "metadata": {},
   "source": [
    "An interesting prospect who needs to get up to speed with the NBA."
   ]
  },
  {
   "cell_type": "markdown",
   "id": "5262bfcb-a945-44e2-a774-17afbe1b1bc6",
   "metadata": {},
   "source": [
    "## 50. Philadelphia 76ers (via New York) - Rocco Zikarsky, Australia"
   ]
  },
  {
   "cell_type": "markdown",
   "id": "6fd4ea79-cac5-43c4-ad68-f6c2647e3c0f",
   "metadata": {},
   "source": [
    "A shot blocking big who is raw and injury-prone but with the size to make a difference on defense."
   ]
  },
  {
   "cell_type": "markdown",
   "id": "749d038f-11c2-4281-8644-fe893dd91292",
   "metadata": {},
   "source": [
    "## 51. Los Angeles Clippers - Vladislav Goldin, Michigan"
   ]
  },
  {
   "cell_type": "markdown",
   "id": "eff148a5-22e3-4ef1-9c11-54c0c034d8a6",
   "metadata": {},
   "source": [
    "An offensive machine that is very slow and a bad rebounder for his size, could be something if he develops."
   ]
  },
  {
   "cell_type": "markdown",
   "id": "8e6eda35-75fa-479c-b1fe-8c0a7945f572",
   "metadata": {},
   "source": [
    "## 52. Phoenix Suns - Hunter Sallis, Wake Forest"
   ]
  },
  {
   "cell_type": "markdown",
   "id": "2d7ae337-428b-4e99-8181-258f750e4a35",
   "metadata": {},
   "source": [
    "Sallis has flashes of solid ability on both ends, but is inconsistent and is still raw for someone at his age."
   ]
  },
  {
   "cell_type": "markdown",
   "id": "5f7b9b46-997a-4931-89a7-9719582e3065",
   "metadata": {},
   "source": [
    "## 53. Golden State Warriors (via Utah, via LAC) - Koby Brea, Kentucky"
   ]
  },
  {
   "cell_type": "markdown",
   "id": "0820104c-ab23-465c-937d-bb3c1b59b2c1",
   "metadata": {},
   "source": [
    "Golden State moves a future second to the Jazz and picks Brea, a one-dimensional pure shooter, to come off the bench."
   ]
  },
  {
   "cell_type": "markdown",
   "id": "5a39016b-64ab-4e4d-ac90-64b3355b0659",
   "metadata": {},
   "source": [
    "## 54. Houston Rockets (via Brooklyn, via Indiana) - Kobe Sanders, Nevada"
   ]
  },
  {
   "cell_type": "markdown",
   "id": "38e1c54d-aeb2-4178-bb7f-72e60d46d481",
   "metadata": {},
   "source": [
    "Rockets trade a future second to move into this draft. A solid combo guard that Houston is getting as is. Lacks in athleticism but makes up for it in IQ."
   ]
  },
  {
   "cell_type": "markdown",
   "id": "90956f33-87f6-429c-876c-d40565aef1ff",
   "metadata": {},
   "source": [
    "## 55. New Orleans Pelicans (via LAL) - Lachlan Olbrich, Australia"
   ]
  },
  {
   "cell_type": "markdown",
   "id": "a3cf8c88-8cf0-4afd-95b4-60d034b0bebe",
   "metadata": {},
   "source": [
    "A solid all-around player that you can hope to develop into a solid backup in the league. Lacks in athlectism but has a great style of play any team would want."
   ]
  },
  {
   "cell_type": "markdown",
   "id": "edfafe5a-7ede-4fd3-a8d3-a3633da5e780",
   "metadata": {},
   "source": [
    "## 57. Denver Nuggets (via Memphis, via Houston) - Dylan Cardwell, Auburn"
   ]
  },
  {
   "cell_type": "markdown",
   "id": "411a5325-e694-481f-9931-bec96d3a5536",
   "metadata": {},
   "source": [
    "Future second traded, Nuggets move in to try front court depth and Cardwell brings a solid defensive anchor."
   ]
  },
  {
   "cell_type": "markdown",
   "id": "e6bcc900-ee7e-4e19-b18d-aba9b502d3da",
   "metadata": {},
   "source": [
    "## 58. Minnesota Timberwolves (via Orlando, via Boston) - RJ Luis Jr., St. John's"
   ]
  },
  {
   "cell_type": "markdown",
   "id": "d920a913-bd45-4360-b9c5-0a262773bd1e",
   "metadata": {},
   "source": [
    "A solid but not spectacular project in this draft, the Timberwolves would trade a future heavily protected second for this selection."
   ]
  },
  {
   "cell_type": "markdown",
   "id": "7f0560d1-1a40-48b2-80dc-76f6d5d6656c",
   "metadata": {},
   "source": [
    "## 59. Cleveland Cavaliers - Chucky Hepburn, Louisville"
   ]
  },
  {
   "cell_type": "markdown",
   "id": "9a3164c4-bd0c-4c24-a43d-f5aa7c151551",
   "metadata": {},
   "source": [
    "A strong defensive-minded guard who his undersized but can play up his ability. Streaky shooter."
   ]
  },
  {
   "cell_type": "markdown",
   "id": "b2703f79-e341-411a-94cf-735e789218f2",
   "metadata": {},
   "source": [
    "## 60. Denver Nuggets (via Phoenix, via OKC) - Eric Dixon, Villanova"
   ]
  },
  {
   "cell_type": "markdown",
   "id": "9706e36f-7739-4feb-898c-27b160f0e685",
   "metadata": {},
   "source": [
    "Solid offensive big that may struggle heavily on the defensive side of the ball. A future heavily protected second was used in this trade."
   ]
  }
 ],
 "metadata": {
  "kernelspec": {
   "display_name": "Python 3 (ipykernel)",
   "language": "python",
   "name": "python3"
  },
  "language_info": {
   "codemirror_mode": {
    "name": "ipython",
    "version": 3
   },
   "file_extension": ".py",
   "mimetype": "text/x-python",
   "name": "python",
   "nbconvert_exporter": "python",
   "pygments_lexer": "ipython3",
   "version": "3.10.12"
  }
 },
 "nbformat": 4,
 "nbformat_minor": 5
}
