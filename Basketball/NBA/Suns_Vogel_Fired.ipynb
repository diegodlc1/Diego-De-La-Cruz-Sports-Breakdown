{
 "cells": [
  {
   "cell_type": "markdown",
   "id": "a4415f4c-b6d9-4f73-a2f2-908bc8c09d2c",
   "metadata": {},
   "source": [
    "# Suns Fire Vogel, Hire Budenholzer, My thoughts #"
   ]
  },
  {
   "cell_type": "markdown",
   "id": "e4c7485e-151e-421c-b939-260c35053e74",
   "metadata": {},
   "source": [
    "The Suns have just fired Frank Vogel and hired Mike Budenholzer. This is a major shift for a contending team I believe that this would be a great subject to breakdown. I want to talk about why the Suns did this move, what Frank Vogel's next move should be, and my opinion on not only what the Suns should've done in this situation, but also what the Suns need to do in general."
   ]
  },
  {
   "cell_type": "markdown",
   "id": "faba52b1-7f1d-4255-9393-531bdec202c5",
   "metadata": {},
   "source": [
    "## Why Did the Suns do this? ##"
   ]
  },
  {
   "cell_type": "markdown",
   "id": "d63b2b54-6149-4c6e-bc1c-a1bfeb61a100",
   "metadata": {},
   "source": [
    "First things first, I'm not a beat writer. Not much is escaping the Suns front office with this move and we don't know whether it was either James Jones, Mat Ishbia, or both that made this call to fire Vogel. Based on the reports I believe that it was a mixture of the 2 that made this call, however, I'm not 100% confident so I will give 2 possible explanations. One where it was Ishbia or both and the other if it was just James Jones.\n",
    "\n",
    "If the decision was made by Ishbia (and Jones) then I believe that this is a short-term solution to try and satisfy a major problem the team is currently in. What I mean is that this decision was made by the owner (and Jones), with Ishibia guaranteeing Jones' job security for a few more years. This move was a way to satisfy the fans and the players at this moment in time and not think more about that. Jones agrees to this as Ishbia wanted this hire and will take accountability if this doesn't work out (maybe?). Ultimately this move was made to shut the fans and players up for the moment.\n",
    "\n",
    "If this was a Jones-only call then this is a hail mary attempt to try and keep his job for the next year. Vogel and the current squad peaked this year and there is pretty much no moves that Jones can do right now that will have the Suns get better. To try and keep his job past this year the best move was to fire Vogel and go for Bud. I think Bud is probably the best hire for the Suns team at the moment based on his resume. This would be the thinking that Jones may have if this was only his call.\n",
    "\n",
    "Ultimately I think that Bud was the best hire if they were going to fire Vogel, however, I believe that this wasn't the right decision for the long run."
   ]
  },
  {
   "cell_type": "markdown",
   "id": "5262fe38-aec1-4c44-a60d-aef931d2bea7",
   "metadata": {},
   "source": [
    "## Vogel's Future ##"
   ]
  },
  {
   "cell_type": "markdown",
   "id": "aeecccf9-ef64-4214-91ac-1a7a33d6c00b",
   "metadata": {},
   "source": [
    "I believe that Vogel is a great coach. With that being said I can see 2 paths for his career. He takes a head assistant coaching role for a contending team to try and build his reputation and resume to be able to take a contending team job in the future. The other path is to wait for a little bit and get hired by a young and/or rebuilding team to try and set the culture. \n",
    "\n",
    "Honestly, I can see him in 2 of the open roles in the NBA currently. I can see him taking the Washington Wizards job to try and set the culture and help rebuild that team to be a tough defensive team. I can also see him going back to the Lakers if LeBron were to leave. Now granted if Anthony Davis stays with the Lakers I believe that he is less likely, however, if LeBron leaves and the Lakers sell AD at probably the most value he will have for the rest of his career, the rebuilding Lakers and their fanbase will take him back and set the culture.\n",
    "\n",
    "I think Vogel can be a coach who can create a winning team in the current NBA meta. The meta is what the Knicks, Timberwolves, Thunder, and Celtics are doing. Having an All-Star and building a solid, tough team full of good defensive role players. Vogel can do that and I can see the Wizards taking him and/or the Lakers might make the push"
   ]
  },
  {
   "cell_type": "markdown",
   "id": "0c88f3a1-1344-4207-aa42-430c67a42622",
   "metadata": {},
   "source": [
    "## My Opinons on the Suns ##"
   ]
  },
  {
   "cell_type": "markdown",
   "id": "f8929210-866b-4d51-a596-9f8778432114",
   "metadata": {},
   "source": [
    "I have a lot of opinons on this situation. I'll break it down in 2 parts. The coaching change and my opinon on the team as a whole"
   ]
  },
  {
   "cell_type": "markdown",
   "id": "fbf8995a-ceb9-4c7b-8b26-c3ea7a97a7cd",
   "metadata": {},
   "source": [
    "From a coaching change standpoint, I believe that if you're going to hire someone in the current situation the Suns are in then Budenholzer is the best hire. He has the resume and he can win games during the season. I think he's bad at adjustments but honestly to buy back the locker room you need to have a veteran coach with a good resume to get the players back on board. However my issue is that Coach Bud is usually a good defensive coach and Booker can't play defense, KD lost his step post Achilles injury, and Beal has never been the defensive specialist. I think that the makeup of this current team with Bud won't succeed. In this case, Bud is a great hire. On the other hand, I believe that firing Vogel is a huge mistake that the Suns made and they made the wrong choice in siding with the players over siding with Vogel."
   ]
  },
  {
   "cell_type": "markdown",
   "id": "6225f378-6f4a-4b65-b960-53d948d66f0f",
   "metadata": {},
   "source": [
    "I believe that the Suns needed to cut their losses and accept that the current makeup of the team and the future capital of the league is terrible. What they should've done is keep Vogel, blow this team up, and rebuild. They may not have their best draft picks, or any, until 2031, however, they can start building a team to not be all that bad. There are 2 ways to go about it and it relies on if Bradley Beal waives his no-trade clause or not. I believe that he should and most likely will if the Suns blow it up. He is still getting paid a high wage no matter where he goes and I would rather go to a contending team if that's the case. He still has value for a contending team, he would just need to drop his no-trade clause to the team he is going to."
   ]
  },
  {
   "cell_type": "markdown",
   "id": "ac5e561c-c7d9-4cdf-9936-eb06f6801c70",
   "metadata": {},
   "source": [
    "I'm going to go at it from these 2 ways, if Beal stays or goes."
   ]
  },
  {
   "cell_type": "markdown",
   "id": "b2213d8f-15d7-4ab8-96d7-5e5c7557ee8b",
   "metadata": {},
   "source": [
    "First, if Beal stays. In this case, the Suns don't have much they can do. I believe that if Beal stays then this team will run it back and be at the most just as good as they were last year. In this case, Durant puts in a trade request and his trade value would be lower than if the Suns were to trade him this offseason. I believe that you have to trade KD this year first and see what can come out of it. I think that a young player, a solid salary filler that could be a bad contract in a year or 2, and 3 first-round picks (1 unprotected, 1 lottery-protected, and 1 top 10 or 5 protected) would be good coming from a contending team looking to make a push in KD's twilight years. I think that in this case, you could look at trading Booker, however, he is here until the 27-28 season, and if Beal stays then I don't think that you need to trade him."
   ]
  },
  {
   "cell_type": "markdown",
   "id": "f0ca6418-e551-4db3-808f-29e5b2f8afe1",
   "metadata": {},
   "source": [
    "Now if Beal leaves. I believe that you trade KD for the same value as above, trade out the one salary filler for another young player, or for another Lottery-protected first-round pick. You can trade Beal to a contending team for 2 bad contracts, a young player, and a lottery-protected/top 20-protected first-round pick. From this point, you can either keep or trade Booker. Trading Booker will get you a lot of capital. You can get a Paul George-type haul or a better Dejounte Murray haul. However, with Booker under contract until after the 28 season, I can see them keeping him and building around him to not make their draft pick lower than a high lottery pick."
   ]
  },
  {
   "cell_type": "markdown",
   "id": "43edda3e-4d65-410a-b135-04ba8068318f",
   "metadata": {},
   "source": [
    "At this point, Booker is at best a second option, KD is a second option, and Beal is at best a second option mostly a third option and in this case, you would have to try and find options for these trades.\n",
    "\n",
    "For Booker, 29 teams would try and trade for him. This is the trade I believe would get a high yield and honestly hard to predict. If he gets traded I can see all 29 teams asking for him, I see a contender with a lot of assets getting him. I'll say that the Thunder would be the team that gets him for Lu Dort, Giddey, and a combo of first-round picks.\n",
    "\n",
    "For KD, I see a contending team trying to make a push to grab him. I'm giving teams like the Mavs, Cavs, Magic, Knicks, Sixers, and possibly Pelicans the teams to look out for a KD trade.\n",
    "\n",
    "For Beal, there isn't too much of a market but if he waives his no-trade clause I can see a handful of teams making a move. Mostly the contending teams like the Nuggets, Bucks, Clippers, and Celtics make the move. I can also see a bad team take him to try and be the tank commander. The Jazz and Trail Blazers are the 2 teams that come to mind for that. Whatever team can make the offer of 2 bad contracts, a young player, and a draft pick would be the best outcome of this."
   ]
  },
  {
   "cell_type": "markdown",
   "id": "a6ae7da9-904e-4890-94b6-f45341a0d824",
   "metadata": {},
   "source": [
    "Ultimatley the Suns are in a bad position and the firing of Vogel were bad decision. Coach Bud was a good hire, however I think the problem with the Suns is deeper than a coaching hire and I see this as a delay of the inevitable more than a solution. The solution is what I said above."
   ]
  }
 ],
 "metadata": {
  "kernelspec": {
   "display_name": "Python 3 (ipykernel)",
   "language": "python",
   "name": "python3"
  },
  "language_info": {
   "codemirror_mode": {
    "name": "ipython",
    "version": 3
   },
   "file_extension": ".py",
   "mimetype": "text/x-python",
   "name": "python",
   "nbconvert_exporter": "python",
   "pygments_lexer": "ipython3",
   "version": "3.10.12"
  }
 },
 "nbformat": 4,
 "nbformat_minor": 5
}
