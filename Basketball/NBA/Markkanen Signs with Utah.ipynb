{
 "cells": [
  {
   "cell_type": "markdown",
   "id": "e1e7d43c-d764-4709-875b-3af966ff6ced",
   "metadata": {},
   "source": [
    "# Markkanen has Signed to extension with Utah #"
   ]
  },
  {
   "cell_type": "markdown",
   "id": "8527da9e-40c0-497c-bd65-41576274a431",
   "metadata": {},
   "source": [
    "The Jazz have given Lauri Markkanen an extension of 5-years 238 million dollars. He is set to earn 42 million instead of 18 million this year, and then 49 million for the next 4 years. There isn't any options included to this contract. The 27-year-old will be a free agent at 32-years-old. The Jazz have nailed down their future star for these coming years."
   ]
  },
  {
   "cell_type": "markdown",
   "id": "b0bf5b2d-c8b8-43c5-8fa8-18cdcb1f51d8",
   "metadata": {},
   "source": [
    "## Impact for Utah ##"
   ]
  },
  {
   "cell_type": "markdown",
   "id": "4c7fca60-2b8e-4551-aa33-d4a4489a63de",
   "metadata": {},
   "source": [
    "The Jazz have nailed down Lauri Markkanen to be the face of their franchise for the next 5 years. This signning is interesting. I don't agree with it and I believe that Markkanen is overpaid. I understand that he is relatively young and has put up a statline of 23.2/8.2/2.0. For this year, his contract is fine. He is getting paid around the same as Siakam and VanVleet. I think it's a fair value contract, maybe a slight overpay as Markkanen's statline is with the Jazz where VanVleet and Siakam are part of a rising team in the Rockets and a contending team in the Pacers, but they all put up similar statlines. With that being said I think that this contract is aweful and will age terribly, even with his age and a higher cap in the coming future. For next year this contract is on par with Kawhi's, next year it's on par with Donovan Mitchell, next it's on par with Pascal, and then in the final year it's on par with Anunoby, and that's considering it's not a rising contract and set to be a 49 million per year. Basing off of AAV he is getting paid the same as Kawhi. I think that this contract is just bad. I think that Markkanen is only good because he's on Utah, I think that Utah isn't in the position to be paying someone that money. If they needed to reach the cap floor then they should've given Markkanen a raise this coming year and then trade him at the deadline to a contending team where they don't need to commit to a huge contract and have him for a year rental. I think Utah could've gotten good value for him at the deadline. With that being said this puts Utah out of contention to fully tank and while Markkanen is good enough to make an impact, he isn't a player that I would build around and tank. I think teams like Chicago, Brooklyn, Washington, Detroit, San Antonio, and possibly Portland are all worse teams than Utah and would be more in contention for the top picks in this coming year. This isn't a great signning and I hope that Utah can build around this, but I think that Markkanen could've went for more at the deadline and they could've gotten Podz from Golden State if they waited. I would give this a grade of C-, it could turn out good and I'm wrong, but I don't think that it will nor will Utah have a good outcome with this contract."
   ]
  }
 ],
 "metadata": {
  "kernelspec": {
   "display_name": "Python 3 (ipykernel)",
   "language": "python",
   "name": "python3"
  },
  "language_info": {
   "codemirror_mode": {
    "name": "ipython",
    "version": 3
   },
   "file_extension": ".py",
   "mimetype": "text/x-python",
   "name": "python",
   "nbconvert_exporter": "python",
   "pygments_lexer": "ipython3",
   "version": "3.10.12"
  }
 },
 "nbformat": 4,
 "nbformat_minor": 5
}
