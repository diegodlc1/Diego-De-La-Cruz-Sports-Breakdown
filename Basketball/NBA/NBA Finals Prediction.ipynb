{
 "cells": [
  {
   "cell_type": "markdown",
   "id": "30022da3-4bc8-4f83-bdbe-99a7e3fa7130",
   "metadata": {},
   "source": [
    "# NBA Finals Prediction #"
   ]
  },
  {
   "cell_type": "markdown",
   "id": "1463b59f-5828-4e4a-9ce1-0ebbabe0790a",
   "metadata": {},
   "source": [
    "With the NBA Finals starting up I want to write my prediction for this series. We have the most dominant team in the playoffs in the Celtics going up against the 2 best players currently on the Mavericks. Boston did go an easier route to the playoffs, the Cavs being the highest ranked team they faced, however that is not to discredit this team. They did it all without Porzingus and looking to complete this run. The Mavericks went through a harder route. Going through the Clippers, Thunder, and Timberwolves, this team went through a lot to get here. Like I mentioned above the Mavs also have the best duo currently and on top of that the two best players this playoff in Kyrie and Luka. I'm concerned about the inexpereience of the Mavericks front court and with Porzingus coming back, I think that it is too much for the Mavs to handle. I think that the Celtics will win this series in 6 games. I think that all 4 games the Celtics win will be close and only one game the Mavs win will be close, the other will be a blow out. The Celtics will win in Dallas and bring home the 2023-24 title."
   ]
  }
 ],
 "metadata": {
  "kernelspec": {
   "display_name": "Python 3 (ipykernel)",
   "language": "python",
   "name": "python3"
  },
  "language_info": {
   "codemirror_mode": {
    "name": "ipython",
    "version": 3
   },
   "file_extension": ".py",
   "mimetype": "text/x-python",
   "name": "python",
   "nbconvert_exporter": "python",
   "pygments_lexer": "ipython3",
   "version": "3.10.12"
  }
 },
 "nbformat": 4,
 "nbformat_minor": 5
}
