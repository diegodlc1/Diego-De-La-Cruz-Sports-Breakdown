{
 "cells": [
  {
   "cell_type": "markdown",
   "id": "c572215b-e1e1-49b0-962e-93cdaf6ae686",
   "metadata": {},
   "source": [
    "# Bucks Waive Lillard, Sign Turner"
   ]
  },
  {
   "cell_type": "markdown",
   "id": "1be56e77-195b-4a44-a9b9-65b16d25224e",
   "metadata": {},
   "source": [
    "The Bucks have waived Damien Lillard for the last 2 years of his contract to sign Myles Turner off of free agency for a 4-year, 107 million dollar contract. This move is massive for a team that wasn't projected to do much in this offseason. I didn't want to talk about NBA free agency as I wanted to aggregate it later, but this was a massive, historic move that needs to be talked about."
   ]
  },
  {
   "cell_type": "markdown",
   "id": "93d8533b-0766-419b-bf50-ec4458761ba8",
   "metadata": {},
   "source": [
    "## My Thoughts"
   ]
  },
  {
   "cell_type": "markdown",
   "id": "53371a1b-2f68-4f34-8aad-6baaeee11079",
   "metadata": {},
   "source": [
    "This is a huge move. This is the largest buyout in NBA history. This is a historic move, and a necessary one at that. Giannis is in his prime right now. If they had held Lillard for another season, we don't know the type of player that he would be. It could have essentially been 2 \"dead\" contract years for these next 2 seasons, and at that point, Giannis is 32, and who knows if he would still be a top-3 player in the league at that point. There are a lot of question marks for these next 2 seasons, and with an open East, the Bucks have to capitalize on what they can at the moment. This is a necessary move to make to do that. I don't know if Lillard is washed. He could bounce back like KD, or we see regression like Klay or DeMarcus Cousins. The Bucks fill a need at Center, and they can now fill out the rest of their team. It's tough to swallow the 22 million in dead money for the next 5 seasons. The Bucks will be operating at a 22 million deficit, however, with a league like the NBA that can go over the salary cap, the 22 million might only mean the difference in first apron or second apron. As long as the owners are willing to pay it, it's not the worst thing, like it would be in the NHL or NFL, where the Bucks would be operating at a 22 million disadvantage. Overall, it's a necessary move to compete right now.\n",
    "\n",
    "On the other end, if I'm a Pacers fan, I'm disgusted. Improving an Eastern team while making your own significantly worse, the Pacers are now without a Center and without their star PG for the season. I can get not wanting to go in the tax aprons with a team you're not sure of making the finals the following season, but you suck it up to see what you have after coming off a finals appearance and make moves at the deadline if necessary. The Pacers have a huge hole to fill at Center. I don't know how they fill it. Nick Richards or DeAndre Ayton are some names I could see going to the Pacers, but neither of them fits the mold that the Pacers need in a Center. They can wait until Haliburton comes back and then draft one, and then wait another year to develop, but that is too long, and the question of how good Siakam will be at that point becomes the issue. Truthfully, the Pacers have good youth right now and made a great run this past season with it, but there are a lot of questions that need to be answered. I think they go into this season and see what happens, but have the intention that they might need to move from Siakam or McConnell during the season, or after the season. They're not a title team this year. It wouldn't be a rebuild but a retool and take this year to figure out the next steps moving forward. "
   ]
  }
 ],
 "metadata": {
  "kernelspec": {
   "display_name": "Python 3 (ipykernel)",
   "language": "python",
   "name": "python3"
  },
  "language_info": {
   "codemirror_mode": {
    "name": "ipython",
    "version": 3
   },
   "file_extension": ".py",
   "mimetype": "text/x-python",
   "name": "python",
   "nbconvert_exporter": "python",
   "pygments_lexer": "ipython3",
   "version": "3.10.12"
  }
 },
 "nbformat": 4,
 "nbformat_minor": 5
}
