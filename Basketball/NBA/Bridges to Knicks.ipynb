{
 "cells": [
  {
   "cell_type": "markdown",
   "id": "70c3662d-9403-41ca-8c6d-2b4d0b921f17",
   "metadata": {},
   "source": [
    "# Bridges to New York, Brooklyn blows it up, get picks from Houston back, giving the Suns picks #"
   ]
  },
  {
   "cell_type": "markdown",
   "id": "635d13bb-f2b6-43c8-9a0a-427d6c66cf9c",
   "metadata": {},
   "source": [
    "I understand that I've written a lot about the NBA and I'm trying to cut it down more but a major trade has went down and like I mentioned before, it is the offseason, most of my writting of a sport will happen in the offseason. The Nets recieve Bogdanovic and 5 first-round picks, a pick swap, and a second round pick in this trade. In a seperate trade, the Nets sent the Suns first round pick in 2027 to the Rockets for their first round pick for 2026 back. The Rockets also gain the right to a pick swap with the Suns pick next year. This is a major trade and I want to break it down more."
   ]
  },
  {
   "cell_type": "markdown",
   "id": "c2ae7261-32e9-43df-b9cc-df313adc3399",
   "metadata": {},
   "source": [
    "## Impact for the Knicks ##"
   ]
  },
  {
   "cell_type": "markdown",
   "id": "bb103eba-37d5-4b93-adda-aeb0f1fa27b5",
   "metadata": {},
   "source": [
    "I want to give the most relevant team some attention first. The Knicks add a great Small Forward to help lead this team over the finish line against the Celtics. Bridges fits well in with this squad, while also being a solid scorer and defender. I really like this fit for him. My issue rises from the lack of depth on this team. I understand that this was an issue before this trade and Bogi was not pushing the needle, but they have no one at this moment in time on the bench, outside of Hart and Robinson. With that all being said, he is still a great addition for this team. \n",
    "\n",
    "Another issue is that this limits the Knicks on trying to resign both Anunoby and Hartenstein. I'm my opinion, Bridges is better than both of them. I do think that they'll lose one of those players. If they resign both of them, I think that they'll be over the first apron for sure, and possibly over the second as well. I don't think that they can compete with the offers that the Sixers have or the Thunder have for both of these players. I'm going to say that Anunoby will stay, but Hartenstein will go to OKC. Other than that, I don't see many other moves that this team will make at the moment."
   ]
  },
  {
   "cell_type": "markdown",
   "id": "8eae145b-93d1-458f-801c-be43644f0628",
   "metadata": {},
   "source": [
    "## Impact for Brooklyn ##"
   ]
  },
  {
   "cell_type": "markdown",
   "id": "76395cf5-437f-43a2-ac02-74b23d0add84",
   "metadata": {},
   "source": [
    "The Nets picked a direction, and they're right in doing so. I did like how the Nets team was built. Did I think that they were going to blow it up? Not really. I was buying the smokescreens in that they were planning on keeping Bridges, but they finally ended up blowing up the team. Which I think was the best idea. Bridges is a good player, but he's not leading this team anywhere. The supporting cast was a good cast of players, if they add a great first option. They decided to blow it up, which is the right option. With that being said, they'll most likely trade all of their older players will go as well. This will include Simmons, Johnson, DFS, and Schroder all up for sale. I think the Nets will favor picks over players, as seen with the Bridges trade, but the Nets still need to hit the salary floor. With that being said, I think the Nets will lead a Rockets like rebuild in the next couple of years, they will be bad for this year and next and should make a push in 2 years. With that being said I want to play out all the trade options and everything.\n",
    "\n",
    "First Nic Claxton:\n",
    "\n",
    "He will be on the Nets next year with a long term deal. Not much said here. He's young and a good big. He's joining the team on a 4-year deal.\n",
    "\n",
    "Next Simmons:\n",
    "\n",
    "Honestly, Simmons will stay. The only teams taking his contract would be bad teams to free up 40 million in cap space, but the Nets want to do that now. The Nets still need to reach the cap floor and his contract helps fulfill that, but he's not going to get much in the trade market, if anything at all. If he does get traded, it'll be at the deadline if he performs well this season to a contending team.\n",
    "\n",
    "Next is Schroder:\n",
    "\n",
    "Schroder is a point guard on the last year of his deal making 13 million this year. He will have a market of all different types of teams, but I think a contending team in need of a point guard, either a starter or backup, would take him on this year. Honestly, I see one team that would need that and that's New Orleans. Do I think that New Orleans wants a one year rental right now? Maybe. If they're high on their team then he would be a great addition, but for a one year rental I don't see a team like New Orleans or Utah making a push for him. I would pick more of a contending team picking him up as a backup. With that in mind I'll present the teams for that.\n",
    "\n",
    "Knicks, Bucks, T-Wolves, Mavs, Suns.\n",
    "\n",
    "Out of all of these, the Suns will make the biggest push, but they don't have any of the pieces to do that. Looking at the other teams the only team that could send much of anything back would be the Mavs. Sending Josh Green for Schroeder would be a starting point. The issue is if the Mavs would make that trade. I don't think so since Green is playing the same role as Dennis, but the prospect is there.\n",
    "\n",
    "Next is DFS:\n",
    "\n",
    "DFS has a one year left and a player option after. At 31 years old he is the oldest current player on the roster, yet he is still impactful. With his contract situation I can see him going to most teams outside the ones that are tanking this year, or are going to be bad for the next 2 years. He is a perfect piece for most teams looking for a Power Forward. These are the teams that I see taking him:\n",
    "\n",
    "Memphis, Miami, Utah\n",
    "\n",
    "These 4 teams would be interested in him and would pay a higher price than the other teams for him. Honestly the only team I can see taking him would be Memphis. The Jazz I feel like are more than DFS from competing. Miami would love to have him, if they had the assests to get him. That leaves Memphis. A trade involving Aldama, Williams, and maybe Rose if they need to match salaries would be enough to get DFS for the 2 years. He would be a solid assest to get in general. He would be a solid addition for the Grizzlies squad.\n",
    "\n",
    "Finally Johnson:\n",
    "\n",
    "Cam Johnson is 28 years old, on a 3 year deal for 23.6 million a year and could go to pretty much any team. I can see any bad team taking on his contract to be the piece to push forward, I can see a contending team taking him on for their roster, or even a playoff team or team making a push for the playoffs taking him. I don't see a tanking team taking him though. That eliminates the Nets and the Bulls. Thinking about this, these are the teams in need of a Small Forward. These are the teams:\n",
    "\n",
    "Atlanta, Cleveland, Dallas, Detroit, GSW, Houston, Indiana, Memphis, New Orleans, OKC, Philadelphia, Phoenix, San Antonio\n",
    "\n",
    "These are the teams that I think that Johnson is a clear upgrade due to age and current place of the team. I will eliminate Philadelphia due to not having tradable pieces right now and Phoenix for not having much pieces at all that the Nets would be interested in:\n",
    "\n",
    "Atlanta: Capela and picks\n",
    "\n",
    "Cleveland: LeVert and picks\n",
    "\n",
    "Dallas: THJ, OMP, and a pick or 2\n",
    "\n",
    "Detroit: Fournier and Picks\n",
    "\n",
    "Golden State: Chris Paul and Picks\n",
    "\n",
    "Houston: Thompson and Green\n",
    "\n",
    "Indiana: Nesmith, McConnell, maybe a pick\n",
    "\n",
    "Memphis: Kennard, Aldama, and picks\n",
    "\n",
    "New Orleans: Jones, Nance Jr., and picks\n",
    "\n",
    "OKC: Dort and Wallace, maybe a pick\n",
    "\n",
    "SAS: Graham and Jones, picks\n",
    "\n",
    "Weirdly enough I don't think many of these teams would make this deal. Looking at the offers I only think that Atlanta, Cleveland, Detroit, GSW, Memphis, New Orleans, and San Antonio makes these offers. Of these offers I think that the Nets would take Atlanta, Cleveland, GSW, New Orleans, and San Antonio as offers. I think that of these offers only Cleveland, GSW, and SAS are the only teams that are getting a clear upgrade at the position as both Atlanta and New Orleans have decent depth at SF, they just have a lot of players playing out of position and Thomas doesn't add much to that. Between Cleveland, GSW, and San Antonio I think that the Warriors would get him. CP3's expiring is interesting for the Nets to free up next year, freeing up 70 million for next free agency, while also getting picks back. I think that LeVert will be too good for the Cavs to give up right now, but if you're certain you're not getting him next year then move him. The Spurs are too off from the timeline to consider this move. If I had to choose a second team to do this then I think that it would be Cleveland."
   ]
  },
  {
   "cell_type": "markdown",
   "id": "f6592060-e908-4624-ab55-9f96303e3f7b",
   "metadata": {},
   "source": [
    "## Impact for Houston ##"
   ]
  },
  {
   "cell_type": "markdown",
   "id": "bdb88625-1368-48bf-9d11-457a4737ff83",
   "metadata": {},
   "source": [
    "Houston only got a Suns pick back. Right now it's of no use. It's been stated that they're using this as bait for the Suns to trade KD to them. I hate it if that's the plan for the Rockets. I really like the core that they currently have. I think they draft a PG with the 3rd overall pick this year and see what happens next year. No need to rush to get KD from the Suns. On top of that the Suns shouldn't blow it up. They're not in the place to do that currently."
   ]
  },
  {
   "cell_type": "markdown",
   "id": "c26be213-458a-4e99-9933-8bdf8b6b4a7c",
   "metadata": {},
   "source": [
    "## Grades ##"
   ]
  },
  {
   "cell_type": "markdown",
   "id": "9e20645d-1eda-4951-b308-02d40bc2eeba",
   "metadata": {},
   "source": [
    "Overall I'll give these grades\n",
    "\n",
    "Knicks: B+\n",
    "\n",
    "I like this trade for them in general. My issue is that they will lose one of OG or Hartenstein that this would be a tough loss for them. If they retain the 2 of them then I'll give this an A+\n",
    "\n",
    "Nets: A+\n",
    "\n",
    "5 first-rounders and a direction that they're going to, not much I need to say other than that.\n",
    "\n",
    "Rockets: C\n",
    "\n",
    "I'm ok with getting the Suns pick, that could be worth something, but they're using it as bait for KD. It's going to depend on what KD gets as a return but knowing this and seeing what the Rockets would have to give up, this will be a D if that happens. Right now a C seems fair."
   ]
  }
 ],
 "metadata": {
  "kernelspec": {
   "display_name": "Python 3 (ipykernel)",
   "language": "python",
   "name": "python3"
  },
  "language_info": {
   "codemirror_mode": {
    "name": "ipython",
    "version": 3
   },
   "file_extension": ".py",
   "mimetype": "text/x-python",
   "name": "python",
   "nbconvert_exporter": "python",
   "pygments_lexer": "ipython3",
   "version": "3.10.12"
  }
 },
 "nbformat": 4,
 "nbformat_minor": 5
}
