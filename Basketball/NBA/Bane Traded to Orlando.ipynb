{
 "cells": [
  {
   "cell_type": "markdown",
   "id": "0d412d55-d9e9-4aff-ac51-2307d6e00c36",
   "metadata": {},
   "source": [
    "# Bane traded to Orlando"
   ]
  },
  {
   "cell_type": "markdown",
   "id": "8a7c0e71-3089-4e09-b219-6c2a1b475d2b",
   "metadata": {},
   "source": [
    "I wasn't going to write anything today, as I have been sick since yesterday and still not feeling the best feeling-wise. However, a major trade has gone down in the NBA, and I want to spend time talking about it. The Magic traded KCP, Cole Anthony, 4 frp, and a pick swap to the Memphis Grizzlies in return for Desmond Bane. I want to give my thoughts in this trade and what to expect from both teams."
   ]
  },
  {
   "cell_type": "markdown",
   "id": "2b3fcba4-04b4-4ea2-bbf9-da17d04ddc84",
   "metadata": {},
   "source": [
    "## Impact for Memphis"
   ]
  },
  {
   "cell_type": "markdown",
   "id": "4b2c075a-3778-4638-b8f9-0e8bc46fc96d",
   "metadata": {},
   "source": [
    "I love this trade for the Grizzlies. It's a great trade for them. I see the vision the Grizzlies have. They're retooling around Morant and JJJ. The current squad wasn't going to make it out of the West. While they were 2 games out from the 3rd seed, this squad wasn't going to do much with what they had. Morant and JJJ are great pieces to build around, and extending JJJ to a longer contract should be the main priority and the main reason why this trade was made. They're looking to retool over the next two years while they have KCP's bad contract, and we could see them re-route Cole Anthony, as they have a lot of young guards at the moment. The goal, at a minimum, is to take on these contracts for 2 years and see where you're at with an open cap sheet. Developing the young talent they have, draft, and in 2 years make trades with the new draft picks they have, or start looking at making a swing in free agency. Ultimately, this is the best move that the Grizzlies can make with what they have. Anthony and the Swap to take on KCP's contract and 4 FRP for Bane. The Grizzlies got a great deal out of this."
   ]
  },
  {
   "cell_type": "markdown",
   "id": "f549a1cb-01ef-4462-8f1b-6aaf8f615c08",
   "metadata": {},
   "source": [
    "## Impact for Orlando"
   ]
  },
  {
   "cell_type": "markdown",
   "id": "05bde0d0-9e39-4dba-b91a-af3056e8a39d",
   "metadata": {},
   "source": [
    "This is the win-now move that everyone was waiting for Orlando to do. The Magic have solid players in all positions outside of Shooting Guard. Even then, you can argue he's a top 5 Shooting Guard, as I can only list 4 SGs that are clear, better options than Desmond Bane at the current moment. The Magic needs a shooter, and they got their shooter without giving up much of their win-now players. While KCP and Anthony can be solid bench options for a competing team, for their current contracts and what you're getting in return, it's not worth keeping them. While that many picks is a lot, it's what the price is for a clear top 10, even top 5, player at a position without giving up much of the depth they're looking to keep. I don't mind this for them. Is it a slight overpay, maybe, but KCP's contract isn't good, and it took some of those picks to offload that, and they got a top 10 SG in the league. Outside of the Suns' pick and pick 16 this year, most of these picks will be in the mid to late 20s, as the Magic should be seen as a top team in the East, especially with Milwaukee and Boston looking shaky."
   ]
  },
  {
   "cell_type": "markdown",
   "id": "a5045e5a-c5f1-4620-938b-7f91b479d802",
   "metadata": {},
   "source": [
    "## Final Thoughts"
   ]
  },
  {
   "cell_type": "markdown",
   "id": "ae66d26e-8ef0-48f9-a3dd-4a98381a3c52",
   "metadata": {},
   "source": [
    "Memphis: A+\n",
    "\n",
    "This is how building a team is going to look in the modern NBA. We're going to see smaller contracts and teams being built with depth in mind instead of superstars. More players will be paid, but the 2nd-4th tier players aren't going to see huge contracts like what Bane has right now. The Grizzlies get off a meh contract, can now pay JJJ, a lot of draft capital, and have 2 role players to use in future trades. I see Anthony being rerouted this offseason. The Grizzlies have a backlog at the PG position, and I would look into getting a young wing from a team in need of a PG with Anthony. With KCP, you just have to eat the contract and hope that he recoups value for you to trade later this season or next season. If not, 23 million expiring next season isn't a bad problem to have when you're retooling. Morant and JJJ aren't available, so no teams should be calling them up for them. I don't think the Grizzlies are looking to make many moves outside of trading Cole Anthony. Buying low on Isaac Okoro if the Cavs are serious about trading Garland. Mathiurin or Aaron Wiggins are also solid options if we see McConnell get moved in a trade or the Thunder lose in the Finals. These are possible options for the Grizzlies if they move on from Cole Anthony.\n",
    "\n",
    "\n",
    "Orlando: B+\n",
    "\n",
    "I don't mind it. Is it an overpay? Yes. Is it that serious? No. This is a typical win-now move that gets made from a team that is competing. They get a top 10 player in a position of need, and they retain much of the depth that they had last season. I do think that they still can make some moves and congregate some of this depth into better depth pieces, but they have a solid starting 2 when healthy. They lose control of some of their picks in the foreseeable future, but that is to be expected for a competing team. They're mostly going to be in the mid to late 20s anyway. Bane fits perfectly and in Orlando right now, and I do believe more moves, albeit smaller moves, will be done. One of the Centers will be gone with one of the young players for a shooter off the bench."
   ]
  }
 ],
 "metadata": {
  "kernelspec": {
   "display_name": "Python 3 (ipykernel)",
   "language": "python",
   "name": "python3"
  },
  "language_info": {
   "codemirror_mode": {
    "name": "ipython",
    "version": 3
   },
   "file_extension": ".py",
   "mimetype": "text/x-python",
   "name": "python",
   "nbconvert_exporter": "python",
   "pygments_lexer": "ipython3",
   "version": "3.10.12"
  }
 },
 "nbformat": 4,
 "nbformat_minor": 5
}
