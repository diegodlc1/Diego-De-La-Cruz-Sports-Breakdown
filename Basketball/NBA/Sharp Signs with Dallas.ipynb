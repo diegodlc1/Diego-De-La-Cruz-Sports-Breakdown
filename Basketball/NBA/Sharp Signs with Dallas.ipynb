{
 "cells": [
  {
   "cell_type": "markdown",
   "id": "b4bd7826-876b-483a-ba20-3ebb1adaf479",
   "metadata": {},
   "source": [
    "# Sharp Signs with Dallas #"
   ]
  },
  {
   "cell_type": "markdown",
   "id": "78871bf6-ffad-4524-a418-d67dc906cc55",
   "metadata": {},
   "source": [
    "Jamarion Sharp has signed a one-year, minimum contract with the Dallas Mavericks. The undrafted free agent was the tallest player in Division last year with Ole Miss. With that being said I will break down this contract for the Mavs."
   ]
  },
  {
   "cell_type": "markdown",
   "id": "85007c62-614d-4ad3-8f64-e4e8c4bde935",
   "metadata": {},
   "source": [
    "## Impact on the Mavs ##"
   ]
  },
  {
   "cell_type": "markdown",
   "id": "17a51ce3-4dd1-4ac0-bc16-7f6c4b406e6c",
   "metadata": {},
   "source": [
    "The Mavs are taking a flier on Sharp, an undrafted rookie from Ole Miss who put a statline of 3.3/4.1/0.6 with 2.4 blocks per game last year with the SEC's Ole Miss basketball team. Outside of blocks, these aren't eye catching numbers at the NCAA level. With that being said this is a a flier and an ok one with it. The Mavs have reinvented the big man position this past season, using it to get to the finals, and getting more depth with a tall big man to throw at the likes of Holmgren and Wemby would be enough to give him a shot. He had an even worse statline in Summer League for the Mavs 2.6/4.6/0.6 and with 2.6 blocks per game. With that being said he has an impact on the defensive side of the ball and could develop to be a solid bench piece in the future if everything works out for him. I don't think it will and this would be his only year in the league, but Dallas might see something that I don't and is such a low risk contract that is a low risk, high reward situation."
   ]
  }
 ],
 "metadata": {
  "kernelspec": {
   "display_name": "Python 3 (ipykernel)",
   "language": "python",
   "name": "python3"
  },
  "language_info": {
   "codemirror_mode": {
    "name": "ipython",
    "version": 3
   },
   "file_extension": ".py",
   "mimetype": "text/x-python",
   "name": "python",
   "nbconvert_exporter": "python",
   "pygments_lexer": "ipython3",
   "version": "3.10.12"
  }
 },
 "nbformat": 4,
 "nbformat_minor": 5
}
