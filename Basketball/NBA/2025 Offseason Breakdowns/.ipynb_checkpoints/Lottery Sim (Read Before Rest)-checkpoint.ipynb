{
 "cells": [
  {
   "cell_type": "markdown",
   "id": "19051dd5-8ed4-449a-b8e3-c23859e06e05",
   "metadata": {},
   "source": [
    "# Lottery Simulation (Read Before Rest)"
   ]
  },
  {
   "cell_type": "markdown",
   "id": "025c5c76-6974-4909-9b70-aaa764e98cd5",
   "metadata": {},
   "source": [
    "Since the NBA play-in is over I will start doing my breakdown. We will go in order of this lottery I will just do and then go in order of playoff elimination. Here is the lottery results.\n",
    "\n",
    "1. Philadelphia\n",
    "2. Utah\n",
    "3. San Antonio\n",
    "4. Brooklyn\n",
    "5. Washington\n",
    "6. Charlotte\n",
    "7. New Orleans\n",
    "8. Toronto\n",
    "9. Houston (from Phoenix)\n",
    "10. Portland\n",
    "11. Dallas\n",
    "12. Chicago\n",
    "13. Atlanta (from Sacramento)\n",
    "14. San Antonio (from Atlanta)\n",
    "\n",
    "Remember, this is my sim for now, I may review some of these pages after the Lottery/draft but this is what I will go with for now."
   ]
  },
  {
   "cell_type": "markdown",
   "id": "b0db86ce-5052-41e1-b194-708f08e73373",
   "metadata": {},
   "source": [
    "I might do a breakdown after the real lottery for some of these teams but we will have to see."
   ]
  }
 ],
 "metadata": {
  "kernelspec": {
   "display_name": "Python 3 (ipykernel)",
   "language": "python",
   "name": "python3"
  },
  "language_info": {
   "codemirror_mode": {
    "name": "ipython",
    "version": 3
   },
   "file_extension": ".py",
   "mimetype": "text/x-python",
   "name": "python",
   "nbconvert_exporter": "python",
   "pygments_lexer": "ipython3",
   "version": "3.10.12"
  }
 },
 "nbformat": 4,
 "nbformat_minor": 5
}
