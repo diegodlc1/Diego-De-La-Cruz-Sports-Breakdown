{
 "cells": [
  {
   "cell_type": "markdown",
   "id": "87128881-7450-47d5-b4fb-32ee6076454d",
   "metadata": {},
   "source": [
    "# Kevin Durant Sweepstakes"
   ]
  },
  {
   "cell_type": "markdown",
   "id": "cf02b2ba-980a-4a8f-bcdb-13ae8ce63e12",
   "metadata": {},
   "source": [
    "Now I understand that I said I wanted to start the offseason breakdowns for NBA teams today; however, I want to wait until the play-in is officially over to do a lottery simulation with the actual teams in the lottery. With that being said, I will do a breakdown of the Kevin Durant situation in Phoenix instead."
   ]
  },
  {
   "cell_type": "markdown",
   "id": "49c8f2a3-ce49-4388-a68c-33df2ee4d4e4",
   "metadata": {},
   "source": [
    "## Intro"
   ]
  },
  {
   "cell_type": "markdown",
   "id": "48bec931-8ec1-48f1-b336-2cc6bf19eabc",
   "metadata": {},
   "source": [
    "Kevin Durant is entering his 18th NBA season at the age of 37 next season. After a disastrous season in Phoenix, the Suns need to make moves to figure out a direction. This isn't a Suns breakdown, so I won't go into depth with what the Suns do, but more about what teams need to offer, what they can offer, and the fit of such. I will give a rating for 3 aspects:\n",
    "\n",
    "1. Assets offered to Suns/Suns' willingness to accept\n",
    "2. KD's fit on the team/want to be there\n",
    "3. The need for KD on the new team\n",
    "\n",
    "With these ratings, I will find the best outcome for KD this offseason. With 1 year remaining at around 54.7 million next year, the contracts will have to match for the team to make a trade. With that all being said, I will break down the teams in tiers, for if I think they should consider going after him.\n",
    "\n",
    "Need:\n",
    "Orlando Magic, Denver Nuggets, Memphis Grizzlies\n",
    "\n",
    "Should:\n",
    "Philadelphia 76ers, Houston Rockets, Golden State Warriors, San Antonio Spurs, Dallas Mavericks\n",
    "\n",
    "Playoff Disappointment:\n",
    "OKC Thunder, LA Lakers, Cleveland Cavaliers, Boston Celtics, New York Knicks, Indiana Pacers\n",
    "\n",
    "Other Possible Teams:\n",
    "Milwaukee Bucks, Atlanta Hawks, Detroit Pistons, Miami Heat, Toronto Raptors, LA Clippers, Sacramento Kings, New Orleans Pelicans\n",
    "\n",
    "Contingent on the lottery hitting the 14%:\n",
    "Utah Jazz\n",
    "\n",
    "While I think the top 3 tiers are the most likely to be in contention in KD, I will give a shorter write-up on the other tiers. While the supply that KD can offer isn't going to warrant a crazy trade, I think the high demand will command a respectable price. With that being said I will give the write up."
   ]
  },
  {
   "cell_type": "markdown",
   "id": "ca35af8d-79d4-4c58-b783-66e9af555d13",
   "metadata": {},
   "source": [
    "## Need"
   ]
  },
  {
   "cell_type": "markdown",
   "id": "9e50061c-2cb9-41df-9c73-358e8f802d0d",
   "metadata": {},
   "source": [
    "### Orlando Magic"
   ]
  },
  {
   "cell_type": "markdown",
   "id": "f1acc5e2-cb4f-4606-8db9-c309d2c4309d",
   "metadata": {},
   "source": [
    "Offer: Jalen Suggs, Jonathan Isaac/KCP/+filler, 25 and 27 first-round picks unprotected, 26 pick swap\n",
    "\n",
    "Assets: 4/10\n",
    "\n",
    "KD's fit: 3.5/10\n",
    "\n",
    "Need for KD based on loss: 7.5/10\n",
    "\n",
    "The Magic are in desperate need of a shooter. They're one of the worst shooting teams in the NBA, last season, and KD can fill in that hole. The issue with this is that KD will convolute the front court. KD, Paolo, and Franz are all Forwards. The spacing would be terrible and convoluted. Another issue is that a 3rd team would be needed to make the trade happen to take on contracts and such. The assets are fine, but truthfully, Suggs would be the only player that the Suns will keep; KCP and Isaac are being rerouted to another team. Suggs is coming off an injury-riddled year, and KCP had one of his worst years to commend a team trading much to the Suns to route him in. Isaac could pull the bigger asset to Phoenix but it'll be tough to make money work then. In total I would give this a 15/30 trade destination."
   ]
  },
  {
   "cell_type": "markdown",
   "id": "36a923cb-ee49-4bdb-a298-e7d19d6ac11f",
   "metadata": {},
   "source": [
    "### Denver Nuggets "
   ]
  },
  {
   "cell_type": "markdown",
   "id": "b700559f-35eb-4a7c-9378-d7ea6d553ef1",
   "metadata": {},
   "source": [
    "Offer: Murray, Nnaji (possibly to 3rd team), Filler (to 3rd team), Picks\n",
    "\n",
    "Assets: 4.5/10\n",
    "\n",
    "KD's fit: 7.5/10\n",
    "\n",
    "Need for KD based on loss: 3.5/10\n",
    "\n",
    "The Nuggets are in an ugly situation. They have little depth, so they will have to give up a starting point guard without a new one to come in to bring in KD. MPJ's contract is too small to move for KD, so you have KD and a less efficient, younger KD on the same team. At the same time, KD will raise Denver's floor. The main question is whether KD and Russ can be on the same team together. If Nnaji can be moved, or will it require giving up young depth like Holmes and Watson instead? I don't think Phoenix wants Murray, but if they don't get their picks back from Houston, then I can see Murray going to Phoenix. Not sure if this is worth it for either team, but if Houston doesn't give up the Suns' picks, then I can see Murray being a fine target to stay floating. I will give it a 16.5/30 destination at the moment, but this can rise if the Rockets keep the Suns' picks."
   ]
  },
  {
   "cell_type": "markdown",
   "id": "0db169ec-53ea-4645-b2fd-f91cc146da07",
   "metadata": {},
   "source": [
    "### Memphis Grizzlies"
   ]
  },
  {
   "cell_type": "markdown",
   "id": "b64cf11b-7c62-4fe8-8afc-92d735325d95",
   "metadata": {},
   "source": [
    "Offer: Bane, Konchar or Edey, GG Jackson, 1 frp (if Edey), 2 frp with Konchar. \n",
    "\n",
    "Assets: 7/10\n",
    "\n",
    "KD's Fit: 8/10\n",
    "\n",
    "Need for KD based on loss: 8/10\n",
    "\n",
    "This fit makes the most sense for a team that is in the Need tier. The Memphis has a lot of depth that they need to consolidate for a better player than Bane. While I like Desmond Bane as a player, you trade him for KD 10/10 times. KD fits the scheme Memphis is trying to run. He fits in at the hole at SF that Memphis needs to fill. Granted, the SG position is taking a downgrade, Jaylen Wells can be moved to develop in that position for Memphis. KD fills a need, is a great option next to Morant and JJJ. They're not giving too much, and Phoenix will gladly take what they're giving in Jackson and Bane. If Houston isn't giving picks back to Phoenix, Bane is a solid player to keep them floating, and the potential of Edey coming too is all intriguing for Phoenix to make moves. 23/30 trade destination."
   ]
  },
  {
   "cell_type": "markdown",
   "id": "aec35646-bad9-4068-b6cf-1826f97121e2",
   "metadata": {},
   "source": [
    "## Should"
   ]
  },
  {
   "cell_type": "markdown",
   "id": "b47ad18a-1f7d-49b7-94a2-2ea4d93a1b2a",
   "metadata": {},
   "source": [
    "### Philadelphia 76ers"
   ]
  },
  {
   "cell_type": "markdown",
   "id": "68fd5fc3-e460-43db-b18f-82ec66cc7f7c",
   "metadata": {},
   "source": [
    "Offer: Maxey, McCain, Council\n",
    "\n",
    "For: KD, All FRP the Suns control\n",
    "\n",
    "Assets: 9.5/10\n",
    "\n",
    "KD's Fit: 5/10\n",
    "\n",
    "Need for KD based on loss: 0/10\n",
    "\n",
    "The Sixers are stuck. They're stuck in injury purgatory with Embiid. They're stuck with George for years to come. They need to swing for the fences to compete for the next couple of years. However, you never trade Maxey for a year of KD. The Suns aren't accepting PG. They might accept Embiid but I highly doubt the Sixers are looking to move him. I don't think that they move Maxey either but it's the move that makes the most sense for both sides. If KD ends up with the Sixers, it would have to involve a 3rd team. I think that would drop the Assets rank, but it would also up the Need for KD based on loss. All in all I think the Sixers would love to have KD if it didn't mean losing Embiid or Maxey. 14.5/30"
   ]
  },
  {
   "cell_type": "markdown",
   "id": "ab59fb8a-2db3-41ff-8d9a-d0282b4978f6",
   "metadata": {},
   "source": [
    "### Houston Rockets"
   ]
  },
  {
   "cell_type": "markdown",
   "id": "504660ec-c4d6-4052-a705-b163e542205e",
   "metadata": {},
   "source": [
    "Offer: VanVleet, Sheppard, 27 PHX Pick\n",
    "\n",
    "Assets: 10/10\n",
    "\n",
    "KD's Fit: 8.5/10\n",
    "\n",
    "Need for KD based on loss: 2.5/10\n",
    "\n",
    "The Suns want to control their picks. They will take this offer in a heartbeat to give Sheppard a chance and take on VanVleet's expiring. KD would fit on the Rockets team. They need a player who can lead this young team, and I feel like he would provide that for the Rockets. However, I don't think that the Rockets need to make any moves this offseason, no matter what. They're young, and this is the first playoff series with this core. See what you have this year and then make moves for the following. You don't need to mortgage your team right now for one year of KD, even if it means getting off of Sheppard's contract. It doesn't make much sense. 21/30 trade destination."
   ]
  },
  {
   "cell_type": "markdown",
   "id": "0c536e3c-2110-49c5-809b-c5dd7bcc4bda",
   "metadata": {},
   "source": [
    "### Golden State Warriors"
   ]
  },
  {
   "cell_type": "markdown",
   "id": "83b5823d-0b4a-48c1-9cb5-318799f0b22a",
   "metadata": {},
   "source": [
    "Offer: Kuminga (Sign and Trade), Moody, Heild (to third team)\n",
    "\n",
    "Return: KD, some assets from the third team\n",
    "\n",
    "Assets: 7.5/10\n",
    "\n",
    "KD's Fit: 7.5/10\n",
    "\n",
    "Need for KD based on loss: 5/10\n",
    "\n",
    "I think that this would be one of the best, if not the best fit for KD, barring any personal reasons. The issue is that, allegedly, there is some personal disdain between the 2 camps. This trade fits perfectly for the Warriors' timeline to win now, he would slot in well with Curry, Butler, and Draymond. The only issue is that the Warriors are mortgaging their future and depth to try and compete right now. I think that this would be a much higher score for the Need for KD if it weren't for the personal issues. 20/30 trade destination."
   ]
  },
  {
   "cell_type": "markdown",
   "id": "0fc0dd62-70fd-4bfe-91d4-a6b8d49d3ea5",
   "metadata": {},
   "source": [
    "### San Antonio Spurs"
   ]
  },
  {
   "cell_type": "markdown",
   "id": "99f454ac-9a81-4ce6-9832-ecc7460be346",
   "metadata": {},
   "source": [
    "Offer: Vassell, Johnson, 3 FRP, 2 Pick Swaps\n",
    "\n",
    "Assets: 6.5/10\n",
    "\n",
    "KD's Fit: 8/10\n",
    "\n",
    "Need for KD based on loss: 10/10\n",
    "\n",
    "The Spurs are a great trade destination. You need to compete while Wemby's contract is cheap and KD's contract is the perfect contract for that. They also have a lot of picks to give up. Vassell and Johnson are meh prospects for the Suns, so they won't be looking heavily into that, however, the amount of picks they would receive is enough to make up for it. I think that KD would fit well enough for the Spurs. This is the type of trade that the Spurs should be looking for, and with a disappointing year, even when Wemby was healthy, they need to make a splash with the picks that they have. 24.5/30 trade destination."
   ]
  },
  {
   "cell_type": "markdown",
   "id": "4270cedd-8db1-4e6b-8e6c-5867673bcc12",
   "metadata": {},
   "source": [
    "### Dallas Mavericks"
   ]
  },
  {
   "cell_type": "markdown",
   "id": "4d7878b2-d808-4e5b-9c37-1a48132a2c34",
   "metadata": {},
   "source": [
    "Offer: Klay, Gafford, Washington, Martin, 1 FRP, 1 pick swap\n",
    "\n",
    "Assets: 3.5/10\n",
    "\n",
    "KD's Fit: 6.5/10\n",
    "\n",
    "Need for KD based on loss: 3.5/10\n",
    "\n",
    "Dallas is looking to compete now. However, this trade would have to involve giving up too much depth for the Mavs and the Suns getting no one of interest outside of PJ Washington and picks. KD would fit in fine next to Kyrie and AD, however, I'm not sure how his relationship with Kyrie is after the Nets' tenure. I don't see this trade pushing much for the future for either team and only marginally getting the Mavs better for the short term. This would be a bad trade destination. 13.5/30 trade destination."
   ]
  },
  {
   "cell_type": "markdown",
   "id": "f8a9f3ab-bf88-4758-b629-e18ed02c4b4d",
   "metadata": {},
   "source": [
    "## Playoff Disappointment"
   ]
  },
  {
   "cell_type": "markdown",
   "id": "0cb57876-9e78-4c92-a90f-927090318fff",
   "metadata": {},
   "source": [
    "### Oklahoma City Thunder"
   ]
  },
  {
   "cell_type": "markdown",
   "id": "b75e8168-d425-485a-afe6-9b9414f4020a",
   "metadata": {},
   "source": [
    "Offer: Hartenstein, Dort, 3 FRP\n",
    "\n",
    "Assets: 6/10\n",
    "\n",
    "KD's Fit: 7.5/10\n",
    "\n",
    "Need for KD based on loss 5/10\n",
    "\n",
    "I think that this is a popular destination for people to bring up. I don't think Hartenstein or Dort is of much value for the Suns, but the picks are. I think that KD is only worth IHart, Dort, a pick, and a swap; however, Dort and Hartenstein aren't worth much to the Suns. KD would slot in nicely as a great second option and a good fit for the Thunder. The issue comes from KD's earlier tenure with the Thunder and the loss in defense that the Thunder would face by dealing KD. I could see a Williams sign and trade with Dort, but that would be it, and those assets aren't worth much to the Sun. However, it's WCF or bust for the Thunder, so if they don't reach that, I could see a desperation trade being made. 18.5/30 trade destination."
   ]
  },
  {
   "cell_type": "markdown",
   "id": "0fec6715-32cb-4957-bcc5-bd69f16369e9",
   "metadata": {},
   "source": [
    "### Los Angeles Lakers"
   ]
  },
  {
   "cell_type": "markdown",
   "id": "27194deb-13d4-44f0-bd09-3a2667dee49f",
   "metadata": {},
   "source": [
    "Offer: Hachimura, Reaves, Vanderbilt, Vincent, 1 FRP (Third Team needs to be involved)\n",
    "\n",
    "Assets: 6/10\n",
    "\n",
    "KD's Fit: 6/10\n",
    "\n",
    "Need for KD based on loss: 4/10\n",
    "\n",
    "This would be a mid-tier trade destination. If the Lakers don't make the WCF, I could see a major move being made. This could be one of them. While I like Hachimura and Reaves, they're not going to be more than great role-players. Getting off of Vincent's contract is huge, but Vanderbilt is somewhat of a loss. I also don't think this is a huge trade for the Suns. They get 2 great role-players, a solid player, and Vincent. Losing depth would suck but one year rental for Durant would be huge for the now and use the open cap next year to make moves. 16/30 trade destination."
   ]
  },
  {
   "cell_type": "markdown",
   "id": "72af8db0-74d1-4db4-9f1d-1f77dc35f7ed",
   "metadata": {},
   "source": [
    "### Cleveland Cavaliers"
   ]
  },
  {
   "cell_type": "markdown",
   "id": "75106a39-dfe3-4033-8551-65a082d5d779",
   "metadata": {},
   "source": [
    "Offer: Hunter, Strus, Okoro, 2 FRP (Third Team is necessary)\n",
    "\n",
    "Assets: 5.5/10\n",
    "\n",
    "KD's Fit: 6.5/10\n",
    "\n",
    "Need for KD based on loss: 3/10\n",
    "\n",
    "This would be a tougher fit to make happen. The Cavs need to make the ECF. If the Cavs don't make it, we can see a push to make that happen. I think that the players received are enough to make it happen for the Suns to accept. I think KD would fit fine, but the loss in depth hurts. It's a tough fix to make it happen, but it could be fixed if need be. 14/30 trade destination."
   ]
  },
  {
   "cell_type": "markdown",
   "id": "b474d954-29e7-48fa-a194-198a40364c3d",
   "metadata": {},
   "source": [
    "### Boston Celtics"
   ]
  },
  {
   "cell_type": "markdown",
   "id": "d2bceca9-2f03-4011-8866-5a7febaf5379",
   "metadata": {},
   "source": [
    "Offer: Porzingis, White, 1 FRP (Third team is necessary)\n",
    "\n",
    "Assets: 5.5/10\n",
    "\n",
    "KD's Fit: 7/10\n",
    "\n",
    "Need for KD based on loss: 6/10\n",
    "\n",
    "I think that the Celtics would be a mid-tier trade destination for KD. If the Celtics don't make it to the ECF we might see some massive changes made by the Celtics. With that being said, the assets are meh to the Suns. Porzingis and White aren't young and don't fit in the Suns' future timeline. However, if the Suns don't get their first-rounders back from the Rockets, they would need to compete, and this trade would help them compete. The fit is solid in that you can move either KD or Brown to the 2. The loss of Porzingis is tough for the Celtics, though. Horford is getting older and showing his age somewhat, and they don't have a true backup Center. This one-year rental could be huge, though for both teams if the Celtics flame out this year. 18.5/30 trade destination."
   ]
  },
  {
   "cell_type": "markdown",
   "id": "7a1f4c86-ffe6-4967-b1c1-183cc86ff975",
   "metadata": {},
   "source": [
    "### New York Knicks"
   ]
  },
  {
   "cell_type": "markdown",
   "id": "fb798fa9-1de8-4fac-ab9a-7061bf66b278",
   "metadata": {},
   "source": [
    "Offer: Anunoby, Robinson, Kolek, 1 FRP\n",
    "\n",
    "Assets: 5/10\n",
    "\n",
    "KD's Fit: 8.5/10\n",
    "\n",
    "Need for KD based on loss: 3/10\n",
    "\n",
    "The Knicks are in a weird situation. On one hand, they have a solid roster to compete, on the other, they have little to no depth. I don't know if giving up the little depth you do have for an upgrade in KD is worth it. The Suns aren't getting a great return for them. They give a chance for Kolek and compete with both OG and Robinson. It doesn't make much sense, however, I see the Knicks being the most likely team in this tier to go after him. It'll free cap space the following season if it fails, and hopefully that helps the Knicks for the next season. I think on the court it make sense, KD is better than OG without a doubt, but I'm not sure if it makes sense with the rest of the roster. The Knicks just don't need to lose to Pistons, but I think that if they don't make the ECF they will see this season as a failure. 16.5/30 trade destination."
   ]
  },
  {
   "cell_type": "markdown",
   "id": "c9b6f631-edea-4bb7-8f2f-ebe17b177568",
   "metadata": {},
   "source": [
    "### Indiana Pacers"
   ]
  },
  {
   "cell_type": "markdown",
   "id": "e790b2d3-878c-4658-8721-2f8e198607db",
   "metadata": {},
   "source": [
    "Offer: Nembhard, Toppin, Mathurin, Walker\n",
    "\n",
    "Assets: 8.5/10\n",
    "\n",
    "KD's fit: 7.5/10\n",
    "\n",
    "Need for KD based on loss: 5.5/10\n",
    "\n",
    "I think that the Pacers could be a dark horse in the KD sweepstakes. They would have to mortgage their future and depth, however, this is a team where I think that it would be ok to do that. It's tough to lose Nembhard and somewhat of Mathurin, but if the Pacers don't make it out of the first round, I think that they really need to consider making this move. Right now I would give the loss a 5.5, but that can rise if the Pacers can't make it past the First round, and maybe even the second. While the Knicks may be the most likely in this tier to go after him, the Pacers are the team that should go after him if they flame out in this tier. 21.5/30 trade destination."
   ]
  },
  {
   "cell_type": "markdown",
   "id": "856f88b4-7114-4bfa-ad1a-42502c5d4b77",
   "metadata": {},
   "source": [
    "## Other Teams"
   ]
  },
  {
   "cell_type": "markdown",
   "id": "788619c6-d2b3-4e47-94e9-95ad85cd5f74",
   "metadata": {},
   "source": [
    "### Milwaukee Bucks"
   ]
  },
  {
   "cell_type": "markdown",
   "id": "5a752719-23d7-4e46-a235-ab10c3c6889e",
   "metadata": {},
   "source": [
    "Offer: Lillard, 31 FRP unprotected\n",
    "\n",
    "Assets: 4.5/10\n",
    "\n",
    "KD's Fit: 7/10\n",
    "\n",
    "Need for KD based on loss: 8/10\n",
    "\n",
    "Kind of a dark horse candidate because the 2031 pick can be valuable, and Lillard is good enough to keep the Suns afloat since they don't own their own picks. With the rise of KPJ on the Bucks, who knows if Lillard is the answer? The issue is that the Suns can get more from another team. 19.5/30"
   ]
  },
  {
   "cell_type": "markdown",
   "id": "a78cd84b-8d12-4fbb-9198-acb59ec987c2",
   "metadata": {},
   "source": [
    "### Atlanta Hawks"
   ]
  },
  {
   "cell_type": "markdown",
   "id": "d7fd4691-540b-46c2-9b94-e129ef4ecfec",
   "metadata": {},
   "source": [
    "Offer: Johnson, Mann, Bufkin\n",
    "\n",
    "Assets: 8/10\n",
    "\n",
    "KD's Fit: 5/10\n",
    "\n",
    "Need for KD based on loss: 2.5/10\n",
    "\n",
    "Atlanta is not in a great position, and KD really isn't the answer. We either see Jalen Johnson get moved, or we see a lot of depth being traded away to get KD, who is an older, slightly better version of Jalen Johnson. The destination doesn't make sense for KD and I don't think Atlanta would do this. 15.5/30 trade destination."
   ]
  },
  {
   "cell_type": "markdown",
   "id": "4b8e60ff-018c-42ee-b343-91615dc0451f",
   "metadata": {},
   "source": [
    "### Detroit Pistons"
   ]
  },
  {
   "cell_type": "markdown",
   "id": "06a0d129-5427-4fbb-bf3d-bb9378332541",
   "metadata": {},
   "source": [
    "Offer: Harris, Stewart, Duren, 1 FRP\n",
    "\n",
    "Assets: 8.5/10\n",
    "\n",
    "KD's Fit: 7/10\n",
    "\n",
    "Need for KD based on loss: 4.5/10\n",
    "\n",
    "The Pistons are in the same region as the Rockets. They're a young team that made the playoffs outright. I think that KD would fit well with this team and the assets are attractive to the Suns, however, I don't think you need to blow up this team after this season. Still a great fit I just don't think the timing is right. 20/30 Trade Destination."
   ]
  },
  {
   "cell_type": "markdown",
   "id": "db253793-97c4-4205-977f-790f1be16e80",
   "metadata": {},
   "source": [
    "### Miami Heat"
   ]
  },
  {
   "cell_type": "markdown",
   "id": "235d5cac-49df-493c-9a75-0348a803f9c8",
   "metadata": {},
   "source": [
    "Offer: Rozier, Robinson, 3 FRP, 2 pick Swaps\n",
    "\n",
    "Assets: 8/10\n",
    "\n",
    "KD's Fit: 5/10\n",
    "\n",
    "Need for KD based on loss: 7/10\n",
    "\n",
    "This is a pure pick move, however, I think it would be intriguing. Rozier and Robinson would open 54 million next year in free agency and keep the Suns afloat. They won't be of much need for the Suns but that aspect alone is huge. However, I don't think Wiggins and Durant is great spacing. I think it's a fine loss for return, maybe adding Jaquez and dropping a pick. Other than that it doesn't make much sense. The Heat are in a weird purgatory stage and KD doesn't make sense for them unless Wiggins is part of the deal, and I don't think the Suns want Wiggins. 20/30"
   ]
  },
  {
   "cell_type": "markdown",
   "id": "7f3cb609-dbca-4457-8afb-a729cbd45a8f",
   "metadata": {},
   "source": [
    "### Toronto Raptors"
   ]
  },
  {
   "cell_type": "markdown",
   "id": "e673ec67-2e77-4411-91dc-2bc989451049",
   "metadata": {},
   "source": [
    "Offer: Ingram, Agbaji, Walter, 1 FRP\n",
    "\n",
    "Assets: 8.5/10\n",
    "\n",
    "KD's fit: 4/10\n",
    "\n",
    "Need for KD based on loss: 1/10\n",
    "\n",
    "This spot doesn't make much sense. I feel like the fit would be awkward on the team. The Raptors just traded for Ingram and you give him up for KD but with the other assets and not seeing BI play at all after the trade, doesn't make much sense. I don't see this being a valid landing spot for KD, even after the season the Raptors just had. 13.5/30 trade destination."
   ]
  },
  {
   "cell_type": "markdown",
   "id": "e3350484-8c87-45b1-af9c-e68012a5739e",
   "metadata": {},
   "source": [
    "### Los Angeles Clippers"
   ]
  },
  {
   "cell_type": "markdown",
   "id": "dc7742de-edcb-4702-8ae9-4417e9cb6203",
   "metadata": {},
   "source": [
    "Offer: Powell, Bogdanovic, Jones Jr., 1 FRP, 2 pick swaps\n",
    "\n",
    "Assets: 2/10\n",
    "\n",
    "KD's Fit: 7.5/10\n",
    "\n",
    "Need for KD based on loss: 8/10\n",
    "\n",
    "I think that the Clippers would love to land KD. While it means that depth will drop off, it's worth it to have a Harden, Zubac, KD, Kawahi lineup. I just don't think the Suns have much interest in the assets. Jones Jr. is of some interest. Powell and Bogi can keep them afloat. The Clippers only control one FRP and the others would need to be swaps. 17.5/30 trade destination."
   ]
  },
  {
   "cell_type": "markdown",
   "id": "1d08c609-2f56-4532-a018-bd016c2f4879",
   "metadata": {},
   "source": [
    "### Sacramento Kings"
   ]
  },
  {
   "cell_type": "markdown",
   "id": "8e5b4f55-104e-4ed3-ad49-e07822ec5c1f",
   "metadata": {},
   "source": [
    "Offer: DeRozan, Murray, Valanciunas, 2 pick swaps\n",
    "\n",
    "Assets: 1.5/10\n",
    "\n",
    "KD's Fit: 6.5/10\n",
    "\n",
    "Need for KD based on loss: 4/10\n",
    "\n",
    "I don't think the Suns are getting much for them in this trade. Murray may be of some interest and DeRozan is too good to get full FRP picks back. Valanciunas isn't of much interest as well. The Kings are losing depth and getting a better, older DeRozan so their's a larger chance of a fall off. I don't think this is a great destination for KD. 12/30 trade destination."
   ]
  },
  {
   "cell_type": "markdown",
   "id": "985bca9d-779c-431c-9b7b-90eed508408a",
   "metadata": {},
   "source": [
    "### New Orleans Pelicans"
   ]
  },
  {
   "cell_type": "markdown",
   "id": "7165a9a0-70b6-4a34-9e56-ac4ac4d33e35",
   "metadata": {},
   "source": [
    "Offer: Williamson, Olynyk\n",
    "\n",
    "Assets: 10/10\n",
    "\n",
    "KD's Fit: 7/10\n",
    "\n",
    "Need for KD based on loss: 5/10\n",
    "\n",
    "This is an interesting trade. It gives the Pelicans a direction to compete now, and while I think spacing could be awkward, I think with Zion, the spacing is already awkward. Olynyk is an expiring, and this gives the Pelicans direction. I just don't know if this is what the Pelicans want to do, so I give that a 5/10. Last year was bad but you can cough that up to injury. It's an interesting landing spot. 22/30 trade destination."
   ]
  },
  {
   "cell_type": "markdown",
   "id": "b9ea71c4-b07f-499b-ae8e-b701623e5e91",
   "metadata": {},
   "source": [
    "### 14% Chance to make move"
   ]
  },
  {
   "cell_type": "markdown",
   "id": "02fbb4d5-bcca-49c4-bf7c-3b30c736885b",
   "metadata": {},
   "source": [
    "### Utah Jazz"
   ]
  },
  {
   "cell_type": "markdown",
   "id": "befe3e54-38db-46ed-baf3-b5fd516c4b12",
   "metadata": {},
   "source": [
    "Offer: Markkanen, Williams, 2 FRP (including 31 Suns FRP)\n",
    "\n",
    "Assets: 8.5/10\n",
    "\n",
    "KD's Fit: 4/10\n",
    "\n",
    "Need for KD based on loss: 8/10\n",
    "\n",
    "If the Jazz land Cooper Flagg, they're the only team that, with the addition of KD, would make them a contender. I think that the Suns would be interested in controlling their picks and getting Williams to see what he has in Phoenix. Markkanen is solid to compete for the time being. The only issue is that the frontcourt for the Jazz would be convoluted. John Collins would have to be moved for a starting PG to make the fit better. I think it's a potential landing spot if the 14% hits for the Jazz. 20.5/30 trade destination."
   ]
  },
  {
   "cell_type": "markdown",
   "id": "c0ef2c72-895b-4f59-8588-abbbdc7808ea",
   "metadata": {},
   "source": [
    "## Conclusion"
   ]
  },
  {
   "cell_type": "markdown",
   "id": "bdc90b61-9207-4a7b-a681-5e137f6198d7",
   "metadata": {},
   "source": [
    "Here are my most reasonable and likely trade destinations, ranked according to me. \n",
    "\n",
    "1. Spurs (Should)\n",
    "2. Grizzlies (Need)\n",
    "3. Pelicans (Other)\n",
    "4. Pacers (Playoff Disappointment)\n",
    "5. Rockets (Should)\n",
    "6. Jazz (If 14% Hits)\n",
    "7. Warriors (Should)\n",
    "8. Pistons (Other)\n",
    "9. Heat (Other)\n",
    "10. Bucks (Other)\n",
    "11. Thunder (Playoff Disappointment)\n",
    "12. Celtics (Playoff Disappointment)\n",
    "13. Clippers (Other)\n",
    "14. Nuggets (Need)\n",
    "16. Knicks (Playoff Disappointment)\n",
    "17. Lakers (Playoff Disappointment)\n",
    "18. Hawks (Other)\n",
    "19. Magic (Need)\n",
    "20. 76ers (Should)\n",
    "21. Cavaliers (Playoff Disappointment)\n",
    "22. Mavs (Should)\n",
    "23. Raptors (Other)\n",
    "24. Kings (Other)\n",
    "\n",
    "I see the Spurs as the most likely candidate with the Grizzlies being second. If the Pelicans want to make a shift to a direction, then they are second or if the Pacers lose in the first round then they need to compete. Other than that the Rockets are up there too. All in all, I think the Spurs will end up with KD at the end of the offseason."
   ]
  }
 ],
 "metadata": {
  "kernelspec": {
   "display_name": "Python 3 (ipykernel)",
   "language": "python",
   "name": "python3"
  },
  "language_info": {
   "codemirror_mode": {
    "name": "ipython",
    "version": 3
   },
   "file_extension": ".py",
   "mimetype": "text/x-python",
   "name": "python",
   "nbconvert_exporter": "python",
   "pygments_lexer": "ipython3",
   "version": "3.10.12"
  }
 },
 "nbformat": 4,
 "nbformat_minor": 5
}
