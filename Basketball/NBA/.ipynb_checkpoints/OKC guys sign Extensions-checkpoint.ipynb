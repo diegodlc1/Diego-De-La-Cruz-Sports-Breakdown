{
 "cells": [
  {
   "cell_type": "markdown",
   "id": "9818f7e5-b5a5-4c88-9414-23e9d81a8a78",
   "metadata": {},
   "source": [
    "# Holmgren and Williams Sign Max Extensions"
   ]
  },
  {
   "cell_type": "markdown",
   "id": "33f23197-ba20-47db-a195-552641a612af",
   "metadata": {},
   "source": [
    "Sorry, this past week I was busy with some law school stuff. I will continue my writing and go from here. Chet Holmgren and Jalen Williams have signed a maximum extension on their contracts. This, on top of SGA's extension, is set to be OKC's big 3 for the near future, as the 3 of them are set to take up around 90% of OKC's cap. This is huge development in the team building aspect of this sport and a risk that needed to be made."
   ]
  },
  {
   "cell_type": "markdown",
   "id": "229a5804-1ae4-4d6a-9573-e72c4ae26aae",
   "metadata": {},
   "source": [
    "## Impact for OKC"
   ]
  },
  {
   "cell_type": "markdown",
   "id": "103d6d93-17f1-4373-b4b6-8e17039668dc",
   "metadata": {},
   "source": [
    "Truthfully, I don't like Chet on that number. I understand that he's eligible for that number, and with a young core, you have to give him that contract. I just don't like it for them. I'm fine with Williams and SGA on those numbers, though, so that's not a huge deal. I believe that they would look to trade one of them, most likely Chet, but with a large contract like that, I don't know if he would have good value on the market unless they attach their chestful of picks to offload him. We will see Caruso gone soon. Hartenstein as well. We might see Dort being traded at some point. The Thunder will have to move some of these contracts to try to stay below the second apron and use their picks to refill on talent. It's an interesting strategy that the CBA is now written on. The old way was to trade these picks for better players; now, first-rounders are a luxury, and their lower price points are needed to fill out with solid role players. We might see a change in the CBA, but that won't be until the end of the 2020s. We'll see how this goes and go from there."
   ]
  }
 ],
 "metadata": {
  "kernelspec": {
   "display_name": "Python 3 (ipykernel)",
   "language": "python",
   "name": "python3"
  },
  "language_info": {
   "codemirror_mode": {
    "name": "ipython",
    "version": 3
   },
   "file_extension": ".py",
   "mimetype": "text/x-python",
   "name": "python",
   "nbconvert_exporter": "python",
   "pygments_lexer": "ipython3",
   "version": "3.10.12"
  }
 },
 "nbformat": 4,
 "nbformat_minor": 5
}
