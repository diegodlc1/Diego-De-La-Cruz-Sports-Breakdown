{
 "cells": [
  {
   "cell_type": "markdown",
   "id": "2ffb6e6c-0683-4776-afee-d8dbbe9d9641",
   "metadata": {},
   "source": [
    "# Luka Signs Max Extension with the Lakers"
   ]
  },
  {
   "cell_type": "markdown",
   "id": "d6612936-3ad9-4de3-8284-c968362bb81f",
   "metadata": {},
   "source": [
    "Luka Doncic has signed the max extension he could with the Lakers. He signed a 3-year, $165 million contract with a player option for the last year. This nails him through 2028 and will give Luka a pay raise for the 2 seasons he is guranteed to stay with the Lakers."
   ]
  },
  {
   "cell_type": "markdown",
   "id": "44aa75c7-78bd-45dc-aa26-d76fc3c6dcdf",
   "metadata": {},
   "source": [
    "## Impact for the Lakers"
   ]
  },
  {
   "cell_type": "markdown",
   "id": "b527d592-c758-4a13-ad00-2e99c9e0a6de",
   "metadata": {},
   "source": [
    "This sets a cap hit of around $55 million for the next 2 seasons on the Lakers' cap sheet. I believe another extension will be coming for the years following 2028, so this only nails Luka in for the next 2 seasons. This is fine for the Lakers as they have a lot of salary coming off the books this season, and Luka would be the only big contract to build around this coming season, and next season as well. I'm not sure who will be available at the time in free agency, so we might see some trades being made by the Lakers this coming season to bring in longer-term contracts. It's too early to tell what is going to happen. I do believe that free agency will make a resurgence in how teams operate with the new aprons, so there may be more players to work with in free agency. We will have to see what the Lakers do in this scenario.\n",
    "\n",
    "On Luka's end, it's tough as he would've gotten more money if he had stayed with the Mavs (which he wanted to do anyway), but he still got paid and for the amount of years before he's offered the Supermax after his 9th season in the league."
   ]
  }
 ],
 "metadata": {
  "kernelspec": {
   "display_name": "Python 3 (ipykernel)",
   "language": "python",
   "name": "python3"
  },
  "language_info": {
   "codemirror_mode": {
    "name": "ipython",
    "version": 3
   },
   "file_extension": ".py",
   "mimetype": "text/x-python",
   "name": "python",
   "nbconvert_exporter": "python",
   "pygments_lexer": "ipython3",
   "version": "3.10.12"
  }
 },
 "nbformat": 4,
 "nbformat_minor": 5
}
