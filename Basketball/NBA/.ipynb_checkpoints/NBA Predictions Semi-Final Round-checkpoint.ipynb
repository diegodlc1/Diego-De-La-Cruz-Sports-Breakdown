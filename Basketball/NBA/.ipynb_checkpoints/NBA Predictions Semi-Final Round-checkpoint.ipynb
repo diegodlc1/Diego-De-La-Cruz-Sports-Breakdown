{
 "cells": [
  {
   "cell_type": "markdown",
   "id": "74892876-f01c-47b5-9efe-b77eee312afa",
   "metadata": {},
   "source": [
    "# NBA Predictions Semi Finals #"
   ]
  },
  {
   "cell_type": "markdown",
   "id": "5c008a2c-dae7-451a-8451-46e6fe4a4f23",
   "metadata": {},
   "source": [
    "## Boston Celtics vs Indiana Pacers #"
   ]
  },
  {
   "cell_type": "markdown",
   "id": "c7f00dad-1d68-4bdf-aa33-a0d3e4ad8987",
   "metadata": {},
   "source": [
    "With the Celtics going through the Heat and Cavs, while the Pacers went through the Bucks and Knicks, the Pacers has had a harder route to the Eastern Conference Finals than the Celtics. However the Celtics will be coming out with more rest, beating both the Cavs and Heat in 5 games, while the Pacers played in 6 and 7 against the Bucks and Knicks. To me these are the 2 deepest teams while also being the most healthy in the East, with Porzingis being the only impact player out that played in the playoffs this year. With that being said I feel like the Celtics will come out of this as I feel like they're the better team of the 2. The Center position is very iffy currently for them and I think Myles Turner will be an impact player for the Pacers, however, the Celtics should come out of this as their backcourt is top tier. The Celtics win in 6 with the Pacers front court winning them 2 of the 6 games."
   ]
  },
  {
   "cell_type": "markdown",
   "id": "7303c375-38ae-45f7-9d0b-32992a948df9",
   "metadata": {},
   "source": [
    "## Minnesota Timberwolves vs Dallas Mavericks ##"
   ]
  },
  {
   "cell_type": "markdown",
   "id": "fcac58a7-3203-45da-97e6-699b059f2a27",
   "metadata": {},
   "source": [
    "The Timberwolves and the Mavericks matchup pretty weirdly with each other. I feel like the Timberwolves frontcourt is one of the best in the league, if not the best, while the tandem of Kyrie and Luka makes the Mavs backcourt the best in the league. While both teams have solid players to defend the \"Weaker\" end of the court, the Timberwolves best player plays in the backcourt. Anthony Edwards is the key player in this series and most of the Mavericks frontcourt, while good, is still young compared to the T-Wolves frontcourt. With that being said, Luke and Kyrie have been 2 of the best players in this playoffs. I think that the T-Wolves win this series in 6 as well. Edwards is the key factor and the Mavericks front court will fall apart. However, Luka and Kyrie have been the 2 best players in the playoff and will take 2 games for that reason."
   ]
  },
  {
   "cell_type": "markdown",
   "id": "b7cef8e9-96d5-4a42-b0c7-430912cbc480",
   "metadata": {},
   "source": [
    "## Projected Finals Prediction ##"
   ]
  },
  {
   "cell_type": "markdown",
   "id": "e43b68ff-b3da-40fa-b3c7-9b9ce7638381",
   "metadata": {},
   "source": [
    "## Boston Celtics vs Minnesota Timberwolves ##"
   ]
  },
  {
   "cell_type": "markdown",
   "id": "34c4ad63-f306-4cc2-9eb0-419648aabcb9",
   "metadata": {},
   "source": [
    "For this, Porzingis needs to be back by then. The Celtics frontcourt is very questionable without him and if he's not back by the Finals I will back the Timberwolves. However, I will go for the Celtics for the reason that they're the better and deeper team in the playoffs. Not knowing much past this next round I won't do crazy in depth as injuries aren't a factor for this currently. Celtics in 7 though."
   ]
  }
 ],
 "metadata": {
  "kernelspec": {
   "display_name": "Python 3 (ipykernel)",
   "language": "python",
   "name": "python3"
  },
  "language_info": {
   "codemirror_mode": {
    "name": "ipython",
    "version": 3
   },
   "file_extension": ".py",
   "mimetype": "text/x-python",
   "name": "python",
   "nbconvert_exporter": "python",
   "pygments_lexer": "ipython3",
   "version": "3.10.12"
  }
 },
 "nbformat": 4,
 "nbformat_minor": 5
}
