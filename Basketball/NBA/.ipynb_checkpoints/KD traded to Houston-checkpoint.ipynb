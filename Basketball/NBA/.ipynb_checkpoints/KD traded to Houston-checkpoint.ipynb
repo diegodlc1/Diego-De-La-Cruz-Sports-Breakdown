{
 "cells": [
  {
   "cell_type": "markdown",
   "id": "0698fc02-6bf4-4efb-b176-68828332c6c3",
   "metadata": {},
   "source": [
    "# Durant Traded to the Rockets"
   ]
  },
  {
   "cell_type": "markdown",
   "id": "be4cb688-3dfb-4385-94de-1041284ac899",
   "metadata": {},
   "source": [
    "Kevin Durant has been traded to the Houston Rockets for Jalen Green, Dillon Brooks, the 10th pick in this year's draft, and a bunch of seconds. I will be breaking down this massive trade in both teams' aspects and go from there. This trade is illegal at the moment, I believe that we will see more movement coming from this trade."
   ]
  },
  {
   "cell_type": "markdown",
   "id": "327ed096-12bd-4256-a321-d8e104b0e23a",
   "metadata": {},
   "source": [
    "## Impact for the Rockets"
   ]
  },
  {
   "cell_type": "markdown",
   "id": "c316801c-f1a9-43d7-ae44-d1b4ce8bba1c",
   "metadata": {},
   "source": [
    "The Rockets traded a good deal of their assets for Durant. I'm kind of surprised that Brooks was traded, but it makes some sense for why they did it. The Rockets are looking to win now. They got a solid star in Durant, and it didn't cost them a ton in what they were doing. They moved off of 2 bad contracts, and we'll see if the Rockets extend Durant.\n",
    "\n",
    "I do think more moves will be made by the Rockets. The Rockets have a massive hole at the SG position. While I'm still high on Sheppard, I don't think he's a starting SG on a competing team right now, on top of thinking that he's more of a PG than an SG. Other than that, they have a lot of wings and big men that need to be moved. Since this trade will process at the turn of the new NBA year, as this trade would be illegal if it weren't, then let's take a look at what moves can be made. I think we'll see Smith Jr. and Landale being the names that are moved for contracts, and picks will be added wherever to make up for the move. If they were to make a trade during this season, possible options are Malik Monk, Klay Thompson, Jordan Clarkson, Austin Reaves, and Coby White. If we expand it next season, I can add Colin Sexton, Andrew Nembhard, Lu Dort, and Josh Hart. I don't see most of this happening. I don't think the Mavs, Lakers, or Thunder want to help Houston. Pacers have a backlog in bigs, and I don't think they're looking to move Nembhard. The Knicks would be interested in the added depth; however, they would just cause a hole in the SG position as well. This leaves Monk, Clarkson, White, and Sexton. I think the Kings like Murray, and while I think Jabari will be better than Murray, I don't think that it's large enough to warrant a move away. I think one of the other 3 options can happen. The issue with the Bulls is that Williams is under contract for the next 3 years, plus a player option. Jabari will be better than him, but the Bulls might think that it's worth it to get Jabari. The Jazz are the most likely. They'll love to have Jabari and would be willing to part with Sexton for him. They'll take an expiring for Landale and Jabari for Sexton. I think that the Rockets need to go after Sexton, and we'll see Jabari in a Jazz jersey."
   ]
  },
  {
   "cell_type": "markdown",
   "id": "17068c9a-2328-4249-99e3-278bfb8e0804",
   "metadata": {},
   "source": [
    "## Impact for Phoenix"
   ]
  },
  {
   "cell_type": "markdown",
   "id": "b52bae30-0f60-4fce-be11-e425e1d2fcd6",
   "metadata": {},
   "source": [
    "I mean, I get it. You need to get something out of KD, and if you believe that this is the best option, then you have to pull the trigger. I think that Brooks will stay in Phoenix as he fits what the Suns are trying to do at the moment, but I think Green will be rerouted. I know some reports are saying that it won't happen, but I don't understand it. Booker, Beal, and Green are all shooting guards. You're not trading Booker, you can't trade Beal unless he allows it, and you find a partner willing to take him on, that leaves Green as the odd man out. I don't get keeping him. Move him for a PG, PF, or C. \n",
    "\n",
    "I can see a push to get Dejounte Murray. The Pelicans can take a chance on Jalen Green. He fits the timeline and can fit well with Zion. While Green's value is at the lowest, so is Murray's. The Suns can get a real PG to play alongside Booker and Brooks. They also get a better contract in Murray than they would've kept Green. Outside of this, I think the Suns need to make a move for a big. O'Neal and Allen are solid enough depth pieces to combine to get a big of some sort. This is assuming that they don't pick up Micic's option and don't have Martin's contract guaranteed. If that happens, they can maybe make a move for Kyle Kuzma. Allen and O'Neal are on some bad contracts, and there's not much value in them as competing teams would be the only ones looking to trade for them. The Bucks make the most sense, but even then, it's not great either. The Suns also have to do a lot of cap moves to get under the apron to combine Allen and O'Neal, and doing all of that to end up with Kyle Kuzma isn't inspiring. We'll see what they do cap-wise, but rerouting Jalen Green for DeJounte Murray is a great starting move for both the Pelicans and Suns."
   ]
  },
  {
   "cell_type": "markdown",
   "id": "87fdd325-2c0d-4a1d-940a-97022cb31c56",
   "metadata": {},
   "source": [
    "## Final Thoughts"
   ]
  },
  {
   "cell_type": "markdown",
   "id": "61c62c1b-050f-4728-858e-288acfe99028",
   "metadata": {},
   "source": [
    "Like I've mentioned above, this trade isn't legal. We will see either another major player being moved, or a salary filler will be moved from this trade. Truthfully, the Pelicans need to be the team to jump on Green. I think that it would be perfect for both the Suns and the Pelicans. \n",
    "\n",
    "Grades:\n",
    "\n",
    "Rockets B+\n",
    "\n",
    "They got KD without giving up too much. It's great for a competing team, and a move you make when you need to get over the hump. The biggest loss is the toughness that Brooks brought, but Thompson can fill that. The reason it's not higher is the massive hole at SG. If the Suns can make the move for Sexton or an SG, I can upgrade this grade to an A. Until then, it's a pretty big hole for a competing team.\n",
    "\n",
    "Suns C+\n",
    "\n",
    "I don't mind this trade for the Suns. Is it great for them, not really, but what are they expecting from KD? I think it's a fine return. My issue is getting Jalen Green when you already have 2 SGs in your lineup. Reroute Green, and I think that the return can be solid from this point. Dillon Brooks is a solid addition as well. He can play as a wing on a competing team and see what can happen. Truthfully, the Suns will make more moves with Green, Allen, and/or O'Neal. Until then it's a C+ because the return is still underwhelming."
   ]
  }
 ],
 "metadata": {
  "kernelspec": {
   "display_name": "Python 3 (ipykernel)",
   "language": "python",
   "name": "python3"
  },
  "language_info": {
   "codemirror_mode": {
    "name": "ipython",
    "version": 3
   },
   "file_extension": ".py",
   "mimetype": "text/x-python",
   "name": "python",
   "nbconvert_exporter": "python",
   "pygments_lexer": "ipython3",
   "version": "3.10.12"
  }
 },
 "nbformat": 4,
 "nbformat_minor": 5
}
