{
 "cells": [
  {
   "cell_type": "markdown",
   "id": "b5715d93-4f41-482e-9e0e-9a7b24a909d5",
   "metadata": {},
   "source": [
    "# Powell Activates 4 million player option"
   ]
  },
  {
   "cell_type": "markdown",
   "id": "2c19588f-ba10-4c6c-88d2-5a6442b24292",
   "metadata": {},
   "source": [
    "Another boring 24 hours from the time I'm writing this. The most impactful thing done was Dwight Powell doing the obvious and activating his 4 million dollar player option with the Mavs. I'll break this down below."
   ]
  },
  {
   "cell_type": "markdown",
   "id": "f3c3bb48-b01b-4864-8cb7-ef7882ef6737",
   "metadata": {},
   "source": [
    "## Impact for both Dallas and Powell"
   ]
  },
  {
   "cell_type": "markdown",
   "id": "0cea4e87-065c-41d8-8ea9-5083bb4fbac5",
   "metadata": {},
   "source": [
    "In the least shocking development from the Dallas front office, Powell has picked up his player option worth 4 million next season. I mean, it's the most obvious move to make if you're Powell. He would be out of the league if he didn't pick up this option. I have nothing more to say about him. For the Mavs, it's understandable why they gave him the contract, but he's been overpaid this whole contract. It's a meh deal for his 22-23 season, but this contract has aged badly for a player who's only making an AAV of 4 million. The thing that sucks about it as well is that it puts the Mavs deeper in the first apron than just getting a vet minimum. It has no trade value outside of being an expiring contract, and it's not enough to get a lower salary if they trade it for a less valuable contract, as it's not worth enough. It might be a throw-in contract if the Mavs want to trade for a Guard this offseason and need enough money to make a trade happen. It just depends on how the Mavs want to operate. They have a win-now roster and shouldn't be scared to operate in the second apron. They're hard-capped this year and will be over the apron next season, so they can't take on more salary than what they send out. We'll see what happens."
   ]
  }
 ],
 "metadata": {
  "kernelspec": {
   "display_name": "Python 3 (ipykernel)",
   "language": "python",
   "name": "python3"
  },
  "language_info": {
   "codemirror_mode": {
    "name": "ipython",
    "version": 3
   },
   "file_extension": ".py",
   "mimetype": "text/x-python",
   "name": "python",
   "nbconvert_exporter": "python",
   "pygments_lexer": "ipython3",
   "version": "3.10.12"
  }
 },
 "nbformat": 4,
 "nbformat_minor": 5
}
