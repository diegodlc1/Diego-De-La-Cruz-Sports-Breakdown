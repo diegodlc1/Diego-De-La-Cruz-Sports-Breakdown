{
 "cells": [
  {
   "cell_type": "markdown",
   "id": "dd900e89-1e91-4129-ba56-2a4a71162942",
   "metadata": {},
   "source": [
    "# Pacers trade the 23rd pick in this year's draft to the Pelicans"
   ]
  },
  {
   "cell_type": "markdown",
   "id": "13111139-b499-4fa2-904f-e4d6e6573f7f",
   "metadata": {},
   "source": [
    "I hate always stacking onto the NBA writing, but with another slow day, we have a trade go down in the NBA. The Pacers traded 23 this year and the rights to Mojave King for their own 2026 first-round pick back from the Pelicans. A minor deal in the grand scheme of things but a known move so I will talk about it."
   ]
  },
  {
   "cell_type": "markdown",
   "id": "7a382da4-f041-4afb-858a-b7fb1e8b00c0",
   "metadata": {},
   "source": [
    "## Impact for the Pacers"
   ]
  },
  {
   "cell_type": "markdown",
   "id": "81b95ed5-de94-4a07-9bc9-1d57b5f930ff",
   "metadata": {},
   "source": [
    "The Pacers are currently down 3-2 in the finals. While that doesn't really matter in the grand scheme of this trade, it's something worth mentioning in why this deal was made. First, the Pacers won't give substantial minutes to the 23rd overall pick this year. With a team as deep as Indiana, with a majority of those players set to come back, the Pacers have no reason to give a rookie-scale contract for a player who won't give substantial minutes to this team. That leads to the second reason. The Pacers are looking to pay Myles Turner this offseason, and by trading away this pick, they are not required to give a rookie-scale contract for a first-rounder; it doesn't make sense for them to give a contract to the rookie. The final reason is that the Pacers get full control over their own picks from 2026-2032. I believe we will see a big move by them this coming offseason if they lose in the finals, and those picks will be used in that trade."
   ]
  },
  {
   "cell_type": "markdown",
   "id": "e200c678-6ede-4a8a-b37f-80196cbbcf7d",
   "metadata": {},
   "source": [
    "## Impact for the Pelicans"
   ]
  },
  {
   "cell_type": "markdown",
   "id": "12998a16-296e-42d1-9b9f-8b6214aa0f0a",
   "metadata": {},
   "source": [
    "The Pelicans got a solid trade. Mojave King is whatever. I don't think he'll be coming over to the States at all, so his rights are whatever at this point. The other is that they went up in the draft. Looking at odds currently, the Pacers are tired with the 2nd highest odds to win the finals. Now that doesn't mean much as the draft is based on regular season record, I do believe that the Pacers will be one of the top teams in the league next season and have a pick in around 26-30 range. The Pelicans went up, and they got draft rights, but that doesn't matter at all. Honestly, a solid move for them as well."
   ]
  },
  {
   "cell_type": "markdown",
   "id": "255ab860-bb31-4768-96ae-ab00ada41992",
   "metadata": {},
   "source": [
    "## Final Thoughts"
   ]
  },
  {
   "cell_type": "markdown",
   "id": "505f66eb-063c-45c6-9897-b38d81398cf6",
   "metadata": {},
   "source": [
    "Pacers: A\n",
    "\n",
    "A solid move for them. It checks a lot of the question marks they had, and overall, makes a lot of sense for them. The reason it's not an A+ is that I believe everyone knows that they're losing value in the sense that next year's pick will be worse than this year's. This gets a higher grade for the reason that this pick will be used in a major trade for the Pacers.\n",
    "\n",
    "Pelicans: A+\n",
    "\n",
    "They got more value in this trade and 23 this year vs 26-30 the next doesn't matter for the Pelicans. They're getting young talent to see what they have, and they can go from there. Getting no-doubt value makes this trade an A+.\n",
    "\n",
    "Since this is such a short write-up, I want to explore possible options for the Pacers using this pick. Assuming Turner, the Pacers could look to make an upgrade at the wing position. I think in this case, we'll see Mathurine and Toppin being moved. Both are really good players, but Mathurine is up for an extension after next year, and that would put the Pacers high in the tax, and Toppin is the most expendable high contract that the Pacers have. Them two by themselves should get a solid return, and with picks would get a great return. I see only 2 options. Trey Murphy and Cam Johnson. The first option needs to be Trey Murphy. There are some rumors that he might be available, but I don't see the Pelicans doing that unless they blow up what they have now and trade Zion, Murray, McCollum, etc. I don't know if they do that. It just depends on what direction the Pelicans want to go in. If they're looking to sell, then this is a great return for Murphy. I just think he's too young for a selling team to trade away. If the Pelicans don't look to trade Murphy, then Cam Johnson is almost guaranteed to be a Pacer. Mathurine, Toppin, and a protected first or 2 should be enough for the Nets to trade Johnson. The Pacers need to do that as well since they're competing right now. They lose in the finals, then this move needs to be done since they're right there. Ultimatly, we'll see what happens."
   ]
  }
 ],
 "metadata": {
  "kernelspec": {
   "display_name": "Python 3 (ipykernel)",
   "language": "python",
   "name": "python3"
  },
  "language_info": {
   "codemirror_mode": {
    "name": "ipython",
    "version": 3
   },
   "file_extension": ".py",
   "mimetype": "text/x-python",
   "name": "python",
   "nbconvert_exporter": "python",
   "pygments_lexer": "ipython3",
   "version": "3.10.12"
  }
 },
 "nbformat": 4,
 "nbformat_minor": 5
}
