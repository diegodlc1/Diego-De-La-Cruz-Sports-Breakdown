{
 "cells": [
  {
   "cell_type": "markdown",
   "id": "1bfec1cc-2d0f-4575-b611-a4e66b537321",
   "metadata": {},
   "source": [
    "# Beal Joins Clippers"
   ]
  },
  {
   "cell_type": "markdown",
   "id": "46c2b890-76b2-4071-9918-a1fa469f9d5f",
   "metadata": {},
   "source": [
    "The Phoenix Suns have bought out Beal's contract, extending his cap hit for the next 5 seasons, and Beal is able to join the Clippers for this coming season. He signs for 2 years at 11 million, which totals out to 5.5 million a year. The Suns extend around 19 million in dead cap each season for the next 5 years. Let's break this down"
   ]
  },
  {
   "cell_type": "markdown",
   "id": "a8cb7ed5-5b9c-4859-a5e1-04748d8f786b",
   "metadata": {},
   "source": [
    "## Impact for Clippers"
   ]
  },
  {
   "cell_type": "markdown",
   "id": "399a02cd-b0e5-4ee9-9abf-1950337c8d97",
   "metadata": {},
   "source": [
    "Yeah, good move. I have nothing else to say about it. Pretty much everything I think can be said in the Collins trade write-up, but to summarize, the Clippers, after trading Powell, had a hole at SG that I didn't think that Bogdanovic would be able to fill consistently. Beal is able to step in and fill that hole. My only issue is the age of this Clippers team. They are old. I don't think that the Clippers are competing for the next 2 seasons, and then building in free agency after that. I don't think there is much else to say that I didn't say in the Collins write-up but I would change that grade to a A- and this signing the same."
   ]
  },
  {
   "cell_type": "markdown",
   "id": "7d77e45f-a55f-464e-99ea-a2170a664b34",
   "metadata": {},
   "source": [
    "## Impact for Phoenix"
   ]
  },
  {
   "cell_type": "markdown",
   "id": "b336b938-44bf-46aa-ac9a-8d49c8b0d6a2",
   "metadata": {},
   "source": [
    "This will be where most of the writing will be done. I don't know what the Suns' plans are. My issue arises from the Booker extension. I get that Beal was most likely gone, and they would get bought out. After that, they have a Frankenstein of a roster. They have Allen, O'Neal, Booker, and Brooks, who are older and have longer-term deals, and then they have the youth that is happening. They save money from being in the tax, which I think was the end goal, but what more can they do? I'm not sure if O'Neal and Allen have much trade value based on their contract, maybe O'Neal more so than Allen, but he is older. Brooks has positive value, and of course Booker, but I just don't understand what the Suns are doing. I'm trying to think of potential moves to put them above where they currently are, and I'm not sure what can happen. I get why they did this, but not sure what the plan is."
   ]
  }
 ],
 "metadata": {
  "kernelspec": {
   "display_name": "Python 3 (ipykernel)",
   "language": "python",
   "name": "python3"
  },
  "language_info": {
   "codemirror_mode": {
    "name": "ipython",
    "version": 3
   },
   "file_extension": ".py",
   "mimetype": "text/x-python",
   "name": "python",
   "nbconvert_exporter": "python",
   "pygments_lexer": "ipython3",
   "version": "3.10.12"
  }
 },
 "nbformat": 4,
 "nbformat_minor": 5
}
