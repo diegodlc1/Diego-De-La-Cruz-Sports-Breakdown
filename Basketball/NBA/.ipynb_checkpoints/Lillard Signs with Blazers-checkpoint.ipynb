{
 "cells": [
  {
   "cell_type": "markdown",
   "id": "d46a37d3-dded-4957-a81f-5774e1fb3316",
   "metadata": {},
   "source": [
    "## Lillard Signs with Blazers"
   ]
  },
  {
   "cell_type": "markdown",
   "id": "66553522-33df-4244-98ed-04b571705af9",
   "metadata": {},
   "source": [
    "Damien Lillard has returned to Portland on a 3-year, 42 million dollar contract. This would have the Blazers taking a dead year this coming season while taking on Lillard at 14 million dollars each season. This has an impact for the Blazers and Bucks so let's talk about it."
   ]
  },
  {
   "cell_type": "markdown",
   "id": "a1d23a7b-5014-4885-9b6c-40236fd25dce",
   "metadata": {},
   "source": [
    "## Impact for the Blazers"
   ]
  },
  {
   "cell_type": "markdown",
   "id": "b0325256-be89-4a15-b880-433c6f0c794f",
   "metadata": {},
   "source": [
    "He's a franchise legend. He might be the franchise legend, but I don't think that he has lost any love with Portland. The Blazers are shaped out to still be in the bottom third of the West. I can confidently claim that only Utah will be worse than Portland. Everyone else is still up in the air. Either way, he brings a veteran presence to the franchise that he loves. The issue is coming back from an Achilles injury. He most likely won't be the same player ever again, but he can probably still have an impact on the court that is worth more than the 14 million that he is being paid. The Blazers are going about all of this in a confusing manner, so I'm not sure what their end goal will be. It's a fine signing for them considering everything. I'll give it a B. It's not much of anything that I would write home about."
   ]
  },
  {
   "cell_type": "markdown",
   "id": "6aa2037b-4813-4401-b29d-4129a7af68c3",
   "metadata": {},
   "source": [
    "## Impact for the Bucks"
   ]
  },
  {
   "cell_type": "markdown",
   "id": "3dadbd54-6718-4d07-bf71-36e71ee1b3e9",
   "metadata": {},
   "source": [
    "This has a direct impact on Milwaukee. Since the Bucks waived Lillard, the Bucks' cap hit goes down to 20.2 million instead of the reported 22.5 million that was mentioned before. This allows the Bucks to a little more flexiblity in their cap space for the following 4 seasons. This is important in case of needing to stay under the salary cap and have the cap room, or if they need to stay out of the first and second apron. The Bucks don't get it this season, so they can't do anything with it anymore, but they get to have the flexibility for the following seasons. It's a nice impact for the Bucks."
   ]
  }
 ],
 "metadata": {
  "kernelspec": {
   "display_name": "Python 3 (ipykernel)",
   "language": "python",
   "name": "python3"
  },
  "language_info": {
   "codemirror_mode": {
    "name": "ipython",
    "version": 3
   },
   "file_extension": ".py",
   "mimetype": "text/x-python",
   "name": "python",
   "nbconvert_exporter": "python",
   "pygments_lexer": "ipython3",
   "version": "3.10.12"
  }
 },
 "nbformat": 4,
 "nbformat_minor": 5
}
