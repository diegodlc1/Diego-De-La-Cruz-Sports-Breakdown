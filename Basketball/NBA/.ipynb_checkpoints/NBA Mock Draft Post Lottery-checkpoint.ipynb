{
 "cells": [
  {
   "cell_type": "markdown",
   "id": "a81a2e7f-3583-483c-b4bb-3f42a62e48c2",
   "metadata": {},
   "source": [
    "# Post Draft Lottery Mock Draft: Lottery Only Quick Breakdown #"
   ]
  },
  {
   "cell_type": "markdown",
   "id": "8010edca-c55e-4bd2-9b44-df70c5605122",
   "metadata": {},
   "source": [
    "The NBA draft lottery had just happened today and I wanted to do an early Lottery-only Mock Draft and quick breakdown for each team drafting in the lottery this year. This will be without any trades and will only be a quick breakdown in what I'm thinking the moves will be."
   ]
  },
  {
   "cell_type": "markdown",
   "id": "da938868-e4d6-4e6e-9149-0cd65161b324",
   "metadata": {},
   "source": [
    "## 1. Atlanta Hawks - Alex Sarr, France ##"
   ]
  },
  {
   "cell_type": "markdown",
   "id": "82ccf810-d457-4445-b417-cde550df3be8",
   "metadata": {},
   "source": [
    "The Hawks get lucky in the lottery and jump to the number one pick in this year's draft. Unlucky for them this is one of the weakest drafts in this century. However, this draft is key in getting role players and building a team which I believe is the meta for the NBA. With that being said Sarr is a top draft pick in this class. A defensive big that has a good offensive base is something the Hawks need. The team lacks a Power Forward and Sarr should be able to pair up with the front court and Capela and Bogdanovic to make up a solid frontcourt. If I were doing trades the Hawks could try to trade this to get a player to help now, however, I don't think there is much of a market. I think with this pick the Hawks won't make a move with Young or Murray, I can see a trade with Capela or Okongwu coming now that they have a top pick that plays similarly to both players."
   ]
  },
  {
   "cell_type": "markdown",
   "id": "2b4988f0-d9c7-40c4-998b-869e58610c8e",
   "metadata": {},
   "source": [
    "## 2. Washington Wizards - Zaccharie Risacher, France ##"
   ]
  },
  {
   "cell_type": "markdown",
   "id": "a276e921-70da-47f7-a663-7224f72a8dfc",
   "metadata": {},
   "source": [
    "Back to Back Franch players for the first 2 picks of this draft, I see the Wizards getting Risacher second overall. To me the player with the highest upside the Wizards needs help everywhere and needs to take a chance on the player in the draft with the best potential, to me that is Risacher. The highest Boom-Bust player the Wizards takes the raw scorer and tries to make him into something. While Risacher currently isn't the best player in the draft, he is the one who can pan out to be the best player from this draft. The Wizards are in a bad position and they need to take a chance on this situation, this is the chance to take."
   ]
  },
  {
   "cell_type": "markdown",
   "id": "c4d7fb77-ca32-4b09-9179-bfc73ecaf1a5",
   "metadata": {},
   "source": [
    "## 3. Houston Rockets - Nikola Topic, Serbia ##"
   ]
  },
  {
   "cell_type": "markdown",
   "id": "691dfed7-ea76-42ba-be2c-739b141f03aa",
   "metadata": {},
   "source": [
    "An all-European top 3, Topic is a playmaking point guard that should back up Van Vleet for the next 2 years and develop to come and be the point guard of the future. At 6'7'', the tall guard is a scorer with playmaking abilities. With the team around him also young, I can see him developing to be a playmaker for Sengune, Green, and Smith Jr. If he develops and Van Vleet leaves in 2 years, he can be a great fit for this young Rockets team"
   ]
  },
  {
   "cell_type": "markdown",
   "id": "0051b811-77dd-4680-8436-d8fc130c5ec3",
   "metadata": {},
   "source": [
    "## 4. San Antonio Spurs - Matas Buzelis, G League Ignite  ##"
   ]
  },
  {
   "cell_type": "markdown",
   "id": "00059ffe-8f5a-4fd5-bacd-32d220f63aae",
   "metadata": {},
   "source": [
    "A 6'11'' player can play most positions on the court, Buzelis is a good piece for any franchise to take a chance on. With the Spurs needing a bench piece in a lot of different positions, Buzelis is a solid piece to move around on the court and space the court for Wembanyama to develop."
   ]
  },
  {
   "cell_type": "markdown",
   "id": "feed6f12-9815-46a0-b70a-a7c30a79212c",
   "metadata": {},
   "source": [
    "## 5. Detroit Pistons - Ron Holland, G League Ignite ##"
   ]
  },
  {
   "cell_type": "markdown",
   "id": "39747fbc-0a9b-405f-b98c-60b17c0e1677",
   "metadata": {},
   "source": [
    "After having the worst record in the NBA last year, the Pistons get unlucky and once again end up with the 5th pick in this draft. Luckily this is a weak draft class and I believe the Pistons have a base, however, they need to start building around it. I believe that Cade can be the it player for them. Putting up 22.7 ppg in 62 games in only his 3rd year, I can see him being that player. I'm still high on Ivey and Duran, I believe that the Pistons need a Defensive Forward who can help Duran and the team defensively, while not taking many touches from Cunningham and Ivey. Holland is that player and I believe he goes 5th."
   ]
  },
  {
   "cell_type": "markdown",
   "id": "36acd431-1d5b-46be-a2e6-1375181a3779",
   "metadata": {},
   "source": [
    "## 6. Charlotte Hornets - Reed Sheppard, Kentucky ##"
   ]
  },
  {
   "cell_type": "markdown",
   "id": "fcc72585-72a1-40dc-9360-b9d32ec62cc7",
   "metadata": {},
   "source": [
    "The first NCAA player to be drafted in this draft, the Hornets need to start building around Miller, Ball, and (Mark) Williams. I think that this is a solid base and a 3 and D player is exactly what the Hornets need. Picking up on Ball's terrible defense, Sheppard should help cover that while also adding a 3-point threat."
   ]
  },
  {
   "cell_type": "markdown",
   "id": "2c0b5dbc-4031-482a-8b71-bb3eb553c5e3",
   "metadata": {},
   "source": [
    "## 7. Portland Trail Blazers - Dalton Knecht, Tenneessee ##"
   ]
  },
  {
   "cell_type": "markdown",
   "id": "b8fac301-0320-49be-9e1b-59020bacb21b",
   "metadata": {},
   "source": [
    "A pure scorer, Knecht is someone who can help the Trail Blazers make a push to improve from last year. A player who lacks defensive one-on-ones and shot creation, surrounding him the players that Portland's current roster can help cover up, I believe that Knecht can be a player that elevates Portland to the next level, which I think the Trail Blazers should think about doing with Ayton's and Grant's contract. They need a pure scorer and Knecht can be that player"
   ]
  },
  {
   "cell_type": "markdown",
   "id": "cfaf09bc-abaf-452b-80d9-79c11f0d27c1",
   "metadata": {},
   "source": [
    "## 8. San Antonio Spurs - Cody Williams, Colorado ## "
   ]
  },
  {
   "cell_type": "markdown",
   "id": "e244ac33-dcbb-46d1-bc26-5899a077719a",
   "metadata": {},
   "source": [
    "A player who I believe fits the Popovich mold, Williams would be a great addition to the Spurs. A slasher that can create room for his teammates, while also being a solid defender. If he can develop his shot he could be the best player in the draft, however, the Spurs don't need to rely on him as a shooter and thus his skillset currently can be useful for the Spurs"
   ]
  },
  {
   "cell_type": "markdown",
   "id": "fbd18598-b385-419a-8082-ccea4e0a0b41",
   "metadata": {},
   "source": [
    "## 9. Memphis Grizzlies - Tidjane Salaun, France ##"
   ]
  },
  {
   "cell_type": "markdown",
   "id": "b1d98523-f16a-46ec-8c04-dbc6cf4ec4b5",
   "metadata": {},
   "source": [
    "A third Frenchman drafted in the top 10, the raw Frenchman has the defensive grit as well as able to play with an offense with a lot of motion like the Grizzlies run. This would be a great landing place for him as he is not NBA-ready right now. The Grizzlies are a solid team that can push to be a top 4 team in the West next year and not rely on young players to make it there. Salaun can develop there for a couple of years and hopefully be a solid piece in the future."
   ]
  },
  {
   "cell_type": "markdown",
   "id": "82a5967e-9b26-4b6e-a7a7-629eac1ccab1",
   "metadata": {},
   "source": [
    "## 10. Utah Jazz - Stephon Castle, Connecticut ##"
   ]
  },
  {
   "cell_type": "markdown",
   "id": "9ff030cd-6741-40f4-a6e3-2054fbde7288",
   "metadata": {},
   "source": [
    "With Dillingham still on the board, this pick may come as a surprise to many. However, the Jazz has Sexton and Markkanen who I would trust as a scorer. You need a player who can defend and be a playmaker for them. Castle is that player while I see Dillingham as another Sexton with the two of them being 6'1 and 6'3 respectively. Castle, who is 6'6, is a solid player who would be a solid piece for this Jazz team to build with."
   ]
  },
  {
   "cell_type": "markdown",
   "id": "9e604a8a-baa1-4c7a-a269-d6d18b4a3c52",
   "metadata": {},
   "source": [
    "## 11. Chicago Bulls - Donovan Clingan, Connecticut ##"
   ]
  },
  {
   "cell_type": "markdown",
   "id": "f704ffc7-4374-4047-a019-55b2af5ace90",
   "metadata": {},
   "source": [
    "This team is in a bad situaiton. I think that their back court is solid, however their front court is a different story. While they still have Vucevic for 2 more years, I believe they either need to move him to Power Forward, or try and move him in a trade. Clingan should be a solid defensive piece and if the Bulls keep Vuc, they would have a solid tandem of a scorer big and a defending big."
   ]
  },
  {
   "cell_type": "markdown",
   "id": "ae6b690b-2948-4c42-bd0a-002aacfbfe9d",
   "metadata": {},
   "source": [
    "## 12. Oklahome City Thunder - Ja'Kobe Walter, Baylor ##"
   ]
  },
  {
   "cell_type": "markdown",
   "id": "5f403202-1995-43cd-9a9c-7f03284a9581",
   "metadata": {},
   "source": [
    "A championship contender with a lottery pick is hard to come by, however due to Presti's magic, here we are. This team needs to look for win now pieces. Due to no trades in this mock draft I believe that Walter is the best fit for the Thunder. I'm not a fan of Giddey. He's a good scorer with terrible defense. I feel like Walter is a good scorere with better defense. If Walter can develop alongside SGA, Dort, Williams, and Holmgren, this team can make that next step."
   ]
  },
  {
   "cell_type": "markdown",
   "id": "0f7540fa-bd59-4369-a4a4-c3362fb8717f",
   "metadata": {},
   "source": [
    "## 13. Sacramento Kings - Kel'el Ware - Indiana ##"
   ]
  },
  {
   "cell_type": "markdown",
   "id": "c69aa16b-89d1-4d64-8815-b951ee436886",
   "metadata": {},
   "source": [
    "The Kings need an athletic Center that can work alonside Sabonis in the front court. With Sabonis being the scorer that he is, Ware would be a defensive pressence that is able to score if need be. Ware would be a solid pick for the Kings."
   ]
  },
  {
   "cell_type": "markdown",
   "id": "fa67bfe0-2120-4548-9864-e6216c6e9599",
   "metadata": {},
   "source": [
    "## 14. Portland Trail Blazers - Kyle Filipowski - Duke ##"
   ]
  },
  {
   "cell_type": "markdown",
   "id": "02212b23-ab6e-41d1-899b-80aff95b6a96",
   "metadata": {},
   "source": [
    "A solid player all around coming out of Duke, Filipowski should be able to a solid bench piece that can create with this Trail Blazers team. Filipowski would be a good player for the now, while also leaving some upside in being an even better player."
   ]
  },
  {
   "cell_type": "markdown",
   "id": "a85f9efd-cd83-404c-bb2b-c5144dca8600",
   "metadata": {},
   "source": [
    "# Conclusion #"
   ]
  },
  {
   "cell_type": "markdown",
   "id": "15a456d9-8968-4553-84f3-157a29dadefa",
   "metadata": {},
   "source": [
    "With this draft class being bad, I think that a lot of teams will be going for fit as well and we won't see many draft day trades involving picks as there's not that much value in this draft. \n",
    "\n",
    "My boldest prediction is Dillingham not being a lottery pick. This to me makes sense but not what I was projecting when I started this mock draft. The reason I think that Dillingham isn't a lottery pick is that there aren't that many teams in need of a point guard. I see the Wizards and Jazz being the only 2 teams in need of one, with the Wizards probably going BPA as they're in dire need of every position. I see the Rockets, Spurs, Thunder, and possibly Kings being potential teams picking a point guard, however, the Spurs don't desperately need one this year. The Rockets would pick one if it's the best selection at the moment, however, Risacher could drop and he would be a better selection. The Thunder and Kings need an SGA/Fox backup, however, I believe they need a backup in all positions. With that, I only really see 2 teams picking a point guard and Topic and Castle are the best fits for those respective teams.\n",
    "\n",
    "This was my early mock draft, I will be doing a full first-round draft a day or 2 before the draft."
   ]
  }
 ],
 "metadata": {
  "kernelspec": {
   "display_name": "Python 3 (ipykernel)",
   "language": "python",
   "name": "python3"
  },
  "language_info": {
   "codemirror_mode": {
    "name": "ipython",
    "version": 3
   },
   "file_extension": ".py",
   "mimetype": "text/x-python",
   "name": "python",
   "nbconvert_exporter": "python",
   "pygments_lexer": "ipython3",
   "version": "3.10.12"
  }
 },
 "nbformat": 4,
 "nbformat_minor": 5
}
