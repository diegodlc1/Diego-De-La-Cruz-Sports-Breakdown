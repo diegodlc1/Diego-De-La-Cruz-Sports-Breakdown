{
 "cells": [
  {
   "cell_type": "markdown",
   "id": "110afd95-5c3b-432a-9118-e042cd915ca6",
   "metadata": {},
   "source": [
    "# Westbrook Declines player option"
   ]
  },
  {
   "cell_type": "markdown",
   "id": "433a02b5-15c9-430b-b9e0-1a4f91ea6836",
   "metadata": {},
   "source": [
    "Russell Westbrook has declined his player option with the Nuggets for next season. He was set to get 3.2 million if he took it on. He will test free agency."
   ]
  },
  {
   "cell_type": "markdown",
   "id": "406984ad-fe06-42e3-99b7-6bebd29d337d",
   "metadata": {},
   "source": [
    "## Why?"
   ]
  },
  {
   "cell_type": "markdown",
   "id": "9b3d3ab9-847c-40e3-992c-c5e79ed6fa39",
   "metadata": {},
   "source": [
    "Westbrook has declined his option. He has recouped a good amount of value from this previous season, and I think it's fair for him to test free agency. I think he can pull around the same number as CP3 pulled last offseason, 8 million with another player option. The Nuggets only have Westbrook's non-Bird rights, and that would be less than the 5-10 million he can pull elsewhere. The issue comes in that the PG market is pretty solid this coming offseason, and I'm not sure how many teams are looking for a PG like Westbrook with the money to give it to him. Competing teams in desperate need of a point guard are possibly the Celtics, Bucks, Nuggets, Clippers, Kings, Mavericks, Suns, and possibly the Timberwolves. Looking at this list, it's still hard to make this all work out. Celtics and Suns are deep in the second apron and would need to make a lot of moves to offer a substantial number that's not the minimum. Mavs, T-Wolves, and Nuggets are set to be first apron teams, or even second apron, depending on how this offseason goes. They can only offer the TPMLE, which is set to be around 5.7 million. I do think these teams are prime candidates to land him. He's the type of player you offer the full TPMLE, and if trades happen with these teams, which I think will happen, they can open more space for more money, or close more space, which makes them desperate to use the full TPMLE. Clippers or Bucks are solid landing spots, but they have their own free agents that are more valuable than Westbrook to give contracts to that will eat into their own cap space. Maybe less so the Clippers than the Bucks, but if I'm the Clippers, I'm looking at better free agents on the market than Westbrook. The Kings might do it. They need a PG, and if they don't trade for one, they might look at Westbrook as a solid option and give him more money than what the Nuggets, Mavs, or T-Wolves can offer. I think he'll land on the Kings for around 7 million if he cares about money. If not, then the Nuggets will probably get him for the full TPMLE. The Mavs might not be all that interested, as he's a half-season rental while Kyrie is out and won't fit next to him when he comes back. The T-Wolves could be interested, but I don't think he's much of an upgrade from Conley. Unless the T-Wolves include Conley in a trade, Westbrook won't go their. I think the 2 options are the Kings and Nuggets. He'll make around 7 million with the Kings if they give him an offer."
   ]
  },
  {
   "cell_type": "markdown",
   "id": "e760d2d1-9038-4419-b9eb-50cd60689b00",
   "metadata": {},
   "source": [
    "## Impact for the Nuggets"
   ]
  },
  {
   "cell_type": "markdown",
   "id": "11464063-5578-4c66-8a1d-daf3ec688921",
   "metadata": {},
   "source": [
    "This was expected. While there's a chance that he will be retained, he had too good of a year to be paid that. I'll give them a 45% chance of landing him again. Unless the Kings get their guy elsewhere, trade for Jrue, or they're higher on a Shroder than Westbrook, then he's going to be a King. The Nuggets should be a little worried about not getting him back. Not sure what they can get in the free agent market, and we'll see what they do. They might aim for front-court depth. They'll use the full TPMLE to get a depth piece, though. We'll see what happens from here with this situation."
   ]
  }
 ],
 "metadata": {
  "kernelspec": {
   "display_name": "Python 3 (ipykernel)",
   "language": "python",
   "name": "python3"
  },
  "language_info": {
   "codemirror_mode": {
    "name": "ipython",
    "version": 3
   },
   "file_extension": ".py",
   "mimetype": "text/x-python",
   "name": "python",
   "nbconvert_exporter": "python",
   "pygments_lexer": "ipython3",
   "version": "3.10.12"
  }
 },
 "nbformat": 4,
 "nbformat_minor": 5
}
