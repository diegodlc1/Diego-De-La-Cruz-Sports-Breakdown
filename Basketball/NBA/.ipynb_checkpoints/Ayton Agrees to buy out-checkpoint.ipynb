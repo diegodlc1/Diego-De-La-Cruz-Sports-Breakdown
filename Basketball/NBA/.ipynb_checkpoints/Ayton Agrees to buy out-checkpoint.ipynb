{
 "cells": [
  {
   "cell_type": "markdown",
   "id": "efac37e6-d5ed-4d78-8d6b-6ef15a0f32d0",
   "metadata": {},
   "source": [
    "# Ayton and Portland Come to Terms with a Buyout"
   ]
  },
  {
   "cell_type": "markdown",
   "id": "75865d61-b445-49cf-9c44-755f9d23b2ed",
   "metadata": {},
   "source": [
    "One of the more surprising developments, DeAndre Ayton has come to terms with the Trail Blazers to buy out the last year of his contract. With this buyout, the Blazers will take on Ayton's cap hit, but it sounds like they agreed to 10 million less than what his contract is currently at. This allows Ayton to become a free agent for this upcoming. Not many teams will be in contention in him, but he is going to be on the market for this free agency period."
   ]
  },
  {
   "cell_type": "markdown",
   "id": "99f00d58-325c-48b9-9892-9ae496c2f3f4",
   "metadata": {},
   "source": [
    "## What's Next?"
   ]
  },
  {
   "cell_type": "markdown",
   "id": "cd95bb9b-af74-4504-bc31-f3e984e7d133",
   "metadata": {},
   "source": [
    "This came out of nowhere. I'm not certain why this decision was made. I don't believe Ayton would be out of the league next season unless he has an awful season. Even then, he would get the veteran minimum if that were to happen. I can get it from Portland's standpoint, but I would've looked for a trade or bought him out at the deadline. Either way, I thought that Ayton wasn't going to stay in Portland this upcoming season. Now, talking about the possible destinations. The Lakers are the most obvious and likely choice to land Ayton. Not a big fan of that destination, but I understand why he would want to go and why the Lakers will pursue him. Outside of that, I can see Golden State or Milwaukee being the other 2 teams in the running. Maybe if Atlanta likes him more than NAW, then we'll see Atlanta, but I highly doubt that happening. Either way, it's kind of obvious that Ayton will be a Laker."
   ]
  },
  {
   "cell_type": "markdown",
   "id": "b218327e-8c73-4377-acc5-b9b46a82fbda",
   "metadata": {},
   "source": [
    "## My Other Thoughts"
   ]
  },
  {
   "cell_type": "markdown",
   "id": "56ea5173-2ada-406f-a121-1943c35ea86d",
   "metadata": {},
   "source": [
    "I have been seeing a trend. I would think that someone like Ayton could warrant a trade. Play him until the deadline and trade him at the deadline. However, we've been seeing a drop in value for overpaid players. Sexton only went for Nurkic, and the Jazz included a second to move on from him. Ayton was bought out, for the possible reason that he has no value at 35 million, not even for a one-year rental by a competing team. I think that we're seeing the drop-off of overpaid contracts in the NBA. We'll see smaller and better deals starting with this free agency period. I think it's a great thing. I hated the 2010s. Going into the season with the idea that your team isn't going to be in the title race since Cleveland had the East locked up, and it was going to be the Warriors, with the Rockets being the only team competing with them. Parity is a great thing, and this free agency period will be the start of these deals. I don't see players being overpaid, and teams will try to stay under the second apron."
   ]
  }
 ],
 "metadata": {
  "kernelspec": {
   "display_name": "Python 3 (ipykernel)",
   "language": "python",
   "name": "python3"
  },
  "language_info": {
   "codemirror_mode": {
    "name": "ipython",
    "version": 3
   },
   "file_extension": ".py",
   "mimetype": "text/x-python",
   "name": "python",
   "nbconvert_exporter": "python",
   "pygments_lexer": "ipython3",
   "version": "3.10.12"
  }
 },
 "nbformat": 4,
 "nbformat_minor": 5
}
