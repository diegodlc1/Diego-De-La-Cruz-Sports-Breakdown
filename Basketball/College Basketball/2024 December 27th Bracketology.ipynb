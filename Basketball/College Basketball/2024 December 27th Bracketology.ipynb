{
 "cells": [
  {
   "cell_type": "markdown",
   "id": "240ff257-d42a-4cac-a866-0fed97920d6c",
   "metadata": {},
   "source": [
    "# 2024 December 27th Bracketology #"
   ]
  },
  {
   "cell_type": "markdown",
   "id": "08c9b00a-21a9-4ffd-afd3-3a1c3d8988dc",
   "metadata": {},
   "source": [
    "## South Region (Atlanta)"
   ]
  },
  {
   "cell_type": "markdown",
   "id": "67ac3b0a-3d3d-41b3-9006-4aee14affd2d",
   "metadata": {},
   "source": [
    "Lexington\n",
    "\n",
    "Auburn v Norfolk State\n",
    "\n",
    "Clemson v West Virginia\n",
    "\n",
    "Providence\n",
    "\n",
    "UConn v Arkansas State\n",
    "\n",
    "Baylor v Penn State/SMU\n",
    "\n",
    "Milwaukee\n",
    "\n",
    "Kentucky v North Dakota State\n",
    "\n",
    "Pitt v Missouri/Nebraska\n",
    "\n",
    "Seattle\n",
    "\n",
    "Oregon v High Point\n",
    "\n",
    "Cincinnati v Saint Mary's"
   ]
  },
  {
   "cell_type": "markdown",
   "id": "3c037093-d851-4dfd-a648-ee30069e54cc",
   "metadata": {},
   "source": [
    "## Midwest Region (Indianapolis)"
   ]
  },
  {
   "cell_type": "markdown",
   "id": "a961ee19-d454-4b6f-9bd2-948320cc47b2",
   "metadata": {},
   "source": [
    "Lexington\n",
    "\n",
    "Tennessee v Marist/Arkansas Little-Rock\n",
    "\n",
    "San Diego State v Dayton\n",
    "\n",
    "Denver\n",
    "\n",
    "Oklahoma v McNeese State\n",
    "\n",
    "Purdue v Furman\n",
    "\n",
    "Wichita\n",
    "\n",
    "Kansas v Kent State\n",
    "\n",
    "UCLA v Arkansas\n",
    "\n",
    "Cleveland\n",
    "\n",
    "Marquette v UW Milwaukee\n",
    "\n",
    "Michigan v North Carolina"
   ]
  },
  {
   "cell_type": "markdown",
   "id": "d1b49374-ca9c-46a8-a8ec-7eb93fca0924",
   "metadata": {},
   "source": [
    "## East Region (Newark)"
   ]
  },
  {
   "cell_type": "markdown",
   "id": "3110cee5-4152-4fdd-a055-bb210d29895f",
   "metadata": {},
   "source": [
    "Milwaukee\n",
    "\n",
    "Iowa State v Central Connecticut State\n",
    "\n",
    "St John's v Utah State\n",
    "\n",
    "Providence\n",
    "\n",
    "Michigan State v Columbia\n",
    "\n",
    "Houston v Liberty\n",
    "\n",
    "Wichita\n",
    "\n",
    "Mississippi State v College of Charleston\n",
    "\n",
    "Illinois v Texas\n",
    "\n",
    "Raleigh\n",
    "\n",
    "Alabama v UMass Lowell\n",
    "\n",
    "Maryland v Arizona State"
   ]
  },
  {
   "cell_type": "markdown",
   "id": "c515f470-c61e-4748-b288-a4ebde6952fe",
   "metadata": {
    "collapsed": true,
    "jupyter": {
     "outputs_hidden": true
    },
    "scrolled": true
   },
   "source": [
    "## West Region (San Francisco)"
   ]
  },
  {
   "cell_type": "markdown",
   "id": "e491edc2-4c06-490a-bd30-594f835be914",
   "metadata": {},
   "source": [
    "Raleigh\n",
    "\n",
    "Duke v Southern/American\n",
    "\n",
    "Georgia v Texas Tech\n",
    "\n",
    "Denver\n",
    "\n",
    "Texas A&M v Grand Canyon\n",
    "\n",
    "Memphis v UC Irvine\n",
    "\n",
    "Seattle\n",
    "\n",
    "Gonzaga v Lipscomb\n",
    "\n",
    "Ole Miss v Ohio State\n",
    "\n",
    "Cleveland\n",
    "\n",
    "Florida v Northern Colorado\n",
    "\n",
    "Wisconsin v Drake"
   ]
  }
 ],
 "metadata": {
  "kernelspec": {
   "display_name": "Python 3 (ipykernel)",
   "language": "python",
   "name": "python3"
  },
  "language_info": {
   "codemirror_mode": {
    "name": "ipython",
    "version": 3
   },
   "file_extension": ".py",
   "mimetype": "text/x-python",
   "name": "python",
   "nbconvert_exporter": "python",
   "pygments_lexer": "ipython3",
   "version": "3.10.12"
  }
 },
 "nbformat": 4,
 "nbformat_minor": 5
}
