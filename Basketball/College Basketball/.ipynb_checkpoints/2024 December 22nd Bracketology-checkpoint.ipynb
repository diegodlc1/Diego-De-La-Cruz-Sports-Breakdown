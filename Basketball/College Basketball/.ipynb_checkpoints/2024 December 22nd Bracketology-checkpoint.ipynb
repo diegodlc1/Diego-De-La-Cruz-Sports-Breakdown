{
 "cells": [
  {
   "cell_type": "markdown",
   "id": "b52f49c3-b167-4df5-92e3-0e86835a1767",
   "metadata": {},
   "source": [
    "# 2024 December 22nd Bracketology #"
   ]
  },
  {
   "cell_type": "markdown",
   "id": "db3f9529-ddd9-4d92-a2ec-bb6eacace2a8",
   "metadata": {},
   "source": [
    "Here is my Bracketology for this week."
   ]
  },
  {
   "cell_type": "markdown",
   "id": "cdff3d21-5ac6-4ada-b51e-a6d4a04e54c8",
   "metadata": {},
   "source": [
    "## South Region (Atlanta)"
   ]
  },
  {
   "cell_type": "markdown",
   "id": "47da0320-4ca9-424c-9bd7-ee800ec9ada4",
   "metadata": {},
   "source": [
    "Lexington\n",
    "\n",
    "Auburn v Norfolk State\n",
    "\n",
    "Maryland v Texas Tech\n",
    "\n",
    "Providence\n",
    "\n",
    "Memphis v Columbia\n",
    "\n",
    "Baylor v Nebraska/Vanderbilt\n",
    "\n",
    "Seattle\n",
    "\n",
    "Oregon v McNeese State\n",
    "\n",
    "Oklahoma v Penn State\n",
    "\n",
    "Raleigh\n",
    "\n",
    "Duke v UW-Milwaukee\n",
    "\n",
    "Ole Miss v Arizona State"
   ]
  },
  {
   "cell_type": "markdown",
   "id": "22e042fd-9d4c-4023-b101-cda3867a07ff",
   "metadata": {},
   "source": [
    "## Midwest Region (Indianapolis)"
   ]
  },
  {
   "cell_type": "markdown",
   "id": "0b98636a-ab80-4609-ab27-410568ad303f",
   "metadata": {},
   "source": [
    "Lexington\n",
    "\n",
    "Tennessee v Southern/Arkansas-Little Rock\n",
    "\n",
    "St John's v West Virginia\n",
    "\n",
    "Milwaukee\n",
    "\n",
    "Purdue v Arkansas State\n",
    "\n",
    "Mississippi State v Furman\n",
    "\n",
    "Wichita\n",
    "\n",
    "Kansas v High Point\n",
    "\n",
    "Pittsburgh v Arkansas\n",
    "\n",
    "Cleveland\n",
    "\n",
    "Florida v South Dakota State\n",
    "\n",
    "Dayton v Utah State"
   ]
  },
  {
   "cell_type": "markdown",
   "id": "42935ac5-133f-4b9a-903b-e37ee302eedf",
   "metadata": {},
   "source": [
    "## East Region (Newark)"
   ]
  },
  {
   "cell_type": "markdown",
   "id": "a181833e-c365-4550-83f5-9404c365ded4",
   "metadata": {},
   "source": [
    "Milwaukee\n",
    "\n",
    "Iowa State v Central Connecticut State\n",
    "\n",
    "Georgia v North Carolina\n",
    "\n",
    "Providence\n",
    "\n",
    "UConn v Kent State\n",
    "\n",
    "Michigan State v Liberty\n",
    "\n",
    "Denver\n",
    "\n",
    "Texas A&M v College of Charleston\n",
    "\n",
    "Clemson v Drake\n",
    "\n",
    "Raleigh\n",
    "\n",
    "Alabama v UMass-Lowell\n",
    "\n",
    "Wisconsin v St Mary's"
   ]
  },
  {
   "cell_type": "markdown",
   "id": "fa33e3d9-a9fc-44e5-ab3f-238d2a4dd01b",
   "metadata": {},
   "source": [
    "## West Region (San Francisco)"
   ]
  },
  {
   "cell_type": "markdown",
   "id": "811d55d7-4fde-4c43-bd86-a5e754dd222c",
   "metadata": {},
   "source": [
    "Cleveland\n",
    "\n",
    "Kentucky v American/Merrimack\n",
    "\n",
    "Cincinnati v San Diego State\n",
    "\n",
    "Denver\n",
    "\n",
    "UCLA v Grand Canyon\n",
    "\n",
    "Houston v UC Irvine\n",
    "\n",
    "Seattle\n",
    "\n",
    "Gonzaga v Lipscomb\n",
    "\n",
    "Illinois v Missouri/Ohio State\n",
    "\n",
    "Wichita\n",
    "\n",
    "Marquette v Montana State\n",
    "\n",
    "Michigan v Texas"
   ]
  }
 ],
 "metadata": {
  "kernelspec": {
   "display_name": "Python 3 (ipykernel)",
   "language": "python",
   "name": "python3"
  },
  "language_info": {
   "codemirror_mode": {
    "name": "ipython",
    "version": 3
   },
   "file_extension": ".py",
   "mimetype": "text/x-python",
   "name": "python",
   "nbconvert_exporter": "python",
   "pygments_lexer": "ipython3",
   "version": "3.10.12"
  }
 },
 "nbformat": 4,
 "nbformat_minor": 5
}
