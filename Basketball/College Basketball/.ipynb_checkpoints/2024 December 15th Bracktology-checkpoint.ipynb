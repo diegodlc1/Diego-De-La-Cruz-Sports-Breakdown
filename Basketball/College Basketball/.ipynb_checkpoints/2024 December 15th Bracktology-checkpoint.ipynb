{
 "cells": [
  {
   "cell_type": "markdown",
   "id": "a87deab2-ee8e-4f57-8129-c22ab363f57a",
   "metadata": {},
   "source": [
    "# December 15th Bracketology #"
   ]
  },
  {
   "cell_type": "markdown",
   "id": "d5342d6f-7431-4d37-8efc-415f8dbb7ddd",
   "metadata": {},
   "source": [
    "Here is my bracketology from this past week."
   ]
  },
  {
   "cell_type": "markdown",
   "id": "4057a763-cd65-4a59-a7d2-07435b60cf33",
   "metadata": {},
   "source": [
    "## South Region (Atlanta) ##"
   ]
  },
  {
   "cell_type": "markdown",
   "id": "18edd974-8334-4025-a560-7d96b6c52336",
   "metadata": {},
   "source": [
    "Lexington\n",
    "\n",
    "Auburn v Norfolk State\n",
    "\n",
    "St. Mary's v Texas Tech\n",
    "\n",
    "Denver\n",
    "\n",
    "Houston v Furman\n",
    "\n",
    "Illinois v Grand Canyon\n",
    "\n",
    "Milwaukee\n",
    "\n",
    "Purdue v Lipscomb\n",
    "\n",
    "Memphis v Penn State/LSU\n",
    "\n",
    "Raleigh\n",
    "\n",
    "Duke v High Point\n",
    "\n",
    "UConn v Dayton"
   ]
  },
  {
   "cell_type": "markdown",
   "id": "109a985f-4d1d-4e29-9291-76ec1052462f",
   "metadata": {},
   "source": [
    "## Midwest Region (Indianapolis)"
   ]
  },
  {
   "cell_type": "markdown",
   "id": "a15a4d24-cb52-4991-a3ef-c62ab285911c",
   "metadata": {},
   "source": [
    "Lexington\n",
    "\n",
    "Tennessee v Arkansas Little Rock/Merrimack\n",
    "\n",
    "San Diego State v Cincinnati\n",
    "\n",
    "Denver\n",
    "\n",
    "Mississippi State v Arkansas State\n",
    "\n",
    "Baylor v Drake\n",
    "\n",
    "Wichita\n",
    "\n",
    "Kansas v Kent State\n",
    "\n",
    "UCLA v Arkansas\n",
    "\n",
    "Cleveland\n",
    "\n",
    "Marquette v Wright State\n",
    "\n",
    "Oklahoma v North Carolina"
   ]
  },
  {
   "cell_type": "markdown",
   "id": "6dd3dd3b-3354-48e0-8425-dd8932d01bb1",
   "metadata": {},
   "source": [
    "## East Region (Newark)"
   ]
  },
  {
   "cell_type": "markdown",
   "id": "f8440ba8-6320-4f35-b758-0a1e2257ec2c",
   "metadata": {},
   "source": [
    "Milwaukee\n",
    "\n",
    "Iowa State v Central Connecticut State\n",
    "\n",
    "Maryland v Georgia\n",
    "\n",
    "Providence\n",
    "\n",
    "Clemson v Columbia\n",
    "\n",
    "Michigan State v Liberty\n",
    "\n",
    "Providence\n",
    "\n",
    "Florida v College of Charleston\n",
    "\n",
    "Michigan v Missouri/Creighton\n",
    "\n",
    "Raleigh\n",
    "\n",
    "Alabama v UMass-Lowell\n",
    "\n",
    "Wisconsin v West Virginia"
   ]
  },
  {
   "cell_type": "markdown",
   "id": "fcc52cb4-4dc9-4e26-aaa1-aa3547f09c3d",
   "metadata": {},
   "source": [
    "## West Region (San Francisco)"
   ]
  },
  {
   "cell_type": "markdown",
   "id": "b9c0364c-d7a6-44c7-8e71-414eadabf6e8",
   "metadata": {},
   "source": [
    "Cleveland\n",
    "\n",
    "Kentucky v American/Southern\n",
    "\n",
    "Arizona State v Utah State\n",
    "\n",
    "Wichita\n",
    "\n",
    "Texas A&M v McNeese State\n",
    "\n",
    "Pittsburgh v UC Irvine\n",
    "\n",
    "Seattle\n",
    "\n",
    "Oregon v South Dakota State\n",
    "\n",
    "Mississippi v Ohio State\n",
    "\n",
    "Seattle\n",
    "\n",
    "Gonzaga v Montana State\n",
    "\n",
    "St John's v Texas"
   ]
  },
  {
   "cell_type": "markdown",
   "id": "1a818052-147f-4a26-882b-ed90b075b06a",
   "metadata": {},
   "source": [
    "## First Four and Next Four"
   ]
  },
  {
   "cell_type": "markdown",
   "id": "18f5ccf4-817e-4a43-a718-11d6a4f3d98c",
   "metadata": {},
   "source": [
    "First Four Out\n",
    "\n",
    "1. Indiana\n",
    "2. Nebraska\n",
    "3. Arizona\n",
    "4. Washington State\n",
    "\n",
    "Next Four Out\n",
    "\n",
    "1. Vanderbilt\n",
    "2. BYU\n",
    "3. Loyola-Chicago\n",
    "4. Colorado"
   ]
  }
 ],
 "metadata": {
  "kernelspec": {
   "display_name": "Python 3 (ipykernel)",
   "language": "python",
   "name": "python3"
  },
  "language_info": {
   "codemirror_mode": {
    "name": "ipython",
    "version": 3
   },
   "file_extension": ".py",
   "mimetype": "text/x-python",
   "name": "python",
   "nbconvert_exporter": "python",
   "pygments_lexer": "ipython3",
   "version": "3.10.12"
  }
 },
 "nbformat": 4,
 "nbformat_minor": 5
}
