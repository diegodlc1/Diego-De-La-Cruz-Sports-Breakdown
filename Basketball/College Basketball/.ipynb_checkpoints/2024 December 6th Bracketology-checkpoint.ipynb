{
 "cells": [
  {
   "cell_type": "markdown",
   "id": "57e545e3-e203-4be3-9c9b-2db7832320c2",
   "metadata": {},
   "source": [
    "# December Bracktology #"
   ]
  },
  {
   "cell_type": "markdown",
   "id": "8097d446-2aa6-4547-893e-5e5e85bbffcd",
   "metadata": {},
   "source": [
    "Here is the updated bracktology starting in December, I should be able to update this weekly now but I'll try to update this bracket every week from now on."
   ]
  },
  {
   "cell_type": "markdown",
   "id": "59a70b46-b62a-4126-9e6e-e9272a9bf36c",
   "metadata": {},
   "source": [
    "## South Region (Atlanta) ##"
   ]
  },
  {
   "cell_type": "markdown",
   "id": "3c05bb42-c8ae-49bc-928e-94c937d7d13f",
   "metadata": {},
   "source": [
    "Lexington\n",
    "\n",
    "Auburn v Norfolk State\n",
    "\n",
    "Arizona State v San Diego State\n",
    "\n",
    "Wichita\n",
    "\n",
    "Wisconsin v McNeese State\n",
    "\n",
    "Houston v Grand Canyon\n",
    "\n",
    "Raleigh\n",
    "\n",
    "Duke v North Florida\n",
    "\n",
    "Texas A&M v Maryland\n",
    "\n",
    "Milwaukee\n",
    "\n",
    "Iowa State v Vermont\n",
    "\n",
    "Oklahoma v Dayton"
   ]
  },
  {
   "cell_type": "markdown",
   "id": "0ce8935a-a7a0-4b40-b434-ac9d650503a3",
   "metadata": {},
   "source": [
    "## West Region (San Francisco) ##"
   ]
  },
  {
   "cell_type": "markdown",
   "id": "c173d8c4-f427-4bc2-98be-7217653ba000",
   "metadata": {},
   "source": [
    "Seattle\n",
    "\n",
    "Gonzaga v Central Connecticut State/Southern\n",
    "\n",
    "Texas Tech v Utah State\n",
    "\n",
    "Denver\n",
    "\n",
    "Baylor v Arkansas State\n",
    "\n",
    "North Carolina v UC Irvine\n",
    "\n",
    "Milwaukee\n",
    "\n",
    "Purdue v College of Charleston\n",
    "\n",
    "Clemson v Georgia\n",
    "\n",
    "Cleveland\n",
    "\n",
    "Kentucky v Northern Colorado\n",
    "\n",
    "Michigan v St Mary's"
   ]
  },
  {
   "cell_type": "markdown",
   "id": "e2048af1-eb7d-4678-b16f-a6c12d21e9d2",
   "metadata": {},
   "source": [
    "## Midwest Region (Indianapolis) ##"
   ]
  },
  {
   "cell_type": "markdown",
   "id": "5eb0f44e-8f2e-4b6e-ba15-27f9e12e633c",
   "metadata": {},
   "source": [
    "Wichita\n",
    "\n",
    "Kansas v Arkansas Little Rock/St. Peter's\n",
    "\n",
    "Mississippi v UConn\n",
    "\n",
    "Denver\n",
    "\n",
    "Memphis v Furman\n",
    "\n",
    "Illinois v Drake\n",
    "\n",
    "Seattle\n",
    "\n",
    "Oregon v Kent State\n",
    "\n",
    "Mississippi State v Nebraska/Louisville\n",
    "\n",
    "Raleigh\n",
    "\n",
    "Alabama v IPFW\n",
    "\n",
    "St. John's v UCLA"
   ]
  },
  {
   "cell_type": "markdown",
   "id": "c676db99-0c25-4419-bc58-77bd8b82f3ef",
   "metadata": {},
   "source": [
    "## East Region (Newark) ##"
   ]
  },
  {
   "cell_type": "markdown",
   "id": "3c1d25b0-6bba-4469-9b99-aca238602433",
   "metadata": {},
   "source": [
    "Lexington\n",
    "\n",
    "Tennessee v Colgate\n",
    "\n",
    "Texas v BYU\n",
    "\n",
    "Providence\n",
    "\n",
    "Pittsburgh v Columbia\n",
    "\n",
    "Cincinnati v Liberty\n",
    "\n",
    "Providence\n",
    "\n",
    "Florida v High Point\n",
    "\n",
    "Michigan State v Arkansas/Nevada\n",
    "\n",
    "Cleveland\n",
    "\n",
    "Marquette v South Dakota State\n",
    "\n",
    "Ohio State v West Virginia"
   ]
  }
 ],
 "metadata": {
  "kernelspec": {
   "display_name": "Python 3 (ipykernel)",
   "language": "python",
   "name": "python3"
  },
  "language_info": {
   "codemirror_mode": {
    "name": "ipython",
    "version": 3
   },
   "file_extension": ".py",
   "mimetype": "text/x-python",
   "name": "python",
   "nbconvert_exporter": "python",
   "pygments_lexer": "ipython3",
   "version": "3.10.12"
  }
 },
 "nbformat": 4,
 "nbformat_minor": 5
}
