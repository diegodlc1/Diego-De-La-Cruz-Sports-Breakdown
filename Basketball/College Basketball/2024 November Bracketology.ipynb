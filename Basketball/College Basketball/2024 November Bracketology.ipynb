{
 "cells": [
  {
   "cell_type": "markdown",
   "id": "b2a24c46-240d-4d88-bc11-9239f023e6d2",
   "metadata": {},
   "source": [
    "# Week 1 Bracketology #"
   ]
  },
  {
   "cell_type": "markdown",
   "id": "9476af67-8d6a-48ee-82b6-7ec07de96a13",
   "metadata": {},
   "source": [
    "This will be my Bracketology and here are some things about this.\n",
    "\n",
    "1. I will take in account of the conference tournament once January rolls around. At that point I will predict possible matchups in the conference tournaments and account that in my brackets.\n",
    "\n",
    "2. This will hopefully be a weekly thing but my next one after this will probably be a month later, I kind of want the season to progress a little until I do another one.\n",
    "\n",
    "3. This will be in order of the brackets so the first two the number 1 team are 1 and 4 and the last 2 will be 2 and 3.\n",
    "\n",
    "4. I would love to do my own top 25 and all but the way I do it for college football takes a lot of time and it's easier to do football so I will do this way instead for basketball.\n",
    "\n",
    "5. Also note that numbering is weird in Python markdown so I will just note that the first team is the one numbered 1-8, so 1 and 8, 4 and 5, 3 and 6, 2 and 7. This is just a note on that.\n",
    "\n",
    "With that being said let's get this started."
   ]
  },
  {
   "cell_type": "markdown",
   "id": "85d3e4f2-e926-4627-b637-2cf60813b148",
   "metadata": {},
   "source": [
    "## South Region (Atlanta)"
   ]
  },
  {
   "cell_type": "markdown",
   "id": "de55bd8c-4c15-47b9-9f58-d81c210c068f",
   "metadata": {},
   "source": [
    "Lexington\n",
    "\n",
    "Alabama v Southern/Wagner\n",
    "\n",
    "Clemson v Ole Miss\n",
    "\n",
    "Cleveland\n",
    "\n",
    "Purdue v High Point\n",
    "\n",
    "Arkansas v McNeese State\n",
    "\n",
    "Milwaukee\n",
    "\n",
    "Creighton v Louisiana Tech\n",
    "\n",
    "Kentucky v Miami FL/VCU\n",
    "\n",
    "Milwaukee\n",
    "\n",
    "Iowa State v Lipscomb\n",
    "\n",
    "Florida v St. Mary's"
   ]
  },
  {
   "cell_type": "markdown",
   "id": "f4f3a771-222c-48f6-9a20-f37c949b1f7c",
   "metadata": {},
   "source": [
    "## West Region (San Francisco) ##"
   ]
  },
  {
   "cell_type": "markdown",
   "id": "925019d8-4be8-45c0-a370-9551452794cb",
   "metadata": {},
   "source": [
    "Raleigh\n",
    "\n",
    "Duke v Howard/Arkansas-Little Rock\n",
    "\n",
    "Rutgers v Mississippi State\n",
    "\n",
    "Providence\n",
    "\n",
    "Texas A&M v UC Irvine\n",
    "\n",
    "UCLA v Grand Canyon\n",
    "\n",
    "Denver\n",
    "\n",
    "Baylor v Towson\n",
    "\n",
    "Texas Tech v San Diego State/Pitt\n",
    "\n",
    "Seattle\n",
    "\n",
    "Gonzaga v Weber State\n",
    "\n",
    "Michigan State v Boise State"
   ]
  },
  {
   "cell_type": "markdown",
   "id": "476a3567-234e-4608-bb92-372a6e446519",
   "metadata": {},
   "source": [
    "## Midwest Region (Indianapolis)"
   ]
  },
  {
   "cell_type": "markdown",
   "id": "f0923a0c-8511-4c51-9772-9180f14bcadd",
   "metadata": {},
   "source": [
    "Wichita\n",
    "\n",
    "Kansas v Quinnipiac\n",
    "\n",
    "Xavier v Oregon\n",
    "\n",
    "Seattle\n",
    "\n",
    "Marquette v Ohio\n",
    "\n",
    "Indiana v Bradley\n",
    "\n",
    "Lexington\n",
    "\n",
    "Auburn v Samford\n",
    "\n",
    "Cincinnati v Memphis\n",
    "\n",
    "Raleigh\n",
    "\n",
    "North Carolina v IPFW\n",
    "\n",
    "Illinois v Kansas State"
   ]
  },
  {
   "cell_type": "markdown",
   "id": "a5d81387-3f63-45ba-8d87-e42a0f5d8357",
   "metadata": {},
   "source": [
    "## East Region (Newark) ##"
   ]
  },
  {
   "cell_type": "markdown",
   "id": "19952cac-05ba-4fdf-8941-9affdbe22713",
   "metadata": {},
   "source": [
    "Wichita\n",
    "\n",
    "Houston v Colgate\n",
    "\n",
    "Wake Forest v Ohio State\n",
    "\n",
    "Cleveland\n",
    "\n",
    "Tennessee v Vermont\n",
    "\n",
    "Texas v Princeton\n",
    "\n",
    "Denver\n",
    "\n",
    "Arizona v Arkansas State\n",
    "\n",
    "St John's v Dayton\n",
    "\n",
    "Providence\n",
    "\n",
    "UConn v South Dakota State\n",
    "\n",
    "BYU v Michigan"
   ]
  },
  {
   "cell_type": "markdown",
   "id": "2ebbb756-508b-4f80-8024-dce2a69ad8b6",
   "metadata": {},
   "source": [
    "## First Four and Next Four Out ##"
   ]
  },
  {
   "cell_type": "markdown",
   "id": "681f2a74-85b3-4122-8334-0a596ec47522",
   "metadata": {},
   "source": [
    "First Four\n",
    "\n",
    "1. Villanova\n",
    "2. Maryland\n",
    "3. Providence\n",
    "4. UAB\n",
    "\n",
    "Next 4\n",
    "1. Wisconsin\n",
    "2. Iowa\n",
    "3. New Mexico\n",
    "4. USC"
   ]
  }
 ],
 "metadata": {
  "kernelspec": {
   "display_name": "Python 3 (ipykernel)",
   "language": "python",
   "name": "python3"
  },
  "language_info": {
   "codemirror_mode": {
    "name": "ipython",
    "version": 3
   },
   "file_extension": ".py",
   "mimetype": "text/x-python",
   "name": "python",
   "nbconvert_exporter": "python",
   "pygments_lexer": "ipython3",
   "version": "3.10.12"
  }
 },
 "nbformat": 4,
 "nbformat_minor": 5
}
