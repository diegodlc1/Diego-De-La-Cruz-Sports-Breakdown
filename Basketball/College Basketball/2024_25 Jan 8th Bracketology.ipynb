{
 "cells": [
  {
   "cell_type": "markdown",
   "id": "415c7f65-9830-452b-88a3-3dedefc56c15",
   "metadata": {},
   "source": [
    "# 2024-25 January 8th Bracketology"
   ]
  },
  {
   "cell_type": "markdown",
   "id": "4eab708b-a7ec-4849-a997-b38510ae0cfa",
   "metadata": {},
   "source": [
    "Here is my Bracketology for the week"
   ]
  },
  {
   "cell_type": "markdown",
   "id": "1d9756ac-3fad-4225-a5c4-efc22779e4fc",
   "metadata": {},
   "source": [
    "## South Region (Atlanta)"
   ]
  },
  {
   "cell_type": "markdown",
   "id": "0fc7f5fa-0246-42ad-b524-d23ace5ee2bd",
   "metadata": {},
   "source": [
    "Lexington\n",
    "\n",
    "Auburn v Norfolk State\n",
    "\n",
    "Clemson v Dayton\n",
    "\n",
    "Seattle\n",
    "\n",
    "UCLA v McNeese State\n",
    "\n",
    "Houston v Furman\n",
    "\n",
    "Denver\n",
    "\n",
    "Kansas v College of Charleston\n",
    "\n",
    "Oklahoma v Louisville\n",
    "\n",
    "Milwaukee\n",
    "\n",
    "Kentucky v High Point\n",
    "\n",
    "Baylor v North Carolina"
   ]
  },
  {
   "cell_type": "markdown",
   "id": "f29a48dc-6024-49c5-8a59-ba417272510c",
   "metadata": {},
   "source": [
    "## West Region (San Francisco)"
   ]
  },
  {
   "cell_type": "markdown",
   "id": "9315be12-252b-42eb-8a00-4d6bc17b5ca0",
   "metadata": {},
   "source": [
    "Milwaukee\n",
    "\n",
    "Iowa State v Southern/Holy Cross\n",
    "\n",
    "San Diego State v Georgia\n",
    "\n",
    "Providence\n",
    "\n",
    "Memphis v Grand Canyon\n",
    "\n",
    "Purdue v UC San Diego\n",
    "\n",
    "Seattle\n",
    "\n",
    "Oregon v South Dakota State\n",
    "\n",
    "Utah State v Texas/Arizona State\n",
    "\n",
    "Cleveland\n",
    "\n",
    "Florida v UW Milwaukee\n",
    "\n",
    "Wisconsin v Arkansas"
   ]
  },
  {
   "cell_type": "markdown",
   "id": "0ce27c87-8fe4-4e52-970a-739301933dbc",
   "metadata": {},
   "source": [
    "## Midwest Region (Indianapolis)"
   ]
  },
  {
   "cell_type": "markdown",
   "id": "c5f8e2c5-c246-4889-82c2-91e55c12df49",
   "metadata": {},
   "source": [
    "Lexington\n",
    "\n",
    "Tennessee v Marist/Arkansas Little Rock\n",
    "\n",
    "Nebraska v St John's\n",
    "\n",
    "Denver\n",
    "\n",
    "Illinois v Arkansas State\n",
    "\n",
    "Gonzaga v Drake\n",
    "\n",
    "Wichita\n",
    "\n",
    "Mississippi State v Kent State\n",
    "\n",
    "West Virginia v Vanderbilt\n",
    "\n",
    "Cleveland\n",
    "\n",
    "Marquette v Northern Colorado\n",
    "\n",
    "Ole Miss v Ohio State"
   ]
  },
  {
   "cell_type": "markdown",
   "id": "36d229a6-5644-489f-926a-aaec679f91ee",
   "metadata": {},
   "source": [
    "## East Region (Newark)"
   ]
  },
  {
   "cell_type": "markdown",
   "id": "28df5634-f913-41d6-8d75-5e56e61d3b03",
   "metadata": {},
   "source": [
    "Raleigh\n",
    "\n",
    "Duke v Central Connecticut State\n",
    "\n",
    "Maryland v Cincinnati\n",
    "\n",
    "Providence\n",
    "\n",
    "UConn v Lipscomb\n",
    "\n",
    "Michigan State v Liberty\n",
    "\n",
    "Wichita\n",
    "\n",
    "Texas A&M v Columbia\n",
    "\n",
    "Pittsburgh v St Mary's/St. Bonaventure\n",
    "\n",
    "Raleigh\n",
    "\n",
    "Alabama v UMass Lowell\n",
    "\n",
    "Michigan v Arizona"
   ]
  },
  {
   "cell_type": "markdown",
   "id": "20df4072-f5fa-4a33-9f20-b20b73ddecd7",
   "metadata": {},
   "source": [
    "## First Four and Next Four Out"
   ]
  },
  {
   "cell_type": "markdown",
   "id": "cb4d0004-8c46-4608-8f8a-5cc0ad453ea1",
   "metadata": {},
   "source": [
    "First Four Out\n",
    "\n",
    "Penn State\n",
    "\n",
    "SMU\n",
    "\n",
    "Missouri\n",
    "\n",
    "UCF\n",
    "\n",
    "Next Four Out\n",
    "\n",
    "Texas Tech\n",
    "\n",
    "Indiana\n",
    "\n",
    "Washington State\n",
    "\n",
    "Creighton"
   ]
  }
 ],
 "metadata": {
  "kernelspec": {
   "display_name": "Python 3 (ipykernel)",
   "language": "python",
   "name": "python3"
  },
  "language_info": {
   "codemirror_mode": {
    "name": "ipython",
    "version": 3
   },
   "file_extension": ".py",
   "mimetype": "text/x-python",
   "name": "python",
   "nbconvert_exporter": "python",
   "pygments_lexer": "ipython3",
   "version": "3.10.12"
  }
 },
 "nbformat": 4,
 "nbformat_minor": 5
}
