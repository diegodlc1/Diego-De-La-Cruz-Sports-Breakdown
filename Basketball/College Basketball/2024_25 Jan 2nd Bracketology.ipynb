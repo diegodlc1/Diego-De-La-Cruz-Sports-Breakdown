{
 "cells": [
  {
   "cell_type": "markdown",
   "id": "1ee77017-b354-4660-ad76-b2b7d1ba1896",
   "metadata": {},
   "source": [
    "# 2024-25 January 2nd Bracketology "
   ]
  },
  {
   "cell_type": "markdown",
   "id": "5c7a96d2-fe5b-4749-aa71-e796f472771e",
   "metadata": {},
   "source": [
    "Here is my January 2nd Bracketology"
   ]
  },
  {
   "cell_type": "markdown",
   "id": "752c32d9-2093-48a5-a381-b52ceea7f06d",
   "metadata": {},
   "source": [
    "## South Region (Atlanta)"
   ]
  },
  {
   "cell_type": "markdown",
   "id": "eeb36861-8e7c-47f1-b815-73f371c363f4",
   "metadata": {},
   "source": [
    "Lexington\n",
    "\n",
    "Auburn v Norfolk State\n",
    "\n",
    "Dayton v San Diego State\n",
    "\n",
    "Seattle\n",
    "\n",
    "Gonzaga v Grand Canyon\n",
    "\n",
    "Houston v Vanderbilt/SMU\n",
    "\n",
    "Milwaukee\n",
    "\n",
    "Kentucky v College of Charleston\n",
    "\n",
    "Baylor v Nebraska\n",
    "\n",
    "Seattle\n",
    "\n",
    "Oregon v High Point\n",
    "\n",
    "St John's v Arkansas"
   ]
  },
  {
   "cell_type": "markdown",
   "id": "e400cf63-f803-4850-a03f-fbe1e98875af",
   "metadata": {},
   "source": [
    "## West Region (San Francisco)"
   ]
  },
  {
   "cell_type": "markdown",
   "id": "8b23acfd-202c-434b-bd1a-22fb5cab303f",
   "metadata": {},
   "source": [
    "Milwaukee\n",
    "\n",
    "Iowa State v Southern/American\n",
    "\n",
    "Clemson v Georgia\n",
    "\n",
    "Denver\n",
    "\n",
    "UCLA v McNeese State\n",
    "\n",
    "Memphis v UC San Diego\n",
    "\n",
    "Denver\n",
    "\n",
    "Texas A&M v Lipscomb\n",
    "\n",
    "Maryland v Penn State/Missouri\n",
    "\n",
    "Cleveland\n",
    "\n",
    "Florida v Northern Colorado\n",
    "\n",
    "Utah State v Ohio State"
   ]
  },
  {
   "cell_type": "markdown",
   "id": "b1e1916c-3dcc-4605-aa49-b55e0b74b1f2",
   "metadata": {},
   "source": [
    "## Midwest Region (Indianapolis)"
   ]
  },
  {
   "cell_type": "markdown",
   "id": "f5f90bb2-f0cb-4e8a-aa4e-c315b79a978e",
   "metadata": {},
   "source": [
    "Lexington\n",
    "\n",
    "Tennessee v Arkansas Little Rock/Marist\n",
    "\n",
    "Cincinnati v North Carolina\n",
    "\n",
    "Providence\n",
    "\n",
    "Michigan State v Arkansas State\n",
    "\n",
    "Oklahoma v Furman\n",
    "\n",
    "Wichita\n",
    "\n",
    "Kansas v Kent State\n",
    "\n",
    "Purdue v Texas\n",
    "\n",
    "Cleveland\n",
    "\n",
    "Marquette v UW Milwaukee\n",
    "\n",
    "Michigan v Texas Tech"
   ]
  },
  {
   "cell_type": "markdown",
   "id": "fbe00d7f-c7bb-423f-8e0f-660cc537eda7",
   "metadata": {},
   "source": [
    "## East Region (Newark)"
   ]
  },
  {
   "cell_type": "markdown",
   "id": "7e8a8a19-df9c-4dba-a886-64716244f107",
   "metadata": {},
   "source": [
    "Raleigh\n",
    "\n",
    "Duke v Central Connecticut State\n",
    "\n",
    "Ole Miss v West Virginia\n",
    "\n",
    "Providence\n",
    "\n",
    "UConn v North Dakota State\n",
    "\n",
    "Pittsburgh v Liberty\n",
    "\n",
    "Wichita\n",
    "\n",
    "Miss State v Columbia\n",
    "\n",
    "Illinois v Arizona State\n",
    "\n",
    "Raleigh\n",
    "\n",
    "Alabama v UMass Lowell\n",
    "\n",
    "Wisconsin v Drake"
   ]
  }
 ],
 "metadata": {
  "kernelspec": {
   "display_name": "Python 3 (ipykernel)",
   "language": "python",
   "name": "python3"
  },
  "language_info": {
   "codemirror_mode": {
    "name": "ipython",
    "version": 3
   },
   "file_extension": ".py",
   "mimetype": "text/x-python",
   "name": "python",
   "nbconvert_exporter": "python",
   "pygments_lexer": "ipython3",
   "version": "3.10.12"
  }
 },
 "nbformat": 4,
 "nbformat_minor": 5
}
