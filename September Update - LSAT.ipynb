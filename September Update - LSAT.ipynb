{
 "cells": [
  {
   "cell_type": "markdown",
   "id": "46605c5d-cf92-4fbc-b680-cac681c6c545",
   "metadata": {},
   "source": [
    "# September Update #"
   ]
  },
  {
   "cell_type": "markdown",
   "id": "555657d1-f63f-445c-94d1-9f62fb7ecc82",
   "metadata": {},
   "source": [
    "Hello.\n",
    "\n",
    "At this very moment in time I have been studying to the LSAT and looking to attend law school. For that reason I haven't been able to update this outside of my weekly Top 25 in College Football (possibly College Basketball as well). With the current MLB season winding down I want to do what I did for playoff Basketball teams with playoff Baseball teams. I will hopefully be able to do more writing on this over time but it won't be as often as before, as I have been studying nonstop of the LSAT. Thank you for the patience."
   ]
  }
 ],
 "metadata": {
  "kernelspec": {
   "display_name": "Python 3 (ipykernel)",
   "language": "python",
   "name": "python3"
  },
  "language_info": {
   "codemirror_mode": {
    "name": "ipython",
    "version": 3
   },
   "file_extension": ".py",
   "mimetype": "text/x-python",
   "name": "python",
   "nbconvert_exporter": "python",
   "pygments_lexer": "ipython3",
   "version": "3.10.12"
  }
 },
 "nbformat": 4,
 "nbformat_minor": 5
}
