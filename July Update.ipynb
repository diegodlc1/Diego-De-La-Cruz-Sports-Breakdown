{
 "cells": [
  {
   "cell_type": "markdown",
   "id": "0b262cf5-3b3a-4553-ac0b-8f9fd2e563f8",
   "metadata": {},
   "source": [
    "# July 4th Update #"
   ]
  },
  {
   "cell_type": "markdown",
   "id": "8e813928-2f54-4d9d-94be-da2d30800560",
   "metadata": {},
   "source": [
    "Hey, sorry for the delay. I haven't wrote much of anything these last few days as I was on vacation for a couple of days. With that being said I missed a lot of different front office movements. On July 1st the NBA and NHL Free Agency started, while most of the top European Soccer Leagues Transfer window opened on that day as well. There was a lot that happened on that day and I felt that I would do that day injustice if I focused on one sport over the rest. With that being said I will maybe do a recap one of these days if nothing major happens in that sport if there is a slow day. It will be the same for the MLB trade deadline. With that all being said, I will continue writing tommorrow after the holidays."
   ]
  }
 ],
 "metadata": {
  "kernelspec": {
   "display_name": "Python 3 (ipykernel)",
   "language": "python",
   "name": "python3"
  },
  "language_info": {
   "codemirror_mode": {
    "name": "ipython",
    "version": 3
   },
   "file_extension": ".py",
   "mimetype": "text/x-python",
   "name": "python",
   "nbconvert_exporter": "python",
   "pygments_lexer": "ipython3",
   "version": "3.10.12"
  }
 },
 "nbformat": 4,
 "nbformat_minor": 5
}
