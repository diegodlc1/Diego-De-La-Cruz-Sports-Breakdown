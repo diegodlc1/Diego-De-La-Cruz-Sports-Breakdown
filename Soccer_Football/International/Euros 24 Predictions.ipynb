{
 "cells": [
  {
   "cell_type": "markdown",
   "id": "0ef1da82-1410-4399-a7ae-49e53e38ca50",
   "metadata": {},
   "source": [
    "# 2024 Euros Prediction #"
   ]
  },
  {
   "cell_type": "markdown",
   "id": "9e946cd1-ddbe-466d-84d2-fe72ce79b9bf",
   "metadata": {},
   "source": [
    "With the Euros starting up tomorrow, I wanted to make my predictions on what will happen. I will predict the scorelines, the tables, and the knockout stage here. Split by groups and such. I will explain why I made these predictions as well. With that being said here are my Euro predictions."
   ]
  },
  {
   "cell_type": "markdown",
   "id": "2673e7ec-3a30-490d-8337-b283d03565be",
   "metadata": {},
   "source": [
    "## Group Stage ##"
   ]
  },
  {
   "cell_type": "markdown",
   "id": "7a0778d0-06a8-47dd-8127-3b1b1e1d4bfd",
   "metadata": {},
   "source": [
    "## Group A: Germany, Scotland, Hungary, and Switzerland ##"
   ]
  },
  {
   "cell_type": "markdown",
   "id": "5b473296-c1f7-4093-af62-7f2743865006",
   "metadata": {},
   "source": [
    "Germany v Scotland: 3-2 Germany\n",
    "\n",
    "Hungary v Switzerland: 2-2 Draw\n",
    "\n",
    "Germany v Hungary: 3-2 Hungary\n",
    "\n",
    "Scotland v Switzerland: 2-2 Draw\n",
    "\n",
    "Switzerland v Germany: 1-1 Draw\n",
    "\n",
    "Scotland v Hungary: 3-2 Hungary\n",
    "\n",
    "Group A Final Table:\n",
    "\n",
    "Hungary- 7 points\n",
    "\n",
    "Germany- 4 points\n",
    "\n",
    "Switzerland- 3 points\n",
    "\n",
    "Scotland- 1 point\n",
    "\n",
    "In somewhat shocking results, I believe that Hungary will top this group. Hungary's front line is somewhat concerning, with the likes of Varga and Sallai, being their main pressing players, I think the rest of the team is solid. I still like Gulacsi as the goalkeeper, and the midfield is, in my opinion, one of the best in the Euros. The backline is fine, but with Rossi being their coach for another Euro run, I like this team. Now on to Germany. I think that even with the recent good run in form, and Nagelsmann being the best manager in the Euros, this German team will underperform in the group stage. On paper, this team is one of the best in not only this group but the Euros altogether. However, I see this team becoming complacent. They will beat Scotland but will be complacent against Hungary, losing that match. Then go up against a solid Swiss side who is playing to stay in the tournament. I think the talent is there, the issue for me right now is the mentality of this team. The Swiss have an interesting team. I think that they have a great backline and a solid goalkeeper in Sommer. I think that the midfield is also there, my issue is who's scoring the goals. Amdouni is the only one who performs in a Swiss shirt, yet only scored 6 goals in the premier league this last season. Embolo is an experienced goal scorer, yet only has 13 goals in 63 caps with Switzerland and only 1 goal in Ligue 1 this year. Is it Okafor who backed up Giroud at Milan, yet only has 2 goals in a Swiss shirt. I don't know and that's why I think that this team will draw every game in the group stage. Scotland has the worst goalkeeper in this group, an ok backline, good midfielders, and one of the worst front lines. I think that this combo will lose to Hungary and Germany, they tie with Switzerland who faces similar issues."
   ]
  },
  {
   "cell_type": "markdown",
   "id": "a5cde84a-fb1d-44fa-8c20-4e7d79c431a0",
   "metadata": {},
   "source": [
    "## Group B: Spain, Croatia, Italy, Albania ##"
   ]
  },
  {
   "cell_type": "markdown",
   "id": "a3fdf25e-ed25-4308-8bab-a52a8a143e95",
   "metadata": {},
   "source": [
    "Spain v Croatia: 2-1 Spain\n",
    "\n",
    "Italy v Albania: 3-1 Albania\n",
    "\n",
    "Croatia v Albania: 2-1 Croatia\n",
    "\n",
    "Spain v Italy: 3-3 Draw\n",
    "\n",
    "Albania v Spain: 2-1 Spain\n",
    "\n",
    "Croatia v Italy: 1-0 Croatia\n",
    "\n",
    "Group B Final Table:\n",
    "\n",
    "Spain- 7 points\n",
    "\n",
    "Croatia- 6 points\n",
    "\n",
    "Albania- 3 points\n",
    "\n",
    "Italy- 1 point\n",
    "\n",
    "In a somewhat shocking group, I believe that Spain and Croatia will top the group, with Albania shocking Italy in the first game to be ahead of them. Honestly, I think that this group is really close in talent and I think that the way the matchups were drawn was the reason I predicted the results to be this way. I think all teams can compete with each other, and that includes Albania. I think the way that this group was drawn is the reason these matchups will go this way. I think that Spain has more of an attacking presence than Croatia and thus that will have them win in the first game. I think that Albania will be juiced up in the first game and upset Italy, who underestimates them, with a 3-1 scoreline. With this Italy fights hard and can compete with Spain, leading to a high-scoring 3-3 draw. Croatia doesn't underestimate Albania and the midfield is a better position than anything Albania has leading to a Croatia win. Spain also doesn't underestimate Albania and beats them 2-1. Italy is fighting for everything, but I don't see the Italian attack breaking through a solid Croatian defense."
   ]
  },
  {
   "cell_type": "markdown",
   "id": "895924b9-5b7a-4a28-8078-c59956432b67",
   "metadata": {},
   "source": [
    "## Group C: Slovenia, Denmark, Serbia, England ##"
   ]
  },
  {
   "cell_type": "markdown",
   "id": "3c79f142-8c57-45f7-a377-50dd6c3bc6e6",
   "metadata": {},
   "source": [
    "Slovenia v Denmark: 2-1 Denmark\n",
    "\n",
    "Serbia v England: 2-2 Draw\n",
    "\n",
    "Slovenia v Serbia: 2-1 Slovenia\n",
    "\n",
    "Denmark v England: 2-1 England\n",
    "\n",
    "England v Slovenia: 1-1 Draw\n",
    "\n",
    "Denmark v Serbia: 2-1 Serbia\n",
    "\n",
    "Group C Final Table:\n",
    "\n",
    "England- 5 points\n",
    "\n",
    "Slovenia- 4 points and Head-to-Head over Serbia\n",
    "\n",
    "Serbia- 4 points\n",
    "\n",
    "Denmark- 3 points\n",
    "\n",
    "England stumbles their way through this group. I like the English team, from top to bottom, besides the goalkeeper, it's the best or second-best team in this tournament. I don't think that Southgate is that good of a manager and the goalkeeping situation is a pretty big hole, however, Pickford is usually good enough to fill that position well. Serbia is coming in with one of the best attacking fronts in the tournament and I think that it's enough to draw against England. They have a decent enough backline as well to stop the English team if need be. I think that in the first game, Slovenia played in an international tournament since the 2010 World Cup. Going up against an experienced team in Denmark will have them lose the first game. However, I see Slovenia bouncing back in the next game. The nerves should be out and going against another Yugoslavia nation will bring more passion to this game. They will beat Serbia. England will come out wanting to win this one after drawing Serbia. The Danish team has the better manager, but outside of that, England is too dominant. With this, I then think that England falls to complacent again with the Slovenians. Sesko will be stopped by this English team, but honestly, I see a draw between these 2 teams. Serbia and Denmark will be a good game. Both are playing for something. I think that these 2 teams are evenly matched, except for one position, Goalkeeper. I think that this is the difference and Serbia beats Denmark to come third in the group."
   ]
  },
  {
   "cell_type": "markdown",
   "id": "16c71939-0afe-492c-9f36-b431d6d9ac7a",
   "metadata": {},
   "source": [
    "## Group D: Poland, Netherlands, Austria, France ##"
   ]
  },
  {
   "cell_type": "markdown",
   "id": "bfe3f3cd-2471-41d7-964b-138719aeaf6b",
   "metadata": {},
   "source": [
    "Poland v Netherlands: 1-1 Draw\n",
    "\n",
    "Austria v France: 2-1 France\n",
    "\n",
    "Poland v Austria: 2-1 Austria\n",
    "\n",
    "Netherlands v France: 7-1 France\n",
    "\n",
    "France v Poland: 2-1 Poland\n",
    "\n",
    "Netherlands v Austria: 3-1 Netherlands\n",
    "\n",
    "Group D Final Table:\n",
    "\n",
    "France- 6 Points\n",
    "\n",
    "Poland- 4 Points Over Netherlands on Goal Difference\n",
    "\n",
    "Netherlands- 4 Points\n",
    "\n",
    "Austria- 3 Points\n",
    "\n",
    "In the group of death, I think that France is one of the best teams in the tournament. They should come into this tournament and win this group. I think they will beat Austria. I think that Austria is a good team and will give France a fight. France is just better in every way though. They beat Austria. Poland is on the decline but the Dutch team has a lot of question marks. I see a draw coming out of this. I think in the next matchday the French blow out the Dutch. Something is telling me this matchup will not be pretty at all. The Dutch midfield is a huge weakness and for some reason I see this French team dismantling the Dutch. On the other hand, I think Poland can beat Austria. All around Austira is a better team, but Lewandowski still is Lewandowski and the weak point of the Austrians is the defense. I see Poland winning. The Dutch, after an embarrassing loss to the French, will come back and beat the Austrians to end on 4 points. The French will rest most of their stars after taking the top spot and thus I see the Polish winning, with France's weakness at goalie being the issue."
   ]
  },
  {
   "cell_type": "markdown",
   "id": "1b6877b1-4613-4761-acee-b6c652635268",
   "metadata": {},
   "source": [
    "## Group E: Belgium, Slovakia, Romania, Ukraine ##"
   ]
  },
  {
   "cell_type": "markdown",
   "id": "63956e69-b794-485e-b5fe-39c29c2d8686",
   "metadata": {},
   "source": [
    "Romania v Ukraine: 2-1 Romania\n",
    "\n",
    "Belgium v Slovakia: 1-1 Draw\n",
    "\n",
    "Slovakia v Ukraine: 2-1 Slovakia\n",
    "\n",
    "Belgium v Romania: 1-1 Draw\n",
    "\n",
    "Ukraine v Belgium: 3-1 Belgium\n",
    "\n",
    "Slovakia v Romania: 1-1 Draw\n",
    "\n",
    "Group E Final Table:\n",
    "\n",
    "Belgium- 5 Points Higher GD than Slovakia and Romania\n",
    "\n",
    "Romania- 5 Points Penalty Shootout over Slovakia\n",
    "\n",
    "Slovakia- 5 Points\n",
    "\n",
    "Ukraine- 0 Points\n",
    "\n",
    "I think that this group is going to have the most interesting result. Looking at the teams, I believe that we have 2 groups of teams. I think that Belgium and Ukraine have great midfield and attacking teams, but the backline and goalie are very questionable. On the other hand, I feel differently about Slovakia and Romania. I think that they have a good backline and goalkeeping, but the attackers and midfielders are questionable. In all honesty, I think that Ukraine gets crushed in this. They lose to every team in this group as I don't think that they have what it takes to beat Romania and Slovakia, and Belgium is just a better version of their team. I think the pressure to perform due to the war will be more harmful than helpful. They have one of the worst defenses in the tournament and think that's enough to go winless. I think that everyone else draws 1-1 to each other. Belgium has the attack and midfield, but they don't have the defense and goalie, I think that they draw to the 2 teams. I think that Slovakia and Romania are mirrors of each other and due to tiebreakers, will go to a penalty shootout. With this, I trust Moldovan over Dubravka and pick Romania to come second."
   ]
  },
  {
   "cell_type": "markdown",
   "id": "7afbcba7-3867-41bb-b449-223046ae2a0c",
   "metadata": {},
   "source": [
    "## Group F: Turkey, Georgia, Portugal, Czech Republic ##"
   ]
  },
  {
   "cell_type": "markdown",
   "id": "73be63c7-6efb-41e2-b011-f04a9fe4481e",
   "metadata": {},
   "source": [
    "Turkey v Georgia: 4-2 Georgia\n",
    "\n",
    "Portugal v Czechia: 1-1 Draw\n",
    "\n",
    "Georgia v Czechia: 3-1 Georgia\n",
    "\n",
    "Turkey v Portugal: 2-2 Draw\n",
    "\n",
    "Georgia v Portugal: 4-2 Portugal\n",
    "\n",
    "Czechia v Turkey: 2-1 Czechia\n",
    "\n",
    "Group F Final Table:\n",
    "\n",
    "Georgia- 6 Points\n",
    "\n",
    "Portugal- 5 Points\n",
    "\n",
    "Czech Republic- 4 Points\n",
    "\n",
    "Turkey- 1 Point\n",
    "\n",
    "I believe in the Georgia hype. Mamardashvili is that good of a goalkeeper. I also think that Kvaratskhelia will find his form again and help lead this team. Georgia also got lucky with that draw, not having to face Portugal in the first 2 rounds, and they can beat both Czechia and Turkey. My issue with both Czechia and Turkey are their backline. It's not very good on both sides. I believe that this Georgia team with beat both of these teams. After this they will have the first position in lock and play their bench against Portugal, having Portugal advance in second. I don't see Portugal beating either Turkey or Czechia. Even with the bad backline that they have, I don't think Roberto Martinez is that good of a manager. I think that Montella is decent and I do like this Czech side in general. With that being said, the Czech and Turkey game will be a great one. I see a high attacking match, however, I think that looking at Czechia's recent form compared to Turkey is enough to pick the Czech Republic over them."
   ]
  },
  {
   "cell_type": "markdown",
   "id": "86316600-094c-4081-8b3d-d32dba9afb48",
   "metadata": {},
   "source": [
    "## Third-Place Table ##"
   ]
  },
  {
   "cell_type": "markdown",
   "id": "0545aaab-143b-4928-9413-70529760f12f",
   "metadata": {},
   "source": [
    "This is the rules on placement for this table\n",
    "\n",
    "1) Points; 2) Goal difference; 3) Goals scored; 4) Wins; 5) Lower disciplinary points total; 6) European Qualifiers overall ranking, or if hosts Germany are involved in the comparison, drawing of lots.\n",
    "\n",
    "These are the teams in contention for the 3rd place spots\n",
    "\n",
    "Switzerland- 3 points\n",
    "\n",
    "Albania- 3 points\n",
    "\n",
    "Serbia- 4 points\n",
    "\n",
    "Netherlands- 4 points\n",
    "\n",
    "Slovakia- 5 points\n",
    "\n",
    "Czechia- 4 points\n",
    "\n",
    "This is the 3rd place table\n",
    "\n",
    "1) Slovakia- 5 points on Points\n",
    "2) Serbia- 4 points 0 GD\n",
    "3) Czechia- 4 points 0 GD\n",
    "4) Netherlands- 4 points -4 GD\n",
    "5) Albania- 3 points 1 win\n",
    "6) Switzerland- 3 points 0 wins\n",
    "\n",
    "This means that Slovakia, Serbia, Czechia, and Netherlands advance"
   ]
  },
  {
   "cell_type": "markdown",
   "id": "668488a0-e6ab-4b28-8878-caf1017702fa",
   "metadata": {},
   "source": [
    "## Knockout stage ##"
   ]
  },
  {
   "cell_type": "markdown",
   "id": "8f2220db-19f2-4abb-9c71-3993ef6a8a22",
   "metadata": {},
   "source": [
    "## Round of 16 ##"
   ]
  },
  {
   "cell_type": "markdown",
   "id": "53ebfacc-c8ab-42ce-8c74-9f322cb2e750",
   "metadata": {},
   "source": [
    "Spain v Czechia: 2-1 Czechia\n",
    "\n",
    "Hungary v Slovenia: 2-1 Hungary\n",
    "\n",
    "Georgia v Serbia: 3-2 Georgia\n",
    "\n",
    "Poland v Romania: 3-1 Poland\n",
    "\n",
    "Belgium v Netherlands: 2-0 Netherlands\n",
    "\n",
    "France v Portugal: 1-1 Draw, Portugal wins in Penalties\n",
    "\n",
    "England v Slovakia: 1-1 Draw, England wins in Penalties\n",
    "\n",
    "Germany v Croatia: 1-0 Germany\n",
    "\n",
    "For my bracket I see 2 different sides, one side is more random and unique. I think that anyone can come out of that side. The other side is the side of death. I see this side as a dangerous side to be in. With this tournament, I see the above results. I think Spain is still a good team, I think that they can compete. However, I like this Czech side. As much as Czech lacks in defense, I think that their attack and midfield is solid. While the Spanish have better individual players, I think that at this moment in time, Czechia is the better team. I will pick them over Spain. I think that Hungary will beat Slovenia. While Slovenia is a good enough team to get past the group stages, and Sesko is a good striker to do it, Sesko and Slovenia are very inexperienced. I think that a more experienced Hungary team will beat this Slovenia team. I think that Serbia is a better team than Georgia. However, I don't see them winning this. Serbia is very inconsistent. If you look at their recent form it shows that. I think that this Georgia team has more of a consistent side, and has a great goalie. Georgia advances. Poland and Romania is an interesting match. I think that Poland is just the far superior team. They have a Striker, Romania doesn't have that. Poland also has more experience in major tournaments. I think that Poland will win this comfortably. I think that the Belgium-Dutch matchup will be one of the best in this round. I think that the Dutch will win this due to their defense. After the loss to France in the Group stage, I think that the Netherlands Defenders will step up again and have a shut-out against the Belgian attack. I don't like the Belgian defense and think that the Dutch should get past it. France and Portugal on paper are 2 of the best 3 teams in this tournament. I think that this will be a 0-0 draw in regulation. I see both teams scoring in extra time, sending off this match in penalties. I think that Costa is a very slightly better keeper than Maignan and Portugal will advance over France, leaving the French as first-round exits. I think that the England and Slovakia match will be an ugly, scrappy battle. I see both teams scoring one in regulation. Going to extras having not scored a goal on either side. However, England has the better penalty-taking side. I'll take Pickford over Dubravka or Rodak and the English just have a better and taking penalties. I think that the Germans and the Croatians match up well. I like both sides but I think that Germany has a better attack over the Croatians, and that pushes them over to the next round."
   ]
  },
  {
   "cell_type": "markdown",
   "id": "ba9bc80a-2404-4989-a11c-aa37998a8970",
   "metadata": {},
   "source": [
    "## Quarter-Finals ##"
   ]
  },
  {
   "cell_type": "markdown",
   "id": "f10784f9-966a-4872-83c1-8309de76a93e",
   "metadata": {},
   "source": [
    "Czechia v Hungary: 2-1 Hungary\n",
    "\n",
    "Georgia v Poland: 1-0 Georgia\n",
    "\n",
    "Netherlands v Portugal: 3-2 Portugal\n",
    "\n",
    "England v Germany: 2-2 Draw, Germany wins on Penalties\n",
    "\n",
    "I really like both Hungary and Czechia, I think they have the opposite type of squad in that Hungary's attack is the issue, where Czechia's defense is their issue. In the end, I think that Hungary has a better midfield and that should be enough to control the game for Hungary. They win this. Georgia and Poland are 2 teams I wouldn't think to have made it this far. However, I think that this is where Poland falls. Poland had a good stretch in the mid-2010s with a better team than this, yet they never it made it past this round in a major tournament. I don't see that happening with a team like Georgia who will have 2 of the best players on the pitch this night. I think that Georgia wins this with a goal in the last 10 minutes. The Portuguese and Dutch will be a great matchup as well. The Portuguese have one of the best teams in this tournament, while the Dutch look to have a solid team and bounce back from the France match. However, I think that the Dutch will be tired at this point. Playing in the group of death against France, Austria, and Poland. Then going up aginst Belgium and Portugal, they will be gassed at this point. Portugal wins this one. In the final match up we will see the English going up against the Germans. I think that this will be a great match up. This will end 1-1 in regulation and go to extras which will end 2-2. I think that whoever starts at Goalie will win the match up. If ter Stegen starts, I think Germany wins. However, if Neuer starts, I think England wins. I'm going to assume the better keeper starts so I will go with Germany winning this. As well as being at home, Germany has that slight edge."
   ]
  },
  {
   "cell_type": "markdown",
   "id": "c4f327d7-bda4-477f-b630-f4bb781ba669",
   "metadata": {},
   "source": [
    "## Semi-Finals ##"
   ]
  },
  {
   "cell_type": "markdown",
   "id": "ab0f92b4-9faf-4dcd-9703-08869a2ec20b",
   "metadata": {},
   "source": [
    "Hungary v Georgia: 1-1 draw, Georgia wins in Penalties\n",
    "\n",
    "Portugal v Germany: 1-1 draw, Portugal wins in Penalties\n",
    "\n",
    "In an interesting Semi-Finals we have Hungary and Georgia playing in Munich, with Germany and Portugal playing in Dortmund. Looking at the first one, I think that Georgia and Hungary is fairly even. I think that Hungary has a slightly better defense, a better midfield, but a worse attack. With that being said, I think that Gerogia also has a better goalkeeper. I think that Hungary will score an early goal, Georgia takes one back near the end of regulation. This will lead to extras where I don't think either team scores. I think that Georgia has a better Goalie and that pushed them through penalties. Georgia advances to the Finals. I think that Germany and Portugal is going to be another solid match up. Germany has the home field advantage, even defense, even midfield, with Portugal having a slight advantage on the attack and goalie. I think that is enough for Germany to stay around. It goes to penalties with Costa being a better keeper than ter Stegen pushing them to the Finals in penalties."
   ]
  },
  {
   "cell_type": "markdown",
   "id": "1b585f22-7413-47b6-8ab0-985ddb48f723",
   "metadata": {},
   "source": [
    "## Finals ##"
   ]
  },
  {
   "cell_type": "markdown",
   "id": "870b5332-1aa5-4151-be7b-f7adb76f8341",
   "metadata": {},
   "source": [
    "Georgia v Portugal: 2-2 Draw, Portugal wins in Penalties.\n",
    "\n",
    "At this point, the pressure is on Portugal. They're the clear favorites over Georgia, who had a historic run to this finals. While I think that Georgia will play well in this game, Portugal will just be the better team. However, I think that Georgia will stay in this game until the end. I see all 4 goals coming in regulation. With that being said, Georgia will play since there is nothing to lose and will play for penalties. This is enough to force penalties. However, this situation is too much for Georgia to compete in. Portugal will win this and win their second Euro. Georgia has led a historic run and I think that this squad is special. Gocholeishvili will draw some interest, Tsitaishvili may draw some interest from teams like Shakhtar, and Mikautadze may draw interest from top Eredivisie or Premieria Liga teams. I think that this will be a historic run for the Georgians, but Portugal will pull another one out."
   ]
  },
  {
   "cell_type": "markdown",
   "id": "6f7d739a-4a0b-4572-958c-fff78b91d424",
   "metadata": {},
   "source": [
    "# Winner: Portugal #"
   ]
  }
 ],
 "metadata": {
  "kernelspec": {
   "display_name": "Python 3 (ipykernel)",
   "language": "python",
   "name": "python3"
  },
  "language_info": {
   "codemirror_mode": {
    "name": "ipython",
    "version": 3
   },
   "file_extension": ".py",
   "mimetype": "text/x-python",
   "name": "python",
   "nbconvert_exporter": "python",
   "pygments_lexer": "ipython3",
   "version": "3.10.12"
  }
 },
 "nbformat": 4,
 "nbformat_minor": 5
}
