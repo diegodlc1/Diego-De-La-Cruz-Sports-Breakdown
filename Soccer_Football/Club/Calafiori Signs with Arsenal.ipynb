{
 "cells": [
  {
   "cell_type": "markdown",
   "id": "1c35e654-399d-43c9-8eae-2a1b01fb6d13",
   "metadata": {},
   "source": [
    "# Calafiori Sold to Arsenal #"
   ]
  },
  {
   "cell_type": "markdown",
   "id": "9b126c97-a875-41e5-b89e-0ddd14cad708",
   "metadata": {},
   "source": [
    "Another Bologna player heading to the Premier League, we have CB/LB Riccardo Calafiori heading to North London. He signed a 5-year deal worth 4 million Euros per season. This move also cost the Gunners 42 million Euros to make this coming season. With this Bologna has netted more money to upgrade their squad for the Champions League this year. I will break this down for both teams."
   ]
  },
  {
   "cell_type": "markdown",
   "id": "4e66957f-25fe-4619-baab-95d46e02b2b3",
   "metadata": {},
   "source": [
    "## Impact for Arsenal ##"
   ]
  },
  {
   "cell_type": "markdown",
   "id": "a8c7911e-55d1-4d2f-add1-9426c724ddaf",
   "metadata": {},
   "source": [
    "Interesting but smart move for Arsenal to make. Arsenal needed to add more depth to their backline, especially at Centre-Back, and they get a young CB for 5 years, for only 4 million a year, and won't have the pressure of needing to perform right away. Saliba and Gabriel has those positions on lock, and with both Timber and now Calafiori, Arsenal has the depth that they need. Looking at Arsenal's squad for next year they don't need to add much except for a Defensive Midfielder. To be honest they did what they needed to do with the starters, getting Raya from Brentford, and anything that would be done with the Starters would mean the movement of another player. For example, I know that a Striker is a starting position that could use an upgrade, however, Jesus is fine enough of a starter that it would be better right now to add depth at CB and DM than get a starter at that position. It also sounds like Smith Rowe is heading out to Fulham so looking to add some depth at the midfield position would be necessary during this window. Smith Rowe's transfer would also get more money than what Arsenal paid for Raya so this would come out of their books and possibly another 2 transfers would be made to help fill the Midfield. What I'm trying to say with this is that Arsenal will not be signing a Striker this window and if they do then it would be a massive mistake by the club. I also think that Ramsdale will be sold to another Premier League club for around 20-25 million so Arsenal will have paid for half of this transfer with this. It's a necessary signing and I really like it with that being said what candidates will Arsenal look for? Eze is an obvious choice to buy but I don't think that Arsenal would want to pay for him to be coming off the bench for most of the season. For a DM I see Kalvin Phillips, Andre, Gilmour, and Lerma all being options that Arsenal look at. Phillips is the least likely as I don't see City giving Arsenal any help. I think Gilmour will be the player that Arsenal gets from Brighton and that would be a solid addition. I think these are the most likely options for getting a DM. I would give this move a solid A+. Great deal of business and I think Calafiori will be a great CB for the future. This is a great move, especially for the price, that Arsenal made."
   ]
  },
  {
   "cell_type": "markdown",
   "id": "a1ff6a85-a5f6-4e35-857d-a0003fce5400",
   "metadata": {},
   "source": [
    "## Impact for Bologna ##"
   ]
  },
  {
   "cell_type": "markdown",
   "id": "dc06ae41-8170-43c9-a362-492931f7f471",
   "metadata": {},
   "source": [
    "A great deal of business for Bologna. They bought Calafiori for 4 million Euros from Basel just a year ago and now will make 42 million Euros excluding the money that would be sent to Basel for this deal. The issue now arises about the quality of this team. They sold Zirkzee and Calafiori now. There isn't another player from the Roster last year that looks to be sold this year. Ferguson is hurt and he would've been the only other player I would've said is gone this year for sure. Ndoye is a player that could be gone but I'm not 100% sure a team will buy him. Bologna also started to spend the Zirkzee money so we could see transfers to round out this team with Calafiori's money. Getting a Goalkeeper and Left Winger would be key starting positions. I would say that Attacking Mid, Right-Back, and Centre-Back depth would also be good with this money. Overall this move is an A-. I think that they could've gotten more money out of him and losing a key player is bad at that level. However, if they invest this money well I will easily give this an A+. The business done was great as well. They made 38 million Euros in a year on one player and will have money to add more pieces around the squad. Getting a new Goalie and Left-Winger would be the top priority for this Bologna team."
   ]
  }
 ],
 "metadata": {
  "kernelspec": {
   "display_name": "Python 3 (ipykernel)",
   "language": "python",
   "name": "python3"
  },
  "language_info": {
   "codemirror_mode": {
    "name": "ipython",
    "version": 3
   },
   "file_extension": ".py",
   "mimetype": "text/x-python",
   "name": "python",
   "nbconvert_exporter": "python",
   "pygments_lexer": "ipython3",
   "version": "3.10.12"
  }
 },
 "nbformat": 4,
 "nbformat_minor": 5
}
