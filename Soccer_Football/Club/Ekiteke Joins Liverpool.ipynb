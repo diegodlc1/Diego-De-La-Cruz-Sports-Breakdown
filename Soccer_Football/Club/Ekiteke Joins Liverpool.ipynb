{
 "cells": [
  {
   "cell_type": "markdown",
   "id": "37517e4a-42bf-446f-bb8c-2fa39dee8b6d",
   "metadata": {},
   "source": [
    "# Ekiteke Joins Liverpool"
   ]
  },
  {
   "cell_type": "markdown",
   "id": "68802ece-8019-4fa7-9c0a-9ba434a27133",
   "metadata": {},
   "source": [
    "Hugo Ekiteke has officially joined Liverpool on a 79 million Euros fee, 69 guaranteed, with 10 million in add-ons. Ekiteke joins Liverpool and Franfurt gets a massive transfer fee, let's break it down."
   ]
  },
  {
   "cell_type": "markdown",
   "id": "177ae2f7-9fbf-419d-951a-a6dfbd2603e2",
   "metadata": {},
   "source": [
    "## Impact for Liverpool"
   ]
  },
  {
   "cell_type": "markdown",
   "id": "c09593ea-9c4d-4e90-8422-46174e23ee99",
   "metadata": {},
   "source": [
    "What a move. Honestly, I don't like it. He never impressed me at Frankfurt, but he's still young and Liverpool got him on a solid fee. It's just a lot of money for one position when they have massive holes at other positions. I understand that you have to pay a premium for a Striker, and a great Striker is important for any title team. Additionally, it's hard to come by, so Gakpo, Salah, and Diaz can lead that line for another year while Liverpool fills out the other holes that need to be filled. Wirtz was also brought in this window, so you had him to fill in the attack if needed. Are any of them natural Strikers? No, but they're able to keep a strong attack to not have to worry about a Stiker for another season. They should've filled the back line more. Fill in the CB, LB, and RB with this money instead and then buy a striker the following season. That's the most logical idea, but I don't know their financial situation, and they may be able to do that. At the same time, I don't like Ekiteke in the Premier League. I think he flops like Nunez in the same way. B- signing unless they spend more money this window."
   ]
  },
  {
   "cell_type": "markdown",
   "id": "142a0350-3cad-4462-a57c-9befd094bdf6",
   "metadata": {},
   "source": [
    "## Impact for Frankfurt"
   ]
  },
  {
   "cell_type": "markdown",
   "id": "f51b5d64-0ae7-407a-aecb-ea821d9add07",
   "metadata": {},
   "source": [
    "It's a solid enough transfer for Frankfurt. I think Ekiteke was a fine player and could be solid in the Bundesliga, but I was never high on him. I think selling him now, at his max value, was smart by Frankfurt. I believe that he had a release clause, so I don't think that Frankfurt could've gotten more, but it's a solid enough number for his worth. The issue is that Frankfurt needs to invest in its squad. They have made 72.1 million Euros in profit from their transfers this window. They need to shop for a Goalkeeper and a midfielder during this window, with the possibility to fill in the front line if they have some money to spend. I don't know their financial situation, but they do need to invest in their squad somewhat. I'll give this sale a solid A-. Solid fee, on a player I'm not high on, and the need to improve their squad for Champions League."
   ]
  }
 ],
 "metadata": {
  "kernelspec": {
   "display_name": "Python 3 (ipykernel)",
   "language": "python",
   "name": "python3"
  },
  "language_info": {
   "codemirror_mode": {
    "name": "ipython",
    "version": 3
   },
   "file_extension": ".py",
   "mimetype": "text/x-python",
   "name": "python",
   "nbconvert_exporter": "python",
   "pygments_lexer": "ipython3",
   "version": "3.10.12"
  }
 },
 "nbformat": 4,
 "nbformat_minor": 5
}
