{
 "cells": [
  {
   "cell_type": "markdown",
   "id": "6a8416b6-8198-49b2-b11f-2b4f6f828957",
   "metadata": {},
   "source": [
    "# Gross sent to Dortmund #"
   ]
  },
  {
   "cell_type": "markdown",
   "id": "f1462a54-5c41-42da-a5aa-e5111ac999e7",
   "metadata": {},
   "source": [
    "Pascal Gross has been sent to Dortmund from Brighton. The deal seems to be set for 7 million without the add-ons. The add-ons is seen to increase the deal to 8 million dollars in total for Gross. I will break this deal down for both teams and share my opinion on it."
   ]
  },
  {
   "cell_type": "markdown",
   "id": "6341b7c5-4f50-46ac-8d74-e697eca0e480",
   "metadata": {},
   "source": [
    "## Impact for Dortmund ##"
   ]
  },
  {
   "cell_type": "markdown",
   "id": "8076a647-06bb-4ef6-8f52-b647b358fb8e",
   "metadata": {},
   "source": [
    "This is a solid deal for Dortmund. The 33-year-old has left a good impact on Brighton, helping them finish in the top 6 2 seasons ago and a European appearance this past season. With that being said, he's getting old and was looking to return to Germany. This was a solid deal for Gross. I feel like they paid a great price and I'm assuming he will be coming off the bench for most of the season with Dortmund. Since he's getting up there in age I fully expect that he is fine with this role, especially for a Champions League competing team like Dortmund. Dortmund adds much-needed depth to the CM position while also adding experience from the Premier League and other European competitions. Paying 7 million for him is a solid deal for Dortmund in that regard. I do want to know the contract situation as that will give me a better frame of mind of their idea of how Dortmund will play Gross. If it's a 2-year deal then I think that it would be a fair contract for an older player. With that being said Dortmund fills a need at the CM position, but they are still in need of a LB, RB, and possibly another CM to add some more depth in that position. I don't think that Dortmund is done in this window, however I do think that there is much needed moves to be made by this club."
   ]
  },
  {
   "cell_type": "markdown",
   "id": "5014e250-1129-4d0c-9f50-916a098549be",
   "metadata": {},
   "source": [
    "## Impact for Brighton ##"
   ]
  },
  {
   "cell_type": "markdown",
   "id": "fb86a4b5-5a5c-4544-9836-6914dcd212cd",
   "metadata": {},
   "source": [
    "Losing a club legend is always tough for any team. I also believe that Brighton took less than what they could've gotten for Gross. I feel like 10 million would be a fair price for Gross but considering his age, contract, and possibly no other offers for him, I can understand why Brighton decided to take this offer. With that being said this is still a good bit of business that was done by Brighton. They bought him for only 3 million Euros when they were promoted after the 16/17 season. They not only made 4-5 million from the deal, but he helped establish them as a Premier League club and served the club for 7 seasons. This was overall a great deal of business for Brighton as being a Premier League club is worth more than any other potential dollars they could've gotten from this deal. With that being said, I want to look at any potential investments that Brighton could make with that 7-8 million dollars. Honestly, they would need to look for a CM. They need to replace the hole that Gross has left on the squad. I'm not sure if that money is enough to get a solid Premier League starting CM but it's money that they didn't have to spend it. I think Erick Sanchez from Club America would be a standard Brighton signing but I'm not sure if he's a starting Premier League CM, Eggestein from Freiburg is someone like that, Hatate from Celtic, Eustaquio from Porto is another player. Knowing Brighton they would look more internationally to fill this position. I think they need to get an older player to fill the need but knowing Brighton they will look for a young player."
   ]
  }
 ],
 "metadata": {
  "kernelspec": {
   "display_name": "Python 3 (ipykernel)",
   "language": "python",
   "name": "python3"
  },
  "language_info": {
   "codemirror_mode": {
    "name": "ipython",
    "version": 3
   },
   "file_extension": ".py",
   "mimetype": "text/x-python",
   "name": "python",
   "nbconvert_exporter": "python",
   "pygments_lexer": "ipython3",
   "version": "3.10.12"
  }
 },
 "nbformat": 4,
 "nbformat_minor": 5
}
