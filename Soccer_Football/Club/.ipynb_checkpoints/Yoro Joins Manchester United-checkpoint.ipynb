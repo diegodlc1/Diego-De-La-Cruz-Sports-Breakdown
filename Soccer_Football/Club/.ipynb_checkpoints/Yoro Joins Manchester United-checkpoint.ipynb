{
 "cells": [
  {
   "cell_type": "markdown",
   "id": "e3e45fda-49ed-47dc-8850-dde27bd0e569",
   "metadata": {},
   "source": [
    "# Leny Yoro Joins United #"
   ]
  },
  {
   "cell_type": "markdown",
   "id": "3812577c-8a18-489a-95df-3b1daf912de4",
   "metadata": {},
   "source": [
    "The French youngster has joined Manchester United for 62 million Euros with add-ons worth up to 8 million Euros. He has signed a 5-year deal until 2029 with an option year added. His contract is worth 35 million Euros, 7 million a year, with the possibility of being 45 million Euros based on bonuses. With that being said the 18-year-old has joined United from Lille to make an impact for the first team. I will go through the impact for both Manchester United and Lille"
   ]
  },
  {
   "cell_type": "markdown",
   "id": "91073f96-df6e-404e-b844-2e6a2c45038d",
   "metadata": {},
   "source": [
    "## Impact for United ##"
   ]
  },
  {
   "cell_type": "markdown",
   "id": "995d2561-226c-429b-8c17-08b7516cd994",
   "metadata": {},
   "source": [
    "The summer of spending is coming to Manchester Red. I understand it with the new ownership group but I also believe that this means Ten Hag needs to get to the Champions League next season or he's out as manager. They have currently spent 104.5 million Euros for both Zikzee and Yoro combined, they have only recieved 42.5 million Euros from transfers in this current window. I can see Ten Hag being on the hot seat if he doesn't get Champions League this year based on those financials. With that being said, on a team aspect this was much needed. United is lacking in a CB and with Martinez the only competent CB in the first team, then Yoro is set to be in the first team. Yoro has played the second most first team minutes in league play last year for Lille, only behind Chevalier, and has led the backline to have the third lowest goals against in the league, only behind Nice and PSG. With that being said I think he will be a competent CB for United in the beginning at least. I do believe the talent disparity between the Prem and Ligue 1 is a decent gap and he would need to get used to playing prem talent. He played well against Aston Villa when they met in the Conference League but that is one off game versus a season long grind in the Prem. I think that he would struggle in the beginning but will find his footing and at the end of the day this is a good signning. Business-wise they overpayed, but he was being pursued by both Liverpool and PSG so it makes sense to make this move. I'll give this signning a B+ with both his youth and contract being the negative flags. He's getting paid more than Onana, Martinez, and Wan-Bissaka and if he doesn't pan out then he would be worth less than the 62 million payed for him and his contract would be kind of hard to move. I don't think he will but I can see it happening more than someone like Zirkzee failing. He has a high variablility in what can happen with his career and the contract is slightly concerning."
   ]
  },
  {
   "cell_type": "markdown",
   "id": "e5e09d04-3eea-46e4-bf2c-160cf3106769",
   "metadata": {},
   "source": [
    "## Impact for Lille ##"
   ]
  },
  {
   "cell_type": "markdown",
   "id": "bdc43f5b-082f-4c0d-9f6f-2b298224167f",
   "metadata": {},
   "source": [
    "As expected Lille loses Yoro for a record fee for a defender from Ligue 1. With that being it's always hard for me to critique the smaller teams when it comes to transfers. They will always be at a disadvantage and it would be hard to keep a player of his talent with the club. With that being said I'll go in with what I think Lille should do with the money that they recieved from this deal. Looking at the current financials, Lille has 57 million Euros in profits with the current transfers with the club. They need to focus on the midfield and the backline with that money. They can split the finances to try and upgrade those positions but honestly I'm not sure who would be avaliable for them at the current moment. Maybe they should look at the youth team first and go from there but I'm uncertain what should be done. Honestly I would give this transfer for them a solid B+. They got more than what he's worth, he was an academy prospect so they made a lot of money off of him. My only issue is that I'm not sure if they have a plan for what they're going to use the money for and if they don't use it to buy players then I'm unsure what will come out of it."
   ]
  }
 ],
 "metadata": {
  "kernelspec": {
   "display_name": "Python 3 (ipykernel)",
   "language": "python",
   "name": "python3"
  },
  "language_info": {
   "codemirror_mode": {
    "name": "ipython",
    "version": 3
   },
   "file_extension": ".py",
   "mimetype": "text/x-python",
   "name": "python",
   "nbconvert_exporter": "python",
   "pygments_lexer": "ipython3",
   "version": "3.10.12"
  }
 },
 "nbformat": 4,
 "nbformat_minor": 5
}
