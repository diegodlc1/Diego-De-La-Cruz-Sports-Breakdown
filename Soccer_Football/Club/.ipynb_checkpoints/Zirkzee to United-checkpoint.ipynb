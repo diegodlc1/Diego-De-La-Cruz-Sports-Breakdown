{
 "cells": [
  {
   "cell_type": "markdown",
   "id": "739f971c-9dd0-4fb5-bfd4-5d6417545910",
   "metadata": {},
   "source": [
    "# Zirkzee signs with United #"
   ]
  },
  {
   "cell_type": "markdown",
   "id": "af2269ff-4517-447b-941e-412f135e6557",
   "metadata": {},
   "source": [
    "Joshua Zirkzee has joined Manchester United just after the Netherlands have lost in the Euros for 5 years with an option of an extra year based on performance. The Center Forward has led Bologna last year to a third place finish in Serie A last season. United has paid more than his 40 million Euro release clause to have better financial payment terms for the next three years. With that being said I want to break this down for both Bologna and United."
   ]
  },
  {
   "cell_type": "markdown",
   "id": "cd242afa-e022-4dd9-b8dd-0ca17b1cd310",
   "metadata": {},
   "source": [
    "## Impact on Man United ##"
   ]
  },
  {
   "cell_type": "markdown",
   "id": "f8b63cd1-a763-4ad5-b579-d5b642c5e46c",
   "metadata": {},
   "source": [
    "United has signed a number 9 for the second straight year. With that being said I understand the move and if Ten Hag is looking to run a 2 striker formation then I like this signing a lot. The issue is that they have Hojlund already as a number 9. I like Hojlund and to me he's better than Zirkzee and 2 years younger. I understand the idea of getting depth but I think it would've been smarter to spend around 20-25 million on an older striker that can play as a back up for United. I understand that Zirkzee would be the best idea of a player but if I'm Zirkzee I wouldn't agree to this move unless Ten Hag promised to start me or play a 2 striker formation to get playing time. It's tough to say. I understand the length of the contract as it's very sellable if Hojlund develops to be better than Zirkzee then he can be sold. Getting Zirkzee for that amount is a good deal at the end of it though. This makes me wonder what formation United is looking to run. Will it be a 4-4-2 with higher wingers or will it be a 4-2-3-1? We'll see when it comes to that. I'll give this signing a B+ to United. Got a good deal on a good player and did good business, the issue is the idea of fit with Hojlund and the current United squad. They probably have that figured out and I understand they needed a striker but I think they could've gotten a slightly worse, older striker and invested the extra money on a Centerback. I'm also not too high on Zirkzee as a player if he doesn't get the playing time. I think that they'll make profit but it's more of a question mark here."
   ]
  },
  {
   "cell_type": "markdown",
   "id": "13fd3ebd-4cb8-4120-b815-2cfc301123e6",
   "metadata": {},
   "source": [
    "## Impact on Bologna ##"
   ]
  },
  {
   "cell_type": "markdown",
   "id": "b75c4651-1947-4ffe-8b8d-8f3c9763a6c1",
   "metadata": {},
   "source": [
    "One of the most impactful player for their Champions League run last year is now gone. The Champions League club has made around 30+ million in profits for Zirkzee. Him being worth more than his release clause was a slight problem for Bologna as they could've made another 10 million or so in profits if they didn't have a release clause but I'm not sure if he signs to Bologna if the release clasue wasn't set in place. With that being said this is a good sale to me. I don't think Zirkzee will develop much more than what he is now and if they're investing this money on the squad they can sign 2 15 million euro players to help build the squad to compete in the Champions League. Getting another striker and a goalkeeper would be a great starting place to buy a player. I would make a push for Patterson at Sunderland, Bazanu at Southampton, and if they don't want to splash too much cash then Atubolu at Freiburg would be an option. Using Champions League as leverage would be important to get these players. For a striker Orban from Lyon, Ndiaye from Everton, Fofana from Chelsea, Pepi from PSV, Lucca from Udinesse, and Silva from Wolves all fit the bill of a typical Bologna striker. I'll give this sell a B+ also. Good business and if they put good use of the money then this can rise up, however they lost out on money from the release clause but at the same time who knows if he signs with them without it."
   ]
  }
 ],
 "metadata": {
  "kernelspec": {
   "display_name": "Python 3 (ipykernel)",
   "language": "python",
   "name": "python3"
  },
  "language_info": {
   "codemirror_mode": {
    "name": "ipython",
    "version": 3
   },
   "file_extension": ".py",
   "mimetype": "text/x-python",
   "name": "python",
   "nbconvert_exporter": "python",
   "pygments_lexer": "ipython3",
   "version": "3.10.12"
  }
 },
 "nbformat": 4,
 "nbformat_minor": 5
}
