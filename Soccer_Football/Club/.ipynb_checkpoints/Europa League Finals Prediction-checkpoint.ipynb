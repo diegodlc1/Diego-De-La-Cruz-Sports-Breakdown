{
 "cells": [
  {
   "cell_type": "markdown",
   "id": "b2944452-fd47-476a-9e7d-c4affc106f84",
   "metadata": {},
   "source": [
    "# Europa League Finals Prediction #"
   ]
  },
  {
   "cell_type": "markdown",
   "id": "63f010c3-61af-4237-aa3e-2f3ca4679852",
   "metadata": {},
   "source": [
    "## Bayer Leverkusen vs Atalanta ##"
   ]
  },
  {
   "cell_type": "markdown",
   "id": "795f39e1-fc4e-4737-9352-3db2c973b8a4",
   "metadata": {},
   "source": [
    "With the European Soccer season coming to an end, we are starting to see many European Cups coming to an end. With one of those finals being the Europa League Finals. With that being said this Finals is shaping up to be the best one. We are seeing an invincible season with Leverkusen not losing a game in the 2023-24 season. This includes the DFB Pokal, Bundesliga, and Europa League. Atalanta is one of the most form teams currently in Europe, having their last 2 losses being Liverpool and Juve in the Italy Cup finals. Scamacca has seen a resurgence while we saw the rise of Wirtz. I see both teams running out of the same formation with only 1 difference. I think that this would be a 3-4-3 with a single striker, 2 attacking mids, 2 wing backs, and 3 center backs. The one difference is that I see Leverkusen running out 2 defensive midfielders while Atalanta will run with 2 Central Midfields. I can see a similar setup to the second leg against Marseille, where Atalanta won 3-0 in Italy. However, I think Leverkusen will take a step closer to their invincible season, Leverkusen will beat Atalanta 3-1."
   ]
  }
 ],
 "metadata": {
  "kernelspec": {
   "display_name": "Python 3 (ipykernel)",
   "language": "python",
   "name": "python3"
  },
  "language_info": {
   "codemirror_mode": {
    "name": "ipython",
    "version": 3
   },
   "file_extension": ".py",
   "mimetype": "text/x-python",
   "name": "python",
   "nbconvert_exporter": "python",
   "pygments_lexer": "ipython3",
   "version": "3.10.12"
  }
 },
 "nbformat": 4,
 "nbformat_minor": 5
}
