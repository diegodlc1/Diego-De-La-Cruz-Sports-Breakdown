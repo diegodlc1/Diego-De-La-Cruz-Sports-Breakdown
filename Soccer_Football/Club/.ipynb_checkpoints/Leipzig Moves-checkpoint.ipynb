{
 "cells": [
  {
   "cell_type": "markdown",
   "id": "12bab767-772d-441d-964e-4a9eb5c0d768",
   "metadata": {},
   "source": [
    "# Leipzig re-signs Sesko to extension, Ouedraogo signed, both until 2029 #"
   ]
  },
  {
   "cell_type": "markdown",
   "id": "056c0d3f-8828-4890-b6ea-819d46570ec2",
   "metadata": {},
   "source": [
    "Leipzig has resigned Slovenian International and breakout star Benjamin Sesko as well as buying Assan Ouedraogo from 2.Buli side Schalke for 10 million Euros. They both signed until 2029."
   ]
  },
  {
   "cell_type": "markdown",
   "id": "0960d9b1-92a0-473b-b6ae-6d2e29b811fe",
   "metadata": {},
   "source": [
    "## Sesko stays at Leipzig for now ##"
   ]
  },
  {
   "cell_type": "markdown",
   "id": "bdd9aa81-9747-47ea-8648-6ba10585d6d4",
   "metadata": {},
   "source": [
    "This years breakout striker, Benjamin Sesko had a decent season in all honestly. He only broke out in the last part of the season, with 16 goal contributions in 31 matches played, he had a good season. I love this extension for all sides involved. First I want to say that Leipzig's business is great. The ability to get their young star striker to stay for another year, while offering more money, and a 10 million euro increase in his contract, that is beautiful business being done. On top of that, they already have another striker, Openda, who I think is better than Sesko, already in their starting 11. While everyone was salivating for the younger Sesko, if I was one of the big clubs going for a Leipzig striker to compete in the Premier League or Serie A, I would've gone for Openda. He is older and to me more proven than Sesko. While I get that Sesko's age makes him attractive, I think a move to a big club would be a massive mistake for him to make at this point in his career. I don't think that he is ready. Going back to Leipzig for another year, developing in their system, and having a reasonable release clause in his contract for when he does want to make the move, I think that it was a good decision for him. Ultimately a great deal all around. Sesko gets paid more, has a reasonable release clause, and is young and developing at Leipzig instead of in a high-stress situation like Arsenal, Milan, or PSG. Leipzig gets Sesko for another year and will make 10 million euros more next year if Sesko performs.\n",
    "\n",
    "As for the big clubs in need of a striker, Arsenal, United, Milan, Juve, PSG, etc. This is terrible news. Now granted I feel like they could look at Openda, who might break out in the Euros for Belgium, however, I don't know if Leipzig will sell him. This is great news for Napoli and drives up the price for Osimhen. We'll see how this transfer window looks, with the Euros and Copa both going on, breakout stars will appear and be put on top teams' radars. As I said I have a good feeling about Openda, he might be the star the top teams will look for."
   ]
  },
  {
   "cell_type": "markdown",
   "id": "931f5eb6-483c-4fa7-8eaa-0c30aa6feaba",
   "metadata": {},
   "source": [
    "## Ouedraogo Signs from Schalke ##"
   ]
  },
  {
   "cell_type": "markdown",
   "id": "892122f6-002f-4f9e-9174-2b97d24bb7ba",
   "metadata": {},
   "source": [
    "In a seperate transfer, Leipzig has bought 18 year old German Center Midfielder, Assan Ouedraogo, for his 10 million Euro release clause. This is great for Schalke as they need as much money as they can get, and making 10 million euros for an academy prospect is always a good thing for them. They need money currently and his release clause was met. No matter how good he can be, Schalke needs money now.\n",
    "\n",
    "For Leipzig this is a great signing. Rumors are that they're thinking about loaning him to Schalke for this season, but they'll go through preseason for that decision. I think that Leipzig should look for a loan, as their current midfielders are all solid players. I think that game time is important for Ouedraogo's development and a loan to a lower Buli side or a top tier 2.Buli side can help with that development. On the other hand, he can be a great bench option behind Haidera and Seiwald to come in at the 75th minute or so. My main issue for him now is that he needs to fill in his frame. He has to fill in his 6 foot 4 inch frame and gain some muscle mass since I can see him getting bullied in the midfield against top Buli/Champions League teams. Keeping him at Leipzig to have those resources, or loaning him out has both it's benefits and negatives. I honestly think that the best thing for Leipzig to do is a laon to Hoffeinheim if the Schalke loan doesn't work out. He can get game time in both the Europa League and Bundesliga. I think that is the best option, playing better competition, higher chance of starting, and having decent facilities. Other than that keeping him isn't bad either.\n",
    "\n",
    "All in all a great deal of business being done by Leipzig."
   ]
  }
 ],
 "metadata": {
  "kernelspec": {
   "display_name": "Python 3 (ipykernel)",
   "language": "python",
   "name": "python3"
  },
  "language_info": {
   "codemirror_mode": {
    "name": "ipython",
    "version": 3
   },
   "file_extension": ".py",
   "mimetype": "text/x-python",
   "name": "python",
   "nbconvert_exporter": "python",
   "pygments_lexer": "ipython3",
   "version": "3.10.12"
  }
 },
 "nbformat": 4,
 "nbformat_minor": 5
}
