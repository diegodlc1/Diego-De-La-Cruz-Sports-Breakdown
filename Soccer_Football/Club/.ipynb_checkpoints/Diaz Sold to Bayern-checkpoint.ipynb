{
 "cells": [
  {
   "cell_type": "markdown",
   "id": "ae00d777-68bf-4e94-872b-d1edbd90dbee",
   "metadata": {},
   "source": [
    "# Diaz sold to Bayern"
   ]
  },
  {
   "cell_type": "markdown",
   "id": "35d943ae-e99b-4102-bff9-ff38acf1d584",
   "metadata": {},
   "source": [
    "Luis Diaz was just sold from Liverpool to Bayern for 65 million Euros. The Colombian international moves to Germany after some solid seasons at Liverpool. Let's break it down."
   ]
  },
  {
   "cell_type": "markdown",
   "id": "b399cdf2-dcc1-4dc4-9af5-f985b335c0cb",
   "metadata": {},
   "source": [
    "## Impact for Bayern"
   ]
  },
  {
   "cell_type": "markdown",
   "id": "b3fce190-7a60-470d-83fb-9a5e08b59079",
   "metadata": {},
   "source": [
    "This is a great signing. This is an amazing signing. 65 million is an amazing price for Diaz. This is a deal for Bayern, who needed to shore up the Left Wing. This creates one of the greatest attacks in Europe, with Kane at the top with Olise, Musiala, and Diaz. This is a top-tier attack in Europe. When healthy, the biggest concern is Musiala's health. This covers some holes for Bayern, but they do need a Keeper. I think that they will sell one of Coman or Gnabry to help fund that. They needed to shore up the Left Wing anyway, and this is one of the better signings in that aspect. This is an awesome deal for Munich otherwise. I will give it an A+ signing. I don't have many concerns about anything about this signing. I really like this signing."
   ]
  },
  {
   "cell_type": "markdown",
   "id": "ac3b2fb0-4422-422f-9cad-a0b92f2de3f3",
   "metadata": {},
   "source": [
    "## Impact for Liverpool"
   ]
  },
  {
   "cell_type": "markdown",
   "id": "1a069c11-3b44-487e-82d2-8cbb103a14e8",
   "metadata": {},
   "source": [
    "While they sold low on Diaz, it's not that bad for them logically. Gakpo is better on the Left Wing, and Diaz was going to see fewer minutes for that reason. They need to look for a backup in that position, but that's not too concerning. This is a move where I see a possibility of a big move coming. There are some rumors of Isak coming from Newcastle, but I don't believe Liverpool will sign Isak when Ekitike was just signed. Either way, Isak is still an upgrade, and that move could be a possibility. A Midfielder might be the best position to look at upgrading the starting position; however, we might see them use the money in upgrading the backup positions around them or investing in a wonderkid. I think that this sale is leading to a bigger sale of some sort. I'll give this an A-signing. A clear undersell, but they made a profit from Diaz, I think that this will lead to a bigger signing or a bunch of needed signings. A great move altogether."
   ]
  }
 ],
 "metadata": {
  "kernelspec": {
   "display_name": "Python 3 (ipykernel)",
   "language": "python",
   "name": "python3"
  },
  "language_info": {
   "codemirror_mode": {
    "name": "ipython",
    "version": 3
   },
   "file_extension": ".py",
   "mimetype": "text/x-python",
   "name": "python",
   "nbconvert_exporter": "python",
   "pygments_lexer": "ipython3",
   "version": "3.10.12"
  }
 },
 "nbformat": 4,
 "nbformat_minor": 5
}
