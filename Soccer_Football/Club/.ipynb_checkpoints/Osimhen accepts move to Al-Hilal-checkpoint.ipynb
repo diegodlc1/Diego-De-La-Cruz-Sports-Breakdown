{
 "cells": [
  {
   "cell_type": "markdown",
   "id": "08e1c46a-b063-4310-b498-04ef8b3d9a53",
   "metadata": {},
   "source": [
    "# Osimhen accepts Al-Hilal Offer"
   ]
  },
  {
   "cell_type": "markdown",
   "id": "0283e46a-950f-4cf3-91b3-959efc862fb0",
   "metadata": {},
   "source": [
    "Victor Osimhen, 26, has accepted an offer from Al-Hilal, and now Al-Hilal will have to look to buy him from Napoli. The offer looks to be around 40 million Euros in salary, and triggering the release clause of 75 million Euros for the sale from Napoli."
   ]
  },
  {
   "cell_type": "markdown",
   "id": "c2bd42b2-0c90-42ac-856a-e7aac9dfa9cd",
   "metadata": {},
   "source": [
    "## Impact for Osimhen and Al-Hilal"
   ]
  },
  {
   "cell_type": "markdown",
   "id": "c2a2d065-98fd-4196-a8f6-e8e7bcf9bdb9",
   "metadata": {},
   "source": [
    "I'm not really into the Saudi League, so it would be harder for me to fully understand why Al-Hilal will do this unless it has a squad to compete in the Club World Cup coming up. Al-Hilal also didn't win the Saudi League last year, and a move for a top 10 Striker in the world will be enough to do that. That's my best understanding. I do wonder what is going to happen to Mitrovic. Osimhen will take his starting spot, and if I'm Al-Hilal, I would look to move on from Mitrovic. He can stay in the Saudi League with a different team or make a jump back into Europe. A team like PSV, Genoa, or Lorient could be options for him. The biggest thing in this is that he's not landing a top job. We're talking low table in the top 5 leagues or outside of that as options. Even then, I would stick with Pepi at PSV. All in all, he can make the move back to Europe, but I don't see hope in landing at a Fulham-type place. Other than that, Al-Hilal gets a top 10 striker in the world in a weak league, they should roll through this league. B+ signing because it's a lot of money for someone who might not care about the team.\n",
    "\n",
    "For Osimhen, I get it. He's won a title in a top league in Europe. While one can argue that he can try to compete for the Champions League, he's only in the game for money. I can't blame him. It's his life and his job. He wants to chase the money, and if that's his goal, then this is the right move. I'm not going to grade this since I don't want to put myself in his shoes, as he has a different outlook on life than I do."
   ]
  },
  {
   "cell_type": "markdown",
   "id": "3d409df7-6e03-4142-b6ab-1d2677e51648",
   "metadata": {},
   "source": [
    "## Impact for Napoli"
   ]
  },
  {
   "cell_type": "markdown",
   "id": "347f6b4f-3148-45be-9533-9199aaa9c276",
   "metadata": {},
   "source": [
    "After winning Serie A without him or Khivicha for half the season, they're in a solid place. They're going to make 75 million from this transfer and 70 million that they didn't spend from PSG for Kivicha, I think we'll see some big signings for The Blues. Napoli could use a Left winger, Centre Back, and a Keeper. Pedro Gonçalves would be a top transfer idea for Napoli. Get him from sporting for around 30 million of what you currently have. Ouattra from Bournemouth could also be an option for Napoli as they seem to like to buy from mid-table prem sides. Jack Grealish could also be an option for Napoli on that side. Chevalier from LOSC or Trubin from Benfica are options for the goalkeeper position that is open for Napoli. Bade from Sevilla, Hancko from Feyenoord, or Torti from Wolves can all be options at the CB position. Truthfully, Napoli has a lot of money to use after this move and can upgrade parts of the roster to compete for the future. I see them spending around 80-100 million Euros during this window."
   ]
  }
 ],
 "metadata": {
  "kernelspec": {
   "display_name": "Python 3 (ipykernel)",
   "language": "python",
   "name": "python3"
  },
  "language_info": {
   "codemirror_mode": {
    "name": "ipython",
    "version": 3
   },
   "file_extension": ".py",
   "mimetype": "text/x-python",
   "name": "python",
   "nbconvert_exporter": "python",
   "pygments_lexer": "ipython3",
   "version": "3.10.12"
  }
 },
 "nbformat": 4,
 "nbformat_minor": 5
}
