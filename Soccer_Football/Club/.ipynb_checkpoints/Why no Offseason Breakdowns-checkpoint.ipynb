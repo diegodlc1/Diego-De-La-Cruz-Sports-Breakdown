{
 "cells": [
  {
   "cell_type": "markdown",
   "id": "e6981400-bfb1-4fab-a400-da5714074604",
   "metadata": {},
   "source": [
    "# Why no Offseason Breakdowns for Soccer Leagues"
   ]
  },
  {
   "cell_type": "markdown",
   "id": "6fd526f4-a8b2-481f-9982-f25b9c770e49",
   "metadata": {},
   "source": [
    "In accordance with the NHL, it'll be hard for me to do offseason breakdowns for soccer(football) leagues across Europe. I have one major issue that affects everything with soccer leagues, salaries. That's it. There is no such thing as a salary cap and floor. There is transfer money to be spent, but then there is wage money to be spent, and how much is applied to each is where the issue arises. At the same time, it's more dynamic than the NHL, with teams buying players while also selling them at the same time to make up for the room to buy other players. It's hard to simulate. With that and not knowing how much each team is going to spend, doing offseason breakdowns makes no sense in Soccer Leagues around Europe, and that excludes the timing of the transfer window and having time to do this before that opens up. \n",
    "\n",
    "I will still do breakdowns when rumors or transactions come through and show my ability to understand League's markets and rules."
   ]
  }
 ],
 "metadata": {
  "kernelspec": {
   "display_name": "Python 3 (ipykernel)",
   "language": "python",
   "name": "python3"
  },
  "language_info": {
   "codemirror_mode": {
    "name": "ipython",
    "version": 3
   },
   "file_extension": ".py",
   "mimetype": "text/x-python",
   "name": "python",
   "nbconvert_exporter": "python",
   "pygments_lexer": "ipython3",
   "version": "3.10.12"
  }
 },
 "nbformat": 4,
 "nbformat_minor": 5
}
