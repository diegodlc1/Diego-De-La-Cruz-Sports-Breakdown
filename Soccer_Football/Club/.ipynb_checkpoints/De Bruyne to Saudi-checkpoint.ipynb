{
 "cells": [
  {
   "cell_type": "markdown",
   "id": "c5863f8d-4540-436b-b931-e0be4a8b6e44",
   "metadata": {},
   "source": [
    "# De Bruyne has agreed to terms with Al-Ittihad #"
   ]
  },
  {
   "cell_type": "markdown",
   "id": "67292e48-177c-4ccf-9ff6-3c20c48d125c",
   "metadata": {},
   "source": [
    "Supposedly Kevin De Bruyne has agreed to terms with Al-Ittihad. This hasn't been officially confirmed but many different outlets have reported on this. I'm going to assume that this is true and want to think about this for Manchester City. I don't follow the Saudi League too much so I don't really understand the impact of this on their league so I will just brush on that briefly."
   ]
  },
  {
   "cell_type": "markdown",
   "id": "d7cc993e-6a27-4c00-b2e2-d5ba47d8fad4",
   "metadata": {},
   "source": [
    "## Impact for Al-Ittihad ##"
   ]
  },
  {
   "cell_type": "markdown",
   "id": "d199f465-830d-4885-b83a-da79b28788f4",
   "metadata": {},
   "source": [
    "One of the greatest playmakers to play in recent years has supposedly made the move to Saudi Arabia. Al-Ittihad will have a solid, ageing playmaker to pair with Kante and Benzema for the next season to try and push for a top 4 finish for partcipation to the AFC Champions League. With the addition of De Bruyne Ittihad should be able to make that push and would be a great addition to this team."
   ]
  },
  {
   "cell_type": "markdown",
   "id": "eb75da5b-4627-4cef-9a56-aa2a4924e403",
   "metadata": {},
   "source": [
    "## Impact for Manchester City ##"
   ]
  },
  {
   "cell_type": "markdown",
   "id": "407e81a9-985d-4c58-95c3-f29a0b490cf6",
   "metadata": {},
   "source": [
    "City is losing De Bruyne, their playmaking, star midfielder since 2015. Manchester City already has a replacement with Foden being someone that could fill the void that De Bruyne would leave behind. The question then rises on who can replace Foden as a solid bench piece that can come on. It looks like City could go for Dani Olmo, the Spanish at Leipzig, or Jamal Musiala, the German from Bayern. Money will not be concerned with a team like City, so they can pick the player that they feel would be the best to fill that role. With that all being said Foden is better than both Olmo and Musiala. If I'm City I'm going strongly for Musiala. I'm not sure if Bayern will sell unless City pays 160 million to 200 million, but this would be a splash in cash that would be worth it. However, with the current violations that City is facing we might see City make the cheaper option in going for Olmo. With that being said I think City would need to go and get Musiala, but I think that Olmo will be the most likely choice with the current situation that they're facing. Musiala is young and can develop under Foden and then take his spot, while Olmo can be the piece for now that is the most likely choice for City."
   ]
  }
 ],
 "metadata": {
  "kernelspec": {
   "display_name": "Python 3 (ipykernel)",
   "language": "python",
   "name": "python3"
  },
  "language_info": {
   "codemirror_mode": {
    "name": "ipython",
    "version": 3
   },
   "file_extension": ".py",
   "mimetype": "text/x-python",
   "name": "python",
   "nbconvert_exporter": "python",
   "pygments_lexer": "ipython3",
   "version": "3.10.12"
  }
 },
 "nbformat": 4,
 "nbformat_minor": 5
}
