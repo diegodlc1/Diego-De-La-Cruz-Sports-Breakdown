{
 "cells": [
  {
   "cell_type": "markdown",
   "id": "798ac575-04a3-4f1e-a48c-e4336c32dd74",
   "metadata": {},
   "source": [
    "# Carvalho signs with Brentford #"
   ]
  },
  {
   "cell_type": "markdown",
   "id": "c44922a5-3af0-4dfe-a7e6-65d18c78e33b",
   "metadata": {},
   "source": [
    "The Bees have signed Fabio Carvalho from Liverpool on a 5-year deal with an extra option year. This deal is set to be 27.5 million Euros going to Liverpool with extra add-ons included in this number. I will break down this transfer from both perspectives."
   ]
  },
  {
   "cell_type": "markdown",
   "id": "680da5fc-e835-4224-8cd8-90e81dabe6b3",
   "metadata": {},
   "source": [
    "## Impact for Brentford ##"
   ]
  },
  {
   "cell_type": "markdown",
   "id": "dca371f6-c596-43e9-8e11-b8bed7f419f7",
   "metadata": {},
   "source": [
    "This is a typical Brentford transfer. A young player that has some potential that has \"failed\" at a big club. With that being said, I like Carvalho as a player. His time with Hull was great. In half a season down in the Championship he scored 9 goals with 2 assists in 20 appearances. Very solid showing for a young talent at that level. Brentford should hope to develop him and sell him off in the future. The 5-year contract is enough to show that. With all of that being said, the Bees have overpaid a ton for Carvalho. I think 15-20 million would be fair value for him but paying at the minimum of 27.5 million is an extreme overpay for someone who had a good half of a season in the Championship and hasn't showed that much promise in the Premier League. With that all being said, he fills a positional need at the AM position and with his youth could be sold for profits in the future. With that all being said I will give this signning a B-. The player is good, the fit is good, the contract is good, but the transfer fee is terrible and that brings it down to a B- rating."
   ]
  },
  {
   "cell_type": "markdown",
   "id": "ed8693ad-07a3-4181-bf2f-4bf10003f1e4",
   "metadata": {},
   "source": [
    "## Impact for Liverpool ##"
   ]
  },
  {
   "cell_type": "markdown",
   "id": "3e97bd20-6a6f-417e-8eed-37b193b3611c",
   "metadata": {},
   "source": [
    "The Reds are getting rid of some deadweight to try and fee up some money for contracts and get money for the transfer market. First things first the business aspect of this deal is great for Liverpool. They bought Carvalho for around 10 million a couple of years ago and then sold him for 27.5 million Euros, a profit of around 17 million. They also got more money than what he's worth which is a plus for Liverpool. On top of that, he hasn't performed for Liverpool so they're not missing much from letting him walk. The thing with Liverpool is that they would need a new AM and they also need to fill a massive hole for a backup Striker. While Gakpo and Diaz can play Striker, I'm not sure if that's something Liverpool can rely on some out-of-position play. I would also argue that Liverpool would need to fill the backup Right winger role as well. With all of that being said this is still a good transfer if Arne isn't using an AM. This transfer would add a good amount of money to the account to fill these 2 positions."
   ]
  }
 ],
 "metadata": {
  "kernelspec": {
   "display_name": "Python 3 (ipykernel)",
   "language": "python",
   "name": "python3"
  },
  "language_info": {
   "codemirror_mode": {
    "name": "ipython",
    "version": 3
   },
   "file_extension": ".py",
   "mimetype": "text/x-python",
   "name": "python",
   "nbconvert_exporter": "python",
   "pygments_lexer": "ipython3",
   "version": "3.10.12"
  }
 },
 "nbformat": 4,
 "nbformat_minor": 5
}
