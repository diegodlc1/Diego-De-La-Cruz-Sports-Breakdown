{
 "cells": [
  {
   "cell_type": "markdown",
   "id": "b94bdf5f-1998-481a-ad27-dbbdaece9f6d",
   "metadata": {},
   "source": [
    "# Kean heading to Fiorentina #"
   ]
  },
  {
   "cell_type": "markdown",
   "id": "93725352-d951-4d8d-9201-69188b03291d",
   "metadata": {},
   "source": [
    "Moise Kean has officially joined Fiorentina from Juventus for a reported 13 million euros with the posibility of rising to 18 million due to some other add-ons. The contract amount and length has yet to be knowned to the public. The 24-year-old has had a down year at Juventus and is hoping that this transfer can add some funds and he can try to show promise at another Serie A club."
   ]
  },
  {
   "cell_type": "markdown",
   "id": "3de79d87-78a8-48fa-a1bc-ef4f4bd40fea",
   "metadata": {},
   "source": [
    "## Impact for Fiorentina ##"
   ]
  },
  {
   "cell_type": "markdown",
   "id": "9502eeba-16f7-4972-b3df-cb1b94146b2a",
   "metadata": {},
   "source": [
    "The Conference League runner-ups are looking to make a push at all three competitions from last year. Fiorentina is in a solid position from last year. They were 8th in Serie A last year, semifinalists in Coppa Italia, and were the runner-ups of the Conference League the past 2 seasons. This team has the pieces to compete at a high level, however they always lacked a consistent number 9. Belotti was seen as the striker last year but is now at Como and Lucas Beltran is older and didn't have that impressive of a season, 6 goals in Serie A and 10 goals in all 3 competitions that Fiorentina was involved in. Fiorentina is looking for that striker and Nicolas Gonzalez is a good winger that could help in developing Kean. After a great loan spell at PSG, Kean hasn't found that same form at Juventus. After being bought by PSG this past season, Kean played in 19 games, starting in 8, and scored 0 goals during that time. The 24 year-old is looking to get back to his PSG form but I don't  think that this would work. Fiorentina has been known to revitalize some front line pieces. Salah, Vlahovic, and Toni have been successful products of that. Fiorentina is looking to do that to Kean and for only 13 million it's a fine enough risk, but I don't think that this would work. Those 3 successful products came from leagues outside of Italy before they made the move to Fiorentina. Kean is heading from Juve to Fiorentina to make this move. I'll give this signing a C- as it could work but with everything but with zero goals in Serie A."
   ]
  },
  {
   "cell_type": "markdown",
   "id": "5adc09b8-8e6a-43cc-b55b-2c06f9686f7e",
   "metadata": {},
   "source": [
    "## Impact for Juventus ##"
   ]
  },
  {
   "cell_type": "markdown",
   "id": "dc512246-5eef-46cc-9a61-2d5179ff7838",
   "metadata": {},
   "source": [
    "This is a terrible deal for Juve. Juventus bought Kean just last year for 30 million euros from Everton and just sold him for 13 million, with a potential that it goes to 18 million. At best Juve only lost 12 million euros in this deal. They're currently in the red this year financially and that is excluding the difference between the 2 years. Juve is losing a lot of money is this deal but getting him for 13 million is fine for a striker that scored 0 goals and moving some deadweight to maybe use that money to buy a backup striker. Morata is seen as a possible option to buy as a backup for that money they get from this deal. I'll give this a D just by getting 13 million for a striker who scored zero goals last year, but the business end of it is terrible."
   ]
  }
 ],
 "metadata": {
  "kernelspec": {
   "display_name": "Python 3 (ipykernel)",
   "language": "python",
   "name": "python3"
  },
  "language_info": {
   "codemirror_mode": {
    "name": "ipython",
    "version": 3
   },
   "file_extension": ".py",
   "mimetype": "text/x-python",
   "name": "python",
   "nbconvert_exporter": "python",
   "pygments_lexer": "ipython3",
   "version": "3.10.12"
  }
 },
 "nbformat": 4,
 "nbformat_minor": 5
}
