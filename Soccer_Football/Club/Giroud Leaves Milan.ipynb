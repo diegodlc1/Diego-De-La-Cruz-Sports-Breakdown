{
 "cells": [
  {
   "cell_type": "markdown",
   "id": "29e5a346-625c-44b1-96df-bd95ef30c2db",
   "metadata": {},
   "source": [
    "## Giroud Leaves AC Milan for LAFC ##"
   ]
  },
  {
   "cell_type": "markdown",
   "id": "fb0a4f27-b455-491d-836b-785cb8ca6864",
   "metadata": {},
   "source": [
    "Giroud will leave AC Milan, with a Serie A title, this coming summer to join LAFC. With this move, we see another aging European star leave to join the MLS. I will break down this move for LAFC as well as AC Milan and who they should target next."
   ]
  },
  {
   "cell_type": "markdown",
   "id": "5668bb63-32e4-4c46-a29b-3876e914c90a",
   "metadata": {},
   "source": [
    "## LAFC ##"
   ]
  },
  {
   "cell_type": "markdown",
   "id": "cfaa73d4-beab-457d-8245-e54f1135ac0f",
   "metadata": {},
   "source": [
    "With this move, LAFC gets an actual striker. Having played Bogusz as the number 9 for most of the season, LA never really had a striker. While Bogusz is fine enough, he was never really a true striker and can move back down to be in the midfield. However, Bogusz is a natural Attacking Mid and Cherundolo has only played a 4-3-3 formation with 2 wingers and 1 striker this entire. Bogusz can play as a midfielder, probably replacing Atuesta in the starting 11, so we will see how this shakes up. With the addition of Giroud, we should see LAFC become more of an attacking threat and make a push to be considered a top team in the MLS."
   ]
  },
  {
   "cell_type": "markdown",
   "id": "3ccadd31-6910-4c08-9eef-fa7ffd88ccc7",
   "metadata": {},
   "source": [
    "## AC Milan ##"
   ]
  },
  {
   "cell_type": "markdown",
   "id": "7ff2f2f4-51bc-4286-bc57-47fc2104467c",
   "metadata": {},
   "source": [
    "Milan loses their best striker while not having much of a replacement. Origi is coming back from a disastrous loan spell with Forest, scoring 0 goals at the time of this writing. I think that Luka Jovic is a fine enough starter for now, however, with his contract running out, I don't think that Milan should resign him. His 3.4 million dollar contract is very high for a player to only score 6 goals in 781 minutes played (at the time of this writing). If they do resign him, Milan should look to decrease his salary, however, Jovic will probably want the same or more, especially if he is seen as the starting striker. The only striker on the current Milan squad that I see is Noah Okafor. The 23-year Swiss striker is currently for $2.3 Million a year and scored 6 goals in 827 minutes. While that is less efficient than Jovic, I think his age and contract situation make him a better player for the now. With that being said, I don't think that Okafor can be that striker for a Champions League team and Milan needs to make a move. The question is how much is Milan willing to spend. \n",
    "\n",
    "If Milan wants a striker for the now that I can see being a striker for a Serie A winning/Champions League team it's Joshua Zirkzee from Bologna. While he's going to cost around 40-60 million for Milan to have, if Milan is willing to pay that fee then I think they should do it. Getting paid only 1.1 million dollars from Bologna, Milan can pay him around 3 times that and he would still be less than Jovic. The question is would Bologna do that considering they got Champions League soccer next year. I don't think they would, especially selling to a Seria A rival, the transfer fee will be more around the 50-60 million dollar range. \n",
    "\n",
    "I think that a better option would be to go after Chelsea's David Datro Fofana. I believe that Fofana can develop into a great striker and closer to an affordable transfer for Milan to make. I can see him being sold for around 10 to 15 million, closer to the 15 million. Fofana scored 4 goals in 876 minutes in the Premier League with Burnley. Especially with the late-season rise of Nicolas Jackson, we'll see if Fofana has a spot in Chelsea. With that Milan can pay him around 2 million dollars a year and be cheaper than all of their other strikers. Fofana is only 20 years old, with myself being decently high on Okafor, I think this is a risk Milan takes and see if he can develop to be a solid striker"
   ]
  },
  {
   "cell_type": "markdown",
   "id": "4bce66db-1aa1-4ba4-a3e2-30b224d0533e",
   "metadata": {},
   "source": [
    "# Conclusion #"
   ]
  },
  {
   "cell_type": "markdown",
   "id": "86d44806-fca9-4941-8fec-b705bab66ebc",
   "metadata": {},
   "source": [
    "I think that Giroud makes LAFC a contender in the West and have a chance at winning the MLS Cup.\n",
    "\n",
    "For Milan, I think that if they want to capitalize on the squad that got second in Serie A this year, they would need to pay up. If they want to make a push for that title they would need to pay for Zirkzee to make that move. If they want to pay less and develop for another year or 2, then Fofana should be the target. I think that Milan should target Fofana and develop the striker who I think can be a top goalscorer for them."
   ]
  }
 ],
 "metadata": {
  "kernelspec": {
   "display_name": "Python 3 (ipykernel)",
   "language": "python",
   "name": "python3"
  },
  "language_info": {
   "codemirror_mode": {
    "name": "ipython",
    "version": 3
   },
   "file_extension": ".py",
   "mimetype": "text/x-python",
   "name": "python",
   "nbconvert_exporter": "python",
   "pygments_lexer": "ipython3",
   "version": "3.10.12"
  }
 },
 "nbformat": 4,
 "nbformat_minor": 5
}
