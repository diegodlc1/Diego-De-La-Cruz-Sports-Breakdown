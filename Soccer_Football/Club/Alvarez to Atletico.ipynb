{
 "cells": [
  {
   "cell_type": "markdown",
   "id": "ebce2444-8d8b-45cc-8b28-ce26c5987529",
   "metadata": {},
   "source": [
    "# Alvarez sold to Atletico Madrid #"
   ]
  },
  {
   "cell_type": "markdown",
   "id": "22f4e089-84e9-4784-88f8-44a3619db011",
   "metadata": {},
   "source": [
    "Julian Alvaraez has been sold to Atletico Madrid for 70 million Euros plus 25 million Euros of add-ons for a total of 95 million Euros. Contract terms aren't yet to be released but I'm going to assume that he will sign a 5-year deal without an option. The deal will most likely make him the highest paid player for Atletico. I will go through the impact for both teams."
   ]
  },
  {
   "cell_type": "markdown",
   "id": "350eaf85-2677-4de9-8360-12260023b6e6",
   "metadata": {},
   "source": [
    "## Impact for Atletico ##"
   ]
  },
  {
   "cell_type": "markdown",
   "id": "eb901d71-0e22-4f7e-8f7e-b06a7386f76d",
   "metadata": {},
   "source": [
    "This is one of the largest signnings in Atletico's history and adds to their already active transfer window. With Le Normand and Sorloth already bought this window, this would will add a striker for Madrid. This signning makes a lot of sense for all parties involved. Alvarez has already won enough with City and will look to get more playing time with Madrid as it sounds like Griezmann is set to leave to the MLS in the coming weeks and will leave a hole at the Striker position for Madrid this coming season. Alvarez is a great striker that has been rotated out in favor of Haaland (which is fair) and since he's won almost everything with Argentina and City he could look for a higher payday and more playing time to increase his value and get a larger contract later on in his career. While Atletico isn't known to be a top attacking team, they have had success with Griezmann and I do think that Alvarez is better than Greizmann is at this point in their careers and this is a needed upgrade for Atletico to compete with both Real and Barca for the coming seasons. This is a great signning to set the foundations. Atletico also paid a great price for him. The Striker market is inflated and this is part of that inflation, however, I do think Alvarez is a 90 million dollar player and this is a solid A signning to me."
   ]
  },
  {
   "cell_type": "markdown",
   "id": "3c32674b-2d18-4b1b-b7ec-09e9f61d46e8",
   "metadata": {},
   "source": [
    "## Impact for Manchester City ##"
   ]
  },
  {
   "cell_type": "markdown",
   "id": "f222547a-0996-4fee-bae3-8e88d7638196",
   "metadata": {},
   "source": [
    "With a quiet transfer window, this could add much needed money for City to buy some players to activate any last minute transfers. We don't know if finances were the issue, but with Haaland set to be the starting striker, getting 90 million for a back up is a great deal of business for City. On top of that, City has made a huge profit from this signning in just 2 years. With this selling, City should have made 111 million in transfer profits and we could see a huge splash in the coming weeks. I think a back up left-back, back up Striker, and a starting Center mid would be the best positions to invest this money in. Spending around 20-40 million on the back-up positions and then spending the rest on a Center mid would be a great deal of business. Getting someone like Chillwell would be a solid signning for City at left-back, Moukoko for Striker, and then buying Vintinha or Gallagher with the rest and that would be a good use of the money. I would say that they got a good number for someone that wanted to leave and is a back up. A solid A signning with potential to be A+."
   ]
  }
 ],
 "metadata": {
  "kernelspec": {
   "display_name": "Python 3 (ipykernel)",
   "language": "python",
   "name": "python3"
  },
  "language_info": {
   "codemirror_mode": {
    "name": "ipython",
    "version": 3
   },
   "file_extension": ".py",
   "mimetype": "text/x-python",
   "name": "python",
   "nbconvert_exporter": "python",
   "pygments_lexer": "ipython3",
   "version": "3.10.12"
  }
 },
 "nbformat": 4,
 "nbformat_minor": 5
}
