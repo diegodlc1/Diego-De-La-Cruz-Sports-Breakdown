{
 "cells": [
  {
   "cell_type": "markdown",
   "id": "e793137f-3f4c-4e1f-9b38-20a404669aa3",
   "metadata": {},
   "source": [
    "# Xhaka Joins Sunderland"
   ]
  },
  {
   "cell_type": "markdown",
   "id": "2e9c2009-e8a7-4497-9152-7423ffc06e57",
   "metadata": {},
   "source": [
    "Newly promoted club, Sunderland, has made a splash in signing former Arsenal Midfielder Granit Xhaka from Bayer Leverkusen for a 20 million Euro fee. The fire sale in Leverkusen continues while the Premier League continue to poach from them."
   ]
  },
  {
   "cell_type": "markdown",
   "id": "c31c1775-ef49-41ce-aaa1-4afc3ba8dcf8",
   "metadata": {},
   "source": [
    "## Impact for Sunderland"
   ]
  },
  {
   "cell_type": "markdown",
   "id": "1a244f44-4f1d-49f3-a5c5-73c925eabe5c",
   "metadata": {},
   "source": [
    "This is a solid signing for Sunderland. They needed Premier League experience, and they will get it from Xhaka. While Xhaka is on the older end of the spectrum, and to me, 20 million is a lot for someone who is 32. It's a classic Premier League overpay, though, so I can't dock many points from it as it's a classic move done by many Premier League clubs. With that being said, he brings experience and fills a position of need. I do believe they should've spent more on a CB, but Xhaka is able to bring that support to the CB without being a CB. I will give a B- grade. I don't like paying more than 15 million for anyone over 30 unless they have proven to be consistent. We saw a drop in form from Xhaka this previous season and who knows how he can preform from this point on."
   ]
  },
  {
   "cell_type": "markdown",
   "id": "9dbf8e20-76d5-4f3e-9d30-bb3f9feb8baa",
   "metadata": {},
   "source": [
    "## Impact for Bayer"
   ]
  },
  {
   "cell_type": "markdown",
   "id": "e0eb1479-a494-45a0-baf5-1745b317cb70",
   "metadata": {},
   "source": [
    "The fire sale has continued for Leverkusen. Losing many top talents this past offseason, Leverkusen has been making some solid moves in return. They brought in Quansah and Tillman, solid additions by Leverkusen, and after this transfer, they will have 100 million to spend on more talent. They need to look into getting an RB, LB, and more attackers, but truthfully, the RB hole is in much need. Xhaka isn't that big of a loss in Ten Haag's system. He doesn't use Defensive Mids in his tactics, and selling Xhaka at a 5 million Euro profit is solid. I will give this a grade of A. Got more value than what Xhaka is worth, solid, and a not-needed position, and made a profit on a 32-year-old, is the makings of a perfect transfer. Great move by Leverkusen."
   ]
  }
 ],
 "metadata": {
  "kernelspec": {
   "display_name": "Python 3 (ipykernel)",
   "language": "python",
   "name": "python3"
  },
  "language_info": {
   "codemirror_mode": {
    "name": "ipython",
    "version": 3
   },
   "file_extension": ".py",
   "mimetype": "text/x-python",
   "name": "python",
   "nbconvert_exporter": "python",
   "pygments_lexer": "ipython3",
   "version": "3.10.12"
  }
 },
 "nbformat": 4,
 "nbformat_minor": 5
}
