{
 "cells": [
  {
   "cell_type": "markdown",
   "id": "46c0acb5-fba7-4f54-9f71-c1f179f20887",
   "metadata": {},
   "source": [
    "# Mbeumo Signs with Manchester United"
   ]
  },
  {
   "cell_type": "markdown",
   "id": "30a6771f-0d42-46b8-a6f3-d01ba7e41987",
   "metadata": {},
   "source": [
    "Bryan Mbeumo has officially signed with Manchester United for 71 million Euros on a 5-year deal for an unknown amount. I will break down this transfer in depth for both Manchester United and Brentford."
   ]
  },
  {
   "cell_type": "markdown",
   "id": "52a27d70-d326-45ce-969a-fee150772a47",
   "metadata": {},
   "source": [
    "## Impact for Manchester United"
   ]
  },
  {
   "cell_type": "markdown",
   "id": "cd296859-7b26-4a69-9696-bda10441ad0c",
   "metadata": {},
   "source": [
    "This is a great transfer for Manchester United. The fee is an overpay; however, when dealing with another Premier League team, you have to overpay at times to land other Premier League talent. With all of this, I like the change in approach Man United did. I like how they brought in Cunha and Mbeumo, proven talent, vs what they were doing the previous seasons in bringing in unproven potential. The outcome is their table standing last season. With that being said, I feel like they have a lot of holes that need to be filled. The attacking bunch is most likely gone for this coming season, and while Cunha and Mbeumo bring a lot in the front but one injury to any of them and they have issues. They also have an issue at the striker position. They may like Hojlund, but I don't, and while I like Zirkzee, I don't think that he's good enough for Manchester United. Cunha may be the striker, but there is a hole at Left Wing then. I don't think that Garnacho, Sancho, and Antony are coming back. Rashford is already gone. That's a lot of holes that need to be filled. That's excluding what they have in the midfield at the moment. Split the 150 million spent on Cunha and Mbuemo into around 40 million to get Wingers, a Striker, and a CM, and I would like that more than the 150 million on Mbuemo and Cunha. Who knows, they may know that their offensive guys from last season are gone, and they will get more money in their transfer to continue to make moves, but we don't know that for sure. Either way, I'll give it a B signing. If they continue to fill their holes, then this will rise, but I like the approach of getting Premier League proven talent."
   ]
  },
  {
   "cell_type": "markdown",
   "id": "976ab580-6f86-434f-99f5-04d468ec45f8",
   "metadata": {},
   "source": [
    "## Impact for Brentford"
   ]
  },
  {
   "cell_type": "markdown",
   "id": "547f0310-376a-4a0f-b9ba-49ddeaef5c58",
   "metadata": {},
   "source": [
    "Brentford is getting poached this summer. With that being said, I wouldn't be too concerned about it. They have more money to work with after this transfer, and they have already made some smart transfers during the offseason to offset a lot of this. It sounds like Newcastle is interested in Wissa and would then add around 35-40 million more to work with on top of their 40 million in profit they already made. Brentford should have a lot to reset their front line. If they can get Wingers, a Striker, and a CM for around 20-30 million, they should be set for this coming season. Maybe a little less, as they need to try and add backup options to those positions as well. Truthfully, Mbuemo was most likely going to leave soon, and Brentford needed to make as much money as they could from the transfer. I'll give this transfer a B+. If they spend well, this will rise in value, but if they don't, then this grade will drop considerably and Brentford should be looked at as a relegation candidate. Either way this is a wait and see issue at the moment."
   ]
  }
 ],
 "metadata": {
  "kernelspec": {
   "display_name": "Python 3 (ipykernel)",
   "language": "python",
   "name": "python3"
  },
  "language_info": {
   "codemirror_mode": {
    "name": "ipython",
    "version": 3
   },
   "file_extension": ".py",
   "mimetype": "text/x-python",
   "name": "python",
   "nbconvert_exporter": "python",
   "pygments_lexer": "ipython3",
   "version": "3.10.12"
  }
 },
 "nbformat": 4,
 "nbformat_minor": 5
}
