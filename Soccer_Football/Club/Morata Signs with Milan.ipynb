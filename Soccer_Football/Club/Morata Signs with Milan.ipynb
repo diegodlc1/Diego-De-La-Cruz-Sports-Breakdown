{
 "cells": [
  {
   "cell_type": "markdown",
   "id": "f7831600-02e0-4416-b2f1-955903e572bc",
   "metadata": {},
   "source": [
    "# Morata Signs 3-year deal with Milan #"
   ]
  },
  {
   "cell_type": "markdown",
   "id": "0d4641dc-203c-4f72-a48c-0bdfb874a89c",
   "metadata": {},
   "source": [
    "Just after winning the Euros, Spanish Striker Alvaro Morata has signed a 3-year, around 16.5 million Euro deal with AC Milan to become the Serie A side's Striker. AC Milan has triggered the 13 million Euro release clause from Atletico Madrid for the deal. I will go into depth with the impact for Milan and Atletico."
   ]
  },
  {
   "cell_type": "markdown",
   "id": "144e7bca-fb11-4873-9353-07de2188bdcd",
   "metadata": {},
   "source": [
    "## Impact on Milan ##"
   ]
  },
  {
   "cell_type": "markdown",
   "id": "ce1b4e51-1d65-4324-a1ea-a66228af042c",
   "metadata": {},
   "source": [
    "With Zirkzee moving to Man United and Giroud moving onto the MLS, Milan was missing a Stiker for next season. Outside of Giroud, I've never been impressed with Milan's other Strikers. With that being said, buying the Euro-winning Striker for 13 million is a solid deal. I would say that this is a good deal for Milan as 13 million is less than what he went for 4 years ago which was 35 million Euros from Chelsea. Milan is getting a solid deal out of this Striker. On top of winning the Euros, I think Morata is worth more than the 13 million that Milan is spending for him. His contract is fine. A 3-year deal for a 31-year-old Striker is a little concerning, but if he doesn't age too much in the next 3 years then it would be a fine deal. He scored 21 goals in all competitions with Atletico last season and scored 1 goal during Spain's Euro-winning run. With the Striker situation under control for Milan, for at least this season, we could see Milan compete with Inter next season but I still predict Inter will win it again next season. I will give this signing a solid B score. They got a Euro-winning Striker for 13 million dollars, which is a deal, and filled a position of need for next season. The one concern is the 3-year deal where he didn't have that impressive run in the Euros and is on the wrong side of 30 for a Striker."
   ]
  },
  {
   "cell_type": "markdown",
   "id": "057f1a21-9696-46db-8b23-b0a1bf40b645",
   "metadata": {},
   "source": [
    "## Impact on Madrid ##"
   ]
  },
  {
   "cell_type": "markdown",
   "id": "6aeb6736-8cc8-471b-b5d1-8d5a54348626",
   "metadata": {},
   "source": [
    "What a bad release clause. Maybe it's how they got him, but spending 35 million Euros to get him and then putting a 13 million Euro release clause on that same player is terrible business. I get the 20 million loan deal that Juve paid for him in 2020, but I feel like with that loan deal you could've gotten even more money on top of that 20 million deal that Atletico recieved. Instead of losing 2 million I feel like at the least they should've aimed to break even. On top of that I'm not sure if that 2 million paid is worth the results that Atletico got the last 2-years with Morata playing on the squad. With that being said what was done is done and now Madrid has 13 million Euros to spend. A Center back is a position of need and that's what they should be aiming for currently. This money could go into Le Normand from Real Sociedad if they use money from elsewhere. All in all this deal gets C- for me due to the money involved and the deal. If the money is used to get a Centerback, which I think it would, then it's a C- but if they don't get a CB then I think that this would be a terrible deal."
   ]
  }
 ],
 "metadata": {
  "kernelspec": {
   "display_name": "Python 3 (ipykernel)",
   "language": "python",
   "name": "python3"
  },
  "language_info": {
   "codemirror_mode": {
    "name": "ipython",
    "version": 3
   },
   "file_extension": ".py",
   "mimetype": "text/x-python",
   "name": "python",
   "nbconvert_exporter": "python",
   "pygments_lexer": "ipython3",
   "version": "3.10.12"
  }
 },
 "nbformat": 4,
 "nbformat_minor": 5
}
