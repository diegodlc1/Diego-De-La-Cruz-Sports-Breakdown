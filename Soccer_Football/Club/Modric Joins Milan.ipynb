{
 "cells": [
  {
   "cell_type": "markdown",
   "id": "25850e01-d48a-4641-a5fb-4ef95f6918c1",
   "metadata": {},
   "source": [
    "# Modric Joins Milan"
   ]
  },
  {
   "cell_type": "markdown",
   "id": "13329c8b-d455-4070-99fa-fc21d148761f",
   "metadata": {},
   "source": [
    "Luka Modric has joined AC Milan for the coming season. He left Real Madrid as a free agent and will play in the Serie A for this season with an option for another year. We will see how Modric plays for a different club than Madrid for the first time since the 2011-12 season."
   ]
  },
  {
   "cell_type": "markdown",
   "id": "d57d935e-8950-4c09-9416-65239fb4ea31",
   "metadata": {},
   "source": [
    "## Impact for Milan"
   ]
  },
  {
   "cell_type": "markdown",
   "id": "56b41037-76d9-421b-9494-6c8129bbc2fd",
   "metadata": {},
   "source": [
    "This is a solid signing all around. I do think that he is getting paid too much by Milan. From what I can see, Modric is set to be the second-highest-paid player on the Milan squad, but there is still a lot of the summer left for Milan to make more moves, and Modric will be fine being a top-end paid player on the squad. Other than that, this is a solid signing for all. Modric gets to continue to play at a top level while playing for his childhood favorite team. Milan needed to fill the CM position, and that is what is happening. Either way, paying Modric a reported 6.48 million Euros a year isn't amazing. I'm sure he had somewhat of a market, and this is paying the market price, but it seems like a lot for me for someone who is now 39 years old. He has been declining for a couple of years now, but nothing substantial, so I shouldn't be too surprised. I will give this signing a B-. I'm not high on the money number, but it isn't a deal breaker or anything."
   ]
  }
 ],
 "metadata": {
  "kernelspec": {
   "display_name": "Python 3 (ipykernel)",
   "language": "python",
   "name": "python3"
  },
  "language_info": {
   "codemirror_mode": {
    "name": "ipython",
    "version": 3
   },
   "file_extension": ".py",
   "mimetype": "text/x-python",
   "name": "python",
   "nbconvert_exporter": "python",
   "pygments_lexer": "ipython3",
   "version": "3.10.12"
  }
 },
 "nbformat": 4,
 "nbformat_minor": 5
}
